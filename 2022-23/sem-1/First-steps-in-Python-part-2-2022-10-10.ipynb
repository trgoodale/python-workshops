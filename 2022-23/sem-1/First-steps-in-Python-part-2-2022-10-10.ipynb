{
 "cells": [
  {
   "cell_type": "markdown",
   "id": "1839e5ae",
   "metadata": {},
   "source": [
    "A recap on lists"
   ]
  },
  {
   "cell_type": "code",
   "execution_count": 1,
   "id": "0486aa71",
   "metadata": {},
   "outputs": [],
   "source": [
    "a = [1, 3.14, 'Tom', True]"
   ]
  },
  {
   "cell_type": "code",
   "execution_count": 2,
   "id": "6f368375",
   "metadata": {},
   "outputs": [
    {
     "data": {
      "text/plain": [
       "[1, 3.14, 'Tom', True]"
      ]
     },
     "execution_count": 2,
     "metadata": {},
     "output_type": "execute_result"
    }
   ],
   "source": [
    "a"
   ]
  },
  {
   "cell_type": "code",
   "execution_count": 3,
   "id": "53c2fb85",
   "metadata": {},
   "outputs": [
    {
     "data": {
      "text/plain": [
       "1"
      ]
     },
     "execution_count": 3,
     "metadata": {},
     "output_type": "execute_result"
    }
   ],
   "source": [
    "a[0]"
   ]
  },
  {
   "cell_type": "code",
   "execution_count": 4,
   "id": "957d18cb",
   "metadata": {},
   "outputs": [
    {
     "data": {
      "text/plain": [
       "3.14"
      ]
     },
     "execution_count": 4,
     "metadata": {},
     "output_type": "execute_result"
    }
   ],
   "source": [
    "a[1]"
   ]
  },
  {
   "cell_type": "code",
   "execution_count": 5,
   "id": "992cff7d",
   "metadata": {},
   "outputs": [
    {
     "data": {
      "text/plain": [
       "[1, 3.14, 'Tom']"
      ]
     },
     "execution_count": 5,
     "metadata": {},
     "output_type": "execute_result"
    }
   ],
   "source": [
    "a[0:3]"
   ]
  },
  {
   "cell_type": "code",
   "execution_count": 6,
   "id": "cbcaa0cd",
   "metadata": {},
   "outputs": [
    {
     "data": {
      "text/plain": [
       "True"
      ]
     },
     "execution_count": 6,
     "metadata": {},
     "output_type": "execute_result"
    }
   ],
   "source": [
    "a[-1]"
   ]
  },
  {
   "cell_type": "code",
   "execution_count": 7,
   "id": "abdd4194",
   "metadata": {},
   "outputs": [
    {
     "data": {
      "text/plain": [
       "'Tom'"
      ]
     },
     "execution_count": 7,
     "metadata": {},
     "output_type": "execute_result"
    }
   ],
   "source": [
    "a[-2]"
   ]
  },
  {
   "cell_type": "code",
   "execution_count": 8,
   "id": "564bec7b",
   "metadata": {},
   "outputs": [
    {
     "data": {
      "text/plain": [
       "[1, 3.14, 'Tom']"
      ]
     },
     "execution_count": 8,
     "metadata": {},
     "output_type": "execute_result"
    }
   ],
   "source": [
    "a[:-1]"
   ]
  },
  {
   "cell_type": "code",
   "execution_count": 9,
   "id": "8d878d95",
   "metadata": {},
   "outputs": [
    {
     "data": {
      "text/plain": [
       "[1, 3.14]"
      ]
     },
     "execution_count": 9,
     "metadata": {},
     "output_type": "execute_result"
    }
   ],
   "source": [
    "a[:-2]"
   ]
  },
  {
   "cell_type": "code",
   "execution_count": 10,
   "id": "d00084b0",
   "metadata": {},
   "outputs": [
    {
     "data": {
      "text/plain": [
       "4"
      ]
     },
     "execution_count": 10,
     "metadata": {},
     "output_type": "execute_result"
    }
   ],
   "source": [
    "len(a)"
   ]
  },
  {
   "cell_type": "markdown",
   "id": "8aded605",
   "metadata": {},
   "source": [
    "Lists can be changed by assigning to part of one"
   ]
  },
  {
   "cell_type": "code",
   "execution_count": 11,
   "id": "946ddc1e",
   "metadata": {},
   "outputs": [],
   "source": [
    "a[0] = 5"
   ]
  },
  {
   "cell_type": "code",
   "execution_count": 12,
   "id": "c0dc4f52",
   "metadata": {},
   "outputs": [
    {
     "data": {
      "text/plain": [
       "[5, 3.14, 'Tom', True]"
      ]
     },
     "execution_count": 12,
     "metadata": {},
     "output_type": "execute_result"
    }
   ],
   "source": [
    "a"
   ]
  },
  {
   "cell_type": "markdown",
   "id": "2c78cb36",
   "metadata": {},
   "source": [
    "This is in contrast to strings, which are immutable."
   ]
  },
  {
   "cell_type": "code",
   "execution_count": 13,
   "id": "ccbed4ef",
   "metadata": {},
   "outputs": [],
   "source": [
    "s = 'Tom Goodale'"
   ]
  },
  {
   "cell_type": "code",
   "execution_count": 14,
   "id": "cf97971f",
   "metadata": {},
   "outputs": [
    {
     "data": {
      "text/plain": [
       "'T'"
      ]
     },
     "execution_count": 14,
     "metadata": {},
     "output_type": "execute_result"
    }
   ],
   "source": [
    "s[0]"
   ]
  },
  {
   "cell_type": "code",
   "execution_count": 15,
   "id": "381b4871",
   "metadata": {},
   "outputs": [
    {
     "ename": "TypeError",
     "evalue": "'str' object does not support item assignment",
     "output_type": "error",
     "traceback": [
      "\u001b[1;31m---------------------------------------------------------------------------\u001b[0m",
      "\u001b[1;31mTypeError\u001b[0m                                 Traceback (most recent call last)",
      "Input \u001b[1;32mIn [15]\u001b[0m, in \u001b[0;36m<cell line: 1>\u001b[1;34m()\u001b[0m\n\u001b[1;32m----> 1\u001b[0m s[\u001b[38;5;241m0\u001b[39m] \u001b[38;5;241m=\u001b[39m \u001b[38;5;124m'\u001b[39m\u001b[38;5;124mX\u001b[39m\u001b[38;5;124m'\u001b[39m\n",
      "\u001b[1;31mTypeError\u001b[0m: 'str' object does not support item assignment"
     ]
    }
   ],
   "source": [
    "s[0] = 'X'"
   ]
  },
  {
   "cell_type": "markdown",
   "id": "b3884397",
   "metadata": {},
   "source": [
    "You can also assign to a more than one part of a list"
   ]
  },
  {
   "cell_type": "code",
   "execution_count": 16,
   "id": "693df4f8",
   "metadata": {},
   "outputs": [],
   "source": [
    "a[0:2] = [1,2]"
   ]
  },
  {
   "cell_type": "code",
   "execution_count": 17,
   "id": "2ed777c9",
   "metadata": {},
   "outputs": [
    {
     "data": {
      "text/plain": [
       "[1, 2, 'Tom', True]"
      ]
     },
     "execution_count": 17,
     "metadata": {},
     "output_type": "execute_result"
    }
   ],
   "source": [
    "a"
   ]
  },
  {
   "cell_type": "markdown",
   "id": "ea6f3595",
   "metadata": {},
   "source": [
    "You can nest lists inside lists"
   ]
  },
  {
   "cell_type": "code",
   "execution_count": 18,
   "id": "270a9415",
   "metadata": {},
   "outputs": [],
   "source": [
    "b = [[1,2,3], 4, 5, 6]"
   ]
  },
  {
   "cell_type": "code",
   "execution_count": 19,
   "id": "4e9968fb",
   "metadata": {},
   "outputs": [
    {
     "data": {
      "text/plain": [
       "[[1, 2, 3], 4, 5, 6]"
      ]
     },
     "execution_count": 19,
     "metadata": {},
     "output_type": "execute_result"
    }
   ],
   "source": [
    "b"
   ]
  },
  {
   "cell_type": "markdown",
   "id": "9423eb48",
   "metadata": {},
   "source": [
    "The first entry in the list is b[0] which is itself a list"
   ]
  },
  {
   "cell_type": "code",
   "execution_count": 20,
   "id": "08ceb02b",
   "metadata": {},
   "outputs": [
    {
     "data": {
      "text/plain": [
       "[1, 2, 3]"
      ]
     },
     "execution_count": 20,
     "metadata": {},
     "output_type": "execute_result"
    }
   ],
   "source": [
    "b[0]"
   ]
  },
  {
   "cell_type": "markdown",
   "id": "07275013",
   "metadata": {},
   "source": [
    "You then access members of that list with another index"
   ]
  },
  {
   "cell_type": "code",
   "execution_count": 21,
   "id": "5c9b38c0",
   "metadata": {},
   "outputs": [
    {
     "data": {
      "text/plain": [
       "2"
      ]
     },
     "execution_count": 21,
     "metadata": {},
     "output_type": "execute_result"
    }
   ],
   "source": [
    "b[0][1]"
   ]
  },
  {
   "cell_type": "code",
   "execution_count": 22,
   "id": "1edd0f6a",
   "metadata": {},
   "outputs": [
    {
     "data": {
      "text/plain": [
       "[1, 2, 3]"
      ]
     },
     "execution_count": 22,
     "metadata": {},
     "output_type": "execute_result"
    }
   ],
   "source": [
    "b[0]"
   ]
  },
  {
   "cell_type": "code",
   "execution_count": 23,
   "id": "fcd27be7",
   "metadata": {},
   "outputs": [
    {
     "data": {
      "text/plain": [
       "4"
      ]
     },
     "execution_count": 23,
     "metadata": {},
     "output_type": "execute_result"
    }
   ],
   "source": [
    "b[1]"
   ]
  },
  {
   "cell_type": "markdown",
   "id": "fad33801",
   "metadata": {},
   "source": [
    "If you want a set of numbers you can use **range**"
   ]
  },
  {
   "cell_type": "code",
   "execution_count": 24,
   "id": "0da8d37d",
   "metadata": {},
   "outputs": [],
   "source": [
    "c = range(0,11)"
   ]
  },
  {
   "cell_type": "code",
   "execution_count": 25,
   "id": "c1711429",
   "metadata": {},
   "outputs": [
    {
     "data": {
      "text/plain": [
       "0"
      ]
     },
     "execution_count": 25,
     "metadata": {},
     "output_type": "execute_result"
    }
   ],
   "source": [
    "c[0]"
   ]
  },
  {
   "cell_type": "code",
   "execution_count": 26,
   "id": "ad4beac5",
   "metadata": {},
   "outputs": [
    {
     "data": {
      "text/plain": [
       "9"
      ]
     },
     "execution_count": 26,
     "metadata": {},
     "output_type": "execute_result"
    }
   ],
   "source": [
    "c[9]"
   ]
  },
  {
   "cell_type": "code",
   "execution_count": 27,
   "id": "a21e097c",
   "metadata": {},
   "outputs": [
    {
     "ename": "IndexError",
     "evalue": "range object index out of range",
     "output_type": "error",
     "traceback": [
      "\u001b[1;31m---------------------------------------------------------------------------\u001b[0m",
      "\u001b[1;31mIndexError\u001b[0m                                Traceback (most recent call last)",
      "Input \u001b[1;32mIn [27]\u001b[0m, in \u001b[0;36m<cell line: 1>\u001b[1;34m()\u001b[0m\n\u001b[1;32m----> 1\u001b[0m \u001b[43mc\u001b[49m\u001b[43m[\u001b[49m\u001b[38;5;241;43m11\u001b[39;49m\u001b[43m]\u001b[49m\n",
      "\u001b[1;31mIndexError\u001b[0m: range object index out of range"
     ]
    }
   ],
   "source": [
    "c[11]"
   ]
  },
  {
   "cell_type": "code",
   "execution_count": 28,
   "id": "bb10371b",
   "metadata": {},
   "outputs": [
    {
     "data": {
      "text/plain": [
       "[1, 2, 'Tom', True]"
      ]
     },
     "execution_count": 28,
     "metadata": {},
     "output_type": "execute_result"
    }
   ],
   "source": [
    "a"
   ]
  },
  {
   "cell_type": "markdown",
   "id": "366390bb",
   "metadata": {},
   "source": [
    "If you assign a list to a new variable, it just gives a new name to the list, rather than copying."
   ]
  },
  {
   "cell_type": "code",
   "execution_count": 29,
   "id": "090fbb25",
   "metadata": {},
   "outputs": [],
   "source": [
    "c = a"
   ]
  },
  {
   "cell_type": "code",
   "execution_count": 30,
   "id": "77c48984",
   "metadata": {},
   "outputs": [
    {
     "data": {
      "text/plain": [
       "[1, 2, 'Tom', True]"
      ]
     },
     "execution_count": 30,
     "metadata": {},
     "output_type": "execute_result"
    }
   ],
   "source": [
    "c"
   ]
  },
  {
   "cell_type": "code",
   "execution_count": 31,
   "id": "75aa300d",
   "metadata": {},
   "outputs": [
    {
     "data": {
      "text/plain": [
       "1"
      ]
     },
     "execution_count": 31,
     "metadata": {},
     "output_type": "execute_result"
    }
   ],
   "source": [
    "c[0]"
   ]
  },
  {
   "cell_type": "code",
   "execution_count": 32,
   "id": "5c704121",
   "metadata": {},
   "outputs": [],
   "source": [
    "c[0] = 5"
   ]
  },
  {
   "cell_type": "code",
   "execution_count": 33,
   "id": "d1e7a641",
   "metadata": {},
   "outputs": [
    {
     "data": {
      "text/plain": [
       "[5, 2, 'Tom', True]"
      ]
     },
     "execution_count": 33,
     "metadata": {},
     "output_type": "execute_result"
    }
   ],
   "source": [
    "c"
   ]
  },
  {
   "cell_type": "code",
   "execution_count": 34,
   "id": "4120570c",
   "metadata": {},
   "outputs": [
    {
     "data": {
      "text/plain": [
       "[5, 2, 'Tom', True]"
      ]
     },
     "execution_count": 34,
     "metadata": {},
     "output_type": "execute_result"
    }
   ],
   "source": [
    "a"
   ]
  },
  {
   "cell_type": "markdown",
   "id": "94f6f561",
   "metadata": {},
   "source": [
    "To make a copy you need to use the **copy()** method"
   ]
  },
  {
   "cell_type": "code",
   "execution_count": 35,
   "id": "0a724f66",
   "metadata": {},
   "outputs": [],
   "source": [
    "c = a.copy()"
   ]
  },
  {
   "cell_type": "code",
   "execution_count": 36,
   "id": "2b75db0f",
   "metadata": {},
   "outputs": [
    {
     "data": {
      "text/plain": [
       "[5, 2, 'Tom', True]"
      ]
     },
     "execution_count": 36,
     "metadata": {},
     "output_type": "execute_result"
    }
   ],
   "source": [
    "c"
   ]
  },
  {
   "cell_type": "code",
   "execution_count": 37,
   "id": "a08f221d",
   "metadata": {},
   "outputs": [
    {
     "data": {
      "text/plain": [
       "[5, 2, 'Tom', True]"
      ]
     },
     "execution_count": 37,
     "metadata": {},
     "output_type": "execute_result"
    }
   ],
   "source": [
    "a"
   ]
  },
  {
   "cell_type": "code",
   "execution_count": 38,
   "id": "d713d628",
   "metadata": {},
   "outputs": [],
   "source": [
    "c[0] = 1"
   ]
  },
  {
   "cell_type": "code",
   "execution_count": 39,
   "id": "d664bc91",
   "metadata": {},
   "outputs": [
    {
     "data": {
      "text/plain": [
       "[1, 2, 'Tom', True]"
      ]
     },
     "execution_count": 39,
     "metadata": {},
     "output_type": "execute_result"
    }
   ],
   "source": [
    "c"
   ]
  },
  {
   "cell_type": "code",
   "execution_count": 40,
   "id": "ee50f43a",
   "metadata": {},
   "outputs": [
    {
     "data": {
      "text/plain": [
       "[5, 2, 'Tom', True]"
      ]
     },
     "execution_count": 40,
     "metadata": {},
     "output_type": "execute_result"
    }
   ],
   "source": [
    "a"
   ]
  },
  {
   "cell_type": "markdown",
   "id": "c5ca1428",
   "metadata": {},
   "source": [
    "Another data structure is a **tuple**"
   ]
  },
  {
   "cell_type": "code",
   "execution_count": 41,
   "id": "aa35dce3",
   "metadata": {},
   "outputs": [],
   "source": [
    "t = (1,2,\"three\")"
   ]
  },
  {
   "cell_type": "code",
   "execution_count": 42,
   "id": "e7aab1f3",
   "metadata": {},
   "outputs": [
    {
     "data": {
      "text/plain": [
       "(1, 2, 'three')"
      ]
     },
     "execution_count": 42,
     "metadata": {},
     "output_type": "execute_result"
    }
   ],
   "source": [
    "t"
   ]
  },
  {
   "cell_type": "markdown",
   "id": "a9b2392b",
   "metadata": {},
   "source": [
    "tuple"
   ]
  },
  {
   "cell_type": "code",
   "execution_count": 43,
   "id": "6e1624f8",
   "metadata": {},
   "outputs": [
    {
     "data": {
      "text/plain": [
       "1"
      ]
     },
     "execution_count": 43,
     "metadata": {},
     "output_type": "execute_result"
    }
   ],
   "source": [
    "t[0]"
   ]
  },
  {
   "cell_type": "markdown",
   "id": "61773ba3",
   "metadata": {},
   "source": [
    "Tuples are immutable, so are very useful for data that isn't going to change."
   ]
  },
  {
   "cell_type": "code",
   "execution_count": 44,
   "id": "67e25ffe",
   "metadata": {},
   "outputs": [
    {
     "ename": "TypeError",
     "evalue": "'tuple' object does not support item assignment",
     "output_type": "error",
     "traceback": [
      "\u001b[1;31m---------------------------------------------------------------------------\u001b[0m",
      "\u001b[1;31mTypeError\u001b[0m                                 Traceback (most recent call last)",
      "Input \u001b[1;32mIn [44]\u001b[0m, in \u001b[0;36m<cell line: 1>\u001b[1;34m()\u001b[0m\n\u001b[1;32m----> 1\u001b[0m t[\u001b[38;5;241m0\u001b[39m]\u001b[38;5;241m=\u001b[39m \u001b[38;5;241m7\u001b[39m\n",
      "\u001b[1;31mTypeError\u001b[0m: 'tuple' object does not support item assignment"
     ]
    }
   ],
   "source": [
    "t[0]= 7"
   ]
  },
  {
   "cell_type": "code",
   "execution_count": 45,
   "id": "d08e1396",
   "metadata": {},
   "outputs": [
    {
     "data": {
      "text/plain": [
       "[5, 2, 'Tom', True]"
      ]
     },
     "execution_count": 45,
     "metadata": {},
     "output_type": "execute_result"
    }
   ],
   "source": [
    "a"
   ]
  },
  {
   "cell_type": "code",
   "execution_count": 46,
   "id": "ababb954",
   "metadata": {},
   "outputs": [],
   "source": [
    "d = [1,2,3,4,5,6,7,8,9]"
   ]
  },
  {
   "cell_type": "markdown",
   "id": "d5410a7f",
   "metadata": {},
   "source": [
    "Arithmetic on lists doesn't do what you expect\n",
    "\n",
    "Multiplying a list by a number just makes that number of copies"
   ]
  },
  {
   "cell_type": "code",
   "execution_count": 47,
   "id": "fae366bc",
   "metadata": {},
   "outputs": [
    {
     "data": {
      "text/plain": [
       "[1, 2, 3, 4, 5, 6, 7, 8, 9, 1, 2, 3, 4, 5, 6, 7, 8, 9]"
      ]
     },
     "execution_count": 47,
     "metadata": {},
     "output_type": "execute_result"
    }
   ],
   "source": [
    "d*2"
   ]
  },
  {
   "cell_type": "markdown",
   "id": "77ccd2c3",
   "metadata": {},
   "source": [
    "Adding two lists just concatenates them."
   ]
  },
  {
   "cell_type": "code",
   "execution_count": 48,
   "id": "fe9dd178",
   "metadata": {},
   "outputs": [
    {
     "data": {
      "text/plain": [
       "[5, 2, 'Tom', True, 1, 2, 3, 4, 5, 6, 7, 8, 9]"
      ]
     },
     "execution_count": 48,
     "metadata": {},
     "output_type": "execute_result"
    }
   ],
   "source": [
    "a + d "
   ]
  },
  {
   "cell_type": "markdown",
   "id": "09654a9e",
   "metadata": {},
   "source": [
    "# For loops\n",
    "\n",
    "These can be used to iterate through a list.\n",
    "The body of the loop is indented with respect to the **for** statement.\n",
    "Every line with the same indentation is treated as part of the body of the loop, and repeated for each member of the list.\n",
    "\n",
    "Returning to the previous level of indentation leaves the loop."
   ]
  },
  {
   "cell_type": "code",
   "execution_count": 49,
   "id": "47c4d681",
   "metadata": {},
   "outputs": [
    {
     "name": "stdout",
     "output_type": "stream",
     "text": [
      "I'm at the beginning of the loop\n",
      "2\n",
      "That's it\n",
      "I'm at the beginning of the loop\n",
      "4\n",
      "That's it\n",
      "I'm at the beginning of the loop\n",
      "6\n",
      "That's it\n",
      "I'm at the beginning of the loop\n",
      "8\n",
      "That's it\n",
      "I'm at the beginning of the loop\n",
      "10\n",
      "That's it\n",
      "I'm at the beginning of the loop\n",
      "12\n",
      "That's it\n",
      "I'm at the beginning of the loop\n",
      "14\n",
      "That's it\n",
      "I'm at the beginning of the loop\n",
      "16\n",
      "That's it\n",
      "I'm at the beginning of the loop\n",
      "18\n",
      "That's it\n",
      "The loop has finished\n"
     ]
    }
   ],
   "source": [
    "for number in d:\n",
    "    print(\"I'm at the beginning of the loop\")\n",
    "    print(number*2)\n",
    "    print(\"That's it\")\n",
    "\n",
    "print(\"The loop has finished\")"
   ]
  },
  {
   "cell_type": "code",
   "execution_count": 50,
   "id": "9f55731f",
   "metadata": {},
   "outputs": [
    {
     "name": "stdout",
     "output_type": "stream",
     "text": [
      "[2, 4, 6, 8, 10, 12, 14, 16, 18]\n"
     ]
    }
   ],
   "source": [
    "e = []\n",
    "\n",
    "for number in d:\n",
    "    e.append(number*2)\n",
    "    \n",
    "print(e)\n",
    "    "
   ]
  },
  {
   "cell_type": "markdown",
   "id": "fb03d868",
   "metadata": {},
   "source": [
    "# List comprehension\n",
    "\n",
    "This is a shortcut which allows you to make a list from another list without having to start with an empty list and append.  It runs more quickly."
   ]
  },
  {
   "cell_type": "code",
   "execution_count": 51,
   "id": "ed073054",
   "metadata": {},
   "outputs": [
    {
     "data": {
      "text/plain": [
       "[2, 4, 6, 8, 10, 12, 14, 16, 18]"
      ]
     },
     "execution_count": 51,
     "metadata": {},
     "output_type": "execute_result"
    }
   ],
   "source": [
    "f = [number*2 for number in d]\n",
    "\n",
    "f"
   ]
  },
  {
   "cell_type": "markdown",
   "id": "9bc919cf",
   "metadata": {},
   "source": [
    "# Dictionaries\n",
    "\n",
    "These are another data structure in Python.  They allow you to store name-value pairs."
   ]
  },
  {
   "cell_type": "code",
   "execution_count": 52,
   "id": "55d6b245",
   "metadata": {},
   "outputs": [
    {
     "data": {
      "text/plain": [
       "{'first name': 'Tom', 'last name': 'Goodale', 'favourite number': 7}"
      ]
     },
     "execution_count": 52,
     "metadata": {},
     "output_type": "execute_result"
    }
   ],
   "source": [
    "g = {'first name': 'Tom', 'last name': 'Goodale', 'favourite number': 7}\n",
    "\n",
    "g"
   ]
  },
  {
   "cell_type": "code",
   "execution_count": 53,
   "id": "3a6cd4c6",
   "metadata": {},
   "outputs": [
    {
     "data": {
      "text/plain": [
       "'Tom'"
      ]
     },
     "execution_count": 53,
     "metadata": {},
     "output_type": "execute_result"
    }
   ],
   "source": [
    "g['first name']"
   ]
  },
  {
   "cell_type": "code",
   "execution_count": 54,
   "id": "13ba2f42",
   "metadata": {},
   "outputs": [],
   "source": [
    "g['favourite fruit'] = 'orange'"
   ]
  },
  {
   "cell_type": "code",
   "execution_count": 55,
   "id": "3fe5c687",
   "metadata": {},
   "outputs": [
    {
     "data": {
      "text/plain": [
       "{'first name': 'Tom',\n",
       " 'last name': 'Goodale',\n",
       " 'favourite number': 7,\n",
       " 'favourite fruit': 'orange'}"
      ]
     },
     "execution_count": 55,
     "metadata": {},
     "output_type": "execute_result"
    }
   ],
   "source": [
    "g"
   ]
  },
  {
   "cell_type": "markdown",
   "id": "43605a3c",
   "metadata": {},
   "source": [
    "## For loops and dictionaries\n",
    "\n",
    "Iterating through the dictionary just gives the key names"
   ]
  },
  {
   "cell_type": "code",
   "execution_count": 56,
   "id": "79b335a1",
   "metadata": {},
   "outputs": [
    {
     "name": "stdout",
     "output_type": "stream",
     "text": [
      "first name\n",
      "last name\n",
      "favourite number\n",
      "favourite fruit\n"
     ]
    }
   ],
   "source": [
    "for item in g:\n",
    "    print(item)"
   ]
  },
  {
   "cell_type": "markdown",
   "id": "b8083243",
   "metadata": {},
   "source": [
    "If you want the values, you need to use the **values()** method on the dictionary."
   ]
  },
  {
   "cell_type": "code",
   "execution_count": 57,
   "id": "30d09cee",
   "metadata": {},
   "outputs": [
    {
     "name": "stdout",
     "output_type": "stream",
     "text": [
      "Tom\n",
      "Goodale\n",
      "7\n",
      "orange\n"
     ]
    }
   ],
   "source": [
    "for item in g.values():\n",
    "    print(item)"
   ]
  },
  {
   "cell_type": "markdown",
   "id": "5980fa8f",
   "metadata": {},
   "source": [
    "If you want both keys and values, you need to use the **items()** method.  This returns a tuple, which you can separate into different variables using multiple assignment."
   ]
  },
  {
   "cell_type": "code",
   "execution_count": 58,
   "id": "e57c033c",
   "metadata": {},
   "outputs": [
    {
     "name": "stdout",
     "output_type": "stream",
     "text": [
      "The key is first name and the value is Tom\n",
      "The key is last name and the value is Goodale\n",
      "The key is favourite number and the value is 7\n",
      "The key is favourite fruit and the value is orange\n"
     ]
    }
   ],
   "source": [
    "for key, value in g.items():\n",
    "    print(\"The key is\", key, \"and the value is\", value)"
   ]
  },
  {
   "cell_type": "markdown",
   "id": "307a9138",
   "metadata": {},
   "source": [
    "Aside:  Python allows multiple assignment.  If the number of variables to the left of the equals sign in the same as the number of values of a list, or tuple, on the right hand side, then the values are assigned to each variable in turn."
   ]
  },
  {
   "cell_type": "code",
   "execution_count": 59,
   "id": "31a587ad",
   "metadata": {},
   "outputs": [],
   "source": [
    "h,i,j = 5,6,7"
   ]
  },
  {
   "cell_type": "code",
   "execution_count": 60,
   "id": "56254d16",
   "metadata": {},
   "outputs": [
    {
     "name": "stdout",
     "output_type": "stream",
     "text": [
      "5 6 7\n"
     ]
    }
   ],
   "source": [
    "print(h, i , j)"
   ]
  },
  {
   "cell_type": "code",
   "execution_count": 61,
   "id": "47a53494",
   "metadata": {},
   "outputs": [
    {
     "data": {
      "text/plain": [
       "[5, 2, 'Tom', True]"
      ]
     },
     "execution_count": 61,
     "metadata": {},
     "output_type": "execute_result"
    }
   ],
   "source": [
    "a"
   ]
  },
  {
   "cell_type": "code",
   "execution_count": 62,
   "id": "4d76da67",
   "metadata": {},
   "outputs": [],
   "source": [
    "h,i,j,k = a"
   ]
  },
  {
   "cell_type": "code",
   "execution_count": 63,
   "id": "4ed8561c",
   "metadata": {},
   "outputs": [
    {
     "data": {
      "text/plain": [
       "5"
      ]
     },
     "execution_count": 63,
     "metadata": {},
     "output_type": "execute_result"
    }
   ],
   "source": [
    "h"
   ]
  },
  {
   "cell_type": "code",
   "execution_count": 64,
   "id": "4540922d",
   "metadata": {},
   "outputs": [
    {
     "data": {
      "text/plain": [
       "True"
      ]
     },
     "execution_count": 64,
     "metadata": {},
     "output_type": "execute_result"
    }
   ],
   "source": [
    "k"
   ]
  },
  {
   "cell_type": "markdown",
   "id": "2d8f1391",
   "metadata": {},
   "source": [
    "You do need to make sure the number of variables is the same length as the list"
   ]
  },
  {
   "cell_type": "code",
   "execution_count": 65,
   "id": "b63cb076",
   "metadata": {},
   "outputs": [
    {
     "ename": "ValueError",
     "evalue": "too many values to unpack (expected 2)",
     "output_type": "error",
     "traceback": [
      "\u001b[1;31m---------------------------------------------------------------------------\u001b[0m",
      "\u001b[1;31mValueError\u001b[0m                                Traceback (most recent call last)",
      "Input \u001b[1;32mIn [65]\u001b[0m, in \u001b[0;36m<cell line: 1>\u001b[1;34m()\u001b[0m\n\u001b[1;32m----> 1\u001b[0m h, i \u001b[38;5;241m=\u001b[39m a\n",
      "\u001b[1;31mValueError\u001b[0m: too many values to unpack (expected 2)"
     ]
    }
   ],
   "source": [
    "h, i = a"
   ]
  },
  {
   "cell_type": "markdown",
   "id": "9336ab45",
   "metadata": {},
   "source": [
    "End of aside."
   ]
  },
  {
   "cell_type": "code",
   "execution_count": 66,
   "id": "9bcce1c1",
   "metadata": {},
   "outputs": [],
   "source": [
    "constants = {'pi': 3.1416, 'G': 6.67e-11, 'c':3.0e8,'h':6.63e-34}"
   ]
  },
  {
   "cell_type": "code",
   "execution_count": 67,
   "id": "4d2058e5",
   "metadata": {},
   "outputs": [
    {
     "data": {
      "text/plain": [
       "{'pi': 3.1416, 'G': 6.67e-11, 'c': 300000000.0, 'h': 6.63e-34}"
      ]
     },
     "execution_count": 67,
     "metadata": {},
     "output_type": "execute_result"
    }
   ],
   "source": [
    "constants"
   ]
  },
  {
   "cell_type": "code",
   "execution_count": 68,
   "id": "09ee2996",
   "metadata": {},
   "outputs": [
    {
     "data": {
      "text/plain": [
       "dict_items([('pi', 3.1416), ('G', 6.67e-11), ('c', 300000000.0), ('h', 6.63e-34)])"
      ]
     },
     "execution_count": 68,
     "metadata": {},
     "output_type": "execute_result"
    }
   ],
   "source": [
    "constants.items()"
   ]
  },
  {
   "cell_type": "code",
   "execution_count": 69,
   "id": "4083de44",
   "metadata": {},
   "outputs": [
    {
     "name": "stdout",
     "output_type": "stream",
     "text": [
      "k: pi ,v: 3.1416\n",
      "k: G ,v: 6.67e-11\n",
      "k: c ,v: 300000000.0\n",
      "k: h ,v: 6.63e-34\n"
     ]
    }
   ],
   "source": [
    "for key,value in constants.items():\n",
    "    print('k:',key,\",v:\",value)"
   ]
  },
  {
   "cell_type": "markdown",
   "id": "46265cbf",
   "metadata": {},
   "source": [
    "As stated earlier, the **items()** method returns a tuple"
   ]
  },
  {
   "cell_type": "code",
   "execution_count": 70,
   "id": "ad4b19da",
   "metadata": {},
   "outputs": [
    {
     "name": "stdout",
     "output_type": "stream",
     "text": [
      "('pi', 3.1416)\n",
      "('G', 6.67e-11)\n",
      "('c', 300000000.0)\n",
      "('h', 6.63e-34)\n"
     ]
    }
   ],
   "source": [
    "for item in constants.items():\n",
    "    print(item)"
   ]
  },
  {
   "cell_type": "code",
   "execution_count": 71,
   "id": "716cd3f0",
   "metadata": {},
   "outputs": [
    {
     "name": "stdout",
     "output_type": "stream",
     "text": [
      "The key is > pi < and the value is > 3.1416 <\n",
      "The key is > G < and the value is > 6.67e-11 <\n",
      "The key is > c < and the value is > 300000000.0 <\n",
      "The key is > h < and the value is > 6.63e-34 <\n"
     ]
    }
   ],
   "source": [
    "for key,value in constants.items():\n",
    "    print('The key is >',key,\"< and the value is >\",value, \"<\")"
   ]
  },
  {
   "cell_type": "markdown",
   "id": "22bd2e5e",
   "metadata": {},
   "source": [
    "If you really want you can access the tuple members by indexing rather than multiple assignment. \n",
    "\n",
    "In most cases it makes the code easier to understand if you use multiple assignment with meaningful variable names."
   ]
  },
  {
   "cell_type": "code",
   "execution_count": 72,
   "id": "b79ed6c8",
   "metadata": {},
   "outputs": [
    {
     "name": "stdout",
     "output_type": "stream",
     "text": [
      "k: pi ,v: 3.1416\n",
      "k: G ,v: 6.67e-11\n",
      "k: c ,v: 300000000.0\n",
      "k: h ,v: 6.63e-34\n"
     ]
    }
   ],
   "source": [
    "for item in constants.items():\n",
    "    print('k:',item[0],\",v:\",item[1])"
   ]
  },
  {
   "cell_type": "markdown",
   "id": "f5038654",
   "metadata": {},
   "source": [
    "# Sorting"
   ]
  },
  {
   "cell_type": "code",
   "execution_count": 73,
   "id": "5f3a4a93",
   "metadata": {},
   "outputs": [
    {
     "data": {
      "text/plain": [
       "[1, 2, 3, 4, 5, 6, 7, 8, 9]"
      ]
     },
     "execution_count": 73,
     "metadata": {},
     "output_type": "execute_result"
    }
   ],
   "source": [
    "d"
   ]
  },
  {
   "cell_type": "code",
   "execution_count": 74,
   "id": "c364ab46",
   "metadata": {},
   "outputs": [],
   "source": [
    "d.sort(reverse=True)"
   ]
  },
  {
   "cell_type": "code",
   "execution_count": 75,
   "id": "02a20b5c",
   "metadata": {},
   "outputs": [
    {
     "data": {
      "text/plain": [
       "[9, 8, 7, 6, 5, 4, 3, 2, 1]"
      ]
     },
     "execution_count": 75,
     "metadata": {},
     "output_type": "execute_result"
    }
   ],
   "source": [
    "d"
   ]
  },
  {
   "cell_type": "code",
   "execution_count": 76,
   "id": "102c1959",
   "metadata": {},
   "outputs": [],
   "source": [
    "h = [5,3,7,4,5]"
   ]
  },
  {
   "cell_type": "code",
   "execution_count": 77,
   "id": "c2d00bdd",
   "metadata": {},
   "outputs": [
    {
     "data": {
      "text/plain": [
       "[3, 4, 5, 5, 7]"
      ]
     },
     "execution_count": 77,
     "metadata": {},
     "output_type": "execute_result"
    }
   ],
   "source": [
    "h.sort()\n",
    "\n",
    "h\n"
   ]
  }
 ],
 "metadata": {
  "kernelspec": {
   "display_name": "Python 3 (ipykernel)",
   "language": "python",
   "name": "python3"
  },
  "language_info": {
   "codemirror_mode": {
    "name": "ipython",
    "version": 3
   },
   "file_extension": ".py",
   "mimetype": "text/x-python",
   "name": "python",
   "nbconvert_exporter": "python",
   "pygments_lexer": "ipython3",
   "version": "3.10.9"
  }
 },
 "nbformat": 4,
 "nbformat_minor": 5
}
