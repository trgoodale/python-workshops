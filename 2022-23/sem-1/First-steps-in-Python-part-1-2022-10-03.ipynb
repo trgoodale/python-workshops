{
 "cells": [
  {
   "cell_type": "markdown",
   "id": "861926a5",
   "metadata": {},
   "source": [
    "You can use it as a calculator"
   ]
  },
  {
   "cell_type": "code",
   "execution_count": 1,
   "id": "a6dc7c6c",
   "metadata": {
    "scrolled": true
   },
   "outputs": [
    {
     "data": {
      "text/plain": [
       "10"
      ]
     },
     "execution_count": 1,
     "metadata": {},
     "output_type": "execute_result"
    }
   ],
   "source": [
    "3+7"
   ]
  },
  {
   "cell_type": "code",
   "execution_count": 2,
   "id": "206100fe",
   "metadata": {},
   "outputs": [
    {
     "data": {
      "text/plain": [
       "4"
      ]
     },
     "execution_count": 2,
     "metadata": {},
     "output_type": "execute_result"
    }
   ],
   "source": [
    "3+1"
   ]
  },
  {
   "cell_type": "code",
   "execution_count": 3,
   "id": "4a79b5bc",
   "metadata": {},
   "outputs": [
    {
     "data": {
      "text/plain": [
       "-2"
      ]
     },
     "execution_count": 3,
     "metadata": {},
     "output_type": "execute_result"
    }
   ],
   "source": [
    "5-7"
   ]
  },
  {
   "cell_type": "code",
   "execution_count": 4,
   "id": "e8404bec",
   "metadata": {},
   "outputs": [
    {
     "data": {
      "text/plain": [
       "49"
      ]
     },
     "execution_count": 4,
     "metadata": {},
     "output_type": "execute_result"
    }
   ],
   "source": [
    "7**2"
   ]
  },
  {
   "cell_type": "code",
   "execution_count": 5,
   "id": "c7e9bacd",
   "metadata": {},
   "outputs": [
    {
     "data": {
      "text/plain": [
       "1"
      ]
     },
     "execution_count": 5,
     "metadata": {},
     "output_type": "execute_result"
    }
   ],
   "source": [
    "6%5"
   ]
  },
  {
   "cell_type": "code",
   "execution_count": 6,
   "id": "39a759f7",
   "metadata": {},
   "outputs": [
    {
     "data": {
      "text/plain": [
       "2"
      ]
     },
     "execution_count": 6,
     "metadata": {},
     "output_type": "execute_result"
    }
   ],
   "source": [
    "13//6"
   ]
  },
  {
   "cell_type": "code",
   "execution_count": 7,
   "id": "33fc283f",
   "metadata": {},
   "outputs": [
    {
     "data": {
      "text/plain": [
       "1"
      ]
     },
     "execution_count": 7,
     "metadata": {},
     "output_type": "execute_result"
    }
   ],
   "source": [
    "13%6"
   ]
  },
  {
   "cell_type": "code",
   "execution_count": 8,
   "id": "81ecd592",
   "metadata": {},
   "outputs": [
    {
     "data": {
      "text/plain": [
       "0.25"
      ]
     },
     "execution_count": 8,
     "metadata": {},
     "output_type": "execute_result"
    }
   ],
   "source": [
    "2/8"
   ]
  },
  {
   "cell_type": "markdown",
   "id": "c3cccb08",
   "metadata": {},
   "source": [
    "You can assign values to variables.\n",
    "Variable names must start with a letter or an underscore (\\_) and after that can be any combination of letters, numbers or underscores.  The names are case sensitive."
   ]
  },
  {
   "cell_type": "code",
   "execution_count": 9,
   "id": "b4ae54f1",
   "metadata": {},
   "outputs": [],
   "source": [
    "x=7.5"
   ]
  },
  {
   "cell_type": "code",
   "execution_count": 10,
   "id": "dd86ed37",
   "metadata": {},
   "outputs": [
    {
     "data": {
      "text/plain": [
       "7.5"
      ]
     },
     "execution_count": 10,
     "metadata": {},
     "output_type": "execute_result"
    }
   ],
   "source": [
    "x"
   ]
  },
  {
   "cell_type": "code",
   "execution_count": 11,
   "id": "29a44bca",
   "metadata": {},
   "outputs": [
    {
     "data": {
      "text/plain": [
       "56.25"
      ]
     },
     "execution_count": 11,
     "metadata": {},
     "output_type": "execute_result"
    }
   ],
   "source": [
    "x**2"
   ]
  },
  {
   "cell_type": "code",
   "execution_count": 12,
   "id": "f3709498",
   "metadata": {},
   "outputs": [
    {
     "data": {
      "text/plain": [
       "4.5"
      ]
     },
     "execution_count": 12,
     "metadata": {},
     "output_type": "execute_result"
    }
   ],
   "source": [
    "x-3"
   ]
  },
  {
   "cell_type": "code",
   "execution_count": 13,
   "id": "b3bfc4c2",
   "metadata": {},
   "outputs": [
    {
     "data": {
      "text/plain": [
       "1.1666666666666667"
      ]
     },
     "execution_count": 13,
     "metadata": {},
     "output_type": "execute_result"
    }
   ],
   "source": [
    "7/6"
   ]
  },
  {
   "cell_type": "code",
   "execution_count": 14,
   "id": "325fd225",
   "metadata": {},
   "outputs": [
    {
     "data": {
      "text/plain": [
       "1"
      ]
     },
     "execution_count": 14,
     "metadata": {},
     "output_type": "execute_result"
    }
   ],
   "source": [
    "19%6"
   ]
  },
  {
   "cell_type": "code",
   "execution_count": 15,
   "id": "931017db",
   "metadata": {},
   "outputs": [
    {
     "data": {
      "text/plain": [
       "6"
      ]
     },
     "execution_count": 15,
     "metadata": {},
     "output_type": "execute_result"
    }
   ],
   "source": [
    "19//3"
   ]
  },
  {
   "cell_type": "code",
   "execution_count": 16,
   "id": "82f29a82",
   "metadata": {},
   "outputs": [
    {
     "data": {
      "text/plain": [
       "6.333333333333333"
      ]
     },
     "execution_count": 16,
     "metadata": {},
     "output_type": "execute_result"
    }
   ],
   "source": [
    "19/3"
   ]
  },
  {
   "cell_type": "code",
   "execution_count": 17,
   "id": "3f739b06",
   "metadata": {},
   "outputs": [
    {
     "data": {
      "text/plain": [
       "7.5"
      ]
     },
     "execution_count": 17,
     "metadata": {},
     "output_type": "execute_result"
    }
   ],
   "source": [
    "x"
   ]
  },
  {
   "cell_type": "markdown",
   "id": "6dcb0ba4",
   "metadata": {},
   "source": [
    "Although in Jupyter notebooks just finishing a cell with a variable name will cause its value to be displayed, you might want to explicitly print it out."
   ]
  },
  {
   "cell_type": "code",
   "execution_count": 18,
   "id": "d903edb4",
   "metadata": {},
   "outputs": [
    {
     "name": "stdout",
     "output_type": "stream",
     "text": [
      "7.5\n"
     ]
    }
   ],
   "source": [
    "print(x)"
   ]
  },
  {
   "cell_type": "markdown",
   "id": "4978f35b",
   "metadata": {},
   "source": [
    "This can also be used to put text around things."
   ]
  },
  {
   "cell_type": "code",
   "execution_count": 19,
   "id": "66b02962",
   "metadata": {},
   "outputs": [
    {
     "name": "stdout",
     "output_type": "stream",
     "text": [
      "The number is 7.5\n"
     ]
    }
   ],
   "source": [
    "print(\"The number is\", x)"
   ]
  },
  {
   "cell_type": "code",
   "execution_count": 20,
   "id": "20d6144f",
   "metadata": {},
   "outputs": [
    {
     "name": "stdout",
     "output_type": "stream",
     "text": [
      "x times y is 52.5\n"
     ]
    }
   ],
   "source": [
    "y = 7\n",
    "\n",
    "print(\"x times y is\", x*y)"
   ]
  },
  {
   "cell_type": "markdown",
   "id": "5da489ac",
   "metadata": {},
   "source": [
    "This is an interesting workbook"
   ]
  },
  {
   "cell_type": "markdown",
   "id": "085d9204",
   "metadata": {},
   "source": [
    "# A heading\n",
    "\n",
    "I hope you're finding this interesting"
   ]
  },
  {
   "cell_type": "markdown",
   "id": "4ca6d05d",
   "metadata": {},
   "source": [
    "## a subheading\n",
    "\n",
    "$ z = x\\times y$"
   ]
  },
  {
   "cell_type": "code",
   "execution_count": 21,
   "id": "d2e6d1e1",
   "metadata": {},
   "outputs": [
    {
     "data": {
      "text/plain": [
       "7.5"
      ]
     },
     "execution_count": 21,
     "metadata": {},
     "output_type": "execute_result"
    }
   ],
   "source": [
    "x"
   ]
  },
  {
   "cell_type": "code",
   "execution_count": 22,
   "id": "6c6ac8d5",
   "metadata": {},
   "outputs": [
    {
     "data": {
      "text/plain": [
       "float"
      ]
     },
     "execution_count": 22,
     "metadata": {},
     "output_type": "execute_result"
    }
   ],
   "source": [
    "type(x)"
   ]
  },
  {
   "cell_type": "markdown",
   "id": "e9160d58",
   "metadata": {},
   "source": [
    "Floating point numbers can be very large or very small.  You can use standard notation using an \"e\" to seperate the significant digits from the powers of 10.  E.g. $3.5\\times10^{20}$ is written as **3.5e20**"
   ]
  },
  {
   "cell_type": "code",
   "execution_count": 23,
   "id": "175f208b",
   "metadata": {},
   "outputs": [],
   "source": [
    "x = 3.5e20"
   ]
  },
  {
   "cell_type": "code",
   "execution_count": 24,
   "id": "bda221d1",
   "metadata": {},
   "outputs": [
    {
     "data": {
      "text/plain": [
       "3.5e+20"
      ]
     },
     "execution_count": 24,
     "metadata": {},
     "output_type": "execute_result"
    }
   ],
   "source": [
    "x"
   ]
  },
  {
   "cell_type": "code",
   "execution_count": 25,
   "id": "4dd631bf",
   "metadata": {},
   "outputs": [
    {
     "data": {
      "text/plain": [
       "float"
      ]
     },
     "execution_count": 25,
     "metadata": {},
     "output_type": "execute_result"
    }
   ],
   "source": [
    "type(x)"
   ]
  },
  {
   "cell_type": "code",
   "execution_count": 26,
   "id": "649b3cbf",
   "metadata": {},
   "outputs": [
    {
     "data": {
      "text/plain": [
       "int"
      ]
     },
     "execution_count": 26,
     "metadata": {},
     "output_type": "execute_result"
    }
   ],
   "source": [
    "y = 7\n",
    "\n",
    "type(y)"
   ]
  },
  {
   "cell_type": "code",
   "execution_count": 27,
   "id": "d093159e",
   "metadata": {},
   "outputs": [],
   "source": [
    "s = 'Hello'"
   ]
  },
  {
   "cell_type": "code",
   "execution_count": 28,
   "id": "54704fe5",
   "metadata": {},
   "outputs": [
    {
     "data": {
      "text/plain": [
       "'Hello'"
      ]
     },
     "execution_count": 28,
     "metadata": {},
     "output_type": "execute_result"
    }
   ],
   "source": [
    "s"
   ]
  },
  {
   "cell_type": "code",
   "execution_count": 29,
   "id": "33cd4a4f",
   "metadata": {},
   "outputs": [
    {
     "data": {
      "text/plain": [
       "str"
      ]
     },
     "execution_count": 29,
     "metadata": {},
     "output_type": "execute_result"
    }
   ],
   "source": [
    "type(s)"
   ]
  },
  {
   "cell_type": "code",
   "execution_count": 30,
   "id": "f24fcd6f",
   "metadata": {},
   "outputs": [],
   "source": [
    "s2 = \"Hi\""
   ]
  },
  {
   "cell_type": "code",
   "execution_count": 31,
   "id": "38b15531",
   "metadata": {},
   "outputs": [
    {
     "data": {
      "text/plain": [
       "'Hi'"
      ]
     },
     "execution_count": 31,
     "metadata": {},
     "output_type": "execute_result"
    }
   ],
   "source": [
    "s2"
   ]
  },
  {
   "cell_type": "markdown",
   "id": "4e28b815",
   "metadata": {},
   "source": [
    "It can be awkward to include a single quote in a string if you are using single quotes to delimit the string"
   ]
  },
  {
   "cell_type": "code",
   "execution_count": 32,
   "id": "25217f77",
   "metadata": {},
   "outputs": [
    {
     "ename": "SyntaxError",
     "evalue": "unterminated string literal (detected at line 1) (4274052275.py, line 1)",
     "output_type": "error",
     "traceback": [
      "\u001b[1;36m  Input \u001b[1;32mIn [32]\u001b[1;36m\u001b[0m\n\u001b[1;33m    s3 = 'This isn't a good string'\u001b[0m\n\u001b[1;37m                                  ^\u001b[0m\n\u001b[1;31mSyntaxError\u001b[0m\u001b[1;31m:\u001b[0m unterminated string literal (detected at line 1)\n"
     ]
    }
   ],
   "source": [
    "s3 = 'This isn't a good string'"
   ]
  },
  {
   "cell_type": "code",
   "execution_count": 33,
   "id": "faf18d6a",
   "metadata": {},
   "outputs": [],
   "source": [
    "s3 = \"This isn't a good string\""
   ]
  },
  {
   "cell_type": "markdown",
   "id": "e28ed042",
   "metadata": {},
   "source": [
    "You can use a backslash (\\\\) to \"escape\" the character so it doesn't have special meaning to Python. "
   ]
  },
  {
   "cell_type": "code",
   "execution_count": 34,
   "id": "f880a3d9",
   "metadata": {},
   "outputs": [],
   "source": [
    "s4 = 'This isn\\'t a good string'"
   ]
  },
  {
   "cell_type": "code",
   "execution_count": 35,
   "id": "d4729987",
   "metadata": {},
   "outputs": [],
   "source": [
    "d = True"
   ]
  },
  {
   "cell_type": "code",
   "execution_count": 36,
   "id": "0723ae61",
   "metadata": {},
   "outputs": [
    {
     "data": {
      "text/plain": [
       "bool"
      ]
     },
     "execution_count": 36,
     "metadata": {},
     "output_type": "execute_result"
    }
   ],
   "source": [
    "type(d)"
   ]
  },
  {
   "cell_type": "code",
   "execution_count": 37,
   "id": "874ab0a6",
   "metadata": {},
   "outputs": [],
   "source": [
    "e = False"
   ]
  },
  {
   "cell_type": "code",
   "execution_count": 38,
   "id": "616429c8",
   "metadata": {},
   "outputs": [
    {
     "data": {
      "text/plain": [
       "False"
      ]
     },
     "execution_count": 38,
     "metadata": {},
     "output_type": "execute_result"
    }
   ],
   "source": [
    "4 == 5"
   ]
  },
  {
   "cell_type": "code",
   "execution_count": 39,
   "id": "b42730fd",
   "metadata": {},
   "outputs": [
    {
     "data": {
      "text/plain": [
       "3.5e+20"
      ]
     },
     "execution_count": 39,
     "metadata": {},
     "output_type": "execute_result"
    }
   ],
   "source": [
    "x"
   ]
  },
  {
   "cell_type": "markdown",
   "id": "4ad01857",
   "metadata": {},
   "source": [
    "Variable names are case sensitive. E.g. **x** is different from **X**."
   ]
  },
  {
   "cell_type": "code",
   "execution_count": 40,
   "id": "eaa2fc35",
   "metadata": {},
   "outputs": [
    {
     "ename": "NameError",
     "evalue": "name 'X' is not defined",
     "output_type": "error",
     "traceback": [
      "\u001b[1;31m---------------------------------------------------------------------------\u001b[0m",
      "\u001b[1;31mNameError\u001b[0m                                 Traceback (most recent call last)",
      "Input \u001b[1;32mIn [40]\u001b[0m, in \u001b[0;36m<cell line: 1>\u001b[1;34m()\u001b[0m\n\u001b[1;32m----> 1\u001b[0m \u001b[43mX\u001b[49m\n",
      "\u001b[1;31mNameError\u001b[0m: name 'X' is not defined"
     ]
    }
   ],
   "source": [
    "X"
   ]
  },
  {
   "cell_type": "code",
   "execution_count": 41,
   "id": "ebf2cce6",
   "metadata": {},
   "outputs": [],
   "source": [
    "MyNumber = 2"
   ]
  },
  {
   "cell_type": "code",
   "execution_count": 42,
   "id": "be57ef86",
   "metadata": {},
   "outputs": [],
   "source": [
    "my_number = 2"
   ]
  },
  {
   "cell_type": "code",
   "execution_count": 43,
   "id": "7b6ed54e",
   "metadata": {},
   "outputs": [],
   "source": [
    "x = 2.3"
   ]
  },
  {
   "cell_type": "code",
   "execution_count": 44,
   "id": "b41bdcaf",
   "metadata": {},
   "outputs": [
    {
     "data": {
      "text/plain": [
       "True"
      ]
     },
     "execution_count": 44,
     "metadata": {},
     "output_type": "execute_result"
    }
   ],
   "source": [
    "x == 2.3"
   ]
  },
  {
   "cell_type": "code",
   "execution_count": null,
   "id": "497fd914",
   "metadata": {},
   "outputs": [],
   "source": []
  },
  {
   "cell_type": "code",
   "execution_count": 45,
   "id": "cd13ae0a",
   "metadata": {},
   "outputs": [
    {
     "data": {
      "text/plain": [
       "'Hello'"
      ]
     },
     "execution_count": 45,
     "metadata": {},
     "output_type": "execute_result"
    }
   ],
   "source": [
    "s"
   ]
  },
  {
   "cell_type": "code",
   "execution_count": 46,
   "id": "025ea9c9",
   "metadata": {},
   "outputs": [
    {
     "data": {
      "text/plain": [
       "5"
      ]
     },
     "execution_count": 46,
     "metadata": {},
     "output_type": "execute_result"
    }
   ],
   "source": [
    "len(s)"
   ]
  },
  {
   "cell_type": "markdown",
   "id": "aab6692b",
   "metadata": {},
   "source": [
    "You can access individual characters in a string.  They are numbered starting at 0 - e.g. the first character of the string **s** is accessed as **s[0]** "
   ]
  },
  {
   "cell_type": "code",
   "execution_count": 47,
   "id": "6055eae4",
   "metadata": {},
   "outputs": [
    {
     "data": {
      "text/plain": [
       "'H'"
      ]
     },
     "execution_count": 47,
     "metadata": {},
     "output_type": "execute_result"
    }
   ],
   "source": [
    "s[0]"
   ]
  },
  {
   "cell_type": "code",
   "execution_count": 48,
   "id": "31cc55ae",
   "metadata": {},
   "outputs": [
    {
     "data": {
      "text/plain": [
       "'e'"
      ]
     },
     "execution_count": 48,
     "metadata": {},
     "output_type": "execute_result"
    }
   ],
   "source": [
    "s[1]"
   ]
  },
  {
   "cell_type": "code",
   "execution_count": 49,
   "id": "a72bc015",
   "metadata": {},
   "outputs": [
    {
     "data": {
      "text/plain": [
       "'l'"
      ]
     },
     "execution_count": 49,
     "metadata": {},
     "output_type": "execute_result"
    }
   ],
   "source": [
    "s[2]"
   ]
  },
  {
   "cell_type": "markdown",
   "id": "c68d4192",
   "metadata": {},
   "source": [
    "You will get an error if you try to access a character beyond the end of the string."
   ]
  },
  {
   "cell_type": "code",
   "execution_count": 50,
   "id": "6dfc8699",
   "metadata": {},
   "outputs": [
    {
     "ename": "IndexError",
     "evalue": "string index out of range",
     "output_type": "error",
     "traceback": [
      "\u001b[1;31m---------------------------------------------------------------------------\u001b[0m",
      "\u001b[1;31mIndexError\u001b[0m                                Traceback (most recent call last)",
      "Input \u001b[1;32mIn [50]\u001b[0m, in \u001b[0;36m<cell line: 1>\u001b[1;34m()\u001b[0m\n\u001b[1;32m----> 1\u001b[0m \u001b[43ms\u001b[49m\u001b[43m[\u001b[49m\u001b[38;5;241;43m5\u001b[39;49m\u001b[43m]\u001b[49m\n",
      "\u001b[1;31mIndexError\u001b[0m: string index out of range"
     ]
    }
   ],
   "source": [
    "s[5]"
   ]
  },
  {
   "cell_type": "markdown",
   "id": "3b39ca46",
   "metadata": {},
   "source": [
    "You can extract multiple characcters by using **a:b** where **a** is the position of the starting character, and **b** is the position of the character **after** the last one you want."
   ]
  },
  {
   "cell_type": "code",
   "execution_count": 51,
   "id": "a6295cf7",
   "metadata": {},
   "outputs": [
    {
     "data": {
      "text/plain": [
       "'el'"
      ]
     },
     "execution_count": 51,
     "metadata": {},
     "output_type": "execute_result"
    }
   ],
   "source": [
    "s[1:3]"
   ]
  },
  {
   "cell_type": "markdown",
   "id": "a72bc4b9",
   "metadata": {},
   "source": [
    "|h|e|l|l|o|\n",
    "|-|-|-|-|-|\n",
    "|0|1|2|3|4|"
   ]
  },
  {
   "cell_type": "code",
   "execution_count": 52,
   "id": "c4b4a585",
   "metadata": {},
   "outputs": [
    {
     "data": {
      "text/plain": [
       "'ell'"
      ]
     },
     "execution_count": 52,
     "metadata": {},
     "output_type": "execute_result"
    }
   ],
   "source": [
    "s[1:4]"
   ]
  },
  {
   "cell_type": "markdown",
   "id": "bd5e9d9d",
   "metadata": {},
   "source": [
    "Leaving out the first number means start at the beginning of the string."
   ]
  },
  {
   "cell_type": "code",
   "execution_count": 53,
   "id": "132f52a7",
   "metadata": {},
   "outputs": [
    {
     "data": {
      "text/plain": [
       "'Hell'"
      ]
     },
     "execution_count": 53,
     "metadata": {},
     "output_type": "execute_result"
    }
   ],
   "source": [
    "s[:4]"
   ]
  },
  {
   "cell_type": "markdown",
   "id": "478beaa9",
   "metadata": {},
   "source": [
    "Leaving out the last number means finish at the end of the string."
   ]
  },
  {
   "cell_type": "code",
   "execution_count": 54,
   "id": "a6da93db",
   "metadata": {},
   "outputs": [
    {
     "data": {
      "text/plain": [
       "'llo'"
      ]
     },
     "execution_count": 54,
     "metadata": {},
     "output_type": "execute_result"
    }
   ],
   "source": [
    "s[2:]"
   ]
  },
  {
   "cell_type": "markdown",
   "id": "aa2a3b44",
   "metadata": {},
   "source": [
    "You can also count from the end of the string with negative numbers."
   ]
  },
  {
   "cell_type": "code",
   "execution_count": 55,
   "id": "fa8dc31c",
   "metadata": {},
   "outputs": [
    {
     "data": {
      "text/plain": [
       "'o'"
      ]
     },
     "execution_count": 55,
     "metadata": {},
     "output_type": "execute_result"
    }
   ],
   "source": [
    "s[-1]"
   ]
  },
  {
   "cell_type": "code",
   "execution_count": 56,
   "id": "02661b6c",
   "metadata": {},
   "outputs": [
    {
     "data": {
      "text/plain": [
       "'lo'"
      ]
     },
     "execution_count": 56,
     "metadata": {},
     "output_type": "execute_result"
    }
   ],
   "source": [
    "s[-2:]"
   ]
  },
  {
   "cell_type": "markdown",
   "id": "c4731525",
   "metadata": {},
   "source": [
    "Those were the basic types in Python - floats, integers, booleans and strings.\n",
    "\n",
    "We can also combine them in **data structures**.\n",
    "\n",
    "E.g. we can make a list of items."
   ]
  },
  {
   "cell_type": "code",
   "execution_count": 57,
   "id": "b4c953a7",
   "metadata": {},
   "outputs": [],
   "source": [
    "l = [1,3.7,'Hi']"
   ]
  },
  {
   "cell_type": "code",
   "execution_count": 58,
   "id": "56e9f434",
   "metadata": {},
   "outputs": [
    {
     "data": {
      "text/plain": [
       "[1, 3.7, 'Hi']"
      ]
     },
     "execution_count": 58,
     "metadata": {},
     "output_type": "execute_result"
    }
   ],
   "source": [
    "l"
   ]
  },
  {
   "cell_type": "markdown",
   "id": "d2eb5de5",
   "metadata": {},
   "source": [
    "Items can be accessed the same way as they are in strings."
   ]
  },
  {
   "cell_type": "code",
   "execution_count": 59,
   "id": "a8ff4b84",
   "metadata": {},
   "outputs": [
    {
     "data": {
      "text/plain": [
       "1"
      ]
     },
     "execution_count": 59,
     "metadata": {},
     "output_type": "execute_result"
    }
   ],
   "source": [
    "l[0]"
   ]
  },
  {
   "cell_type": "code",
   "execution_count": 60,
   "id": "db2eab39",
   "metadata": {},
   "outputs": [
    {
     "data": {
      "text/plain": [
       "[1, 3.7]"
      ]
     },
     "execution_count": 60,
     "metadata": {},
     "output_type": "execute_result"
    }
   ],
   "source": [
    "l[:2]"
   ]
  },
  {
   "cell_type": "code",
   "execution_count": 61,
   "id": "1b678676",
   "metadata": {},
   "outputs": [
    {
     "data": {
      "text/plain": [
       "[3.7, 'Hi']"
      ]
     },
     "execution_count": 61,
     "metadata": {},
     "output_type": "execute_result"
    }
   ],
   "source": [
    "l[-2:]"
   ]
  },
  {
   "cell_type": "code",
   "execution_count": 62,
   "id": "d7687380",
   "metadata": {},
   "outputs": [
    {
     "name": "stdout",
     "output_type": "stream",
     "text": [
      "Help on built-in function len in module builtins:\n",
      "\n",
      "len(obj, /)\n",
      "    Return the number of items in a container.\n",
      "\n"
     ]
    }
   ],
   "source": [
    "help(len)"
   ]
  },
  {
   "cell_type": "code",
   "execution_count": 63,
   "id": "a8ce5c22",
   "metadata": {},
   "outputs": [
    {
     "name": "stdout",
     "output_type": "stream",
     "text": [
      "My name is Tom my favourite number is 2.3\n"
     ]
    }
   ],
   "source": [
    "name = 'Tom'\n",
    "\n",
    "print(\"My name is\", name,\"my favourite number is\", x)"
   ]
  },
  {
   "cell_type": "code",
   "execution_count": 64,
   "id": "5f30e245",
   "metadata": {},
   "outputs": [
    {
     "data": {
      "text/plain": [
       "'Tom'"
      ]
     },
     "execution_count": 64,
     "metadata": {},
     "output_type": "execute_result"
    }
   ],
   "source": [
    "name"
   ]
  },
  {
   "cell_type": "code",
   "execution_count": 65,
   "id": "b24c1c27",
   "metadata": {},
   "outputs": [
    {
     "data": {
      "text/plain": [
       "2.3"
      ]
     },
     "execution_count": 65,
     "metadata": {},
     "output_type": "execute_result"
    }
   ],
   "source": [
    "x"
   ]
  },
  {
   "cell_type": "markdown",
   "id": "26b081f4",
   "metadata": {},
   "source": [
    "We'll talk about loops and things like that later in this course.  This was here just to show an example of where **print** might be useful."
   ]
  },
  {
   "cell_type": "code",
   "execution_count": 66,
   "id": "485ed1bb",
   "metadata": {},
   "outputs": [
    {
     "name": "stdout",
     "output_type": "stream",
     "text": [
      "this item is 1\n",
      "Ok\n",
      "this item is 3.7\n",
      "Ok\n",
      "this item is Hi\n",
      "Ok\n"
     ]
    },
    {
     "data": {
      "text/plain": [
       "2.3"
      ]
     },
     "execution_count": 66,
     "metadata": {},
     "output_type": "execute_result"
    }
   ],
   "source": [
    "for item in l:\n",
    "    print(\"this item is\", item)\n",
    "    print(\"Ok\")\n",
    "    \n",
    "x"
   ]
  },
  {
   "cell_type": "code",
   "execution_count": 67,
   "id": "67759ebb",
   "metadata": {},
   "outputs": [
    {
     "data": {
      "text/plain": [
       "[1, 3.7, 'Hi']"
      ]
     },
     "execution_count": 67,
     "metadata": {},
     "output_type": "execute_result"
    }
   ],
   "source": [
    "l"
   ]
  },
  {
   "cell_type": "code",
   "execution_count": 68,
   "id": "a2d5a064",
   "metadata": {},
   "outputs": [
    {
     "data": {
      "text/plain": [
       "0.25"
      ]
     },
     "execution_count": 68,
     "metadata": {},
     "output_type": "execute_result"
    }
   ],
   "source": [
    "2/8"
   ]
  }
 ],
 "metadata": {
  "kernelspec": {
   "display_name": "Python 3 (ipykernel)",
   "language": "python",
   "name": "python3"
  },
  "language_info": {
   "codemirror_mode": {
    "name": "ipython",
    "version": 3
   },
   "file_extension": ".py",
   "mimetype": "text/x-python",
   "name": "python",
   "nbconvert_exporter": "python",
   "pygments_lexer": "ipython3",
   "version": "3.10.9"
  }
 },
 "nbformat": 4,
 "nbformat_minor": 5
}
