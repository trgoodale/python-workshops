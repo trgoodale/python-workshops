{
 "cells": [
  {
   "cell_type": "markdown",
   "id": "77239707",
   "metadata": {},
   "source": [
    "# Review"
   ]
  },
  {
   "cell_type": "markdown",
   "id": "84a4491d",
   "metadata": {},
   "source": [
    "## Basic variable types"
   ]
  },
  {
   "cell_type": "code",
   "execution_count": 1,
   "id": "ad0ae4e3",
   "metadata": {},
   "outputs": [],
   "source": [
    "a = 1\n",
    "b = [2, 3, 4, 5]\n",
    "c = (6, 7)\n",
    "d = {\"a\": 1, \"b\":2}\n",
    "e = False\n",
    "f = \"Hello world\""
   ]
  },
  {
   "cell_type": "code",
   "execution_count": 2,
   "id": "c59c768c",
   "metadata": {},
   "outputs": [
    {
     "data": {
      "text/plain": [
       "4"
      ]
     },
     "execution_count": 2,
     "metadata": {},
     "output_type": "execute_result"
    }
   ],
   "source": [
    "len(b)"
   ]
  },
  {
   "cell_type": "code",
   "execution_count": 3,
   "id": "0e8c977f",
   "metadata": {},
   "outputs": [
    {
     "data": {
      "text/plain": [
       "11"
      ]
     },
     "execution_count": 3,
     "metadata": {},
     "output_type": "execute_result"
    }
   ],
   "source": [
    "len(f)"
   ]
  },
  {
   "cell_type": "code",
   "execution_count": 4,
   "id": "ff880970",
   "metadata": {},
   "outputs": [
    {
     "data": {
      "text/plain": [
       "2"
      ]
     },
     "execution_count": 4,
     "metadata": {},
     "output_type": "execute_result"
    }
   ],
   "source": [
    "len(d)"
   ]
  },
  {
   "cell_type": "code",
   "execution_count": 5,
   "id": "b956423b",
   "metadata": {},
   "outputs": [
    {
     "data": {
      "text/plain": [
       "'H'"
      ]
     },
     "execution_count": 5,
     "metadata": {},
     "output_type": "execute_result"
    }
   ],
   "source": [
    "f[0]"
   ]
  },
  {
   "cell_type": "code",
   "execution_count": 6,
   "id": "e33ee7e6",
   "metadata": {},
   "outputs": [
    {
     "data": {
      "text/plain": [
       "'lo'"
      ]
     },
     "execution_count": 6,
     "metadata": {},
     "output_type": "execute_result"
    }
   ],
   "source": [
    "f[3:5]"
   ]
  },
  {
   "cell_type": "code",
   "execution_count": 7,
   "id": "572b21e1",
   "metadata": {},
   "outputs": [
    {
     "data": {
      "text/plain": [
       "'d'"
      ]
     },
     "execution_count": 7,
     "metadata": {},
     "output_type": "execute_result"
    }
   ],
   "source": [
    "f[-1]"
   ]
  },
  {
   "cell_type": "code",
   "execution_count": 8,
   "id": "ae27022c",
   "metadata": {},
   "outputs": [
    {
     "data": {
      "text/plain": [
       "'Hello wor'"
      ]
     },
     "execution_count": 8,
     "metadata": {},
     "output_type": "execute_result"
    }
   ],
   "source": [
    "f[:-2]"
   ]
  },
  {
   "cell_type": "code",
   "execution_count": 9,
   "id": "79a3f709",
   "metadata": {},
   "outputs": [
    {
     "data": {
      "text/plain": [
       "'llo world'"
      ]
     },
     "execution_count": 9,
     "metadata": {},
     "output_type": "execute_result"
    }
   ],
   "source": [
    "f[2:]"
   ]
  },
  {
   "cell_type": "markdown",
   "id": "05e37f5c",
   "metadata": {},
   "source": [
    "# Conditional logic"
   ]
  },
  {
   "cell_type": "code",
   "execution_count": 10,
   "id": "c9f94c40",
   "metadata": {},
   "outputs": [
    {
     "name": "stdout",
     "output_type": "stream",
     "text": [
      "a equals 1\n"
     ]
    }
   ],
   "source": [
    "if a > 1:\n",
    "    print(\"a is greater than 1\")\n",
    "elif a == 1:\n",
    "    print(\"a equals 1\")\n",
    "else:\n",
    "    print(\"a is less than 1\")"
   ]
  },
  {
   "cell_type": "markdown",
   "id": "75f46cdc",
   "metadata": {},
   "source": [
    "## Looping"
   ]
  },
  {
   "cell_type": "code",
   "execution_count": 11,
   "id": "cadd3104",
   "metadata": {},
   "outputs": [
    {
     "name": "stdout",
     "output_type": "stream",
     "text": [
      "the letter is H\n",
      "the letter is e\n",
      "the letter is l\n",
      "the letter is l\n",
      "the letter is o\n",
      "the letter is  \n",
      "the letter is w\n",
      "the letter is o\n",
      "the letter is r\n",
      "the letter is l\n",
      "the letter is d\n"
     ]
    }
   ],
   "source": [
    "for letter in f:\n",
    "    print(\"the letter is\", letter)"
   ]
  },
  {
   "cell_type": "code",
   "execution_count": 12,
   "id": "cf421c8e",
   "metadata": {},
   "outputs": [
    {
     "name": "stdout",
     "output_type": "stream",
     "text": [
      "0\n",
      "1\n",
      "2\n",
      "3\n",
      "4\n"
     ]
    }
   ],
   "source": [
    "for i in range(0,5):\n",
    "    print(i)"
   ]
  },
  {
   "cell_type": "code",
   "execution_count": 13,
   "id": "ba3c8755",
   "metadata": {},
   "outputs": [
    {
     "name": "stdout",
     "output_type": "stream",
     "text": [
      "k: a v: 1\n",
      "k: b v: 2\n"
     ]
    }
   ],
   "source": [
    "for key,value in d.items():\n",
    "    print(\"k:\", key, \"v:\", value)"
   ]
  },
  {
   "cell_type": "code",
   "execution_count": 14,
   "id": "dc508453",
   "metadata": {},
   "outputs": [
    {
     "name": "stdout",
     "output_type": "stream",
     "text": [
      "0\n",
      "1\n",
      "2\n",
      "3\n",
      "4\n"
     ]
    }
   ],
   "source": [
    "count = 0\n",
    "\n",
    "while count < 5:\n",
    "    print(count)\n",
    "    count = count+1"
   ]
  },
  {
   "cell_type": "code",
   "execution_count": 15,
   "id": "3c147c8a",
   "metadata": {},
   "outputs": [
    {
     "name": "stdout",
     "output_type": "stream",
     "text": [
      "the letter is H\n",
      "the letter is e\n",
      "the letter is o\n",
      "the letter is  \n"
     ]
    }
   ],
   "source": [
    "for letter in f:\n",
    "    if letter == \"l\":\n",
    "        continue\n",
    "    elif letter == \"w\":\n",
    "        break\n",
    "    print(\"the letter is\", letter)\n"
   ]
  },
  {
   "cell_type": "markdown",
   "id": "0aac58b7",
   "metadata": {},
   "source": [
    "## Functions"
   ]
  },
  {
   "cell_type": "code",
   "execution_count": 16,
   "id": "8722b310",
   "metadata": {},
   "outputs": [],
   "source": [
    "def myfunc(a=1, b=2):\n",
    "    print(\"a is\", a, \"b is\", b)\n",
    "    return a*b"
   ]
  },
  {
   "cell_type": "code",
   "execution_count": 17,
   "id": "cf348a45",
   "metadata": {},
   "outputs": [
    {
     "name": "stdout",
     "output_type": "stream",
     "text": [
      "a is 3 b is 4\n"
     ]
    },
    {
     "data": {
      "text/plain": [
       "12"
      ]
     },
     "execution_count": 17,
     "metadata": {},
     "output_type": "execute_result"
    }
   ],
   "source": [
    "myfunc(3,4)"
   ]
  },
  {
   "cell_type": "markdown",
   "id": "39701d4c",
   "metadata": {},
   "source": [
    "## Comprehensions"
   ]
  },
  {
   "cell_type": "code",
   "execution_count": 18,
   "id": "52a3a62e",
   "metadata": {},
   "outputs": [
    {
     "data": {
      "text/plain": [
       "[0, 1, 4, 9, 16]"
      ]
     },
     "execution_count": 18,
     "metadata": {},
     "output_type": "execute_result"
    }
   ],
   "source": [
    "[i**2 for i in range(0,5)]"
   ]
  },
  {
   "cell_type": "code",
   "execution_count": 19,
   "id": "e81f65b4",
   "metadata": {},
   "outputs": [
    {
     "data": {
      "text/plain": [
       "(0, 1, 4, 9, 16)"
      ]
     },
     "execution_count": 19,
     "metadata": {},
     "output_type": "execute_result"
    }
   ],
   "source": [
    "tuple(i**2 for i in range(0,5))"
   ]
  },
  {
   "cell_type": "code",
   "execution_count": 20,
   "id": "a15be39e",
   "metadata": {},
   "outputs": [
    {
     "data": {
      "text/plain": [
       "{0: 'H',\n",
       " 1: 'e',\n",
       " 2: 'l',\n",
       " 3: 'l',\n",
       " 4: 'o',\n",
       " 5: ' ',\n",
       " 6: 'w',\n",
       " 7: 'o',\n",
       " 8: 'r',\n",
       " 9: 'l',\n",
       " 10: 'd'}"
      ]
     },
     "execution_count": 20,
     "metadata": {},
     "output_type": "execute_result"
    }
   ],
   "source": [
    "{a:b for a,b in enumerate(f)}"
   ]
  },
  {
   "cell_type": "markdown",
   "id": "9892b08a",
   "metadata": {},
   "source": [
    "# More on strings\n",
    "\n",
    "Strings can be delimited by single quotes ('...') or double quotes (\"...\") --- it doesn't make a difference.\n"
   ]
  },
  {
   "cell_type": "code",
   "execution_count": 21,
   "id": "1e8012da",
   "metadata": {},
   "outputs": [
    {
     "name": "stdout",
     "output_type": "stream",
     "text": [
      "I'm fine\n"
     ]
    }
   ],
   "source": [
    "print(\"I'm fine\")"
   ]
  },
  {
   "cell_type": "markdown",
   "id": "eb840355",
   "metadata": {},
   "source": [
    "If you are using single quotes, and you want to include an apostrophe, you can \"escape\" it by using a backslash (\\)"
   ]
  },
  {
   "cell_type": "code",
   "execution_count": 22,
   "id": "963d3004",
   "metadata": {},
   "outputs": [
    {
     "name": "stdout",
     "output_type": "stream",
     "text": [
      "I'm fine\n"
     ]
    }
   ],
   "source": [
    "print('I\\'m fine')"
   ]
  },
  {
   "cell_type": "markdown",
   "id": "a5a45c85",
   "metadata": {},
   "source": [
    "There are a range of backslash escape characters:\n",
    "\n",
    "| Code | Result         |\n",
    "|------|----------------|\n",
    "| \\\\'  | Single quote   |\n",
    "| \\\\\"  | Double quote   |\n",
    "| \\\\   | Backslash      |\n",
    "| \\n   | New line       |\n",
    "| \\r   | Carriage return|\n",
    "| \\t   | Tab            |\n",
    "| \\f   | Form feed      |\n",
    "| \\ooo | Octal value    |\n",
    "| \\xhh | Hexadecimal value |\n",
    "\n",
    "The one you are most likely to use is \\\\n for a newline.\n"
   ]
  },
  {
   "cell_type": "code",
   "execution_count": 23,
   "id": "baf5a3ab",
   "metadata": {},
   "outputs": [
    {
     "name": "stdout",
     "output_type": "stream",
     "text": [
      "This is one line\n",
      "This is a new line\n"
     ]
    }
   ],
   "source": [
    "print('This is one line\\nThis is a new line')"
   ]
  },
  {
   "cell_type": "markdown",
   "id": "d05575b0",
   "metadata": {},
   "source": [
    "Another way to write multiline strings is with three single or double quotes"
   ]
  },
  {
   "cell_type": "code",
   "execution_count": 24,
   "id": "21ce9646",
   "metadata": {},
   "outputs": [],
   "source": [
    "multistring = \"\"\"This is one line\n",
    "This is another line\"\"\""
   ]
  },
  {
   "cell_type": "code",
   "execution_count": 25,
   "id": "e432584a",
   "metadata": {},
   "outputs": [
    {
     "data": {
      "text/plain": [
       "'This is one line\\nThis is another line'"
      ]
     },
     "execution_count": 25,
     "metadata": {},
     "output_type": "execute_result"
    }
   ],
   "source": [
    "multistring"
   ]
  },
  {
   "cell_type": "code",
   "execution_count": 26,
   "id": "ce71acef",
   "metadata": {},
   "outputs": [
    {
     "name": "stdout",
     "output_type": "stream",
     "text": [
      "This is one line\n",
      "This is another line\n"
     ]
    }
   ],
   "source": [
    "print(multistring)"
   ]
  },
  {
   "cell_type": "markdown",
   "id": "6caaea38",
   "metadata": {},
   "source": [
    "### Formatting"
   ]
  },
  {
   "cell_type": "code",
   "execution_count": 27,
   "id": "89521b88",
   "metadata": {},
   "outputs": [
    {
     "data": {
      "text/plain": [
       "\"Hello I'm John, my age is 20000\""
      ]
     },
     "execution_count": 27,
     "metadata": {},
     "output_type": "execute_result"
    }
   ],
   "source": [
    "name = 'John'\n",
    "age = 20000\n",
    "\n",
    "\"Hello I'm {}, my age is {}\".format(name, age)"
   ]
  },
  {
   "cell_type": "code",
   "execution_count": 28,
   "id": "82e42436",
   "metadata": {},
   "outputs": [
    {
     "data": {
      "text/plain": [
       "\"Hello I'm John, my age is 20000\""
      ]
     },
     "execution_count": 28,
     "metadata": {},
     "output_type": "execute_result"
    }
   ],
   "source": [
    "\"Hello I'm {0}, my age is {1}\".format(name, age)\n"
   ]
  },
  {
   "cell_type": "code",
   "execution_count": 29,
   "id": "2ad03e20",
   "metadata": {},
   "outputs": [
    {
     "data": {
      "text/plain": [
       "'Hello Elizabeth!'"
      ]
     },
     "execution_count": 29,
     "metadata": {},
     "output_type": "execute_result"
    }
   ],
   "source": [
    "name = 'Elizabeth'\n",
    "f'Hello {name}!'"
   ]
  },
  {
   "cell_type": "code",
   "execution_count": 30,
   "id": "15903c37",
   "metadata": {},
   "outputs": [
    {
     "data": {
      "text/plain": [
       "'Five plus ten is 15 and not 30.'"
      ]
     },
     "execution_count": 30,
     "metadata": {},
     "output_type": "execute_result"
    }
   ],
   "source": [
    "a = 5\n",
    "b = 10\n",
    "f'Five plus ten is {a + b} and not {2 * (a + b)}.'"
   ]
  },
  {
   "cell_type": "code",
   "execution_count": 31,
   "id": "cbe60add",
   "metadata": {},
   "outputs": [
    {
     "data": {
      "text/plain": [
       "'10,000,000'"
      ]
     },
     "execution_count": 31,
     "metadata": {},
     "output_type": "execute_result"
    }
   ],
   "source": [
    "a = 10000000\n",
    "f\"{a:,}\""
   ]
  },
  {
   "cell_type": "code",
   "execution_count": 32,
   "id": "250323b3",
   "metadata": {},
   "outputs": [
    {
     "data": {
      "text/plain": [
       "'3.14'"
      ]
     },
     "execution_count": 32,
     "metadata": {},
     "output_type": "execute_result"
    }
   ],
   "source": [
    "a = 3.1415926\n",
    "f\"{a:.2f}\""
   ]
  },
  {
   "cell_type": "code",
   "execution_count": 33,
   "id": "5e0f9d84",
   "metadata": {},
   "outputs": [
    {
     "data": {
      "text/plain": [
       "'81.66%'"
      ]
     },
     "execution_count": 33,
     "metadata": {},
     "output_type": "execute_result"
    }
   ],
   "source": [
    "a = 0.816562\n",
    "f\"{a:.2%}\""
   ]
  },
  {
   "cell_type": "markdown",
   "id": "fabefdbd",
   "metadata": {},
   "source": [
    "Number formatting table\n",
    "\n",
    "|Number|Format|Output|description|\n",
    "|------|------|------|-----------|\n",
    "|3.1415926|{:.2f}|3.14|Format float 2 decimal places|\n",
    "|3.1415926|{:+.2f}|+3.14|Format float 2 decimal places with sign|\n",
    "|-1|{:+.2f}|-1.00|Format float 2 decimal places with sign|\n",
    "|2.71828|{:.0f}|3|Format float with no decimal places|\n",
    "|4|{:0>2d}|04|Pad number with zeros (left padding, width 2)|\n",
    "|4|{:x<4d}|4xxx|Pad number with x’s (right padding, width 4)|\n",
    "|10|{:x<4d}|10xx|Pad number with x’s (right padding, width 4)|\n",
    "|1000000|{:,}|1,000,000|Number format with comma separator|\n",
    "|0.35|{:.2%}|35.00%|Format percentage|\n",
    "|1000000000|{:.2e}|1.00e+09|Exponent notation|\n",
    "|11|{:11d}|11|Right-aligned (default, width 10)|\n",
    "|11|{:<11d}|11|Left-aligned (width 10)|\n",
    "|11|{:^11d}|11|Center aligned (width 10)|\n",
    "\n",
    "See https://www.w3schools.com/python/ref_string_format.asp for more."
   ]
  },
  {
   "cell_type": "markdown",
   "id": "cbe1f3b1",
   "metadata": {},
   "source": [
    "# Another while loop example: Calculating square roots"
   ]
  },
  {
   "cell_type": "code",
   "execution_count": 34,
   "id": "cdfbaa65",
   "metadata": {},
   "outputs": [
    {
     "name": "stdout",
     "output_type": "stream",
     "text": [
      "       x_new                 diff        \n",
      "   2.166666666666667    0.833333333333333\n",
      "   2.006410256410256    0.160256410256410\n",
      "   2.000010240026215    0.006400016384042\n",
      "   2.000000000026215    0.000010240000000\n",
      "   2.000000000000000    0.000000000026215\n"
     ]
    }
   ],
   "source": [
    "import math\n",
    "\n",
    "M = 4\n",
    "\n",
    "diff = math.inf\n",
    "\n",
    "tol = 1e-5\n",
    "\n",
    "x = 3\n",
    "\n",
    "print(\"{:^20} {:^20}\".format(\"x_new\", \"diff\"))\n",
    "while diff > tol:\n",
    "    x_new = (x+M/x)/2\n",
    "    diff = abs(x - x_new)\n",
    "    print(f'{x_new:20.15f} {diff:20.15f}')\n",
    "    x = x_new"
   ]
  },
  {
   "cell_type": "markdown",
   "id": "7ecfccae",
   "metadata": {},
   "source": [
    "Let's put that in a function"
   ]
  },
  {
   "cell_type": "code",
   "execution_count": 35,
   "id": "9f38aa23",
   "metadata": {},
   "outputs": [
    {
     "name": "stdout",
     "output_type": "stream",
     "text": [
      "Calculating the square root of 6\n",
      "       x_new                 diff        \n",
      "   2.500000000000000    0.500000000000000\n",
      "   2.450000000000000    0.050000000000000\n",
      "   2.449489795918367    0.000510204081633\n",
      "   2.449489742783179    0.000000053135189\n",
      "The square root of 6 is 2.4494897427831788\n",
      "Calculating the square root of 60\n",
      "       x_new                 diff        \n",
      "  16.000000000000000   14.000000000000000\n",
      "   9.875000000000000    6.125000000000000\n",
      "   7.975474683544304    1.899525316455696\n",
      "   7.749268935860040    0.226205747684264\n",
      "   7.745967396017448    0.003301539842592\n",
      "   7.745966692414866    0.000000703602582\n",
      "The square root of 60 is 7.745966692414866\n"
     ]
    },
    {
     "data": {
      "text/plain": [
       "7.745966692414866"
      ]
     },
     "execution_count": 35,
     "metadata": {},
     "output_type": "execute_result"
    }
   ],
   "source": [
    "def my_sqrt(M, guess=0, tol=1.0e-5, verbose = False):\n",
    "    import math\n",
    "    diff = math.inf\n",
    "    if verbose:\n",
    "        print(f'Calculating the square root of {M}')\n",
    "    if guess==0:\n",
    "        x = M/2\n",
    "    else:\n",
    "        x = guess\n",
    "    if verbose:\n",
    "        print(\"{:^20} {:^20}\".format(\"x_new\", \"diff\"))\n",
    "    while diff > tol:\n",
    "        x_new = (x+M/x)/2\n",
    "        diff = abs(x - x_new)\n",
    "        if verbose:\n",
    "            print(f'{x_new:20.15f} {diff:20.15f}')\n",
    "        x = x_new\n",
    "    if verbose:\n",
    "        print(f'The square root of {M} is {x}')\n",
    "    return x\n",
    "\n",
    "my_sqrt(6, verbose=True)\n",
    "my_sqrt(60, verbose=True)"
   ]
  },
  {
   "cell_type": "markdown",
   "id": "12a81cc0",
   "metadata": {},
   "source": [
    "# File input and output "
   ]
  },
  {
   "cell_type": "code",
   "execution_count": 36,
   "id": "69fdd038",
   "metadata": {},
   "outputs": [],
   "source": [
    "f = open(\"data/lorem.txt\")"
   ]
  },
  {
   "cell_type": "code",
   "execution_count": 37,
   "id": "2603016d",
   "metadata": {},
   "outputs": [
    {
     "data": {
      "text/plain": [
       "'Lorem ipsum dolor sit amet, consectetuer adipiscing elit. Maecenas porttitor congue massa. \\nFusce posuere, magna sed pulvinar ultricies, purus lectus malesuada libero, sit amet commodo magna eros quis urna. \\nNunc viverra imperdiet enim. Fusce est. Vivamus a tellus. \\nPellentesque habitant morbi tristique senectus et netus et malesuada fames ac turpis egestas. \\nProin pharetra nonummy pede. \\nMauris et orci. \\nAenean nec lorem. \\nIn porttitor. \\nDonec laoreet nonummy augue. \\nSuspendisse dui purus, scelerisque at, vulputate vitae, pretium mattis, nunc. \\nMauris eget neque at sem venenatis eleifend.\\n'"
      ]
     },
     "execution_count": 37,
     "metadata": {},
     "output_type": "execute_result"
    }
   ],
   "source": [
    "f.read()"
   ]
  },
  {
   "cell_type": "markdown",
   "id": "196a1102",
   "metadata": {},
   "source": [
    "It's good practice to close a file when you are finished with it.  Otherwise Python may hold onto resources which it could otherwise release."
   ]
  },
  {
   "cell_type": "code",
   "execution_count": 38,
   "id": "e89cef02",
   "metadata": {},
   "outputs": [],
   "source": [
    "f.close()"
   ]
  },
  {
   "cell_type": "markdown",
   "id": "ead8046d",
   "metadata": {},
   "source": [
    "We can check if a file is open or closed."
   ]
  },
  {
   "cell_type": "code",
   "execution_count": 39,
   "id": "946226ee",
   "metadata": {},
   "outputs": [
    {
     "data": {
      "text/plain": [
       "True"
      ]
     },
     "execution_count": 39,
     "metadata": {},
     "output_type": "execute_result"
    }
   ],
   "source": [
    "f.closed"
   ]
  },
  {
   "cell_type": "markdown",
   "id": "268c5530",
   "metadata": {},
   "source": [
    "The more common practice is to use \"context managers\" which automatically close a file, and won't try to read from a file if you fail to open it."
   ]
  },
  {
   "cell_type": "code",
   "execution_count": 40,
   "id": "fb5f89f8",
   "metadata": {},
   "outputs": [],
   "source": [
    "with open(\"data/lorem.txt\") as f:\n",
    "    txt = f.read()\n",
    "    "
   ]
  },
  {
   "cell_type": "code",
   "execution_count": 41,
   "id": "3ea47022",
   "metadata": {},
   "outputs": [
    {
     "data": {
      "text/plain": [
       "'Lorem ipsum dolor sit amet, consectetuer adipiscing elit. Maecenas porttitor congue massa. \\nFusce posuere, magna sed pulvinar ultricies, purus lectus malesuada libero, sit amet commodo magna eros quis urna. \\nNunc viverra imperdiet enim. Fusce est. Vivamus a tellus. \\nPellentesque habitant morbi tristique senectus et netus et malesuada fames ac turpis egestas. \\nProin pharetra nonummy pede. \\nMauris et orci. \\nAenean nec lorem. \\nIn porttitor. \\nDonec laoreet nonummy augue. \\nSuspendisse dui purus, scelerisque at, vulputate vitae, pretium mattis, nunc. \\nMauris eget neque at sem venenatis eleifend.\\n'"
      ]
     },
     "execution_count": 41,
     "metadata": {},
     "output_type": "execute_result"
    }
   ],
   "source": [
    "txt"
   ]
  },
  {
   "cell_type": "code",
   "execution_count": 42,
   "id": "69903f59",
   "metadata": {},
   "outputs": [
    {
     "data": {
      "text/plain": [
       "True"
      ]
     },
     "execution_count": 42,
     "metadata": {},
     "output_type": "execute_result"
    }
   ],
   "source": [
    "f.closed"
   ]
  },
  {
   "cell_type": "markdown",
   "id": "0688ee63",
   "metadata": {},
   "source": [
    "## Reading a file line by line"
   ]
  },
  {
   "cell_type": "code",
   "execution_count": 43,
   "id": "136ede40",
   "metadata": {},
   "outputs": [
    {
     "name": "stdout",
     "output_type": "stream",
     "text": [
      "Lorem ipsum dolor sit amet, consectetuer adipiscing elit. Maecenas porttitor congue massa. \n",
      "\n",
      "Fusce posuere, magna sed pulvinar ultricies, purus lectus malesuada libero, sit amet commodo magna eros quis urna. \n",
      "\n",
      "Nunc viverra imperdiet enim. Fusce est. Vivamus a tellus. \n",
      "\n",
      "Pellentesque habitant morbi tristique senectus et netus et malesuada fames ac turpis egestas. \n",
      "\n",
      "Proin pharetra nonummy pede. \n",
      "\n",
      "Mauris et orci. \n",
      "\n",
      "Aenean nec lorem. \n",
      "\n",
      "In porttitor. \n",
      "\n",
      "Donec laoreet nonummy augue. \n",
      "\n",
      "Suspendisse dui purus, scelerisque at, vulputate vitae, pretium mattis, nunc. \n",
      "\n",
      "Mauris eget neque at sem venenatis eleifend.\n",
      "\n"
     ]
    }
   ],
   "source": [
    "with open(\"data/lorem.txt\") as f:\n",
    "    for line in f:\n",
    "        print(line)\n",
    "    "
   ]
  },
  {
   "cell_type": "code",
   "execution_count": 44,
   "id": "57afce7d",
   "metadata": {},
   "outputs": [
    {
     "name": "stdout",
     "output_type": "stream",
     "text": [
      "The first line is: \n",
      "\tLorem ipsum dolor sit amet, consectetuer adipiscing elit. Maecenas porttitor congue massa. \n",
      "\n"
     ]
    }
   ],
   "source": [
    "with open(\"data/lorem.txt\") as f:\n",
    "    line = f.readline()\n",
    "    print(f\"The first line is: \\n\\t{line}\")\n",
    "    "
   ]
  },
  {
   "cell_type": "markdown",
   "id": "c7851bc4",
   "metadata": {},
   "source": [
    "We can also use the **.split()** method to split a string into individual words."
   ]
  },
  {
   "cell_type": "code",
   "execution_count": 45,
   "id": "6a3fcc22",
   "metadata": {},
   "outputs": [
    {
     "name": "stdout",
     "output_type": "stream",
     "text": [
      "The first line is: \n",
      "\tLorem ipsum dolor sit amet, consectetuer adipiscing elit. Maecenas porttitor congue massa. \n",
      "\n",
      "The first word is: 'Lorem'\n"
     ]
    }
   ],
   "source": [
    "with open(\"data/lorem.txt\") as f:\n",
    "    line = f.readline()\n",
    "    words = line.split()\n",
    "    print(f\"The first line is: \\n\\t{line}\")\n",
    "    print(f\"The first word is: '{words[0]}'\")\n",
    "    "
   ]
  },
  {
   "cell_type": "markdown",
   "id": "9eda02fc",
   "metadata": {},
   "source": [
    "## Writing to a file\n",
    "\n",
    "So far we've opened the file for reading, which is the default.  We can pass a second 'mode' argument to the **open** function to specify what we want to do with the file.\n",
    "\n",
    "The possibilities are:\n",
    "\n",
    "|mode symbol| Meaning|\n",
    "|-----------|:-------|\n",
    "|r          |Read|\n",
    "|w          |Write (this will erase any existing file with this name).|\n",
    "|a          |Append (data will be written at the end of an existing file|\n",
    "|r+         |Read and write|\n",
    "\n",
    "In addition you can append a \"b\" to the mode to specify that it is a binary file rather than a text file.  If it's a text file (the default) line endings will be converted to newlines (\\\\n) --- Windows uses a carriage return followed a newline (\\\\r\\\\n) in its text files. Similarly when writing it will convert newlines to the platform-specific line ending.  Setting the mode to binary prevents this conversion from happening, so avoids corruption of binary files."
   ]
  },
  {
   "cell_type": "code",
   "execution_count": 46,
   "id": "be44acb5",
   "metadata": {},
   "outputs": [],
   "source": [
    "with open(\"newfile.txt\", \"w\") as f:\n",
    "    f.write(\"A first line\\n\")\n",
    "    f.write(\"A second line\\n\")"
   ]
  },
  {
   "cell_type": "markdown",
   "id": "40ac5f6c",
   "metadata": {},
   "source": [
    "## CSV files\n",
    "\n",
    "There is a standard Python library for dealing with CSV files."
   ]
  },
  {
   "cell_type": "code",
   "execution_count": 47,
   "id": "9a82a241",
   "metadata": {},
   "outputs": [],
   "source": [
    "import csv"
   ]
  },
  {
   "cell_type": "code",
   "execution_count": 48,
   "id": "d4687dfe",
   "metadata": {},
   "outputs": [
    {
     "name": "stdout",
     "output_type": "stream",
     "text": [
      "['50.3517896', '123.6495128']\n",
      "['50.45255418', '123.5986666']\n",
      "['51.50553258', '124.9399658']\n",
      "['42.20666562', '107.2815025']\n",
      "['49.27482836', '121.4525277']\n",
      "['56.55078855', '134.6298668']\n",
      "['52.48216726', '129.7236145']\n",
      "['44.89864176', '112.9609078']\n",
      "['54.65476358', '132.4543008']\n",
      "['58.89295514', '141.6328837']\n",
      "['50.55067454', '125.0597947']\n",
      "['59.66646465', '143.1044854']\n",
      "['53.69697921', '130.5292128']\n",
      "['49.95601359', '122.1277307']\n",
      "['46.28958975', '115.9963129']\n",
      "['39.43666433', '100.6770527']\n",
      "['38.3942892', '99.28664503']\n",
      "['51.38637471', '127.6244957']\n",
      "['46.61693519', '115.618257']\n",
      "['44.96374067', '113.6807404']\n",
      "['46.25737425', '115.7281136']\n"
     ]
    }
   ],
   "source": [
    "with open(\"data/random2.csv\", \"r\", newline='') as f:\n",
    "    reader = csv.reader(f)\n",
    "    for row in reader:\n",
    "        print(row)"
   ]
  }
 ],
 "metadata": {
  "kernelspec": {
   "display_name": "Python [conda env:working]",
   "language": "python",
   "name": "conda-env-working-py"
  },
  "language_info": {
   "codemirror_mode": {
    "name": "ipython",
    "version": 3
   },
   "file_extension": ".py",
   "mimetype": "text/x-python",
   "name": "python",
   "nbconvert_exporter": "python",
   "pygments_lexer": "ipython3",
   "version": "3.10.2"
  }
 },
 "nbformat": 4,
 "nbformat_minor": 5
}
