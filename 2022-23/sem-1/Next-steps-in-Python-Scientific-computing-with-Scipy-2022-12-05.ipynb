{
 "cells": [
  {
   "cell_type": "code",
   "execution_count": 1,
   "id": "2aec9ee2",
   "metadata": {},
   "outputs": [],
   "source": [
    "import numpy as np\n",
    "import matplotlib.pyplot as plt\n",
    "import scipy as sp"
   ]
  },
  {
   "cell_type": "markdown",
   "id": "6acab274",
   "metadata": {},
   "source": [
    "# Optimisation\n",
    "\n",
    "## Minimisation"
   ]
  },
  {
   "cell_type": "markdown",
   "id": "c6f178b3",
   "metadata": {},
   "source": [
    "$f(x) = x^2 -6x + 12$"
   ]
  },
  {
   "cell_type": "code",
   "execution_count": 2,
   "id": "5bee54e4",
   "metadata": {},
   "outputs": [],
   "source": [
    "from scipy.optimize import minimize"
   ]
  },
  {
   "cell_type": "code",
   "execution_count": 3,
   "id": "be6c6267",
   "metadata": {},
   "outputs": [
    {
     "data": {
      "text/plain": [
       "      fun: 3.0000000000000018\n",
       " hess_inv: array([[0.5]])\n",
       "      jac: array([0.])\n",
       "  message: 'Optimization terminated successfully.'\n",
       "     nfev: 6\n",
       "      nit: 2\n",
       "     njev: 3\n",
       "   status: 0\n",
       "  success: True\n",
       "        x: array([3.00000001])"
      ]
     },
     "execution_count": 3,
     "metadata": {},
     "output_type": "execute_result"
    }
   ],
   "source": [
    "def f(x):\n",
    "    return x**2 - 6*x + 12\n",
    "\n",
    "result = minimize(f, x0=2)\n",
    "\n",
    "result"
   ]
  },
  {
   "cell_type": "code",
   "execution_count": 4,
   "id": "e0ef17fc",
   "metadata": {},
   "outputs": [
    {
     "data": {
      "text/plain": [
       "3.0000000000000018"
      ]
     },
     "execution_count": 4,
     "metadata": {},
     "output_type": "execute_result"
    }
   ],
   "source": [
    "result[\"fun\"]"
   ]
  },
  {
   "cell_type": "code",
   "execution_count": 5,
   "id": "e2389acc",
   "metadata": {},
   "outputs": [
    {
     "data": {
      "text/plain": [
       "True"
      ]
     },
     "execution_count": 5,
     "metadata": {},
     "output_type": "execute_result"
    }
   ],
   "source": [
    "result[\"success\"]"
   ]
  },
  {
   "cell_type": "code",
   "execution_count": 6,
   "id": "ce880010",
   "metadata": {},
   "outputs": [
    {
     "data": {
      "text/plain": [
       "3.0000000000000018"
      ]
     },
     "execution_count": 6,
     "metadata": {},
     "output_type": "execute_result"
    }
   ],
   "source": [
    "result.fun"
   ]
  },
  {
   "cell_type": "code",
   "execution_count": 7,
   "id": "a35d5651",
   "metadata": {},
   "outputs": [
    {
     "data": {
      "text/plain": [
       "array([3.00000001])"
      ]
     },
     "execution_count": 7,
     "metadata": {},
     "output_type": "execute_result"
    }
   ],
   "source": [
    "result.x"
   ]
  },
  {
   "cell_type": "code",
   "execution_count": 8,
   "id": "f5c31bcb",
   "metadata": {},
   "outputs": [
    {
     "data": {
      "text/plain": [
       "3"
      ]
     },
     "execution_count": 8,
     "metadata": {},
     "output_type": "execute_result"
    }
   ],
   "source": [
    "f(3)"
   ]
  },
  {
   "cell_type": "code",
   "execution_count": 9,
   "id": "b6c8288e",
   "metadata": {},
   "outputs": [],
   "source": [
    "x = np.linspace(0,10,101)"
   ]
  },
  {
   "cell_type": "code",
   "execution_count": 10,
   "id": "7f02ba35",
   "metadata": {},
   "outputs": [],
   "source": [
    "y = f(x)"
   ]
  },
  {
   "cell_type": "code",
   "execution_count": 11,
   "id": "7fa6af78",
   "metadata": {},
   "outputs": [
    {
     "data": {
      "text/plain": [
       "array([12.  , 11.41, 10.84, 10.29,  9.76,  9.25,  8.76,  8.29,  7.84,\n",
       "        7.41,  7.  ,  6.61,  6.24,  5.89,  5.56,  5.25,  4.96,  4.69,\n",
       "        4.44,  4.21,  4.  ,  3.81,  3.64,  3.49,  3.36,  3.25,  3.16,\n",
       "        3.09,  3.04,  3.01,  3.  ,  3.01,  3.04,  3.09,  3.16,  3.25,\n",
       "        3.36,  3.49,  3.64,  3.81,  4.  ,  4.21,  4.44,  4.69,  4.96,\n",
       "        5.25,  5.56,  5.89,  6.24,  6.61,  7.  ,  7.41,  7.84,  8.29,\n",
       "        8.76,  9.25,  9.76, 10.29, 10.84, 11.41, 12.  , 12.61, 13.24,\n",
       "       13.89, 14.56, 15.25, 15.96, 16.69, 17.44, 18.21, 19.  , 19.81,\n",
       "       20.64, 21.49, 22.36, 23.25, 24.16, 25.09, 26.04, 27.01, 28.  ,\n",
       "       29.01, 30.04, 31.09, 32.16, 33.25, 34.36, 35.49, 36.64, 37.81,\n",
       "       39.  , 40.21, 41.44, 42.69, 43.96, 45.25, 46.56, 47.89, 49.24,\n",
       "       50.61, 52.  ])"
      ]
     },
     "execution_count": 11,
     "metadata": {},
     "output_type": "execute_result"
    }
   ],
   "source": [
    "y"
   ]
  },
  {
   "cell_type": "code",
   "execution_count": 12,
   "id": "df3d4d1a",
   "metadata": {},
   "outputs": [
    {
     "data": {
      "text/plain": [
       "[<matplotlib.lines.Line2D at 0x1861ed1c280>]"
      ]
     },
     "execution_count": 12,
     "metadata": {},
     "output_type": "execute_result"
    },
    {
     "data": {
      "image/png": "[encoded data removed]",
      "text/plain": [
       "<Figure size 640x480 with 1 Axes>"
      ]
     },
     "metadata": {},
     "output_type": "display_data"
    }
   ],
   "source": [
    "plt.plot(x,y)"
   ]
  },
  {
   "cell_type": "markdown",
   "id": "2e5b1dab",
   "metadata": {},
   "source": [
    "Minimise $f(x,y) = 2(x-3)^2 + (y-5)^2$ subject to\n",
    "\n",
    "$$ x \\geq 0 $$\n",
    "$$ y \\geq 0 $$\n",
    "$$ -x + y + 1\\geq 0$$\n",
    "$$ x - y  + 1\\geq 0$$"
   ]
  },
  {
   "cell_type": "code",
   "execution_count": 13,
   "id": "e9f4f143",
   "metadata": {},
   "outputs": [
    {
     "data": {
      "text/plain": [
       "array([[-7. , -6.8, -6.6, ..., 12.6, 12.8, 13. ],\n",
       "       [-7. , -6.8, -6.6, ..., 12.6, 12.8, 13. ],\n",
       "       [-7. , -6.8, -6.6, ..., 12.6, 12.8, 13. ],\n",
       "       ...,\n",
       "       [-7. , -6.8, -6.6, ..., 12.6, 12.8, 13. ],\n",
       "       [-7. , -6.8, -6.6, ..., 12.6, 12.8, 13. ],\n",
       "       [-7. , -6.8, -6.6, ..., 12.6, 12.8, 13. ]])"
      ]
     },
     "execution_count": 13,
     "metadata": {},
     "output_type": "execute_result"
    }
   ],
   "source": [
    "def f(x,y):\n",
    "    return 2*(x-3)**2 + (y-5)**2\n",
    "\n",
    "x = np.linspace(-7,13,101)\n",
    "y = np.linspace(-5,15,101)\n",
    "\n",
    "xx, yy = np.meshgrid(x,y)\n",
    "\n",
    "xx"
   ]
  },
  {
   "cell_type": "code",
   "execution_count": 14,
   "id": "b61ce0fa",
   "metadata": {},
   "outputs": [
    {
     "data": {
      "text/plain": [
       "-5.6"
      ]
     },
     "execution_count": 14,
     "metadata": {},
     "output_type": "execute_result"
    }
   ],
   "source": [
    "xx[3,7]"
   ]
  },
  {
   "cell_type": "code",
   "execution_count": 15,
   "id": "389bc193",
   "metadata": {},
   "outputs": [
    {
     "data": {
      "text/plain": [
       "-4.4"
      ]
     },
     "execution_count": 15,
     "metadata": {},
     "output_type": "execute_result"
    }
   ],
   "source": [
    "yy[3,7]"
   ]
  },
  {
   "cell_type": "code",
   "execution_count": 16,
   "id": "3462f32c",
   "metadata": {},
   "outputs": [
    {
     "data": {
      "text/plain": [
       "-5.6"
      ]
     },
     "execution_count": 16,
     "metadata": {},
     "output_type": "execute_result"
    }
   ],
   "source": [
    "x[7]"
   ]
  },
  {
   "cell_type": "code",
   "execution_count": 17,
   "id": "302e5b32",
   "metadata": {},
   "outputs": [
    {
     "data": {
      "text/plain": [
       "-4.4"
      ]
     },
     "execution_count": 17,
     "metadata": {},
     "output_type": "execute_result"
    }
   ],
   "source": [
    "y[3]"
   ]
  },
  {
   "cell_type": "code",
   "execution_count": 18,
   "id": "1fb7a6ca",
   "metadata": {},
   "outputs": [
    {
     "data": {
      "text/plain": [
       "array([-7. , -6.8, -6.6, -6.4, -6.2, -6. , -5.8, -5.6, -5.4, -5.2, -5. ,\n",
       "       -4.8, -4.6, -4.4, -4.2, -4. , -3.8, -3.6, -3.4, -3.2])"
      ]
     },
     "execution_count": 18,
     "metadata": {},
     "output_type": "execute_result"
    }
   ],
   "source": [
    "x[:20]"
   ]
  },
  {
   "cell_type": "code",
   "execution_count": 19,
   "id": "f2ac133e",
   "metadata": {},
   "outputs": [
    {
     "data": {
      "text/plain": [
       "array([-5. , -4.8, -4.6, -4.4, -4.2, -4. , -3.8, -3.6, -3.4, -3.2, -3. ,\n",
       "       -2.8, -2.6, -2.4, -2.2, -2. , -1.8, -1.6, -1.4, -1.2])"
      ]
     },
     "execution_count": 19,
     "metadata": {},
     "output_type": "execute_result"
    }
   ],
   "source": [
    "y[:20]"
   ]
  },
  {
   "cell_type": "code",
   "execution_count": 20,
   "id": "b93107b9",
   "metadata": {},
   "outputs": [
    {
     "data": {
      "text/plain": [
       "array([[-5. , -5. , -5. , -5. , -5. , -5. , -5. , -5. , -5. , -5. ],\n",
       "       [-4.8, -4.8, -4.8, -4.8, -4.8, -4.8, -4.8, -4.8, -4.8, -4.8],\n",
       "       [-4.6, -4.6, -4.6, -4.6, -4.6, -4.6, -4.6, -4.6, -4.6, -4.6],\n",
       "       [-4.4, -4.4, -4.4, -4.4, -4.4, -4.4, -4.4, -4.4, -4.4, -4.4],\n",
       "       [-4.2, -4.2, -4.2, -4.2, -4.2, -4.2, -4.2, -4.2, -4.2, -4.2],\n",
       "       [-4. , -4. , -4. , -4. , -4. , -4. , -4. , -4. , -4. , -4. ],\n",
       "       [-3.8, -3.8, -3.8, -3.8, -3.8, -3.8, -3.8, -3.8, -3.8, -3.8],\n",
       "       [-3.6, -3.6, -3.6, -3.6, -3.6, -3.6, -3.6, -3.6, -3.6, -3.6],\n",
       "       [-3.4, -3.4, -3.4, -3.4, -3.4, -3.4, -3.4, -3.4, -3.4, -3.4],\n",
       "       [-3.2, -3.2, -3.2, -3.2, -3.2, -3.2, -3.2, -3.2, -3.2, -3.2]])"
      ]
     },
     "execution_count": 20,
     "metadata": {},
     "output_type": "execute_result"
    }
   ],
   "source": [
    "yy[:10,:10]"
   ]
  },
  {
   "cell_type": "code",
   "execution_count": 21,
   "id": "c00889be",
   "metadata": {},
   "outputs": [],
   "source": [
    "z = f(xx,yy)\n"
   ]
  },
  {
   "cell_type": "code",
   "execution_count": 22,
   "id": "d92911c8",
   "metadata": {},
   "outputs": [
    {
     "data": {
      "text/plain": [
       "array([[300.  , 292.08, 284.32, 276.72, 269.28, 262.  , 254.88, 247.92,\n",
       "        241.12, 234.48],\n",
       "       [296.04, 288.12, 280.36, 272.76, 265.32, 258.04, 250.92, 243.96,\n",
       "        237.16, 230.52],\n",
       "       [292.16, 284.24, 276.48, 268.88, 261.44, 254.16, 247.04, 240.08,\n",
       "        233.28, 226.64],\n",
       "       [288.36, 280.44, 272.68, 265.08, 257.64, 250.36, 243.24, 236.28,\n",
       "        229.48, 222.84],\n",
       "       [284.64, 276.72, 268.96, 261.36, 253.92, 246.64, 239.52, 232.56,\n",
       "        225.76, 219.12],\n",
       "       [281.  , 273.08, 265.32, 257.72, 250.28, 243.  , 235.88, 228.92,\n",
       "        222.12, 215.48],\n",
       "       [277.44, 269.52, 261.76, 254.16, 246.72, 239.44, 232.32, 225.36,\n",
       "        218.56, 211.92],\n",
       "       [273.96, 266.04, 258.28, 250.68, 243.24, 235.96, 228.84, 221.88,\n",
       "        215.08, 208.44],\n",
       "       [270.56, 262.64, 254.88, 247.28, 239.84, 232.56, 225.44, 218.48,\n",
       "        211.68, 205.04],\n",
       "       [267.24, 259.32, 251.56, 243.96, 236.52, 229.24, 222.12, 215.16,\n",
       "        208.36, 201.72]])"
      ]
     },
     "execution_count": 22,
     "metadata": {},
     "output_type": "execute_result"
    }
   ],
   "source": [
    "z[:10,:10]"
   ]
  },
  {
   "cell_type": "code",
   "execution_count": 23,
   "id": "cc131cd0",
   "metadata": {},
   "outputs": [
    {
     "data": {
      "text/plain": [
       "<matplotlib.lines._AxLine at 0x1861f3d55b0>"
      ]
     },
     "execution_count": 23,
     "metadata": {},
     "output_type": "execute_result"
    },
    {
     "data": {
      "image/png": "[encoded data removed]",
      "text/plain": [
       "<Figure size 640x480 with 2 Axes>"
      ]
     },
     "metadata": {},
     "output_type": "display_data"
    }
   ],
   "source": [
    "fig, ax = plt.subplots()\n",
    "\n",
    "cp = ax.contour(xx,yy,z)\n",
    "fig.colorbar(cp)\n",
    "\n",
    "ax.axline((0,1), slope=1)\n",
    "ax.axline((0,-1), slope=1)\n"
   ]
  },
  {
   "cell_type": "markdown",
   "id": "ed4403df",
   "metadata": {},
   "source": [
    "Minimise $f(x,y) = 2(x-3)^2 + (y-5)^2$ subject to\n",
    "\n",
    "$$ x \\geq 0 $$\n",
    "$$ y \\geq 0 $$\n",
    "$$ -x + y + 1\\geq 0$$\n",
    "$$ x - y  + 1\\geq 0$$"
   ]
  },
  {
   "cell_type": "code",
   "execution_count": 24,
   "id": "b26b8a31",
   "metadata": {},
   "outputs": [
    {
     "data": {
      "text/plain": [
       "     fun: 32.666666666669435\n",
       "     jac: array([-9.33333349, -9.33333349])\n",
       " message: 'Optimization terminated successfully'\n",
       "    nfev: 12\n",
       "     nit: 4\n",
       "    njev: 4\n",
       "  status: 0\n",
       " success: True\n",
       "       x: array([0.66666666, 0.33333334])"
      ]
     },
     "execution_count": 24,
     "metadata": {},
     "output_type": "execute_result"
    }
   ],
   "source": [
    "def f(x):\n",
    "    return 2*(x[0]-3)**2 + (x[1]-5)**2\n",
    "\n",
    "constraints = ({'type': 'ineq', 'fun': lambda x: -x[0] + x[1] + 1},\n",
    "               {'type': 'ineq', 'fun': lambda x: -x[0] - x[1] + 1})\n",
    "\n",
    "bounds = ((0, None), (0, None))\n",
    "\n",
    "result = minimize(f, (2,0), bounds = bounds, constraints = constraints)\n",
    "\n",
    "result               "
   ]
  },
  {
   "cell_type": "code",
   "execution_count": 25,
   "id": "f36ff4ab",
   "metadata": {},
   "outputs": [
    {
     "data": {
      "text/plain": [
       "      fun: 2.4553418219368562e-12\n",
       " hess_inv: <2x2 LbfgsInvHessProduct with dtype=float64>\n",
       "      jac: array([4.59118899e-07, 3.12848594e-06])\n",
       "  message: 'CONVERGENCE: NORM_OF_PROJECTED_GRADIENT_<=_PGTOL'\n",
       "     nfev: 18\n",
       "      nit: 5\n",
       "     njev: 6\n",
       "   status: 0\n",
       "  success: True\n",
       "        x: array([3.00000011, 5.00000156])"
      ]
     },
     "execution_count": 25,
     "metadata": {},
     "output_type": "execute_result"
    }
   ],
   "source": [
    "result = minimize(f, (2,0), bounds = bounds)\n",
    "\n",
    "result               "
   ]
  },
  {
   "cell_type": "markdown",
   "id": "c68a6322",
   "metadata": {},
   "source": [
    "## Linear programming\n",
    "\n",
    "Consider solving:\n",
    "\n",
    "$$ \\min_{x_0, x_1} \\quad -x_0 + 4x_1 \\quad \\textrm{such that}$$\n",
    "\n",
    "\n",
    "\\begin{align} \n",
    "- 3 x_0 + x_1 &\\leq 6,\\\\\n",
    "- x_0 - 2x_1 &\\geq -4,\\\\\n",
    "x_1 &\\geq -3\n",
    "\\end{align}\n"
   ]
  },
  {
   "cell_type": "code",
   "execution_count": 26,
   "id": "047d92d7",
   "metadata": {},
   "outputs": [],
   "source": [
    "from scipy.optimize import linprog"
   ]
  },
  {
   "cell_type": "code",
   "execution_count": 27,
   "id": "e0264bc0",
   "metadata": {},
   "outputs": [],
   "source": [
    "c = [-1, 4]\n",
    "A = [[-3, 1], [1, 2]]\n",
    "b = [6, 4]\n",
    "\n",
    "x0_bounds = (None, None)\n",
    "x1_bounds = (-3, None)\n",
    "\n",
    "result = linprog(c, A_ub=A, b_ub=b, bounds=[x0_bounds, x1_bounds])"
   ]
  },
  {
   "cell_type": "code",
   "execution_count": 28,
   "id": "1c77425f",
   "metadata": {},
   "outputs": [
    {
     "data": {
      "text/plain": [
       "           con: array([], dtype=float64)\n",
       " crossover_nit: 0\n",
       "         eqlin:  marginals: array([], dtype=float64)\n",
       "  residual: array([], dtype=float64)\n",
       "           fun: -22.0\n",
       "       ineqlin:  marginals: array([-0., -1.])\n",
       "  residual: array([39.,  0.])\n",
       "         lower:  marginals: array([0., 6.])\n",
       "  residual: array([inf,  0.])\n",
       "       message: 'Optimization terminated successfully. (HiGHS Status 7: Optimal)'\n",
       "           nit: 0\n",
       "         slack: array([39.,  0.])\n",
       "        status: 0\n",
       "       success: True\n",
       "         upper:  marginals: array([0., 0.])\n",
       "  residual: array([inf, inf])\n",
       "             x: array([10., -3.])"
      ]
     },
     "execution_count": 28,
     "metadata": {},
     "output_type": "execute_result"
    }
   ],
   "source": [
    "result"
   ]
  },
  {
   "cell_type": "code",
   "execution_count": 29,
   "id": "665a03b3",
   "metadata": {},
   "outputs": [
    {
     "data": {
      "text/plain": [
       "<matplotlib.collections.PathCollection at 0x186205da340>"
      ]
     },
     "execution_count": 29,
     "metadata": {},
     "output_type": "execute_result"
    },
    {
     "data": {
      "image/png": "[encoded data removed]",
      "text/plain": [
       "<Figure size 640x480 with 1 Axes>"
      ]
     },
     "metadata": {},
     "output_type": "display_data"
    }
   ],
   "source": [
    "x = np.linspace(0,10,11)\n",
    "\n",
    "y = x**2*np.cos(x)\n",
    "\n",
    "plt.scatter(x,y)"
   ]
  },
  {
   "cell_type": "code",
   "execution_count": 30,
   "id": "e3839a08",
   "metadata": {},
   "outputs": [
    {
     "data": {
      "text/plain": [
       "<matplotlib.collections.PathCollection at 0x18620731a60>"
      ]
     },
     "execution_count": 30,
     "metadata": {},
     "output_type": "execute_result"
    },
    {
     "data": {
      "image/png": "[encoded data removed]",
      "text/plain": [
       "<Figure size 640x480 with 1 Axes>"
      ]
     },
     "metadata": {},
     "output_type": "display_data"
    }
   ],
   "source": [
    "from scipy.interpolate import interp1d\n",
    "\n",
    "f = interp1d(x, y, kind='linear')\n",
    "\n",
    "x_dense = np.linspace(0,10,101)\n",
    "\n",
    "y_dense = f(x_dense)\n",
    "\n",
    "plt.plot(x_dense, y_dense)\n",
    "plt.scatter(x,y)"
   ]
  },
  {
   "cell_type": "code",
   "execution_count": 31,
   "id": "24399ff0",
   "metadata": {},
   "outputs": [
    {
     "data": {
      "text/plain": [
       "<matplotlib.collections.PathCollection at 0x18620762730>"
      ]
     },
     "execution_count": 31,
     "metadata": {},
     "output_type": "execute_result"
    },
    {
     "data": {
      "image/png": "[encoded data removed]",
      "text/plain": [
       "<Figure size 640x480 with 1 Axes>"
      ]
     },
     "metadata": {},
     "output_type": "display_data"
    }
   ],
   "source": [
    "f = interp1d(x, y, kind='quadratic')\n",
    "\n",
    "x_dense = np.linspace(0,10,101)\n",
    "\n",
    "y_dense = f(x_dense)\n",
    "\n",
    "plt.plot(x_dense, y_dense)\n",
    "plt.scatter(x,y)"
   ]
  },
  {
   "cell_type": "code",
   "execution_count": 32,
   "id": "84f9a57a",
   "metadata": {},
   "outputs": [
    {
     "data": {
      "text/plain": [
       "<matplotlib.collections.PathCollection at 0x186207d0550>"
      ]
     },
     "execution_count": 32,
     "metadata": {},
     "output_type": "execute_result"
    },
    {
     "data": {
      "image/png": "[encoded data removed]",
      "text/plain": [
       "<Figure size 640x480 with 1 Axes>"
      ]
     },
     "metadata": {},
     "output_type": "display_data"
    }
   ],
   "source": [
    "f = interp1d(x, y, kind='cubic')\n",
    "\n",
    "x_dense = np.linspace(0,10,101)\n",
    "\n",
    "y_dense = f(x_dense)\n",
    "\n",
    "plt.plot(x_dense, y_dense)\n",
    "plt.scatter(x,y)"
   ]
  },
  {
   "cell_type": "markdown",
   "id": "826a19a9",
   "metadata": {},
   "source": [
    "# Calculus"
   ]
  },
  {
   "cell_type": "markdown",
   "id": "775b4a5a",
   "metadata": {},
   "source": [
    "## Integration"
   ]
  },
  {
   "cell_type": "markdown",
   "id": "231819ca",
   "metadata": {},
   "source": [
    "Single integrals\n",
    "\n",
    "$$ \\int_0^{1} x^2 e^{-x^2} dx $$"
   ]
  },
  {
   "cell_type": "code",
   "execution_count": 33,
   "id": "dd127b1c",
   "metadata": {},
   "outputs": [],
   "source": [
    "from scipy.integrate import quad"
   ]
  },
  {
   "cell_type": "code",
   "execution_count": 34,
   "id": "efb4c859",
   "metadata": {},
   "outputs": [],
   "source": [
    "def f(x):\n",
    "    return x**2*np.exp(-x**2)"
   ]
  },
  {
   "cell_type": "code",
   "execution_count": 35,
   "id": "8db59f39",
   "metadata": {},
   "outputs": [
    {
     "data": {
      "text/plain": [
       "(0.18947234582049235, 2.1035656085965068e-15)"
      ]
     },
     "execution_count": 35,
     "metadata": {},
     "output_type": "execute_result"
    }
   ],
   "source": [
    "quad(f, 0 , 1)"
   ]
  },
  {
   "cell_type": "markdown",
   "id": "5ad8deec",
   "metadata": {},
   "source": [
    "Double integrals\n",
    "\n",
    "$$ \\int_{0}^{1} \\int_{-x}^{x^2} \\sin(x^2+y^2) dy dx $$"
   ]
  },
  {
   "cell_type": "code",
   "execution_count": 36,
   "id": "6a08b9a6",
   "metadata": {},
   "outputs": [],
   "source": [
    "from scipy.integrate import dblquad"
   ]
  },
  {
   "cell_type": "code",
   "execution_count": 37,
   "id": "b1fa6d35",
   "metadata": {},
   "outputs": [
    {
     "data": {
      "text/plain": [
       "(0.48857954782001234, 2.0752467409618487e-14)"
      ]
     },
     "execution_count": 37,
     "metadata": {},
     "output_type": "execute_result"
    }
   ],
   "source": [
    "def f(x,y):\n",
    "    return np.sin(x**2 + y**2)\n",
    "\n",
    "lwr_y = lambda x: -x\n",
    "\n",
    "#def lwr_y(x):\n",
    "#    return -x\n",
    "\n",
    "upr_y = lambda x: x**2\n",
    "\n",
    "dblquad(f, 0, 1, lwr_y, upr_y)\n"
   ]
  },
  {
   "cell_type": "markdown",
   "id": "4ab776d4",
   "metadata": {},
   "source": [
    "# Extras\n",
    "\n",
    "We didn't get to the material below"
   ]
  },
  {
   "cell_type": "markdown",
   "id": "99dd113d",
   "metadata": {},
   "source": [
    "## Differentiation"
   ]
  },
  {
   "cell_type": "code",
   "execution_count": 38,
   "id": "a9ab5325",
   "metadata": {},
   "outputs": [],
   "source": [
    "from scipy.misc import derivative"
   ]
  },
  {
   "cell_type": "code",
   "execution_count": 39,
   "id": "9b3f888c",
   "metadata": {},
   "outputs": [],
   "source": [
    "f = lambda x: x**2*np.exp(-x**2)\n",
    "\n",
    "x = np.linspace(0,1,100)"
   ]
  },
  {
   "cell_type": "code",
   "execution_count": 40,
   "id": "eb35f224",
   "metadata": {},
   "outputs": [
    {
     "data": {
      "text/plain": [
       "<matplotlib.legend.Legend at 0x1862090fac0>"
      ]
     },
     "execution_count": 40,
     "metadata": {},
     "output_type": "execute_result"
    },
    {
     "data": {
      "image/png": "[encoded data removed]",
      "text/plain": [
       "<Figure size 640x480 with 1 Axes>"
      ]
     },
     "metadata": {},
     "output_type": "display_data"
    }
   ],
   "source": [
    "plt.plot(x, f(x), label='original')\n",
    "plt.plot(x, derivative(f, x, dx=1e-6), label='1st derivative')\n",
    "plt.plot(x, derivative(f, x, dx=1e-6, n=2), label='2nd derivative')\n",
    "plt.grid()\n",
    "plt.legend()"
   ]
  },
  {
   "cell_type": "markdown",
   "id": "43abfdc1",
   "metadata": {},
   "source": [
    "## Integration"
   ]
  },
  {
   "cell_type": "markdown",
   "id": "c3616abf",
   "metadata": {},
   "source": [
    "## Differential equations"
   ]
  },
  {
   "cell_type": "markdown",
   "id": "32a690e1",
   "metadata": {},
   "source": [
    "### 1st order\n",
    "\n",
    "Air friction while falling\n",
    "\n",
    "$$ v' = 3 v^2 - 5 \\hspace{10mm} v(0)=0$$"
   ]
  },
  {
   "cell_type": "code",
   "execution_count": 41,
   "id": "b79ae99c",
   "metadata": {},
   "outputs": [],
   "source": [
    "from scipy.integrate import solve_ivp"
   ]
  },
  {
   "cell_type": "code",
   "execution_count": 42,
   "id": "e1f68b22",
   "metadata": {},
   "outputs": [],
   "source": [
    "dvdt = lambda t, v: 3*v**2 - 5\n",
    "v0 = 0"
   ]
  },
  {
   "cell_type": "code",
   "execution_count": 43,
   "id": "bfba7ebc",
   "metadata": {},
   "outputs": [],
   "source": [
    "solution = solve_ivp(dvdt, (0,1), [v0])"
   ]
  },
  {
   "cell_type": "code",
   "execution_count": 44,
   "id": "fb951588",
   "metadata": {},
   "outputs": [
    {
     "data": {
      "text/plain": [
       "  message: 'The solver successfully reached the end of the integration interval.'\n",
       "     nfev: 68\n",
       "     njev: 0\n",
       "      nlu: 0\n",
       "      sol: None\n",
       "   status: 0\n",
       "  success: True\n",
       "        t: array([0.00000000e+00, 1.00000000e-04, 1.10000000e-03, 1.11000000e-02,\n",
       "       1.11100000e-01, 2.97651518e-01, 4.63282051e-01, 6.28912583e-01,\n",
       "       8.31428184e-01, 1.00000000e+00])\n",
       " t_events: None\n",
       "        y: array([[ 0.00000000e+00, -4.99999975e-04, -5.49996673e-03,\n",
       "        -5.54658345e-02, -5.23579489e-01, -1.05701898e+00,\n",
       "        -1.22168714e+00, -1.27133864e+00, -1.28674778e+00,\n",
       "        -1.28983230e+00]])\n",
       " y_events: None"
      ]
     },
     "execution_count": 44,
     "metadata": {},
     "output_type": "execute_result"
    }
   ],
   "source": [
    "solution"
   ]
  },
  {
   "cell_type": "code",
   "execution_count": 45,
   "id": "9db52aeb",
   "metadata": {},
   "outputs": [
    {
     "data": {
      "text/plain": [
       "array([0.00000000e+00, 1.00000000e-04, 1.10000000e-03, 1.11000000e-02,\n",
       "       1.11100000e-01, 2.97651518e-01, 4.63282051e-01, 6.28912583e-01,\n",
       "       8.31428184e-01, 1.00000000e+00])"
      ]
     },
     "execution_count": 45,
     "metadata": {},
     "output_type": "execute_result"
    }
   ],
   "source": [
    "solution.t"
   ]
  },
  {
   "cell_type": "code",
   "execution_count": 46,
   "id": "de86cef9",
   "metadata": {},
   "outputs": [
    {
     "data": {
      "text/plain": [
       "array([[ 0.00000000e+00, -4.99999975e-04, -5.49996673e-03,\n",
       "        -5.54658345e-02, -5.23579489e-01, -1.05701898e+00,\n",
       "        -1.22168714e+00, -1.27133864e+00, -1.28674778e+00,\n",
       "        -1.28983230e+00]])"
      ]
     },
     "execution_count": 46,
     "metadata": {},
     "output_type": "execute_result"
    }
   ],
   "source": [
    "solution.y"
   ]
  },
  {
   "cell_type": "code",
   "execution_count": 47,
   "id": "1a7ecc73",
   "metadata": {},
   "outputs": [
    {
     "data": {
      "text/plain": [
       "array([ 0.00000000e+00, -4.99999975e-04, -5.49996673e-03, -5.54658345e-02,\n",
       "       -5.23579489e-01, -1.05701898e+00, -1.22168714e+00, -1.27133864e+00,\n",
       "       -1.28674778e+00, -1.28983230e+00])"
      ]
     },
     "execution_count": 47,
     "metadata": {},
     "output_type": "execute_result"
    }
   ],
   "source": [
    "solution.y[0]"
   ]
  },
  {
   "cell_type": "code",
   "execution_count": 48,
   "id": "14fc6dd9",
   "metadata": {},
   "outputs": [
    {
     "data": {
      "text/plain": [
       "[<matplotlib.lines.Line2D at 0x18620975850>]"
      ]
     },
     "execution_count": 48,
     "metadata": {},
     "output_type": "execute_result"
    },
    {
     "data": {
      "image/png": "[encoded data removed]",
      "text/plain": [
       "<Figure size 640x480 with 1 Axes>"
      ]
     },
     "metadata": {},
     "output_type": "display_data"
    }
   ],
   "source": [
    "plt.plot(solution.t, solution.y[0])"
   ]
  },
  {
   "cell_type": "code",
   "execution_count": 49,
   "id": "ed9d6907",
   "metadata": {},
   "outputs": [
    {
     "data": {
      "text/plain": [
       "[<matplotlib.lines.Line2D at 0x186209e0460>]"
      ]
     },
     "execution_count": 49,
     "metadata": {},
     "output_type": "execute_result"
    },
    {
     "data": {
      "image/png": "[encoded data removed]",
      "text/plain": [
       "<Figure size 640x480 with 1 Axes>"
      ]
     },
     "metadata": {},
     "output_type": "display_data"
    }
   ],
   "source": [
    "solution = solve_ivp(dvdt, (0,1), [v0], max_step=0.01)\n",
    "plt.plot(solution.t, solution.y[0])"
   ]
  },
  {
   "cell_type": "markdown",
   "id": "1cff2749",
   "metadata": {},
   "source": [
    "### Coupled 1st order ODEs"
   ]
  },
  {
   "cell_type": "markdown",
   "id": "04f7e020",
   "metadata": {},
   "source": [
    "$$ y_1' = y_1 + y_2^2 + 3x \\hspace{10mm} y_1(0)=0$$\n",
    "$$ y_2' = 3y_1 + y_2^3 - \\cos(x) \\hspace{10mm} y_2(0)=0$$\n",
    "\n",
    "Letting $Y=(y_1, y_2)$ we need to write a function that returns $dY/dx = (dy_1/dx, dy_2/dx)$. The function $dY/dx$ can take in $Y=(y_1, y_2)$ and $x$"
   ]
  },
  {
   "cell_type": "code",
   "execution_count": 50,
   "id": "6d06b30f",
   "metadata": {},
   "outputs": [],
   "source": [
    "def dYdx(x, Y):\n",
    "    y1, y2 = Y\n",
    "    dy1dx = y1 + y2**2 + 3*x\n",
    "    dy2dx = 3*y1 + y2**3 - np.cos(x)\n",
    "    return [dy1dx, \n",
    "            dy2dx]\n",
    "\n",
    "y1_0 = 0\n",
    "y2_0 = 0\n",
    "\n",
    "Y_0 = (y1_0, y2_0)"
   ]
  },
  {
   "cell_type": "code",
   "execution_count": 51,
   "id": "61741507",
   "metadata": {},
   "outputs": [],
   "source": [
    "solution = solve_ivp(dYdx, (0,1), Y_0, max_step=0.1)"
   ]
  },
  {
   "cell_type": "code",
   "execution_count": 52,
   "id": "551d5ed2",
   "metadata": {},
   "outputs": [
    {
     "data": {
      "text/plain": [
       "  message: 'The solver successfully reached the end of the integration interval.'\n",
       "     nfev: 80\n",
       "     njev: 0\n",
       "      nlu: 0\n",
       "      sol: None\n",
       "   status: 0\n",
       "  success: True\n",
       "        t: array([0.000e+00, 1.000e-04, 1.100e-03, 1.110e-02, 1.111e-01, 2.111e-01,\n",
       "       3.111e-01, 4.111e-01, 5.111e-01, 6.111e-01, 7.111e-01, 8.111e-01,\n",
       "       9.111e-01, 1.000e+00])\n",
       " t_events: None\n",
       "        y: array([[ 0.00000000e+00,  1.50008334e-08,  1.81610947e-06,\n",
       "         1.85957749e-04,  1.96783348e-02,  7.48220688e-02,\n",
       "         1.70291800e-01,  3.09686724e-01,  4.95299993e-01,\n",
       "         7.28976095e-01,  1.01484613e+00,  1.36466275e+00,\n",
       "         1.80761418e+00,  2.33732711e+00],\n",
       "       [ 0.00000000e+00, -9.99999983e-05, -1.09999778e-03,\n",
       "        -1.10977149e-02, -1.08754364e-01, -1.94583869e-01,\n",
       "        -2.56655941e-01, -2.81336187e-01, -2.53310069e-01,\n",
       "        -1.56526237e-01,  2.46500112e-02,  3.08055972e-01,\n",
       "         7.30983097e-01,  1.32591597e+00]])\n",
       " y_events: None"
      ]
     },
     "execution_count": 52,
     "metadata": {},
     "output_type": "execute_result"
    }
   ],
   "source": [
    "solution"
   ]
  },
  {
   "cell_type": "code",
   "execution_count": 53,
   "id": "226b1bab",
   "metadata": {},
   "outputs": [
    {
     "data": {
      "text/plain": [
       "<matplotlib.legend.Legend at 0x18620a455b0>"
      ]
     },
     "execution_count": 53,
     "metadata": {},
     "output_type": "execute_result"
    },
    {
     "data": {
      "image/png": "[encoded data removed]",
      "text/plain": [
       "<Figure size 640x480 with 1 Axes>"
      ]
     },
     "metadata": {},
     "output_type": "display_data"
    }
   ],
   "source": [
    "x = solution.t\n",
    "y1_sol = solution.y[0]\n",
    "y2_sol = solution.y[1]\n",
    "\n",
    "plt.plot(x, y1_sol, label=r'$y_1$')\n",
    "plt.plot(x, y2_sol, label=r'$y_2$')\n",
    "plt.legend()"
   ]
  },
  {
   "cell_type": "markdown",
   "id": "7e55f78f",
   "metadata": {},
   "source": [
    "### 2nd order"
   ]
  },
  {
   "cell_type": "markdown",
   "id": "ec6e93c7",
   "metadata": {},
   "source": [
    "Damped oscillation\n",
    "\n",
    "$$ \\ddot x + \\beta \\dot x + \\omega^2 x = 0 $$\n",
    "\n",
    "Rewrite as\n",
    "\n",
    "$$y_1 = x$$\n",
    "$$y_2 = \\dot x$$\n",
    "\n",
    "So can rewrite equation as\n",
    "\n",
    "\\begin{align} \n",
    "\\dot y_1 =&\\, y_2\\\\\n",
    "\\dot y_2 =& - \\omega^2 y_1 - \\beta y_2\n",
    "\\end{align}\n",
    "\n",
    "Let's also set the boundary conditions:\n",
    "\n",
    "$$y_1(0) = 1$$\n",
    "$$y_2(0) = 0$$\n"
   ]
  },
  {
   "cell_type": "markdown",
   "id": "55ce9825",
   "metadata": {},
   "source": [
    "Rather than hard code values of beta and omega, we can pass them in as additonal arguments to the RHS function"
   ]
  },
  {
   "cell_type": "code",
   "execution_count": 54,
   "id": "d512383e",
   "metadata": {},
   "outputs": [],
   "source": [
    "def dYdt(t, Y, beta, omega2):\n",
    "    y_1, y_2 = Y\n",
    "    dy1dt = y_2\n",
    "    dy2dt = - omega2*y_1 - beta*y_2\n",
    "    return [dy1dt, dy2dt]\n",
    "\n",
    "y_1_0 = 1\n",
    "y_2_0 = 0\n",
    "\n",
    "Y_0 = (y_1_0, y_2_0)"
   ]
  },
  {
   "cell_type": "code",
   "execution_count": 55,
   "id": "673978b6",
   "metadata": {},
   "outputs": [],
   "source": [
    "beta = 1\n",
    "omega = 2\n",
    "\n",
    "params = (beta, omega**2)"
   ]
  },
  {
   "cell_type": "code",
   "execution_count": 56,
   "id": "e46abf13",
   "metadata": {},
   "outputs": [],
   "source": [
    "solution = solve_ivp(dYdt, (0,10), Y_0, max_step=0.1, args=params)"
   ]
  },
  {
   "cell_type": "code",
   "execution_count": 57,
   "id": "f7a98985",
   "metadata": {},
   "outputs": [
    {
     "data": {
      "text/plain": [
       "<matplotlib.legend.Legend at 0x18620cdbca0>"
      ]
     },
     "execution_count": 57,
     "metadata": {},
     "output_type": "execute_result"
    },
    {
     "data": {
      "image/png": "[encoded data removed]",
      "text/plain": [
       "<Figure size 640x480 with 1 Axes>"
      ]
     },
     "metadata": {},
     "output_type": "display_data"
    }
   ],
   "source": [
    "x = solution.t\n",
    "y1_sol = solution.y[0]\n",
    "y2_sol = solution.y[1]\n",
    "\n",
    "plt.plot(x, y1_sol, label=r'$y_1$')\n",
    "plt.plot(x, y2_sol, label=r'$y_2$')\n",
    "plt.legend()"
   ]
  },
  {
   "cell_type": "markdown",
   "id": "d4395591",
   "metadata": {},
   "source": [
    "# More stuff, which we didn't get to"
   ]
  },
  {
   "cell_type": "markdown",
   "id": "640c8ec6",
   "metadata": {},
   "source": [
    "## T-test"
   ]
  },
  {
   "cell_type": "code",
   "execution_count": 58,
   "id": "63c6ac69",
   "metadata": {},
   "outputs": [],
   "source": [
    "from scipy.stats import norm\n",
    "\n",
    "group1 = norm.rvs(2, 5, 20)\n",
    "\n",
    "group2 = norm.rvs(3, 5, 20)\n",
    "\n"
   ]
  },
  {
   "cell_type": "code",
   "execution_count": 59,
   "id": "197c820b",
   "metadata": {},
   "outputs": [
    {
     "data": {
      "text/plain": [
       "array([-5.65663235, -6.79568506,  2.68693787, -1.04680381,  1.13683542,\n",
       "        6.51012594,  1.83099682,  1.56324655,  2.59245057,  8.1729639 ,\n",
       "        1.37295674,  3.66091952,  6.66749374, -0.0939363 , -3.89538938,\n",
       "       -3.43812137,  9.49303284, -2.30460273,  0.11078256,  0.20784056])"
      ]
     },
     "execution_count": 59,
     "metadata": {},
     "output_type": "execute_result"
    }
   ],
   "source": [
    "group1"
   ]
  },
  {
   "cell_type": "code",
   "execution_count": 60,
   "id": "e7d80c73",
   "metadata": {},
   "outputs": [
    {
     "data": {
      "text/plain": [
       "(1.1387706021573323, 3.171765418544589)"
      ]
     },
     "execution_count": 60,
     "metadata": {},
     "output_type": "execute_result"
    }
   ],
   "source": [
    "group1.mean(), group2.mean()"
   ]
  },
  {
   "cell_type": "code",
   "execution_count": 61,
   "id": "1ee8986d",
   "metadata": {},
   "outputs": [
    {
     "data": {
      "text/plain": [
       "<matplotlib.legend.Legend at 0x18622240070>"
      ]
     },
     "execution_count": 61,
     "metadata": {},
     "output_type": "execute_result"
    },
    {
     "data": {
      "image/png": "[encoded data removed]",
      "text/plain": [
       "<Figure size 640x480 with 1 Axes>"
      ]
     },
     "metadata": {},
     "output_type": "display_data"
    }
   ],
   "source": [
    "plt.hist(group1, alpha=0.8, label='group1')\n",
    "plt.hist(group2, alpha=0.8, label='group2')\n",
    "plt.legend()"
   ]
  },
  {
   "cell_type": "code",
   "execution_count": 62,
   "id": "3f5b4f96",
   "metadata": {},
   "outputs": [
    {
     "data": {
      "text/plain": [
       "Ttest_indResult(statistic=-1.2023718391781535, pvalue=0.2366584959285568)"
      ]
     },
     "execution_count": 62,
     "metadata": {},
     "output_type": "execute_result"
    }
   ],
   "source": [
    "from scipy import stats\n",
    "\n",
    "stats.ttest_ind(group1, group2)"
   ]
  },
  {
   "cell_type": "markdown",
   "id": "e949e6c8",
   "metadata": {},
   "source": [
    "## Linear algebra"
   ]
  },
  {
   "cell_type": "code",
   "execution_count": 63,
   "id": "adbe8663",
   "metadata": {},
   "outputs": [
    {
     "name": "stdout",
     "output_type": "stream",
     "text": [
      "[[1 2 5]\n",
      " [2 3 4]\n",
      " [1 1 2]]\n"
     ]
    }
   ],
   "source": [
    "A = np.array([[1,2,5],[2,3,4],[1,1,2]])\n",
    "\n",
    "print(A)"
   ]
  },
  {
   "cell_type": "markdown",
   "id": "371cd7f7",
   "metadata": {},
   "source": [
    "Use Numpy to calculate the transpose"
   ]
  },
  {
   "cell_type": "code",
   "execution_count": 64,
   "id": "bf082abe",
   "metadata": {},
   "outputs": [
    {
     "data": {
      "text/plain": [
       "array([[1, 2, 1],\n",
       "       [2, 3, 1],\n",
       "       [5, 4, 2]])"
      ]
     },
     "execution_count": 64,
     "metadata": {},
     "output_type": "execute_result"
    }
   ],
   "source": [
    "A.T"
   ]
  },
  {
   "cell_type": "code",
   "execution_count": 65,
   "id": "b96cad4f",
   "metadata": {},
   "outputs": [],
   "source": [
    "b = np.arange(1,4)"
   ]
  },
  {
   "cell_type": "markdown",
   "id": "8c3a2211",
   "metadata": {},
   "source": [
    "Matrix multiplication uses the @ sign."
   ]
  },
  {
   "cell_type": "code",
   "execution_count": 66,
   "id": "b84a1966",
   "metadata": {},
   "outputs": [
    {
     "data": {
      "text/plain": [
       "array([20, 20,  9])"
      ]
     },
     "execution_count": 66,
     "metadata": {},
     "output_type": "execute_result"
    }
   ],
   "source": [
    "A @ b"
   ]
  },
  {
   "cell_type": "code",
   "execution_count": 67,
   "id": "6b5a7390",
   "metadata": {},
   "outputs": [],
   "source": [
    "import scipy.linalg as linalg"
   ]
  },
  {
   "cell_type": "markdown",
   "id": "eec9d28d",
   "metadata": {},
   "source": [
    "Find the inverse"
   ]
  },
  {
   "cell_type": "code",
   "execution_count": 68,
   "id": "16d6fd2c",
   "metadata": {},
   "outputs": [
    {
     "data": {
      "text/plain": [
       "array([[-0.66666667, -0.33333333,  2.33333333],\n",
       "       [ 0.        ,  1.        , -2.        ],\n",
       "       [ 0.33333333, -0.33333333,  0.33333333]])"
      ]
     },
     "execution_count": 68,
     "metadata": {},
     "output_type": "execute_result"
    }
   ],
   "source": [
    "linalg.inv(A)"
   ]
  },
  {
   "cell_type": "markdown",
   "id": "77297b57",
   "metadata": {},
   "source": [
    "Let's check."
   ]
  },
  {
   "cell_type": "code",
   "execution_count": 69,
   "id": "ca5b17fb",
   "metadata": {},
   "outputs": [
    {
     "data": {
      "text/plain": [
       "array([[ 1.00000000e+00,  0.00000000e+00, -8.88178420e-16],\n",
       "       [ 0.00000000e+00,  1.00000000e+00,  0.00000000e+00],\n",
       "       [ 0.00000000e+00, -5.55111512e-17,  1.00000000e+00]])"
      ]
     },
     "execution_count": 69,
     "metadata": {},
     "output_type": "execute_result"
    }
   ],
   "source": [
    "linalg.inv(A) @ A"
   ]
  },
  {
   "cell_type": "code",
   "execution_count": 70,
   "id": "8d5151f7",
   "metadata": {},
   "outputs": [
    {
     "data": {
      "text/plain": [
       "array([[ 1.,  0., -0.],\n",
       "       [ 0.,  1.,  0.],\n",
       "       [ 0., -0.,  1.]])"
      ]
     },
     "execution_count": 70,
     "metadata": {},
     "output_type": "execute_result"
    }
   ],
   "source": [
    "(linalg.inv(A) @ A).round(3)"
   ]
  },
  {
   "cell_type": "markdown",
   "id": "7a0d08d1",
   "metadata": {},
   "source": [
    "Solve the system $A\\mathbf{x}=\\mathbf{b}$ for **x**\n",
    "\n",
    "First by using the inverse"
   ]
  },
  {
   "cell_type": "code",
   "execution_count": 71,
   "id": "eded10b5",
   "metadata": {
    "scrolled": true
   },
   "outputs": [
    {
     "data": {
      "text/plain": [
       "array([ 5.66666667, -4.        ,  0.66666667])"
      ]
     },
     "execution_count": 71,
     "metadata": {},
     "output_type": "execute_result"
    }
   ],
   "source": [
    "linalg.inv(A) @ b"
   ]
  },
  {
   "cell_type": "markdown",
   "id": "1bcfdc77",
   "metadata": {},
   "source": [
    "Now by solving it directly."
   ]
  },
  {
   "cell_type": "code",
   "execution_count": 72,
   "id": "8526db61",
   "metadata": {},
   "outputs": [
    {
     "data": {
      "text/plain": [
       "array([ 5.66666667, -4.        ,  0.66666667])"
      ]
     },
     "execution_count": 72,
     "metadata": {},
     "output_type": "execute_result"
    }
   ],
   "source": [
    "linalg.solve(A,b)"
   ]
  },
  {
   "cell_type": "markdown",
   "id": "bcb102a0",
   "metadata": {},
   "source": [
    "### Eigenvalues and eigenvectors"
   ]
  },
  {
   "cell_type": "code",
   "execution_count": 73,
   "id": "9473d198",
   "metadata": {},
   "outputs": [
    {
     "data": {
      "text/plain": [
       "(array([ 6.24337645+0.j, -0.82547601+0.j,  0.58209957+0.j]),\n",
       " array([[-0.58477524, -0.94044038,  0.41952173],\n",
       "        [-0.74793027,  0.22803197, -0.85436905],\n",
       "        [-0.31406724,  0.25213748,  0.30668396]]))"
      ]
     },
     "execution_count": 73,
     "metadata": {},
     "output_type": "execute_result"
    }
   ],
   "source": [
    "linalg.eig(A)"
   ]
  },
  {
   "cell_type": "markdown",
   "id": "5523fe8c",
   "metadata": {},
   "source": [
    "This has returned a tuple of the eigenvalues followed by the eigenvectors.\n",
    "\n",
    "To get the eigenvectors, we can extract the second element of the tuple."
   ]
  },
  {
   "cell_type": "code",
   "execution_count": 74,
   "id": "d747d379",
   "metadata": {},
   "outputs": [
    {
     "data": {
      "text/plain": [
       "array([[-0.58477524, -0.94044038,  0.41952173],\n",
       "       [-0.74793027,  0.22803197, -0.85436905],\n",
       "       [-0.31406724,  0.25213748,  0.30668396]])"
      ]
     },
     "execution_count": 74,
     "metadata": {},
     "output_type": "execute_result"
    }
   ],
   "source": [
    "linalg.eig(A)[1]"
   ]
  },
  {
   "cell_type": "markdown",
   "id": "d1a442d8",
   "metadata": {},
   "source": [
    "The eigenvectors are the **columns** of this array, so to extract the first eigenvector, we can take the first **row** of the **transverse**."
   ]
  },
  {
   "cell_type": "code",
   "execution_count": 75,
   "id": "ceecdcaa",
   "metadata": {},
   "outputs": [
    {
     "data": {
      "text/plain": [
       "array([-0.58477524, -0.74793027, -0.31406724])"
      ]
     },
     "execution_count": 75,
     "metadata": {},
     "output_type": "execute_result"
    }
   ],
   "source": [
    "linalg.eig(A)[1].T[0]"
   ]
  },
  {
   "cell_type": "markdown",
   "id": "3c33d1da",
   "metadata": {},
   "source": [
    "Let's check.\n",
    "\n",
    "First, multiply the first eigenvector by the matrix"
   ]
  },
  {
   "cell_type": "code",
   "execution_count": 76,
   "id": "d1f1a26e",
   "metadata": {},
   "outputs": [
    {
     "data": {
      "text/plain": [
       "array([-3.65097196, -4.66961024, -1.96083998])"
      ]
     },
     "execution_count": 76,
     "metadata": {},
     "output_type": "execute_result"
    }
   ],
   "source": [
    "A @ linalg.eig(A)[1].T[0]"
   ]
  },
  {
   "cell_type": "markdown",
   "id": "36832b54",
   "metadata": {},
   "source": [
    "Now multiply the first eigenvalue by the first eigenvector."
   ]
  },
  {
   "cell_type": "code",
   "execution_count": 77,
   "id": "194d234d",
   "metadata": {},
   "outputs": [
    {
     "data": {
      "text/plain": [
       "array([-3.65097196+0.j, -4.66961024+0.j, -1.96083998+0.j])"
      ]
     },
     "execution_count": 77,
     "metadata": {},
     "output_type": "execute_result"
    }
   ],
   "source": [
    "linalg.eig(A)[0][0] * linalg.eig(A)[1].T[0]"
   ]
  },
  {
   "cell_type": "markdown",
   "id": "b939a9f7",
   "metadata": {},
   "source": [
    "They are the same, apart from some small imaginary part due to numerical round off.  Let's just take the real part of the eigenvalue and try again."
   ]
  },
  {
   "cell_type": "code",
   "execution_count": 78,
   "id": "2ff14cf4",
   "metadata": {},
   "outputs": [
    {
     "data": {
      "text/plain": [
       "array([-3.65097196, -4.66961024, -1.96083998])"
      ]
     },
     "execution_count": 78,
     "metadata": {},
     "output_type": "execute_result"
    }
   ],
   "source": [
    "linalg.eig(A)[0][0].real * linalg.eig(A)[1].T[0]"
   ]
  },
  {
   "cell_type": "markdown",
   "id": "aeba6bf0",
   "metadata": {},
   "source": [
    "Also have sparse matrix routines"
   ]
  },
  {
   "cell_type": "markdown",
   "id": "5c35db21",
   "metadata": {},
   "source": [
    "# Curve fitting"
   ]
  },
  {
   "cell_type": "code",
   "execution_count": 79,
   "id": "6d334c59",
   "metadata": {},
   "outputs": [
    {
     "data": {
      "text/plain": [
       "<matplotlib.collections.PathCollection at 0x186222a6370>"
      ]
     },
     "execution_count": 79,
     "metadata": {},
     "output_type": "execute_result"
    },
    {
     "data": {
      "image/png": "[encoded data removed]",
      "text/plain": [
       "<Figure size 640x480 with 1 Axes>"
      ]
     },
     "metadata": {},
     "output_type": "display_data"
    }
   ],
   "source": [
    "x_data = np.linspace(-5,5,10)\n",
    "\n",
    "y_data = 3*x_data**2 - 3*x_data -5\n",
    "\n",
    "plt.scatter(x_data, y_data)"
   ]
  },
  {
   "cell_type": "markdown",
   "id": "0ea9a581",
   "metadata": {},
   "source": [
    "$ y = ax^2 + bx + c$"
   ]
  },
  {
   "cell_type": "code",
   "execution_count": 80,
   "id": "54667eee",
   "metadata": {},
   "outputs": [
    {
     "data": {
      "text/plain": [
       "array([ 3., -3., -5.])"
      ]
     },
     "execution_count": 80,
     "metadata": {},
     "output_type": "execute_result"
    }
   ],
   "source": [
    "from scipy.optimize import curve_fit\n",
    "\n",
    "f = lambda x,a,b,c: a*x**2+b*x+c\n",
    "\n",
    "popt, pcov = curve_fit(f, x_data, y_data, p0=(1,1,1))\n",
    "\n",
    "popt"
   ]
  },
  {
   "cell_type": "code",
   "execution_count": 81,
   "id": "17cdd085",
   "metadata": {},
   "outputs": [
    {
     "data": {
      "text/plain": [
       "array([[ 1.65592116e-32,  1.70084046e-40, -1.68658636e-31],\n",
       "       [ 1.70084046e-40,  1.30838219e-31, -3.50867747e-39],\n",
       "       [-1.68658636e-31, -3.50867747e-39,  3.05043092e-30]])"
      ]
     },
     "execution_count": 81,
     "metadata": {},
     "output_type": "execute_result"
    }
   ],
   "source": [
    "pcov"
   ]
  },
  {
   "cell_type": "code",
   "execution_count": 82,
   "id": "a0fc1075",
   "metadata": {},
   "outputs": [
    {
     "data": {
      "text/plain": [
       "array([[ 0.,  0., -0.],\n",
       "       [ 0.,  0., -0.],\n",
       "       [-0., -0.,  0.]])"
      ]
     },
     "execution_count": 82,
     "metadata": {},
     "output_type": "execute_result"
    }
   ],
   "source": [
    "pcov.round(3)"
   ]
  },
  {
   "cell_type": "markdown",
   "id": "90742ba7",
   "metadata": {},
   "source": [
    "Let's add some noise"
   ]
  },
  {
   "cell_type": "code",
   "execution_count": 83,
   "id": "16add3de",
   "metadata": {},
   "outputs": [
    {
     "data": {
      "text/plain": [
       "array([ 8.26944893e+01,  5.32789222e+01,  2.51946277e+01,  7.78224740e+00,\n",
       "        8.25295647e-02, -8.88143528e+00, -2.60068674e-01,  6.76111311e+00,\n",
       "        3.07530098e+01,  5.40670875e+01])"
      ]
     },
     "execution_count": 83,
     "metadata": {},
     "output_type": "execute_result"
    }
   ],
   "source": [
    "from scipy.stats import norm\n",
    "\n",
    "y_data_err = y_data+norm.rvs(0,2,10)\n",
    "\n",
    "y_data_err"
   ]
  },
  {
   "cell_type": "code",
   "execution_count": 84,
   "id": "a360a0eb",
   "metadata": {},
   "outputs": [
    {
     "data": {
      "text/plain": [
       "array([85.        , 52.03703704, 26.48148148,  8.33333333, -2.40740741,\n",
       "       -5.74074074, -1.66666667,  9.81481481, 28.7037037 , 55.        ])"
      ]
     },
     "execution_count": 84,
     "metadata": {},
     "output_type": "execute_result"
    }
   ],
   "source": [
    "y_data"
   ]
  },
  {
   "cell_type": "code",
   "execution_count": 85,
   "id": "b7ef40e4",
   "metadata": {},
   "outputs": [
    {
     "data": {
      "text/plain": [
       "(array([ 2.9740091 , -2.94865357, -5.14358119]),\n",
       " array([[ 6.88326493e-03,  5.75929215e-10, -7.01073276e-02],\n",
       "        [ 5.75929215e-10,  5.43862904e-02, -3.77713352e-09],\n",
       "        [-7.01073276e-02, -3.77713352e-09,  1.26799055e+00]]))"
      ]
     },
     "execution_count": 85,
     "metadata": {},
     "output_type": "execute_result"
    }
   ],
   "source": [
    "popt, pcov = curve_fit(f, x_data, y_data_err, p0=(1,1,1))\n",
    "\n",
    "popt, pcov"
   ]
  },
  {
   "cell_type": "markdown",
   "id": "5db3eb8f",
   "metadata": {},
   "source": [
    "# Statistics"
   ]
  },
  {
   "cell_type": "code",
   "execution_count": 86,
   "id": "f193bed6",
   "metadata": {},
   "outputs": [
    {
     "data": {
      "text/plain": [
       "DescribeResult(nobs=10, minmax=(-5.7407407407407405, 85.0), mean=25.555555555555554, variance=906.6072245084589, skewness=0.7400500214581291, kurtosis=-0.5968505871229963)"
      ]
     },
     "execution_count": 86,
     "metadata": {},
     "output_type": "execute_result"
    }
   ],
   "source": [
    "from scipy.stats import norm\n",
    "\n",
    "from scipy import stats\n",
    "\n",
    "stats.describe(y_data)"
   ]
  },
  {
   "cell_type": "code",
   "execution_count": 87,
   "id": "f063cc52",
   "metadata": {},
   "outputs": [
    {
     "data": {
      "text/plain": [
       "-2.3263478740408408"
      ]
     },
     "execution_count": 87,
     "metadata": {},
     "output_type": "execute_result"
    }
   ],
   "source": [
    "norm.ppf(0.01)"
   ]
  },
  {
   "cell_type": "markdown",
   "id": "27fa6ed3",
   "metadata": {},
   "source": [
    "## Contingency tables and $\\chi^2$"
   ]
  },
  {
   "cell_type": "code",
   "execution_count": 88,
   "id": "10e16192",
   "metadata": {},
   "outputs": [
    {
     "data": {
      "text/plain": [
       "(array(['A', 'B'], dtype='<U1'),\n",
       " array(['X', 'Y', 'Z'], dtype='<U1'),\n",
       " array([[2, 3, 0],\n",
       "        [1, 0, 4]]))"
      ]
     },
     "execution_count": 88,
     "metadata": {},
     "output_type": "execute_result"
    }
   ],
   "source": [
    "from scipy.stats.contingency import crosstab\n",
    "\n",
    "a = ['A', 'B', 'A', 'A', 'B', 'B', 'A', 'A', 'B', 'B']\n",
    "x = ['X', 'X', 'X', 'Y', 'Z', 'Z', 'Y', 'Y', 'Z', 'Z']\n",
    "\n",
    "(avals, xvals), count=crosstab(a,x)\n",
    "\n",
    "avals, xvals, count\n"
   ]
  },
  {
   "cell_type": "code",
   "execution_count": 89,
   "id": "0cc9de5a",
   "metadata": {},
   "outputs": [
    {
     "data": {
      "text/plain": [
       "(7.333333333333334,\n",
       " 0.025561533206507385,\n",
       " 2,\n",
       " array([[1.5, 1.5, 2. ],\n",
       "        [1.5, 1.5, 2. ]]))"
      ]
     },
     "execution_count": 89,
     "metadata": {},
     "output_type": "execute_result"
    }
   ],
   "source": [
    "stats.chi2_contingency(count)"
   ]
  }
 ],
 "metadata": {
  "kernelspec": {
   "display_name": "Python 3 (ipykernel)",
   "language": "python",
   "name": "python3"
  },
  "language_info": {
   "codemirror_mode": {
    "name": "ipython",
    "version": 3
   },
   "file_extension": ".py",
   "mimetype": "text/x-python",
   "name": "python",
   "nbconvert_exporter": "python",
   "pygments_lexer": "ipython3",
   "version": "3.9.13"
  }
 },
 "nbformat": 4,
 "nbformat_minor": 5
}
