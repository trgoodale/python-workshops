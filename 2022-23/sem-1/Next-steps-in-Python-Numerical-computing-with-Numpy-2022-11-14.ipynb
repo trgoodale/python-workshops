{
 "cells": [
  {
   "cell_type": "markdown",
   "id": "d3b964d8",
   "metadata": {},
   "source": [
    "# Recap on lists"
   ]
  },
  {
   "cell_type": "code",
   "execution_count": 1,
   "id": "35263d23",
   "metadata": {},
   "outputs": [],
   "source": [
    "a = [1,2,3,4,5]"
   ]
  },
  {
   "cell_type": "code",
   "execution_count": 2,
   "id": "969db447",
   "metadata": {},
   "outputs": [],
   "source": [
    "b = [6,7,8,9,10]"
   ]
  },
  {
   "cell_type": "code",
   "execution_count": 3,
   "id": "688d8ee6",
   "metadata": {},
   "outputs": [
    {
     "data": {
      "text/plain": [
       "[1, 2, 3, 4, 5, 1, 2, 3, 4, 5, 1, 2, 3, 4, 5]"
      ]
     },
     "execution_count": 3,
     "metadata": {},
     "output_type": "execute_result"
    }
   ],
   "source": [
    "a*3"
   ]
  },
  {
   "cell_type": "code",
   "execution_count": 4,
   "id": "b8922e31",
   "metadata": {},
   "outputs": [
    {
     "data": {
      "text/plain": [
       "[1, 2, 3, 4, 5, 6, 7, 8, 9, 10]"
      ]
     },
     "execution_count": 4,
     "metadata": {},
     "output_type": "execute_result"
    }
   ],
   "source": [
    "a + b"
   ]
  },
  {
   "cell_type": "markdown",
   "id": "3854e76c",
   "metadata": {},
   "source": [
    "# Numpy to the rescue"
   ]
  },
  {
   "cell_type": "code",
   "execution_count": 5,
   "id": "b75a21d1",
   "metadata": {},
   "outputs": [],
   "source": [
    "import numpy as np"
   ]
  },
  {
   "cell_type": "code",
   "execution_count": 6,
   "id": "392c4271",
   "metadata": {},
   "outputs": [],
   "source": [
    "c = np.array(a)"
   ]
  },
  {
   "cell_type": "code",
   "execution_count": 7,
   "id": "a68ad41e",
   "metadata": {},
   "outputs": [
    {
     "data": {
      "text/plain": [
       "array([1, 2, 3, 4, 5])"
      ]
     },
     "execution_count": 7,
     "metadata": {},
     "output_type": "execute_result"
    }
   ],
   "source": [
    "c"
   ]
  },
  {
   "cell_type": "code",
   "execution_count": 8,
   "id": "5363bb4a",
   "metadata": {},
   "outputs": [
    {
     "data": {
      "text/plain": [
       "numpy.ndarray"
      ]
     },
     "execution_count": 8,
     "metadata": {},
     "output_type": "execute_result"
    }
   ],
   "source": [
    "type(c)"
   ]
  },
  {
   "cell_type": "code",
   "execution_count": 9,
   "id": "cfe52367",
   "metadata": {},
   "outputs": [
    {
     "data": {
      "text/plain": [
       "array([ 3,  6,  9, 12, 15])"
      ]
     },
     "execution_count": 9,
     "metadata": {},
     "output_type": "execute_result"
    }
   ],
   "source": [
    "c*3"
   ]
  },
  {
   "cell_type": "code",
   "execution_count": 10,
   "id": "6d8a051e",
   "metadata": {},
   "outputs": [
    {
     "data": {
      "text/plain": [
       "array([3, 4, 5, 6, 7])"
      ]
     },
     "execution_count": 10,
     "metadata": {},
     "output_type": "execute_result"
    }
   ],
   "source": [
    "c+2"
   ]
  },
  {
   "cell_type": "code",
   "execution_count": 11,
   "id": "22d30e20",
   "metadata": {},
   "outputs": [
    {
     "data": {
      "text/plain": [
       "array([  1,   8,  27,  64, 125], dtype=int32)"
      ]
     },
     "execution_count": 11,
     "metadata": {},
     "output_type": "execute_result"
    }
   ],
   "source": [
    "c**3"
   ]
  },
  {
   "cell_type": "code",
   "execution_count": 12,
   "id": "4c08b38c",
   "metadata": {},
   "outputs": [
    {
     "data": {
      "text/plain": [
       "array([1.        , 0.5       , 0.33333333, 0.25      , 0.2       ])"
      ]
     },
     "execution_count": 12,
     "metadata": {},
     "output_type": "execute_result"
    }
   ],
   "source": [
    "1/c"
   ]
  },
  {
   "cell_type": "code",
   "execution_count": 13,
   "id": "9d7b8645",
   "metadata": {},
   "outputs": [
    {
     "data": {
      "text/plain": [
       "array([ 0.84147098,  0.90929743,  0.14112001, -0.7568025 , -0.95892427])"
      ]
     },
     "execution_count": 13,
     "metadata": {},
     "output_type": "execute_result"
    }
   ],
   "source": [
    "np.sin(c)"
   ]
  },
  {
   "cell_type": "code",
   "execution_count": 14,
   "id": "2160fa4f",
   "metadata": {},
   "outputs": [
    {
     "data": {
      "text/plain": [
       "0.8939966636005579"
      ]
     },
     "execution_count": 14,
     "metadata": {},
     "output_type": "execute_result"
    }
   ],
   "source": [
    "np.sin(90)"
   ]
  },
  {
   "cell_type": "code",
   "execution_count": 15,
   "id": "6b699bc5",
   "metadata": {},
   "outputs": [
    {
     "data": {
      "text/plain": [
       "1.0"
      ]
     },
     "execution_count": 15,
     "metadata": {},
     "output_type": "execute_result"
    }
   ],
   "source": [
    "np.sin(np.deg2rad(90))"
   ]
  },
  {
   "cell_type": "code",
   "execution_count": 16,
   "id": "3e97252d",
   "metadata": {},
   "outputs": [
    {
     "data": {
      "text/plain": [
       "1.5707963267948966"
      ]
     },
     "execution_count": 16,
     "metadata": {},
     "output_type": "execute_result"
    }
   ],
   "source": [
    "np.deg2rad(90)"
   ]
  },
  {
   "cell_type": "code",
   "execution_count": 17,
   "id": "29c7bba8",
   "metadata": {},
   "outputs": [
    {
     "data": {
      "text/plain": [
       "3.141592653589793"
      ]
     },
     "execution_count": 17,
     "metadata": {},
     "output_type": "execute_result"
    }
   ],
   "source": [
    "np.pi"
   ]
  },
  {
   "cell_type": "code",
   "execution_count": 18,
   "id": "5fe1ef7f",
   "metadata": {},
   "outputs": [
    {
     "data": {
      "text/plain": [
       "2.718281828459045"
      ]
     },
     "execution_count": 18,
     "metadata": {},
     "output_type": "execute_result"
    }
   ],
   "source": [
    "np.e"
   ]
  },
  {
   "cell_type": "code",
   "execution_count": 19,
   "id": "e7a3cbe4",
   "metadata": {},
   "outputs": [],
   "source": [
    "d = np.array(b)"
   ]
  },
  {
   "cell_type": "code",
   "execution_count": 20,
   "id": "fa107c6e",
   "metadata": {},
   "outputs": [
    {
     "data": {
      "text/plain": [
       "array([ 6,  7,  8,  9, 10])"
      ]
     },
     "execution_count": 20,
     "metadata": {},
     "output_type": "execute_result"
    }
   ],
   "source": [
    "d"
   ]
  },
  {
   "cell_type": "code",
   "execution_count": 21,
   "id": "e324db31",
   "metadata": {},
   "outputs": [
    {
     "data": {
      "text/plain": [
       "array([ 7,  9, 11, 13, 15])"
      ]
     },
     "execution_count": 21,
     "metadata": {},
     "output_type": "execute_result"
    }
   ],
   "source": [
    "c+d"
   ]
  },
  {
   "cell_type": "markdown",
   "id": "a8b6d6c2",
   "metadata": {},
   "source": [
    "Create an array with six elements, rather than five"
   ]
  },
  {
   "cell_type": "code",
   "execution_count": 22,
   "id": "eb989916",
   "metadata": {},
   "outputs": [],
   "source": [
    "d2 = np.array([6,7,8,9,10,11])"
   ]
  },
  {
   "cell_type": "code",
   "execution_count": 23,
   "id": "47398cdf",
   "metadata": {},
   "outputs": [
    {
     "ename": "ValueError",
     "evalue": "operands could not be broadcast together with shapes (5,) (6,) ",
     "output_type": "error",
     "traceback": [
      "\u001b[1;31m---------------------------------------------------------------------------\u001b[0m",
      "\u001b[1;31mValueError\u001b[0m                                Traceback (most recent call last)",
      "Input \u001b[1;32mIn [23]\u001b[0m, in \u001b[0;36m<cell line: 1>\u001b[1;34m()\u001b[0m\n\u001b[1;32m----> 1\u001b[0m \u001b[43mc\u001b[49m\u001b[38;5;241;43m+\u001b[39;49m\u001b[43md2\u001b[49m\n",
      "\u001b[1;31mValueError\u001b[0m: operands could not be broadcast together with shapes (5,) (6,) "
     ]
    }
   ],
   "source": [
    "c+d2"
   ]
  },
  {
   "cell_type": "markdown",
   "id": "ed6246f8",
   "metadata": {},
   "source": [
    "c has a size of 5"
   ]
  },
  {
   "cell_type": "code",
   "execution_count": 24,
   "id": "2eb5e27c",
   "metadata": {},
   "outputs": [
    {
     "data": {
      "text/plain": [
       "(5,)"
      ]
     },
     "execution_count": 24,
     "metadata": {},
     "output_type": "execute_result"
    }
   ],
   "source": [
    "c.shape"
   ]
  },
  {
   "cell_type": "code",
   "execution_count": 25,
   "id": "f7f4a01d",
   "metadata": {},
   "outputs": [
    {
     "data": {
      "text/plain": [
       "(5,)"
      ]
     },
     "execution_count": 25,
     "metadata": {},
     "output_type": "execute_result"
    }
   ],
   "source": [
    "d.shape"
   ]
  },
  {
   "cell_type": "markdown",
   "id": "8219d172",
   "metadata": {},
   "source": [
    "d2 has a size of 6"
   ]
  },
  {
   "cell_type": "code",
   "execution_count": 26,
   "id": "f5f2085c",
   "metadata": {},
   "outputs": [
    {
     "data": {
      "text/plain": [
       "(6,)"
      ]
     },
     "execution_count": 26,
     "metadata": {},
     "output_type": "execute_result"
    }
   ],
   "source": [
    "d2.shape"
   ]
  },
  {
   "cell_type": "code",
   "execution_count": 27,
   "id": "40073996",
   "metadata": {},
   "outputs": [
    {
     "data": {
      "text/plain": [
       "5"
      ]
     },
     "execution_count": 27,
     "metadata": {},
     "output_type": "execute_result"
    }
   ],
   "source": [
    "c.size"
   ]
  },
  {
   "cell_type": "markdown",
   "id": "c7f4b151",
   "metadata": {},
   "source": [
    "So can operate with c and d as they have the same size"
   ]
  },
  {
   "cell_type": "code",
   "execution_count": 28,
   "id": "68c60b69",
   "metadata": {},
   "outputs": [
    {
     "data": {
      "text/plain": [
       "array([ 6, 14, 24, 36, 50])"
      ]
     },
     "execution_count": 28,
     "metadata": {},
     "output_type": "execute_result"
    }
   ],
   "source": [
    "c*d"
   ]
  },
  {
   "cell_type": "code",
   "execution_count": 29,
   "id": "cc63905b",
   "metadata": {},
   "outputs": [
    {
     "data": {
      "text/plain": [
       "array([      1,     128,    6561,  262144, 9765625])"
      ]
     },
     "execution_count": 29,
     "metadata": {},
     "output_type": "execute_result"
    }
   ],
   "source": [
    "c**d"
   ]
  },
  {
   "cell_type": "code",
   "execution_count": 30,
   "id": "19c846ec",
   "metadata": {},
   "outputs": [
    {
     "data": {
      "text/plain": [
       "(array([1, 2, 3, 4, 5]), array([ 6,  7,  8,  9, 10]))"
      ]
     },
     "execution_count": 30,
     "metadata": {},
     "output_type": "execute_result"
    }
   ],
   "source": [
    "c,d"
   ]
  },
  {
   "cell_type": "code",
   "execution_count": 31,
   "id": "4e9c1d60",
   "metadata": {},
   "outputs": [
    {
     "data": {
      "text/plain": [
       "array([0.16666667, 0.28571429, 0.375     , 0.44444444, 0.5       ])"
      ]
     },
     "execution_count": 31,
     "metadata": {},
     "output_type": "execute_result"
    }
   ],
   "source": [
    "c/d"
   ]
  },
  {
   "cell_type": "code",
   "execution_count": 32,
   "id": "3a4946c0",
   "metadata": {},
   "outputs": [
    {
     "data": {
      "text/plain": [
       "numpy.ndarray"
      ]
     },
     "execution_count": 32,
     "metadata": {},
     "output_type": "execute_result"
    }
   ],
   "source": [
    "type(d)"
   ]
  },
  {
   "cell_type": "code",
   "execution_count": 33,
   "id": "e52c1115",
   "metadata": {},
   "outputs": [
    {
     "data": {
      "text/plain": [
       "list"
      ]
     },
     "execution_count": 33,
     "metadata": {},
     "output_type": "execute_result"
    }
   ],
   "source": [
    "type(a)"
   ]
  },
  {
   "cell_type": "code",
   "execution_count": 34,
   "id": "3724b39e",
   "metadata": {},
   "outputs": [
    {
     "data": {
      "text/plain": [
       "dtype('int32')"
      ]
     },
     "execution_count": 34,
     "metadata": {},
     "output_type": "execute_result"
    }
   ],
   "source": [
    "d.dtype"
   ]
  },
  {
   "cell_type": "code",
   "execution_count": 35,
   "id": "ac9ccb71",
   "metadata": {},
   "outputs": [
    {
     "data": {
      "text/plain": [
       "2147483648"
      ]
     },
     "execution_count": 35,
     "metadata": {},
     "output_type": "execute_result"
    }
   ],
   "source": [
    "2**31"
   ]
  },
  {
   "cell_type": "code",
   "execution_count": 36,
   "id": "787cefa4",
   "metadata": {},
   "outputs": [],
   "source": [
    "a2 = ['A', 2, True]"
   ]
  },
  {
   "cell_type": "code",
   "execution_count": 37,
   "id": "224b5393",
   "metadata": {},
   "outputs": [
    {
     "data": {
      "text/plain": [
       "['AA', 4, 2]"
      ]
     },
     "execution_count": 37,
     "metadata": {},
     "output_type": "execute_result"
    }
   ],
   "source": [
    "[d*2 for d in a2]"
   ]
  },
  {
   "cell_type": "code",
   "execution_count": 38,
   "id": "388123ab",
   "metadata": {},
   "outputs": [],
   "source": [
    "e = np.array([[1,2],[3,4],[5,6]])"
   ]
  },
  {
   "cell_type": "code",
   "execution_count": 39,
   "id": "52c8df18",
   "metadata": {},
   "outputs": [
    {
     "data": {
      "text/plain": [
       "array([[1, 2],\n",
       "       [3, 4],\n",
       "       [5, 6]])"
      ]
     },
     "execution_count": 39,
     "metadata": {},
     "output_type": "execute_result"
    }
   ],
   "source": [
    "e"
   ]
  },
  {
   "cell_type": "code",
   "execution_count": 40,
   "id": "9b27c633",
   "metadata": {},
   "outputs": [
    {
     "data": {
      "text/plain": [
       "(3, 2)"
      ]
     },
     "execution_count": 40,
     "metadata": {},
     "output_type": "execute_result"
    }
   ],
   "source": [
    "e.shape"
   ]
  },
  {
   "cell_type": "code",
   "execution_count": 41,
   "id": "769ca9e4",
   "metadata": {},
   "outputs": [
    {
     "data": {
      "text/plain": [
       "6"
      ]
     },
     "execution_count": 41,
     "metadata": {},
     "output_type": "execute_result"
    }
   ],
   "source": [
    "e.size"
   ]
  },
  {
   "cell_type": "code",
   "execution_count": 42,
   "id": "974b7be5",
   "metadata": {},
   "outputs": [
    {
     "name": "stdout",
     "output_type": "stream",
     "text": [
      "[[1 2]\n",
      " [3 4]\n",
      " [5 6]]\n"
     ]
    }
   ],
   "source": [
    "print(e)"
   ]
  },
  {
   "cell_type": "code",
   "execution_count": 43,
   "id": "99c2d52b",
   "metadata": {},
   "outputs": [
    {
     "data": {
      "text/plain": [
       "array([ 1,  4,  7, 10, 13, 16])"
      ]
     },
     "execution_count": 43,
     "metadata": {},
     "output_type": "execute_result"
    }
   ],
   "source": [
    "np.arange(1,18,3)"
   ]
  },
  {
   "cell_type": "code",
   "execution_count": 44,
   "id": "f4f762d6",
   "metadata": {},
   "outputs": [
    {
     "data": {
      "text/plain": [
       "array([ 1,  2,  3,  4,  5,  6,  7,  8,  9, 10, 11, 12, 13, 14, 15, 16, 17])"
      ]
     },
     "execution_count": 44,
     "metadata": {},
     "output_type": "execute_result"
    }
   ],
   "source": [
    "np.arange(1,18)"
   ]
  },
  {
   "cell_type": "code",
   "execution_count": 45,
   "id": "13920da8",
   "metadata": {},
   "outputs": [
    {
     "data": {
      "text/plain": [
       "array([0. , 0.1, 0.2, 0.3, 0.4, 0.5, 0.6, 0.7, 0.8, 0.9, 1. ])"
      ]
     },
     "execution_count": 45,
     "metadata": {},
     "output_type": "execute_result"
    }
   ],
   "source": [
    "np.linspace(0,1,11)"
   ]
  },
  {
   "cell_type": "code",
   "execution_count": 46,
   "id": "cf0b1a00",
   "metadata": {},
   "outputs": [],
   "source": [
    "x = np.linspace(0,10,1000)"
   ]
  },
  {
   "cell_type": "code",
   "execution_count": 47,
   "id": "de360323",
   "metadata": {},
   "outputs": [],
   "source": [
    "y = x**2"
   ]
  },
  {
   "cell_type": "code",
   "execution_count": 48,
   "id": "380fd25f",
   "metadata": {},
   "outputs": [
    {
     "data": {
      "text/plain": [
       "[<matplotlib.lines.Line2D at 0x213ca788940>]"
      ]
     },
     "execution_count": 48,
     "metadata": {},
     "output_type": "execute_result"
    },
    {
     "data": {
      "image/png": "[encoded data removed]",
      "text/plain": [
       "<Figure size 432x288 with 1 Axes>"
      ]
     },
     "metadata": {
      "needs_background": "light"
     },
     "output_type": "display_data"
    }
   ],
   "source": [
    "import matplotlib.pyplot as plt\n",
    "\n",
    "plt.plot(x,y)"
   ]
  },
  {
   "cell_type": "code",
   "execution_count": 49,
   "id": "a7bff973",
   "metadata": {},
   "outputs": [
    {
     "data": {
      "text/plain": [
       "array([1, 2, 3, 4, 5])"
      ]
     },
     "execution_count": 49,
     "metadata": {},
     "output_type": "execute_result"
    }
   ],
   "source": [
    "c"
   ]
  },
  {
   "cell_type": "code",
   "execution_count": 50,
   "id": "85b25e4f",
   "metadata": {},
   "outputs": [
    {
     "data": {
      "text/plain": [
       "1"
      ]
     },
     "execution_count": 50,
     "metadata": {},
     "output_type": "execute_result"
    }
   ],
   "source": [
    "c[0]"
   ]
  },
  {
   "cell_type": "code",
   "execution_count": 51,
   "id": "2a065a77",
   "metadata": {},
   "outputs": [
    {
     "data": {
      "text/plain": [
       "array([3, 4])"
      ]
     },
     "execution_count": 51,
     "metadata": {},
     "output_type": "execute_result"
    }
   ],
   "source": [
    "c[2:4]"
   ]
  },
  {
   "cell_type": "code",
   "execution_count": 52,
   "id": "e2993719",
   "metadata": {},
   "outputs": [
    {
     "data": {
      "text/plain": [
       "array([1, 2, 3])"
      ]
     },
     "execution_count": 52,
     "metadata": {},
     "output_type": "execute_result"
    }
   ],
   "source": [
    "c[:3]"
   ]
  },
  {
   "cell_type": "code",
   "execution_count": 53,
   "id": "e0c3331b",
   "metadata": {},
   "outputs": [
    {
     "data": {
      "text/plain": [
       "array([3, 4, 5])"
      ]
     },
     "execution_count": 53,
     "metadata": {},
     "output_type": "execute_result"
    }
   ],
   "source": [
    "c[2:]"
   ]
  },
  {
   "cell_type": "code",
   "execution_count": 54,
   "id": "65b5d82b",
   "metadata": {},
   "outputs": [
    {
     "data": {
      "text/plain": [
       "array([1, 3, 5])"
      ]
     },
     "execution_count": 54,
     "metadata": {},
     "output_type": "execute_result"
    }
   ],
   "source": [
    "c[0:5:2]"
   ]
  },
  {
   "cell_type": "markdown",
   "id": "d4e5fbc5",
   "metadata": {},
   "source": [
    "# Working with multidimensional arrays"
   ]
  },
  {
   "cell_type": "code",
   "execution_count": 55,
   "id": "eec4c4bb",
   "metadata": {},
   "outputs": [],
   "source": [
    "f = np.arange(1,31)"
   ]
  },
  {
   "cell_type": "code",
   "execution_count": 56,
   "id": "886c5dd9",
   "metadata": {},
   "outputs": [
    {
     "data": {
      "text/plain": [
       "array([ 1,  2,  3,  4,  5,  6,  7,  8,  9, 10, 11, 12, 13, 14, 15, 16, 17,\n",
       "       18, 19, 20, 21, 22, 23, 24, 25, 26, 27, 28, 29, 30])"
      ]
     },
     "execution_count": 56,
     "metadata": {},
     "output_type": "execute_result"
    }
   ],
   "source": [
    "f"
   ]
  },
  {
   "cell_type": "code",
   "execution_count": 57,
   "id": "1e35527c",
   "metadata": {},
   "outputs": [
    {
     "data": {
      "text/plain": [
       "array([[ 1,  2,  3,  4,  5,  6,  7,  8,  9, 10],\n",
       "       [11, 12, 13, 14, 15, 16, 17, 18, 19, 20],\n",
       "       [21, 22, 23, 24, 25, 26, 27, 28, 29, 30]])"
      ]
     },
     "execution_count": 57,
     "metadata": {},
     "output_type": "execute_result"
    }
   ],
   "source": [
    "f.reshape(3,10)"
   ]
  },
  {
   "cell_type": "code",
   "execution_count": 58,
   "id": "e11e1003",
   "metadata": {},
   "outputs": [
    {
     "data": {
      "text/plain": [
       "array([[ 1,  2,  3,  4,  5],\n",
       "       [ 6,  7,  8,  9, 10],\n",
       "       [11, 12, 13, 14, 15],\n",
       "       [16, 17, 18, 19, 20],\n",
       "       [21, 22, 23, 24, 25],\n",
       "       [26, 27, 28, 29, 30]])"
      ]
     },
     "execution_count": 58,
     "metadata": {},
     "output_type": "execute_result"
    }
   ],
   "source": [
    "f.reshape(6,5)"
   ]
  },
  {
   "cell_type": "code",
   "execution_count": 59,
   "id": "f28cb491",
   "metadata": {},
   "outputs": [
    {
     "data": {
      "text/plain": [
       "array([[ 1,  2,  3,  4,  5,  6,  7,  8,  9, 10, 11, 12, 13, 14, 15],\n",
       "       [16, 17, 18, 19, 20, 21, 22, 23, 24, 25, 26, 27, 28, 29, 30]])"
      ]
     },
     "execution_count": 59,
     "metadata": {},
     "output_type": "execute_result"
    }
   ],
   "source": [
    "f.reshape(2,15)"
   ]
  },
  {
   "cell_type": "code",
   "execution_count": 60,
   "id": "6f5bb99a",
   "metadata": {},
   "outputs": [
    {
     "data": {
      "text/plain": [
       "array([[[ 1,  2,  3,  4,  5],\n",
       "        [ 6,  7,  8,  9, 10],\n",
       "        [11, 12, 13, 14, 15]],\n",
       "\n",
       "       [[16, 17, 18, 19, 20],\n",
       "        [21, 22, 23, 24, 25],\n",
       "        [26, 27, 28, 29, 30]]])"
      ]
     },
     "execution_count": 60,
     "metadata": {},
     "output_type": "execute_result"
    }
   ],
   "source": [
    "f.reshape(2,3,5)"
   ]
  },
  {
   "cell_type": "code",
   "execution_count": 61,
   "id": "c543bfb2",
   "metadata": {},
   "outputs": [],
   "source": [
    "g = np.arange(1,31).reshape(5,6)"
   ]
  },
  {
   "cell_type": "code",
   "execution_count": 62,
   "id": "ae0301de",
   "metadata": {},
   "outputs": [
    {
     "data": {
      "text/plain": [
       "array([[ 1,  2,  3,  4,  5,  6],\n",
       "       [ 7,  8,  9, 10, 11, 12],\n",
       "       [13, 14, 15, 16, 17, 18],\n",
       "       [19, 20, 21, 22, 23, 24],\n",
       "       [25, 26, 27, 28, 29, 30]])"
      ]
     },
     "execution_count": 62,
     "metadata": {},
     "output_type": "execute_result"
    }
   ],
   "source": [
    "g"
   ]
  },
  {
   "cell_type": "code",
   "execution_count": 63,
   "id": "ff726a15",
   "metadata": {},
   "outputs": [
    {
     "data": {
      "text/plain": [
       "array([1, 2, 3, 4, 5, 6])"
      ]
     },
     "execution_count": 63,
     "metadata": {},
     "output_type": "execute_result"
    }
   ],
   "source": [
    "g[0]"
   ]
  },
  {
   "cell_type": "code",
   "execution_count": 64,
   "id": "981a90eb",
   "metadata": {},
   "outputs": [
    {
     "data": {
      "text/plain": [
       "array([[ 1,  2,  3,  4,  5,  6],\n",
       "       [13, 14, 15, 16, 17, 18],\n",
       "       [25, 26, 27, 28, 29, 30]])"
      ]
     },
     "execution_count": 64,
     "metadata": {},
     "output_type": "execute_result"
    }
   ],
   "source": [
    "g[::2]"
   ]
  },
  {
   "cell_type": "code",
   "execution_count": 65,
   "id": "3dd5389a",
   "metadata": {},
   "outputs": [
    {
     "data": {
      "text/plain": [
       "array([[ 1,  2,  3,  4,  5,  6],\n",
       "       [ 7,  8,  9, 10, 11, 12],\n",
       "       [13, 14, 15, 16, 17, 18],\n",
       "       [19, 20, 21, 22, 23, 24],\n",
       "       [25, 26, 27, 28, 29, 30]])"
      ]
     },
     "execution_count": 65,
     "metadata": {},
     "output_type": "execute_result"
    }
   ],
   "source": [
    "g"
   ]
  },
  {
   "cell_type": "code",
   "execution_count": 66,
   "id": "fa9d8ee7",
   "metadata": {},
   "outputs": [
    {
     "data": {
      "text/plain": [
       "23"
      ]
     },
     "execution_count": 66,
     "metadata": {},
     "output_type": "execute_result"
    }
   ],
   "source": [
    "g[3,4]"
   ]
  },
  {
   "cell_type": "code",
   "execution_count": 67,
   "id": "8ae63a6e",
   "metadata": {},
   "outputs": [
    {
     "data": {
      "text/plain": [
       "10"
      ]
     },
     "execution_count": 67,
     "metadata": {},
     "output_type": "execute_result"
    }
   ],
   "source": [
    "g[1,3]"
   ]
  },
  {
   "cell_type": "code",
   "execution_count": 68,
   "id": "c2b50bda",
   "metadata": {},
   "outputs": [
    {
     "data": {
      "text/plain": [
       "array([11, 12])"
      ]
     },
     "execution_count": 68,
     "metadata": {},
     "output_type": "execute_result"
    }
   ],
   "source": [
    "g[1,4:6]"
   ]
  },
  {
   "cell_type": "code",
   "execution_count": 69,
   "id": "660cb520",
   "metadata": {},
   "outputs": [
    {
     "data": {
      "text/plain": [
       "array([[14, 15],\n",
       "       [20, 21]])"
      ]
     },
     "execution_count": 69,
     "metadata": {},
     "output_type": "execute_result"
    }
   ],
   "source": [
    "g[2:4,1:3]"
   ]
  },
  {
   "cell_type": "code",
   "execution_count": 70,
   "id": "690a618e",
   "metadata": {},
   "outputs": [
    {
     "data": {
      "text/plain": [
       "16"
      ]
     },
     "execution_count": 70,
     "metadata": {},
     "output_type": "execute_result"
    }
   ],
   "source": [
    "g[2,3]"
   ]
  },
  {
   "cell_type": "code",
   "execution_count": 71,
   "id": "6da380c4",
   "metadata": {},
   "outputs": [
    {
     "data": {
      "text/plain": [
       "array([16, 22])"
      ]
     },
     "execution_count": 71,
     "metadata": {},
     "output_type": "execute_result"
    }
   ],
   "source": [
    "g[2:4,3]"
   ]
  },
  {
   "cell_type": "code",
   "execution_count": 72,
   "id": "a3794653",
   "metadata": {},
   "outputs": [
    {
     "data": {
      "text/plain": [
       "array([[16, 17],\n",
       "       [22, 23]])"
      ]
     },
     "execution_count": 72,
     "metadata": {},
     "output_type": "execute_result"
    }
   ],
   "source": [
    "g[2:4,3:5]"
   ]
  },
  {
   "cell_type": "markdown",
   "id": "5f95dd86",
   "metadata": {},
   "source": [
    "We can assign the same values to several rows by assigning from an array with one row and the correct number of columns."
   ]
  },
  {
   "cell_type": "code",
   "execution_count": 73,
   "id": "8ce2aa2a",
   "metadata": {},
   "outputs": [],
   "source": [
    "g[2:4,3:5] = 5"
   ]
  },
  {
   "cell_type": "code",
   "execution_count": 74,
   "id": "04c3f7c6",
   "metadata": {},
   "outputs": [
    {
     "data": {
      "text/plain": [
       "array([[ 1,  2,  3,  4,  5,  6],\n",
       "       [ 7,  8,  9, 10, 11, 12],\n",
       "       [13, 14, 15,  5,  5, 18],\n",
       "       [19, 20, 21,  5,  5, 24],\n",
       "       [25, 26, 27, 28, 29, 30]])"
      ]
     },
     "execution_count": 74,
     "metadata": {},
     "output_type": "execute_result"
    }
   ],
   "source": [
    "g"
   ]
  },
  {
   "cell_type": "code",
   "execution_count": 75,
   "id": "99cef476",
   "metadata": {},
   "outputs": [],
   "source": [
    "g[2:4,3:5] = [[16, 17],[22, 23]]"
   ]
  },
  {
   "cell_type": "code",
   "execution_count": 76,
   "id": "d19a7a52",
   "metadata": {},
   "outputs": [
    {
     "data": {
      "text/plain": [
       "array([[ 1,  2,  3,  4,  5,  6],\n",
       "       [ 7,  8,  9, 10, 11, 12],\n",
       "       [13, 14, 15, 16, 17, 18],\n",
       "       [19, 20, 21, 22, 23, 24],\n",
       "       [25, 26, 27, 28, 29, 30]])"
      ]
     },
     "execution_count": 76,
     "metadata": {},
     "output_type": "execute_result"
    }
   ],
   "source": [
    "g"
   ]
  },
  {
   "cell_type": "code",
   "execution_count": 77,
   "id": "ca2cf4a1",
   "metadata": {},
   "outputs": [
    {
     "data": {
      "text/plain": [
       "array([[16, 17, 18],\n",
       "       [22, 23, 24]])"
      ]
     },
     "execution_count": 77,
     "metadata": {},
     "output_type": "execute_result"
    }
   ],
   "source": [
    "g[2:4,3:6]"
   ]
  },
  {
   "cell_type": "code",
   "execution_count": 78,
   "id": "7c3d9d3d",
   "metadata": {},
   "outputs": [
    {
     "data": {
      "text/plain": [
       "array([[16, 17, 18],\n",
       "       [22, 23, 24]])"
      ]
     },
     "execution_count": 78,
     "metadata": {},
     "output_type": "execute_result"
    }
   ],
   "source": [
    "g[2:4,3:g.shape[1]]"
   ]
  },
  {
   "cell_type": "code",
   "execution_count": 79,
   "id": "97b03886",
   "metadata": {},
   "outputs": [
    {
     "data": {
      "text/plain": [
       "(5, 6)"
      ]
     },
     "execution_count": 79,
     "metadata": {},
     "output_type": "execute_result"
    }
   ],
   "source": [
    "g.shape"
   ]
  },
  {
   "cell_type": "code",
   "execution_count": 80,
   "id": "ff65171d",
   "metadata": {},
   "outputs": [
    {
     "data": {
      "text/plain": [
       "6"
      ]
     },
     "execution_count": 80,
     "metadata": {},
     "output_type": "execute_result"
    }
   ],
   "source": [
    "g.shape[1]"
   ]
  },
  {
   "cell_type": "code",
   "execution_count": 81,
   "id": "ae9ac173",
   "metadata": {},
   "outputs": [
    {
     "data": {
      "text/plain": [
       "array([[16, 17, 18],\n",
       "       [22, 23, 24]])"
      ]
     },
     "execution_count": 81,
     "metadata": {},
     "output_type": "execute_result"
    }
   ],
   "source": [
    "g[2:4,3:]"
   ]
  },
  {
   "cell_type": "markdown",
   "id": "5b6ab3d2",
   "metadata": {},
   "source": [
    "If we make a variable referencing an array, or just part of one, it is a \"window\" into the array, rather than a copy."
   ]
  },
  {
   "cell_type": "code",
   "execution_count": 82,
   "id": "917251e3",
   "metadata": {},
   "outputs": [],
   "source": [
    "h = g[2:4,3:5]"
   ]
  },
  {
   "cell_type": "code",
   "execution_count": 83,
   "id": "45161a9a",
   "metadata": {},
   "outputs": [
    {
     "data": {
      "text/plain": [
       "array([[16, 17],\n",
       "       [22, 23]])"
      ]
     },
     "execution_count": 83,
     "metadata": {},
     "output_type": "execute_result"
    }
   ],
   "source": [
    "h"
   ]
  },
  {
   "cell_type": "code",
   "execution_count": 84,
   "id": "ae03280f",
   "metadata": {},
   "outputs": [
    {
     "data": {
      "text/plain": [
       "array([[ 1,  2,  3,  4,  5,  6],\n",
       "       [ 7,  8,  9, 10, 11, 12],\n",
       "       [13, 14, 15, 16, 17, 18],\n",
       "       [19, 20, 21, 22, 23, 24],\n",
       "       [25, 26, 27, 28, 29, 30]])"
      ]
     },
     "execution_count": 84,
     "metadata": {},
     "output_type": "execute_result"
    }
   ],
   "source": [
    "g"
   ]
  },
  {
   "cell_type": "code",
   "execution_count": 85,
   "id": "f2b59dab",
   "metadata": {},
   "outputs": [
    {
     "data": {
      "text/plain": [
       "22"
      ]
     },
     "execution_count": 85,
     "metadata": {},
     "output_type": "execute_result"
    }
   ],
   "source": [
    "h[1,0]"
   ]
  },
  {
   "cell_type": "code",
   "execution_count": 86,
   "id": "4fb0ff4f",
   "metadata": {},
   "outputs": [],
   "source": [
    "h[1,0] = 1022"
   ]
  },
  {
   "cell_type": "code",
   "execution_count": 87,
   "id": "34263397",
   "metadata": {},
   "outputs": [
    {
     "data": {
      "text/plain": [
       "array([[  16,   17],\n",
       "       [1022,   23]])"
      ]
     },
     "execution_count": 87,
     "metadata": {},
     "output_type": "execute_result"
    }
   ],
   "source": [
    "h"
   ]
  },
  {
   "cell_type": "code",
   "execution_count": 88,
   "id": "af0a33cd",
   "metadata": {},
   "outputs": [
    {
     "data": {
      "text/plain": [
       "array([[   1,    2,    3,    4,    5,    6],\n",
       "       [   7,    8,    9,   10,   11,   12],\n",
       "       [  13,   14,   15,   16,   17,   18],\n",
       "       [  19,   20,   21, 1022,   23,   24],\n",
       "       [  25,   26,   27,   28,   29,   30]])"
      ]
     },
     "execution_count": 88,
     "metadata": {},
     "output_type": "execute_result"
    }
   ],
   "source": [
    "g"
   ]
  },
  {
   "cell_type": "markdown",
   "id": "d18cf082",
   "metadata": {},
   "source": [
    "Need to use the **.copy** method to make a true copy "
   ]
  },
  {
   "cell_type": "code",
   "execution_count": 89,
   "id": "efb27d62",
   "metadata": {},
   "outputs": [],
   "source": [
    "h2 = g[2:4,3:5].copy()"
   ]
  },
  {
   "cell_type": "code",
   "execution_count": 90,
   "id": "c1b919ae",
   "metadata": {},
   "outputs": [
    {
     "data": {
      "text/plain": [
       "array([[  16,   17],\n",
       "       [1022,   23]])"
      ]
     },
     "execution_count": 90,
     "metadata": {},
     "output_type": "execute_result"
    }
   ],
   "source": [
    "h2"
   ]
  },
  {
   "cell_type": "code",
   "execution_count": 91,
   "id": "445a5eef",
   "metadata": {},
   "outputs": [],
   "source": [
    "h2[1,0] = 22"
   ]
  },
  {
   "cell_type": "code",
   "execution_count": 92,
   "id": "d2b4be4b",
   "metadata": {},
   "outputs": [
    {
     "data": {
      "text/plain": [
       "(array([[16, 17],\n",
       "        [22, 23]]),\n",
       " array([[  16,   17],\n",
       "        [1022,   23]]),\n",
       " array([[   1,    2,    3,    4,    5,    6],\n",
       "        [   7,    8,    9,   10,   11,   12],\n",
       "        [  13,   14,   15,   16,   17,   18],\n",
       "        [  19,   20,   21, 1022,   23,   24],\n",
       "        [  25,   26,   27,   28,   29,   30]]))"
      ]
     },
     "execution_count": 92,
     "metadata": {},
     "output_type": "execute_result"
    }
   ],
   "source": [
    "h2, h, g"
   ]
  },
  {
   "cell_type": "markdown",
   "id": "a9346507",
   "metadata": {},
   "source": [
    "# Selecting elements using logical operations"
   ]
  },
  {
   "cell_type": "code",
   "execution_count": 93,
   "id": "c1e0d002",
   "metadata": {},
   "outputs": [
    {
     "data": {
      "text/plain": [
       "array([[False, False, False, False, False, False],\n",
       "       [False, False, False, False, False, False],\n",
       "       [False, False, False, False,  True,  True],\n",
       "       [ True,  True,  True,  True,  True,  True],\n",
       "       [ True,  True,  True,  True,  True,  True]])"
      ]
     },
     "execution_count": 93,
     "metadata": {},
     "output_type": "execute_result"
    }
   ],
   "source": [
    "g > 16"
   ]
  },
  {
   "cell_type": "code",
   "execution_count": 94,
   "id": "10022d2c",
   "metadata": {},
   "outputs": [
    {
     "data": {
      "text/plain": [
       "array([  17,   18,   19,   20,   21, 1022,   23,   24,   25,   26,   27,\n",
       "         28,   29,   30])"
      ]
     },
     "execution_count": 94,
     "metadata": {},
     "output_type": "execute_result"
    }
   ],
   "source": [
    "g[g > 16]"
   ]
  },
  {
   "cell_type": "code",
   "execution_count": 95,
   "id": "46ff136d",
   "metadata": {},
   "outputs": [
    {
     "data": {
      "text/plain": [
       "array([[False, False, False, False, False, False],\n",
       "       [False, False, False, False, False, False],\n",
       "       [False, False, False, False,  True,  True],\n",
       "       [ True,  True,  True, False,  True,  True],\n",
       "       [False, False, False, False, False, False]])"
      ]
     },
     "execution_count": 95,
     "metadata": {},
     "output_type": "execute_result"
    }
   ],
   "source": [
    "(g > 16) & (g < 25)"
   ]
  },
  {
   "cell_type": "code",
   "execution_count": 96,
   "id": "5719da36",
   "metadata": {},
   "outputs": [
    {
     "data": {
      "text/plain": [
       "array([17, 18, 19, 20, 21, 23, 24])"
      ]
     },
     "execution_count": 96,
     "metadata": {},
     "output_type": "execute_result"
    }
   ],
   "source": [
    "g[(g > 16) & (g < 25)]"
   ]
  },
  {
   "cell_type": "code",
   "execution_count": 97,
   "id": "e50cc3f8",
   "metadata": {},
   "outputs": [
    {
     "data": {
      "text/plain": [
       "array([[ True,  True,  True,  True,  True,  True],\n",
       "       [False, False, False, False, False, False],\n",
       "       [False, False, False, False,  True,  True],\n",
       "       [ True,  True,  True,  True,  True,  True],\n",
       "       [ True,  True,  True,  True,  True,  True]])"
      ]
     },
     "execution_count": 97,
     "metadata": {},
     "output_type": "execute_result"
    }
   ],
   "source": [
    "(g > 16) | (g < 7)"
   ]
  },
  {
   "cell_type": "code",
   "execution_count": 98,
   "id": "ddd46845",
   "metadata": {},
   "outputs": [
    {
     "data": {
      "text/plain": [
       "array([   1,    2,    3,    4,    5,    6,   17,   18,   19,   20,   21,\n",
       "       1022,   23,   24,   25,   26,   27,   28,   29,   30])"
      ]
     },
     "execution_count": 98,
     "metadata": {},
     "output_type": "execute_result"
    }
   ],
   "source": [
    "g[(g > 16) | (g < 7)]"
   ]
  },
  {
   "cell_type": "markdown",
   "id": "e123faab",
   "metadata": {},
   "source": [
    "|Operator|Name|Description\n",
    "|:---|:---|:---|\n",
    "|&   |AND | True if both sides True|\n",
    "|\\|  |OR  | True if at least one side is True|\n",
    "|^   |XOR | Exclusive OR.  True if **one** side is True, but not if **both** sides are true "
   ]
  },
  {
   "cell_type": "code",
   "execution_count": 99,
   "id": "686c55a7",
   "metadata": {},
   "outputs": [
    {
     "data": {
      "text/plain": [
       "21"
      ]
     },
     "execution_count": 99,
     "metadata": {},
     "output_type": "execute_result"
    }
   ],
   "source": [
    "g.argmax()"
   ]
  },
  {
   "cell_type": "code",
   "execution_count": 100,
   "id": "18586b0a",
   "metadata": {},
   "outputs": [
    {
     "data": {
      "text/plain": [
       "1022"
      ]
     },
     "execution_count": 100,
     "metadata": {},
     "output_type": "execute_result"
    }
   ],
   "source": [
    "g.flatten()[21]"
   ]
  },
  {
   "cell_type": "code",
   "execution_count": 101,
   "id": "e86454a0",
   "metadata": {},
   "outputs": [
    {
     "data": {
      "text/plain": [
       "array([   1,    2,    3,    4,    5,    6,    7,    8,    9,   10,   11,\n",
       "         12,   13,   14,   15,   16,   17,   18,   19,   20,   21, 1022,\n",
       "         23,   24,   25,   26,   27,   28,   29,   30])"
      ]
     },
     "execution_count": 101,
     "metadata": {},
     "output_type": "execute_result"
    }
   ],
   "source": [
    "g.flatten()"
   ]
  },
  {
   "cell_type": "code",
   "execution_count": 102,
   "id": "1f442a4b",
   "metadata": {},
   "outputs": [
    {
     "data": {
      "text/plain": [
       "1022"
      ]
     },
     "execution_count": 102,
     "metadata": {},
     "output_type": "execute_result"
    }
   ],
   "source": [
    "g.max()"
   ]
  },
  {
   "cell_type": "code",
   "execution_count": 103,
   "id": "f5d80930",
   "metadata": {},
   "outputs": [
    {
     "data": {
      "text/plain": [
       "48.833333333333336"
      ]
     },
     "execution_count": 103,
     "metadata": {},
     "output_type": "execute_result"
    }
   ],
   "source": [
    "g.mean()"
   ]
  },
  {
   "cell_type": "code",
   "execution_count": 104,
   "id": "c636206e",
   "metadata": {},
   "outputs": [
    {
     "data": {
      "text/plain": [
       "180.9156494674306"
      ]
     },
     "execution_count": 104,
     "metadata": {},
     "output_type": "execute_result"
    }
   ],
   "source": [
    "g.std()"
   ]
  },
  {
   "cell_type": "code",
   "execution_count": 105,
   "id": "b97e3de6",
   "metadata": {},
   "outputs": [
    {
     "data": {
      "text/plain": [
       "13.0"
      ]
     },
     "execution_count": 105,
     "metadata": {},
     "output_type": "execute_result"
    }
   ],
   "source": [
    "g[:,0].mean()"
   ]
  },
  {
   "cell_type": "markdown",
   "id": "dc78f199",
   "metadata": {},
   "source": [
    "# More ways to create arrays\n",
    "\n",
    "So far have looked at **np.array**, **np.arange**, **np.linspace**\n"
   ]
  },
  {
   "cell_type": "code",
   "execution_count": 106,
   "id": "10a6cfe9",
   "metadata": {},
   "outputs": [
    {
     "data": {
      "text/plain": [
       "array([1., 1., 1., 1.])"
      ]
     },
     "execution_count": 106,
     "metadata": {},
     "output_type": "execute_result"
    }
   ],
   "source": [
    "np.ones(4)"
   ]
  },
  {
   "cell_type": "code",
   "execution_count": 107,
   "id": "fd1a6a96",
   "metadata": {},
   "outputs": [
    {
     "data": {
      "text/plain": [
       "array([[1., 1., 1.],\n",
       "       [1., 1., 1.],\n",
       "       [1., 1., 1.],\n",
       "       [1., 1., 1.]])"
      ]
     },
     "execution_count": 107,
     "metadata": {},
     "output_type": "execute_result"
    }
   ],
   "source": [
    "np.ones((4,3))"
   ]
  },
  {
   "cell_type": "code",
   "execution_count": 108,
   "id": "5413476f",
   "metadata": {},
   "outputs": [
    {
     "data": {
      "text/plain": [
       "array([0., 0., 0., 0., 0., 0., 0., 0., 0., 0.])"
      ]
     },
     "execution_count": 108,
     "metadata": {},
     "output_type": "execute_result"
    }
   ],
   "source": [
    "np.zeros(10)"
   ]
  },
  {
   "cell_type": "code",
   "execution_count": 109,
   "id": "2ce35c0c",
   "metadata": {},
   "outputs": [
    {
     "data": {
      "text/plain": [
       "array([7, 7, 7, 7, 7, 7, 7, 7, 7, 7])"
      ]
     },
     "execution_count": 109,
     "metadata": {},
     "output_type": "execute_result"
    }
   ],
   "source": [
    "np.full(10,7)"
   ]
  },
  {
   "cell_type": "code",
   "execution_count": 110,
   "id": "ab1b9259",
   "metadata": {},
   "outputs": [
    {
     "data": {
      "text/plain": [
       "array([[7, 7, 7, 7, 7, 7],\n",
       "       [7, 7, 7, 7, 7, 7],\n",
       "       [7, 7, 7, 7, 7, 7],\n",
       "       [7, 7, 7, 7, 7, 7],\n",
       "       [7, 7, 7, 7, 7, 7]])"
      ]
     },
     "execution_count": 110,
     "metadata": {},
     "output_type": "execute_result"
    }
   ],
   "source": [
    "np.full_like(g,7)"
   ]
  },
  {
   "cell_type": "code",
   "execution_count": 111,
   "id": "fd666195",
   "metadata": {},
   "outputs": [
    {
     "data": {
      "text/plain": [
       "array([[1., 0., 0., 0.],\n",
       "       [0., 1., 0., 0.],\n",
       "       [0., 0., 1., 0.],\n",
       "       [0., 0., 0., 1.]])"
      ]
     },
     "execution_count": 111,
     "metadata": {},
     "output_type": "execute_result"
    }
   ],
   "source": [
    "np.eye(4)"
   ]
  },
  {
   "cell_type": "code",
   "execution_count": 112,
   "id": "29a039cb",
   "metadata": {},
   "outputs": [
    {
     "data": {
      "text/plain": [
       "dtype('int32')"
      ]
     },
     "execution_count": 112,
     "metadata": {},
     "output_type": "execute_result"
    }
   ],
   "source": [
    "g.dtype"
   ]
  },
  {
   "cell_type": "code",
   "execution_count": 113,
   "id": "aa56a56f",
   "metadata": {},
   "outputs": [
    {
     "data": {
      "text/plain": [
       "array([[1, 0, 0, 0],\n",
       "       [0, 1, 0, 0],\n",
       "       [0, 0, 1, 0],\n",
       "       [0, 0, 0, 1]])"
      ]
     },
     "execution_count": 113,
     "metadata": {},
     "output_type": "execute_result"
    }
   ],
   "source": [
    "np.eye(4,dtype=int)"
   ]
  },
  {
   "cell_type": "code",
   "execution_count": 114,
   "id": "5eadf68d",
   "metadata": {},
   "outputs": [
    {
     "data": {
      "text/plain": [
       "array([[1, 0, 0, 0],\n",
       "       [0, 2, 0, 0],\n",
       "       [0, 0, 3, 0],\n",
       "       [0, 0, 0, 4]])"
      ]
     },
     "execution_count": 114,
     "metadata": {},
     "output_type": "execute_result"
    }
   ],
   "source": [
    "np.diag([1,2,3,4])"
   ]
  },
  {
   "cell_type": "code",
   "execution_count": 115,
   "id": "5315a5e8",
   "metadata": {},
   "outputs": [
    {
     "data": {
      "text/plain": [
       "array([[0, 1, 0, 0, 0],\n",
       "       [0, 0, 2, 0, 0],\n",
       "       [0, 0, 0, 3, 0],\n",
       "       [0, 0, 0, 0, 4],\n",
       "       [0, 0, 0, 0, 0]])"
      ]
     },
     "execution_count": 115,
     "metadata": {},
     "output_type": "execute_result"
    }
   ],
   "source": [
    "np.diag([1,2,3,4],1)"
   ]
  },
  {
   "cell_type": "markdown",
   "id": "4ab133d6",
   "metadata": {},
   "source": [
    "# Numpy doesn't just deal with numerical data\n",
    "\n",
    "https://numpy.org/doc/stable/reference/routines.char.html"
   ]
  },
  {
   "cell_type": "code",
   "execution_count": 116,
   "id": "76a9385e",
   "metadata": {},
   "outputs": [
    {
     "data": {
      "text/plain": [
       "array(['Tom', 'Dick', 'Harry'], dtype='<U5')"
      ]
     },
     "execution_count": 116,
     "metadata": {},
     "output_type": "execute_result"
    }
   ],
   "source": [
    "a = np.array(['Tom', 'Dick', 'Harry'])\n",
    "\n",
    "a"
   ]
  },
  {
   "cell_type": "code",
   "execution_count": 117,
   "id": "1f54a24c",
   "metadata": {},
   "outputs": [
    {
     "data": {
      "text/plain": [
       "array(['TOM', 'DICK', 'HARRY'], dtype='<U5')"
      ]
     },
     "execution_count": 117,
     "metadata": {},
     "output_type": "execute_result"
    }
   ],
   "source": [
    "np.char.upper(a)"
   ]
  },
  {
   "cell_type": "code",
   "execution_count": 118,
   "id": "7306b687",
   "metadata": {},
   "outputs": [
    {
     "data": {
      "text/plain": [
       "array([ True, False, False])"
      ]
     },
     "execution_count": 118,
     "metadata": {},
     "output_type": "execute_result"
    }
   ],
   "source": [
    "a == 'Tom'"
   ]
  },
  {
   "cell_type": "markdown",
   "id": "d3776768",
   "metadata": {},
   "source": [
    "# Sorting and searching\n",
    "\n",
    "https://numpy.org/doc/stable/reference/routines.sort.html"
   ]
  },
  {
   "cell_type": "markdown",
   "id": "b8aec0cf",
   "metadata": {},
   "source": [
    "Create a random array of 10 integers between 1 and 50\n",
    "\n",
    "(I've set the \"seed\" of the pseudo-random number generator to 42 so you get the same results.)"
   ]
  },
  {
   "cell_type": "code",
   "execution_count": 119,
   "id": "04262a33",
   "metadata": {},
   "outputs": [
    {
     "data": {
      "text/plain": [
       "array([ 5, 39, 33, 22, 22, 43,  5, 35, 11,  5], dtype=int64)"
      ]
     },
     "execution_count": 119,
     "metadata": {},
     "output_type": "execute_result"
    }
   ],
   "source": [
    "rng = np.random.default_rng(42)\n",
    "\n",
    "mixed = rng.integers(1,51,10)\n",
    "\n",
    "mixed"
   ]
  },
  {
   "cell_type": "markdown",
   "id": "77e7a998",
   "metadata": {},
   "source": [
    "Sort them"
   ]
  },
  {
   "cell_type": "code",
   "execution_count": 120,
   "id": "67a57ad8",
   "metadata": {},
   "outputs": [
    {
     "data": {
      "text/plain": [
       "array([ 5,  5,  5, 11, 22, 22, 33, 35, 39, 43], dtype=int64)"
      ]
     },
     "execution_count": 120,
     "metadata": {},
     "output_type": "execute_result"
    }
   ],
   "source": [
    "np.sort(mixed)"
   ]
  },
  {
   "cell_type": "markdown",
   "id": "84550c07",
   "metadata": {},
   "source": [
    "Do an indirect sort:\n",
    "\n",
    "* Find the correct sort order"
   ]
  },
  {
   "cell_type": "code",
   "execution_count": 121,
   "id": "bdbc2edc",
   "metadata": {},
   "outputs": [
    {
     "data": {
      "text/plain": [
       "array([0, 6, 9, 8, 3, 4, 2, 7, 1, 5], dtype=int64)"
      ]
     },
     "execution_count": 121,
     "metadata": {},
     "output_type": "execute_result"
    }
   ],
   "source": [
    "np.argsort(mixed)"
   ]
  },
  {
   "cell_type": "markdown",
   "id": "7e235bd4",
   "metadata": {},
   "source": [
    "* Then sort the array in this order"
   ]
  },
  {
   "cell_type": "code",
   "execution_count": 122,
   "id": "4d156fb4",
   "metadata": {},
   "outputs": [
    {
     "data": {
      "text/plain": [
       "array([ 5,  5,  5, 11, 22, 22, 33, 35, 39, 43], dtype=int64)"
      ]
     },
     "execution_count": 122,
     "metadata": {},
     "output_type": "execute_result"
    }
   ],
   "source": [
    "mixed[np.argsort(mixed)]"
   ]
  },
  {
   "cell_type": "markdown",
   "id": "3034429f",
   "metadata": {},
   "source": [
    "Find the maximum"
   ]
  },
  {
   "cell_type": "code",
   "execution_count": 123,
   "id": "b6a3b672",
   "metadata": {},
   "outputs": [
    {
     "data": {
      "text/plain": [
       "43"
      ]
     },
     "execution_count": 123,
     "metadata": {},
     "output_type": "execute_result"
    }
   ],
   "source": [
    "np.max(mixed)"
   ]
  },
  {
   "cell_type": "markdown",
   "id": "cd374b46",
   "metadata": {},
   "source": [
    "Find array element which has the maximum"
   ]
  },
  {
   "cell_type": "code",
   "execution_count": 124,
   "id": "3ef6583a",
   "metadata": {},
   "outputs": [
    {
     "data": {
      "text/plain": [
       "5"
      ]
     },
     "execution_count": 124,
     "metadata": {},
     "output_type": "execute_result"
    }
   ],
   "source": [
    "np.argmax(mixed)"
   ]
  },
  {
   "cell_type": "markdown",
   "id": "bd3168ac",
   "metadata": {},
   "source": [
    "Use this to find the maximum"
   ]
  },
  {
   "cell_type": "code",
   "execution_count": 125,
   "id": "5490fdb8",
   "metadata": {},
   "outputs": [
    {
     "data": {
      "text/plain": [
       "43"
      ]
     },
     "execution_count": 125,
     "metadata": {},
     "output_type": "execute_result"
    }
   ],
   "source": [
    "mixed[np.argmax(mixed)]"
   ]
  },
  {
   "cell_type": "markdown",
   "id": "95a37e8f",
   "metadata": {},
   "source": [
    "## For example\n",
    "\n",
    "Suppose we had a set of sales figures for different departments"
   ]
  },
  {
   "cell_type": "code",
   "execution_count": 126,
   "id": "77809841",
   "metadata": {},
   "outputs": [
    {
     "name": "stdout",
     "output_type": "stream",
     "text": [
      "Sales:       [57 98 76 79 75 81 56 21 86 50]\n",
      "Departments: ['A' 'B' 'C' 'D' 'E' 'F' 'G' 'H' 'I' 'J']\n"
     ]
    }
   ],
   "source": [
    "sales = rng.integers(10,101,10)\n",
    "\n",
    "print(\"Sales:      \", sales)\n",
    "\n",
    "departments = np.array([\"A\", \"B\", \"C\", \"D\", \"E\", \"F\", \"G\", \"H\", \"I\", \"J\"])\n",
    "\n",
    "print(\"Departments:\", departments)"
   ]
  },
  {
   "cell_type": "code",
   "execution_count": 127,
   "id": "41344b31",
   "metadata": {},
   "outputs": [
    {
     "name": "stdout",
     "output_type": "stream",
     "text": [
      "Sorted increasing by sales\n",
      "Department: ['H' 'J' 'G' 'A' 'E' 'C' 'D' 'F' 'I' 'B']\n",
      "Sales:      [21 50 56 57 75 76 79 81 86 98]\n"
     ]
    }
   ],
   "source": [
    "sort_order = np.argsort(sales)\n",
    "\n",
    "print(\"Sorted increasing by sales\")\n",
    "\n",
    "print(\"Department:\", departments[sort_order])\n",
    "print(\"Sales:     \", sales[sort_order])"
   ]
  },
  {
   "cell_type": "markdown",
   "id": "d7f1e277",
   "metadata": {},
   "source": [
    "# Linear Algebra\n",
    "\n",
    "https://numpy.org/doc/stable/reference/routines.linalg.html"
   ]
  },
  {
   "cell_type": "code",
   "execution_count": 128,
   "id": "a13ac28c",
   "metadata": {},
   "outputs": [],
   "source": [
    "A = np.array([[1,2,5],[2,3,4],[1,1,2]])"
   ]
  },
  {
   "cell_type": "code",
   "execution_count": 129,
   "id": "54a2996f",
   "metadata": {},
   "outputs": [
    {
     "data": {
      "text/plain": [
       "array([[1, 2, 5],\n",
       "       [2, 3, 4],\n",
       "       [1, 1, 2]])"
      ]
     },
     "execution_count": 129,
     "metadata": {},
     "output_type": "execute_result"
    }
   ],
   "source": [
    "A"
   ]
  },
  {
   "cell_type": "markdown",
   "id": "f47d4e91",
   "metadata": {},
   "source": [
    "Find the transpose"
   ]
  },
  {
   "cell_type": "code",
   "execution_count": 130,
   "id": "cdaeb9ea",
   "metadata": {},
   "outputs": [
    {
     "data": {
      "text/plain": [
       "array([[1, 2, 1],\n",
       "       [2, 3, 1],\n",
       "       [5, 4, 2]])"
      ]
     },
     "execution_count": 130,
     "metadata": {},
     "output_type": "execute_result"
    }
   ],
   "source": [
    "A.T"
   ]
  },
  {
   "cell_type": "markdown",
   "id": "d1af52dd",
   "metadata": {},
   "source": [
    "Find the inverse"
   ]
  },
  {
   "cell_type": "code",
   "execution_count": 131,
   "id": "33de229b",
   "metadata": {},
   "outputs": [
    {
     "data": {
      "text/plain": [
       "array([[-6.66666667e-01, -3.33333333e-01,  2.33333333e+00],\n",
       "       [ 1.11022302e-16,  1.00000000e+00, -2.00000000e+00],\n",
       "       [ 3.33333333e-01, -3.33333333e-01,  3.33333333e-01]])"
      ]
     },
     "execution_count": 131,
     "metadata": {},
     "output_type": "execute_result"
    }
   ],
   "source": [
    "np.linalg.inv(A)"
   ]
  },
  {
   "cell_type": "code",
   "execution_count": 132,
   "id": "3de0e38a",
   "metadata": {},
   "outputs": [
    {
     "data": {
      "text/plain": [
       "array([[ 1.00000000e+00, -5.55111512e-17,  5.55111512e-17],\n",
       "       [ 2.22044605e-16,  1.00000000e+00,  2.22044605e-16],\n",
       "       [ 0.00000000e+00, -1.11022302e-16,  1.00000000e+00]])"
      ]
     },
     "execution_count": 132,
     "metadata": {},
     "output_type": "execute_result"
    }
   ],
   "source": [
    "A @ np.linalg.inv(A)"
   ]
  },
  {
   "cell_type": "markdown",
   "id": "106f3136",
   "metadata": {},
   "source": [
    "Array multiplication"
   ]
  },
  {
   "cell_type": "code",
   "execution_count": 133,
   "id": "0d4decb3",
   "metadata": {},
   "outputs": [],
   "source": [
    "b = np.arange(1,4)"
   ]
  },
  {
   "cell_type": "code",
   "execution_count": 134,
   "id": "b28338ef",
   "metadata": {},
   "outputs": [
    {
     "data": {
      "text/plain": [
       "array([20, 20,  9])"
      ]
     },
     "execution_count": 134,
     "metadata": {},
     "output_type": "execute_result"
    }
   ],
   "source": [
    "A@b"
   ]
  },
  {
   "cell_type": "markdown",
   "id": "2041987a",
   "metadata": {},
   "source": [
    "Solving a linear system"
   ]
  },
  {
   "cell_type": "code",
   "execution_count": 135,
   "id": "82cdd7da",
   "metadata": {},
   "outputs": [
    {
     "data": {
      "text/plain": [
       "array([ 5.66666667, -4.        ,  0.66666667])"
      ]
     },
     "execution_count": 135,
     "metadata": {},
     "output_type": "execute_result"
    }
   ],
   "source": [
    "np.linalg.solve(A,b)"
   ]
  },
  {
   "cell_type": "markdown",
   "id": "2354d82d",
   "metadata": {},
   "source": [
    "## Eigenvalues and eigenvectors"
   ]
  },
  {
   "cell_type": "code",
   "execution_count": 136,
   "id": "3a415584",
   "metadata": {},
   "outputs": [
    {
     "data": {
      "text/plain": [
       "(array([ 6.24337645, -0.82547601,  0.58209957]),\n",
       " array([[-0.58477524, -0.94044038,  0.41952173],\n",
       "        [-0.74793027,  0.22803197, -0.85436905],\n",
       "        [-0.31406724,  0.25213748,  0.30668396]]))"
      ]
     },
     "execution_count": 136,
     "metadata": {},
     "output_type": "execute_result"
    }
   ],
   "source": [
    "np.linalg.eig(A)"
   ]
  },
  {
   "cell_type": "code",
   "execution_count": 137,
   "id": "5adb76e7",
   "metadata": {},
   "outputs": [],
   "source": [
    "eval, evec = np.linalg.eig(A)"
   ]
  },
  {
   "cell_type": "code",
   "execution_count": 138,
   "id": "0dda07d3",
   "metadata": {},
   "outputs": [
    {
     "data": {
      "text/plain": [
       "array([ 6.24337645, -0.82547601,  0.58209957])"
      ]
     },
     "execution_count": 138,
     "metadata": {},
     "output_type": "execute_result"
    }
   ],
   "source": [
    "eval"
   ]
  },
  {
   "cell_type": "code",
   "execution_count": 139,
   "id": "7c7f2221",
   "metadata": {},
   "outputs": [
    {
     "data": {
      "text/plain": [
       "array([[-0.58477524, -0.94044038,  0.41952173],\n",
       "       [-0.74793027,  0.22803197, -0.85436905],\n",
       "       [-0.31406724,  0.25213748,  0.30668396]])"
      ]
     },
     "execution_count": 139,
     "metadata": {},
     "output_type": "execute_result"
    }
   ],
   "source": [
    "evec"
   ]
  },
  {
   "cell_type": "markdown",
   "id": "c947d2aa",
   "metadata": {},
   "source": [
    "The eigenvectors are stored in the columns of this array"
   ]
  },
  {
   "cell_type": "code",
   "execution_count": 140,
   "id": "e358caed",
   "metadata": {},
   "outputs": [],
   "source": [
    "e0 = evec[:,0]"
   ]
  },
  {
   "cell_type": "markdown",
   "id": "42c13288",
   "metadata": {},
   "source": [
    "If $\\mathbf{e_0}$ is an eigenvector then \n",
    "\n",
    "$$A \\mathbf{e_0} = \\lambda \\mathbf{e_0}$$\n",
    "\n",
    "Let's check by calculating both sides."
   ]
  },
  {
   "cell_type": "code",
   "execution_count": 141,
   "id": "d25c6789",
   "metadata": {},
   "outputs": [
    {
     "data": {
      "text/plain": [
       "array([-3.65097196, -4.66961024, -1.96083998])"
      ]
     },
     "execution_count": 141,
     "metadata": {},
     "output_type": "execute_result"
    }
   ],
   "source": [
    "A @ e0"
   ]
  },
  {
   "cell_type": "markdown",
   "id": "f612b22e",
   "metadata": {},
   "source": [
    "This should give us the eigenvalue times the eigenvector."
   ]
  },
  {
   "cell_type": "code",
   "execution_count": 142,
   "id": "f2c87b9a",
   "metadata": {},
   "outputs": [
    {
     "data": {
      "text/plain": [
       "array([-3.65097196, -4.66961024, -1.96083998])"
      ]
     },
     "execution_count": 142,
     "metadata": {},
     "output_type": "execute_result"
    }
   ],
   "source": [
    "e0 * eval[0]"
   ]
  },
  {
   "cell_type": "markdown",
   "id": "b02721ce",
   "metadata": {},
   "source": [
    "It is convenient to access the eigenvector as the rows of the transposed evec array"
   ]
  },
  {
   "cell_type": "code",
   "execution_count": 143,
   "id": "33260bda",
   "metadata": {},
   "outputs": [
    {
     "data": {
      "text/plain": [
       "array([-0.58477524, -0.74793027, -0.31406724])"
      ]
     },
     "execution_count": 143,
     "metadata": {},
     "output_type": "execute_result"
    }
   ],
   "source": [
    "evec.T[0]"
   ]
  },
  {
   "cell_type": "code",
   "execution_count": 144,
   "id": "4f18e236",
   "metadata": {},
   "outputs": [
    {
     "data": {
      "text/plain": [
       "array([-0.58477524, -0.74793027, -0.31406724])"
      ]
     },
     "execution_count": 144,
     "metadata": {},
     "output_type": "execute_result"
    }
   ],
   "source": [
    "e0"
   ]
  },
  {
   "cell_type": "code",
   "execution_count": 145,
   "id": "76d9ed57",
   "metadata": {},
   "outputs": [
    {
     "data": {
      "text/plain": [
       "array([-3.65097196, -4.66961024, -1.96083998])"
      ]
     },
     "execution_count": 145,
     "metadata": {},
     "output_type": "execute_result"
    }
   ],
   "source": [
    "A @ evec.T[0]"
   ]
  }
 ],
 "metadata": {
  "kernelspec": {
   "display_name": "Working",
   "language": "python",
   "name": "working"
  },
  "language_info": {
   "codemirror_mode": {
    "name": "ipython",
    "version": 3
   },
   "file_extension": ".py",
   "mimetype": "text/x-python",
   "name": "python",
   "nbconvert_exporter": "python",
   "pygments_lexer": "ipython3",
   "version": "3.10.2"
  }
 },
 "nbformat": 4,
 "nbformat_minor": 5
}
