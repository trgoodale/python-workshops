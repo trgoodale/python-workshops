{
 "cells": [
  {
   "cell_type": "markdown",
   "id": "4c934637",
   "metadata": {},
   "source": [
    "What happens when we try arithmetic on lists?"
   ]
  },
  {
   "cell_type": "code",
   "execution_count": 1,
   "id": "339fcff5",
   "metadata": {},
   "outputs": [],
   "source": [
    "a = [1,2,3,4,5]"
   ]
  },
  {
   "cell_type": "code",
   "execution_count": 2,
   "id": "80a121db",
   "metadata": {},
   "outputs": [
    {
     "data": {
      "text/plain": [
       "[1, 2, 3, 4, 5]"
      ]
     },
     "execution_count": 2,
     "metadata": {},
     "output_type": "execute_result"
    }
   ],
   "source": [
    "a"
   ]
  },
  {
   "cell_type": "code",
   "execution_count": 3,
   "id": "eb374228",
   "metadata": {},
   "outputs": [
    {
     "data": {
      "text/plain": [
       "[6, 7, 8, 9, 10]"
      ]
     },
     "execution_count": 3,
     "metadata": {},
     "output_type": "execute_result"
    }
   ],
   "source": [
    "b = [6,7,8,9,10]\n",
    "\n",
    "b"
   ]
  },
  {
   "cell_type": "code",
   "execution_count": 4,
   "id": "627de2a0",
   "metadata": {},
   "outputs": [
    {
     "data": {
      "text/plain": [
       "[1, 2, 3, 4, 5, 1, 2, 3, 4, 5, 1, 2, 3, 4, 5]"
      ]
     },
     "execution_count": 4,
     "metadata": {},
     "output_type": "execute_result"
    }
   ],
   "source": [
    "a*3"
   ]
  },
  {
   "cell_type": "code",
   "execution_count": 5,
   "id": "10314b56",
   "metadata": {},
   "outputs": [
    {
     "data": {
      "text/plain": [
       "[1, 2, 3, 4, 5, 6, 7, 8, 9, 10]"
      ]
     },
     "execution_count": 5,
     "metadata": {},
     "output_type": "execute_result"
    }
   ],
   "source": [
    "a+b"
   ]
  },
  {
   "cell_type": "markdown",
   "id": "53a30451",
   "metadata": {},
   "source": [
    "# Numpy"
   ]
  },
  {
   "cell_type": "code",
   "execution_count": 6,
   "id": "509e56fa",
   "metadata": {},
   "outputs": [],
   "source": [
    "import numpy as np"
   ]
  },
  {
   "cell_type": "code",
   "execution_count": 7,
   "id": "bc91197c",
   "metadata": {},
   "outputs": [],
   "source": [
    "c = np.array(a)"
   ]
  },
  {
   "cell_type": "code",
   "execution_count": 8,
   "id": "cc389398",
   "metadata": {},
   "outputs": [
    {
     "data": {
      "text/plain": [
       "array([1, 2, 3, 4, 5])"
      ]
     },
     "execution_count": 8,
     "metadata": {},
     "output_type": "execute_result"
    }
   ],
   "source": [
    "c"
   ]
  },
  {
   "cell_type": "code",
   "execution_count": 9,
   "id": "c6f37673",
   "metadata": {},
   "outputs": [
    {
     "data": {
      "text/plain": [
       "numpy.ndarray"
      ]
     },
     "execution_count": 9,
     "metadata": {},
     "output_type": "execute_result"
    }
   ],
   "source": [
    "type(c)"
   ]
  },
  {
   "cell_type": "code",
   "execution_count": 10,
   "id": "7ff50e26",
   "metadata": {},
   "outputs": [
    {
     "data": {
      "text/plain": [
       "dtype('int32')"
      ]
     },
     "execution_count": 10,
     "metadata": {},
     "output_type": "execute_result"
    }
   ],
   "source": [
    "c.dtype"
   ]
  },
  {
   "cell_type": "code",
   "execution_count": 11,
   "id": "a0ef8d1b",
   "metadata": {},
   "outputs": [
    {
     "data": {
      "text/plain": [
       "array([ 3,  6,  9, 12, 15])"
      ]
     },
     "execution_count": 11,
     "metadata": {},
     "output_type": "execute_result"
    }
   ],
   "source": [
    "c*3"
   ]
  },
  {
   "cell_type": "code",
   "execution_count": 12,
   "id": "34d27d23",
   "metadata": {},
   "outputs": [
    {
     "data": {
      "text/plain": [
       "array([3, 4, 5, 6, 7])"
      ]
     },
     "execution_count": 12,
     "metadata": {},
     "output_type": "execute_result"
    }
   ],
   "source": [
    "c+2"
   ]
  },
  {
   "cell_type": "code",
   "execution_count": 13,
   "id": "1041dc7e",
   "metadata": {},
   "outputs": [
    {
     "data": {
      "text/plain": [
       "array([  1,   8,  27,  64, 125], dtype=int32)"
      ]
     },
     "execution_count": 13,
     "metadata": {},
     "output_type": "execute_result"
    }
   ],
   "source": [
    "c**3"
   ]
  },
  {
   "cell_type": "code",
   "execution_count": 14,
   "id": "9ee7f080",
   "metadata": {},
   "outputs": [
    {
     "data": {
      "text/plain": [
       "array([1.        , 0.5       , 0.33333333, 0.25      , 0.2       ])"
      ]
     },
     "execution_count": 14,
     "metadata": {},
     "output_type": "execute_result"
    }
   ],
   "source": [
    "1/c"
   ]
  },
  {
   "cell_type": "code",
   "execution_count": 15,
   "id": "6b9660e2",
   "metadata": {},
   "outputs": [
    {
     "data": {
      "text/plain": [
       "array([ 0.84147098,  0.90929743,  0.14112001, -0.7568025 , -0.95892427])"
      ]
     },
     "execution_count": 15,
     "metadata": {},
     "output_type": "execute_result"
    }
   ],
   "source": [
    "np.sin(c)"
   ]
  },
  {
   "cell_type": "code",
   "execution_count": 16,
   "id": "ac9c2033",
   "metadata": {},
   "outputs": [
    {
     "data": {
      "text/plain": [
       "1.5707963267948966"
      ]
     },
     "execution_count": 16,
     "metadata": {},
     "output_type": "execute_result"
    }
   ],
   "source": [
    "np.deg2rad(90)"
   ]
  },
  {
   "cell_type": "code",
   "execution_count": 17,
   "id": "e250b0f9",
   "metadata": {},
   "outputs": [
    {
     "data": {
      "text/plain": [
       "1.0"
      ]
     },
     "execution_count": 17,
     "metadata": {},
     "output_type": "execute_result"
    }
   ],
   "source": [
    "np.sin(np.deg2rad(90))"
   ]
  },
  {
   "cell_type": "code",
   "execution_count": 18,
   "id": "e1fd9cdf",
   "metadata": {},
   "outputs": [
    {
     "data": {
      "text/plain": [
       "3.141592653589793"
      ]
     },
     "execution_count": 18,
     "metadata": {},
     "output_type": "execute_result"
    }
   ],
   "source": [
    "np.pi"
   ]
  },
  {
   "cell_type": "code",
   "execution_count": 19,
   "id": "3ef56adf",
   "metadata": {},
   "outputs": [
    {
     "data": {
      "text/plain": [
       "2.718281828459045"
      ]
     },
     "execution_count": 19,
     "metadata": {},
     "output_type": "execute_result"
    }
   ],
   "source": [
    "np.e"
   ]
  },
  {
   "cell_type": "code",
   "execution_count": 20,
   "id": "0358b5c1",
   "metadata": {},
   "outputs": [
    {
     "data": {
      "text/plain": [
       "array([ 6,  7,  8,  9, 10])"
      ]
     },
     "execution_count": 20,
     "metadata": {},
     "output_type": "execute_result"
    }
   ],
   "source": [
    "d = np.array(b)\n",
    "d"
   ]
  },
  {
   "cell_type": "code",
   "execution_count": 21,
   "id": "f71e6690",
   "metadata": {},
   "outputs": [
    {
     "data": {
      "text/plain": [
       "array([1, 2, 3, 4, 5])"
      ]
     },
     "execution_count": 21,
     "metadata": {},
     "output_type": "execute_result"
    }
   ],
   "source": [
    "c"
   ]
  },
  {
   "cell_type": "code",
   "execution_count": 22,
   "id": "87f44aab",
   "metadata": {},
   "outputs": [
    {
     "data": {
      "text/plain": [
       "array([ 6,  7,  8,  9, 10])"
      ]
     },
     "execution_count": 22,
     "metadata": {},
     "output_type": "execute_result"
    }
   ],
   "source": [
    "d"
   ]
  },
  {
   "cell_type": "code",
   "execution_count": 23,
   "id": "2d214456",
   "metadata": {},
   "outputs": [
    {
     "data": {
      "text/plain": [
       "array([ 7,  9, 11, 13, 15])"
      ]
     },
     "execution_count": 23,
     "metadata": {},
     "output_type": "execute_result"
    }
   ],
   "source": [
    "c+d"
   ]
  },
  {
   "cell_type": "code",
   "execution_count": 24,
   "id": "d6ee3546",
   "metadata": {},
   "outputs": [],
   "source": [
    "d2 = np.array([6,7,8,9,10,11])"
   ]
  },
  {
   "cell_type": "code",
   "execution_count": 25,
   "id": "7bdcd378",
   "metadata": {},
   "outputs": [
    {
     "data": {
      "text/plain": [
       "6"
      ]
     },
     "execution_count": 25,
     "metadata": {},
     "output_type": "execute_result"
    }
   ],
   "source": [
    "d2.size"
   ]
  },
  {
   "cell_type": "code",
   "execution_count": 26,
   "id": "8481c93e",
   "metadata": {},
   "outputs": [
    {
     "data": {
      "text/plain": [
       "5"
      ]
     },
     "execution_count": 26,
     "metadata": {},
     "output_type": "execute_result"
    }
   ],
   "source": [
    "c.size"
   ]
  },
  {
   "cell_type": "markdown",
   "id": "2b440fce",
   "metadata": {},
   "source": [
    "The arrays must be the same size"
   ]
  },
  {
   "cell_type": "code",
   "execution_count": 27,
   "id": "f1cf72e8",
   "metadata": {},
   "outputs": [
    {
     "ename": "ValueError",
     "evalue": "operands could not be broadcast together with shapes (5,) (6,) ",
     "output_type": "error",
     "traceback": [
      "\u001b[1;31m---------------------------------------------------------------------------\u001b[0m",
      "\u001b[1;31mValueError\u001b[0m                                Traceback (most recent call last)",
      "Cell \u001b[1;32mIn[27], line 1\u001b[0m\n\u001b[1;32m----> 1\u001b[0m c \u001b[38;5;241m+\u001b[39m d2\n",
      "\u001b[1;31mValueError\u001b[0m: operands could not be broadcast together with shapes (5,) (6,) "
     ]
    }
   ],
   "source": [
    "c + d2"
   ]
  },
  {
   "cell_type": "code",
   "execution_count": 28,
   "id": "c485c517",
   "metadata": {},
   "outputs": [
    {
     "data": {
      "text/plain": [
       "(5,)"
      ]
     },
     "execution_count": 28,
     "metadata": {},
     "output_type": "execute_result"
    }
   ],
   "source": [
    "c.shape"
   ]
  },
  {
   "cell_type": "code",
   "execution_count": 29,
   "id": "78fcd085",
   "metadata": {},
   "outputs": [
    {
     "data": {
      "text/plain": [
       "1"
      ]
     },
     "execution_count": 29,
     "metadata": {},
     "output_type": "execute_result"
    }
   ],
   "source": [
    "c.ndim"
   ]
  },
  {
   "cell_type": "code",
   "execution_count": 30,
   "id": "4183620b",
   "metadata": {},
   "outputs": [
    {
     "data": {
      "text/plain": [
       "(array([1, 2, 3, 4, 5]), array([ 6,  7,  8,  9, 10]))"
      ]
     },
     "execution_count": 30,
     "metadata": {},
     "output_type": "execute_result"
    }
   ],
   "source": [
    "c,d"
   ]
  },
  {
   "cell_type": "code",
   "execution_count": 31,
   "id": "ad5458d5",
   "metadata": {},
   "outputs": [
    {
     "data": {
      "text/plain": [
       "array([ 6, 14, 24, 36, 50])"
      ]
     },
     "execution_count": 31,
     "metadata": {},
     "output_type": "execute_result"
    }
   ],
   "source": [
    "c*d"
   ]
  },
  {
   "cell_type": "code",
   "execution_count": 32,
   "id": "ea3fe7fa",
   "metadata": {},
   "outputs": [
    {
     "data": {
      "text/plain": [
       "array([0.16666667, 0.28571429, 0.375     , 0.44444444, 0.5       ])"
      ]
     },
     "execution_count": 32,
     "metadata": {},
     "output_type": "execute_result"
    }
   ],
   "source": [
    "c/d"
   ]
  },
  {
   "cell_type": "code",
   "execution_count": 33,
   "id": "0ca3092a",
   "metadata": {},
   "outputs": [
    {
     "data": {
      "text/plain": [
       "array([6.        , 3.5       , 2.66666667, 2.25      , 2.        ])"
      ]
     },
     "execution_count": 33,
     "metadata": {},
     "output_type": "execute_result"
    }
   ],
   "source": [
    "d/c"
   ]
  },
  {
   "cell_type": "code",
   "execution_count": 34,
   "id": "753eb2f4",
   "metadata": {},
   "outputs": [
    {
     "data": {
      "text/plain": [
       "array([      1,     128,    6561,  262144, 9765625])"
      ]
     },
     "execution_count": 34,
     "metadata": {},
     "output_type": "execute_result"
    }
   ],
   "source": [
    "c**d"
   ]
  },
  {
   "cell_type": "code",
   "execution_count": 35,
   "id": "65f73c1d",
   "metadata": {},
   "outputs": [
    {
     "data": {
      "text/plain": [
       "array([1, 2, 3, 4, 5])"
      ]
     },
     "execution_count": 35,
     "metadata": {},
     "output_type": "execute_result"
    }
   ],
   "source": [
    "c"
   ]
  },
  {
   "cell_type": "code",
   "execution_count": 36,
   "id": "a7bc84a5",
   "metadata": {},
   "outputs": [
    {
     "data": {
      "text/plain": [
       "2"
      ]
     },
     "execution_count": 36,
     "metadata": {},
     "output_type": "execute_result"
    }
   ],
   "source": [
    "c[1]"
   ]
  },
  {
   "cell_type": "code",
   "execution_count": 37,
   "id": "8b03c15c",
   "metadata": {},
   "outputs": [
    {
     "data": {
      "text/plain": [
       "1"
      ]
     },
     "execution_count": 37,
     "metadata": {},
     "output_type": "execute_result"
    }
   ],
   "source": [
    "c[0]"
   ]
  },
  {
   "cell_type": "code",
   "execution_count": 38,
   "id": "b95b86dc",
   "metadata": {},
   "outputs": [
    {
     "data": {
      "text/plain": [
       "5"
      ]
     },
     "execution_count": 38,
     "metadata": {},
     "output_type": "execute_result"
    }
   ],
   "source": [
    "c[-1]"
   ]
  },
  {
   "cell_type": "code",
   "execution_count": 39,
   "id": "85ddb2c5",
   "metadata": {},
   "outputs": [
    {
     "data": {
      "text/plain": [
       "array([1, 2, 3])"
      ]
     },
     "execution_count": 39,
     "metadata": {},
     "output_type": "execute_result"
    }
   ],
   "source": [
    "c[:3]"
   ]
  },
  {
   "cell_type": "code",
   "execution_count": 40,
   "id": "cf0dd4f0",
   "metadata": {},
   "outputs": [
    {
     "data": {
      "text/plain": [
       "array([3, 4, 5])"
      ]
     },
     "execution_count": 40,
     "metadata": {},
     "output_type": "execute_result"
    }
   ],
   "source": [
    "c[2:]"
   ]
  },
  {
   "cell_type": "code",
   "execution_count": 41,
   "id": "4ad7298f",
   "metadata": {},
   "outputs": [
    {
     "data": {
      "text/plain": [
       "array([2, 4])"
      ]
     },
     "execution_count": 41,
     "metadata": {},
     "output_type": "execute_result"
    }
   ],
   "source": [
    "c[1:5:2]"
   ]
  },
  {
   "cell_type": "code",
   "execution_count": 42,
   "id": "3be42040",
   "metadata": {},
   "outputs": [
    {
     "data": {
      "text/plain": [
       "array([2, 3, 4, 5])"
      ]
     },
     "execution_count": 42,
     "metadata": {},
     "output_type": "execute_result"
    }
   ],
   "source": [
    "c[1:5:]"
   ]
  },
  {
   "cell_type": "code",
   "execution_count": 43,
   "id": "967ea2e1",
   "metadata": {},
   "outputs": [
    {
     "data": {
      "text/plain": [
       "array([1, 2, 3, 4, 5])"
      ]
     },
     "execution_count": 43,
     "metadata": {},
     "output_type": "execute_result"
    }
   ],
   "source": [
    "c"
   ]
  },
  {
   "cell_type": "markdown",
   "id": "74679404",
   "metadata": {},
   "source": [
    "You can have multi-dimensional arrays too"
   ]
  },
  {
   "cell_type": "code",
   "execution_count": 44,
   "id": "33e88990",
   "metadata": {},
   "outputs": [
    {
     "data": {
      "text/plain": [
       "[[1, 2], [3, 4], [5, 6]]"
      ]
     },
     "execution_count": 44,
     "metadata": {},
     "output_type": "execute_result"
    }
   ],
   "source": [
    "[[1,2],[3,4],[5,6]]"
   ]
  },
  {
   "cell_type": "code",
   "execution_count": 45,
   "id": "20caad28",
   "metadata": {},
   "outputs": [],
   "source": [
    "e = np.array([[1,2],[3,4],[5,6]])"
   ]
  },
  {
   "cell_type": "code",
   "execution_count": 46,
   "id": "660f635e",
   "metadata": {},
   "outputs": [
    {
     "data": {
      "text/plain": [
       "array([[1, 2],\n",
       "       [3, 4],\n",
       "       [5, 6]])"
      ]
     },
     "execution_count": 46,
     "metadata": {},
     "output_type": "execute_result"
    }
   ],
   "source": [
    "e"
   ]
  },
  {
   "cell_type": "code",
   "execution_count": 47,
   "id": "6ce4abb2",
   "metadata": {},
   "outputs": [
    {
     "data": {
      "text/plain": [
       "6"
      ]
     },
     "execution_count": 47,
     "metadata": {},
     "output_type": "execute_result"
    }
   ],
   "source": [
    "e.size"
   ]
  },
  {
   "cell_type": "code",
   "execution_count": 48,
   "id": "907e5a6f",
   "metadata": {},
   "outputs": [
    {
     "data": {
      "text/plain": [
       "(3, 2)"
      ]
     },
     "execution_count": 48,
     "metadata": {},
     "output_type": "execute_result"
    }
   ],
   "source": [
    "e.shape"
   ]
  },
  {
   "cell_type": "code",
   "execution_count": 49,
   "id": "8d0ece1f",
   "metadata": {},
   "outputs": [
    {
     "data": {
      "text/plain": [
       "2"
      ]
     },
     "execution_count": 49,
     "metadata": {},
     "output_type": "execute_result"
    }
   ],
   "source": [
    "e.ndim"
   ]
  },
  {
   "cell_type": "code",
   "execution_count": 50,
   "id": "a9a73fba",
   "metadata": {},
   "outputs": [
    {
     "data": {
      "text/plain": [
       "array([ 1,  2,  3,  4,  5,  6,  7,  8,  9, 10, 11, 12, 13, 14, 15, 16, 17])"
      ]
     },
     "execution_count": 50,
     "metadata": {},
     "output_type": "execute_result"
    }
   ],
   "source": [
    "np.arange(1,18)"
   ]
  },
  {
   "cell_type": "code",
   "execution_count": 51,
   "id": "8aa4f463",
   "metadata": {},
   "outputs": [
    {
     "data": {
      "text/plain": [
       "array([ 1,  4,  7, 10, 13, 16])"
      ]
     },
     "execution_count": 51,
     "metadata": {},
     "output_type": "execute_result"
    }
   ],
   "source": [
    "np.arange(1,18,3)"
   ]
  },
  {
   "cell_type": "code",
   "execution_count": 52,
   "id": "e9dd5666",
   "metadata": {},
   "outputs": [
    {
     "data": {
      "text/plain": [
       "array([0. , 0.1, 0.2, 0.3, 0.4, 0.5, 0.6, 0.7, 0.8, 0.9, 1. ])"
      ]
     },
     "execution_count": 52,
     "metadata": {},
     "output_type": "execute_result"
    }
   ],
   "source": [
    "np.linspace(0,1,11)"
   ]
  },
  {
   "cell_type": "code",
   "execution_count": 53,
   "id": "2cd54c1c",
   "metadata": {},
   "outputs": [
    {
     "data": {
      "text/plain": [
       "array([[[1, 1],\n",
       "        [2, 1]],\n",
       "\n",
       "       [[3, 1],\n",
       "        [4, 1]],\n",
       "\n",
       "       [[5, 1],\n",
       "        [6, 1]]])"
      ]
     },
     "execution_count": 53,
     "metadata": {},
     "output_type": "execute_result"
    }
   ],
   "source": [
    "np.array([\n",
    "    [[1,1],\n",
    "     [2,1]],\n",
    "    [[3,1],\n",
    "     [4,1]],\n",
    "    [[5,1],\n",
    "     [6,1]]\n",
    "   ])"
   ]
  },
  {
   "cell_type": "code",
   "execution_count": 54,
   "id": "d1ee1f88",
   "metadata": {},
   "outputs": [],
   "source": [
    "x = np.linspace(0,10,1001)\n",
    "\n",
    "y = x**2"
   ]
  },
  {
   "cell_type": "markdown",
   "id": "356e57d6",
   "metadata": {},
   "source": [
    "Let's do a quick plot"
   ]
  },
  {
   "cell_type": "code",
   "execution_count": 55,
   "id": "6c1fb29b",
   "metadata": {},
   "outputs": [
    {
     "data": {
      "text/plain": [
       "[<matplotlib.lines.Line2D at 0x205bbe67e10>]"
      ]
     },
     "execution_count": 55,
     "metadata": {},
     "output_type": "execute_result"
    },
    {
     "data": {
      "image/png": "[encoded data removed]",
      "text/plain": [
       "<Figure size 640x480 with 1 Axes>"
      ]
     },
     "metadata": {},
     "output_type": "display_data"
    }
   ],
   "source": [
    "import matplotlib.pyplot as plt\n",
    "\n",
    "plt.plot(x,y)"
   ]
  },
  {
   "cell_type": "code",
   "execution_count": 56,
   "id": "15d7012d",
   "metadata": {},
   "outputs": [
    {
     "data": {
      "text/plain": [
       "array([ 1,  2,  3,  4,  5,  6,  7,  8,  9, 10, 11, 12, 13, 14, 15, 16, 17,\n",
       "       18, 19, 20, 21, 22, 23, 24, 25, 26, 27, 28, 29, 30])"
      ]
     },
     "execution_count": 56,
     "metadata": {},
     "output_type": "execute_result"
    }
   ],
   "source": [
    "np.arange(1,31)"
   ]
  },
  {
   "cell_type": "code",
   "execution_count": 57,
   "id": "029dfad3",
   "metadata": {},
   "outputs": [],
   "source": [
    "f = np.arange(1,31)"
   ]
  },
  {
   "cell_type": "code",
   "execution_count": 58,
   "id": "0d523c08",
   "metadata": {},
   "outputs": [
    {
     "data": {
      "text/plain": [
       "array([[ 1,  2,  3,  4,  5,  6,  7,  8,  9, 10],\n",
       "       [11, 12, 13, 14, 15, 16, 17, 18, 19, 20],\n",
       "       [21, 22, 23, 24, 25, 26, 27, 28, 29, 30]])"
      ]
     },
     "execution_count": 58,
     "metadata": {},
     "output_type": "execute_result"
    }
   ],
   "source": [
    "f.reshape(3,10)"
   ]
  },
  {
   "cell_type": "code",
   "execution_count": 59,
   "id": "938f5253",
   "metadata": {},
   "outputs": [
    {
     "data": {
      "text/plain": [
       "array([ 1,  2,  3,  4,  5,  6,  7,  8,  9, 10, 11, 12, 13, 14, 15, 16, 17,\n",
       "       18, 19, 20, 21, 22, 23, 24, 25, 26, 27, 28, 29, 30])"
      ]
     },
     "execution_count": 59,
     "metadata": {},
     "output_type": "execute_result"
    }
   ],
   "source": [
    "f"
   ]
  },
  {
   "cell_type": "code",
   "execution_count": 60,
   "id": "d46f531e",
   "metadata": {},
   "outputs": [
    {
     "data": {
      "text/plain": [
       "array([[ 1,  2,  3,  4,  5,  6],\n",
       "       [ 7,  8,  9, 10, 11, 12],\n",
       "       [13, 14, 15, 16, 17, 18],\n",
       "       [19, 20, 21, 22, 23, 24],\n",
       "       [25, 26, 27, 28, 29, 30]])"
      ]
     },
     "execution_count": 60,
     "metadata": {},
     "output_type": "execute_result"
    }
   ],
   "source": [
    "f.reshape(5,6)"
   ]
  },
  {
   "cell_type": "code",
   "execution_count": 61,
   "id": "4715e4f8",
   "metadata": {},
   "outputs": [
    {
     "data": {
      "text/plain": [
       "array([[ 1,  2,  3,  4,  5,  6,  7,  8,  9, 10, 11, 12, 13, 14, 15],\n",
       "       [16, 17, 18, 19, 20, 21, 22, 23, 24, 25, 26, 27, 28, 29, 30]])"
      ]
     },
     "execution_count": 61,
     "metadata": {},
     "output_type": "execute_result"
    }
   ],
   "source": [
    "f.reshape(2,15)"
   ]
  },
  {
   "cell_type": "code",
   "execution_count": 62,
   "id": "e4f04bfd",
   "metadata": {},
   "outputs": [
    {
     "data": {
      "text/plain": [
       "array([[[ 1,  2,  3,  4,  5],\n",
       "        [ 6,  7,  8,  9, 10],\n",
       "        [11, 12, 13, 14, 15]],\n",
       "\n",
       "       [[16, 17, 18, 19, 20],\n",
       "        [21, 22, 23, 24, 25],\n",
       "        [26, 27, 28, 29, 30]]])"
      ]
     },
     "execution_count": 62,
     "metadata": {},
     "output_type": "execute_result"
    }
   ],
   "source": [
    "f.reshape(2,3,5)"
   ]
  },
  {
   "cell_type": "code",
   "execution_count": 63,
   "id": "d92e7a6f",
   "metadata": {},
   "outputs": [
    {
     "data": {
      "text/plain": [
       "array([[[ 1,  2,  3],\n",
       "        [ 4,  5,  6]],\n",
       "\n",
       "       [[ 7,  8,  9],\n",
       "        [10, 11, 12]],\n",
       "\n",
       "       [[13, 14, 15],\n",
       "        [16, 17, 18]],\n",
       "\n",
       "       [[19, 20, 21],\n",
       "        [22, 23, 24]],\n",
       "\n",
       "       [[25, 26, 27],\n",
       "        [28, 29, 30]]])"
      ]
     },
     "execution_count": 63,
     "metadata": {},
     "output_type": "execute_result"
    }
   ],
   "source": [
    "f.reshape(5,2,3)"
   ]
  },
  {
   "cell_type": "code",
   "execution_count": 64,
   "id": "c78baddc",
   "metadata": {},
   "outputs": [],
   "source": [
    "g = f.reshape(5,6)"
   ]
  },
  {
   "cell_type": "code",
   "execution_count": 65,
   "id": "2d0e6892",
   "metadata": {},
   "outputs": [
    {
     "data": {
      "text/plain": [
       "array([[ 1,  2,  3,  4,  5,  6],\n",
       "       [ 7,  8,  9, 10, 11, 12],\n",
       "       [13, 14, 15, 16, 17, 18],\n",
       "       [19, 20, 21, 22, 23, 24],\n",
       "       [25, 26, 27, 28, 29, 30]])"
      ]
     },
     "execution_count": 65,
     "metadata": {},
     "output_type": "execute_result"
    }
   ],
   "source": [
    "g"
   ]
  },
  {
   "cell_type": "code",
   "execution_count": 66,
   "id": "72b467d2",
   "metadata": {},
   "outputs": [
    {
     "data": {
      "text/plain": [
       "array([1, 2, 3, 4, 5, 6])"
      ]
     },
     "execution_count": 66,
     "metadata": {},
     "output_type": "execute_result"
    }
   ],
   "source": [
    "g[0]"
   ]
  },
  {
   "cell_type": "code",
   "execution_count": 67,
   "id": "b4469e5a",
   "metadata": {},
   "outputs": [
    {
     "data": {
      "text/plain": [
       "array([[ 1,  2,  3,  4,  5,  6],\n",
       "       [13, 14, 15, 16, 17, 18],\n",
       "       [25, 26, 27, 28, 29, 30]])"
      ]
     },
     "execution_count": 67,
     "metadata": {},
     "output_type": "execute_result"
    }
   ],
   "source": [
    "g[::2]"
   ]
  },
  {
   "cell_type": "code",
   "execution_count": 68,
   "id": "3985aaf7",
   "metadata": {},
   "outputs": [
    {
     "data": {
      "text/plain": [
       "3"
      ]
     },
     "execution_count": 68,
     "metadata": {},
     "output_type": "execute_result"
    }
   ],
   "source": [
    "g[0][2]"
   ]
  },
  {
   "cell_type": "code",
   "execution_count": 69,
   "id": "cdfa424c",
   "metadata": {},
   "outputs": [
    {
     "data": {
      "text/plain": [
       "3"
      ]
     },
     "execution_count": 69,
     "metadata": {},
     "output_type": "execute_result"
    }
   ],
   "source": [
    "g[0,2]"
   ]
  },
  {
   "cell_type": "markdown",
   "id": "17dda437",
   "metadata": {},
   "source": [
    "Slicing works on multi-dimensional arrays too"
   ]
  },
  {
   "cell_type": "code",
   "execution_count": 70,
   "id": "cc963351",
   "metadata": {},
   "outputs": [
    {
     "data": {
      "text/plain": [
       "array([[ 1,  4],\n",
       "       [13, 16],\n",
       "       [25, 28]])"
      ]
     },
     "execution_count": 70,
     "metadata": {},
     "output_type": "execute_result"
    }
   ],
   "source": [
    "g[::2,::3]"
   ]
  },
  {
   "cell_type": "code",
   "execution_count": 71,
   "id": "0064cb3f",
   "metadata": {},
   "outputs": [
    {
     "data": {
      "text/plain": [
       "array([[ 1,  2,  3,  4,  5,  6],\n",
       "       [ 7,  8,  9, 10, 11, 12],\n",
       "       [13, 14, 15, 16, 17, 18],\n",
       "       [19, 20, 21, 22, 23, 24],\n",
       "       [25, 26, 27, 28, 29, 30]])"
      ]
     },
     "execution_count": 71,
     "metadata": {},
     "output_type": "execute_result"
    }
   ],
   "source": [
    "g"
   ]
  },
  {
   "cell_type": "code",
   "execution_count": 72,
   "id": "d03a0dd2",
   "metadata": {},
   "outputs": [
    {
     "data": {
      "text/plain": [
       "array([[ 8,  9],\n",
       "       [14, 15]])"
      ]
     },
     "execution_count": 72,
     "metadata": {},
     "output_type": "execute_result"
    }
   ],
   "source": [
    "g[1:3,1:3]"
   ]
  },
  {
   "cell_type": "code",
   "execution_count": 73,
   "id": "407b34bd",
   "metadata": {},
   "outputs": [
    {
     "data": {
      "text/plain": [
       "16"
      ]
     },
     "execution_count": 73,
     "metadata": {},
     "output_type": "execute_result"
    }
   ],
   "source": [
    "g[2,3]"
   ]
  },
  {
   "cell_type": "code",
   "execution_count": 74,
   "id": "7e57a4d0",
   "metadata": {},
   "outputs": [
    {
     "data": {
      "text/plain": [
       "array([[16, 17],\n",
       "       [22, 23],\n",
       "       [28, 29]])"
      ]
     },
     "execution_count": 74,
     "metadata": {},
     "output_type": "execute_result"
    }
   ],
   "source": [
    "g[2:5,3:5]"
   ]
  },
  {
   "cell_type": "code",
   "execution_count": 75,
   "id": "ca1d4ba7",
   "metadata": {},
   "outputs": [
    {
     "data": {
      "text/plain": [
       "array([[16, 17],\n",
       "       [22, 23],\n",
       "       [28, 29]])"
      ]
     },
     "execution_count": 75,
     "metadata": {},
     "output_type": "execute_result"
    }
   ],
   "source": [
    "g[-3:,3:5]"
   ]
  },
  {
   "cell_type": "code",
   "execution_count": 76,
   "id": "ec84a7a7",
   "metadata": {},
   "outputs": [
    {
     "data": {
      "text/plain": [
       "array([[16, 17],\n",
       "       [22, 23],\n",
       "       [28, 29]])"
      ]
     },
     "execution_count": 76,
     "metadata": {},
     "output_type": "execute_result"
    }
   ],
   "source": [
    "g[2:5,3:5]"
   ]
  },
  {
   "cell_type": "code",
   "execution_count": 77,
   "id": "90a4b757",
   "metadata": {},
   "outputs": [],
   "source": [
    "g[2:5,3:5] = 99"
   ]
  },
  {
   "cell_type": "code",
   "execution_count": 78,
   "id": "d1653cb1",
   "metadata": {},
   "outputs": [
    {
     "data": {
      "text/plain": [
       "array([[ 1,  2,  3,  4,  5,  6],\n",
       "       [ 7,  8,  9, 10, 11, 12],\n",
       "       [13, 14, 15, 99, 99, 18],\n",
       "       [19, 20, 21, 99, 99, 24],\n",
       "       [25, 26, 27, 99, 99, 30]])"
      ]
     },
     "execution_count": 78,
     "metadata": {},
     "output_type": "execute_result"
    }
   ],
   "source": [
    "g"
   ]
  },
  {
   "cell_type": "code",
   "execution_count": 79,
   "id": "cfd71ae4",
   "metadata": {},
   "outputs": [
    {
     "data": {
      "text/plain": [
       "array([ 1,  2,  3,  4,  5,  6,  7,  8,  9, 10, 11, 12, 13, 14, 15, 99, 99,\n",
       "       18, 19, 20, 21, 99, 99, 24, 25, 26, 27, 99, 99, 30])"
      ]
     },
     "execution_count": 79,
     "metadata": {},
     "output_type": "execute_result"
    }
   ],
   "source": [
    "f"
   ]
  },
  {
   "cell_type": "code",
   "execution_count": 80,
   "id": "15c69ce5",
   "metadata": {},
   "outputs": [],
   "source": [
    "h = g[2:5,3:5]"
   ]
  },
  {
   "cell_type": "code",
   "execution_count": 81,
   "id": "944709e1",
   "metadata": {},
   "outputs": [
    {
     "data": {
      "text/plain": [
       "array([[99, 99],\n",
       "       [99, 99],\n",
       "       [99, 99]])"
      ]
     },
     "execution_count": 81,
     "metadata": {},
     "output_type": "execute_result"
    }
   ],
   "source": [
    "h"
   ]
  },
  {
   "cell_type": "code",
   "execution_count": 82,
   "id": "3950e443",
   "metadata": {},
   "outputs": [],
   "source": [
    "h[1,1] = 199"
   ]
  },
  {
   "cell_type": "code",
   "execution_count": 83,
   "id": "45c73c47",
   "metadata": {},
   "outputs": [
    {
     "data": {
      "text/plain": [
       "array([[ 99,  99],\n",
       "       [ 99, 199],\n",
       "       [ 99,  99]])"
      ]
     },
     "execution_count": 83,
     "metadata": {},
     "output_type": "execute_result"
    }
   ],
   "source": [
    "h"
   ]
  },
  {
   "cell_type": "code",
   "execution_count": 84,
   "id": "e3329b30",
   "metadata": {},
   "outputs": [
    {
     "data": {
      "text/plain": [
       "array([[  1,   2,   3,   4,   5,   6],\n",
       "       [  7,   8,   9,  10,  11,  12],\n",
       "       [ 13,  14,  15,  99,  99,  18],\n",
       "       [ 19,  20,  21,  99, 199,  24],\n",
       "       [ 25,  26,  27,  99,  99,  30]])"
      ]
     },
     "execution_count": 84,
     "metadata": {},
     "output_type": "execute_result"
    }
   ],
   "source": [
    "g"
   ]
  },
  {
   "cell_type": "code",
   "execution_count": 85,
   "id": "28a227fd",
   "metadata": {},
   "outputs": [
    {
     "data": {
      "text/plain": [
       "array([  1,   2,   3,   4,   5,   6,   7,   8,   9,  10,  11,  12,  13,\n",
       "        14,  15,  99,  99,  18,  19,  20,  21,  99, 199,  24,  25,  26,\n",
       "        27,  99,  99,  30])"
      ]
     },
     "execution_count": 85,
     "metadata": {},
     "output_type": "execute_result"
    }
   ],
   "source": [
    "f"
   ]
  },
  {
   "cell_type": "code",
   "execution_count": 86,
   "id": "d61b6c95",
   "metadata": {},
   "outputs": [],
   "source": [
    "j = g[2:5,3:5].copy()"
   ]
  },
  {
   "cell_type": "code",
   "execution_count": 87,
   "id": "3461a7c1",
   "metadata": {},
   "outputs": [
    {
     "data": {
      "text/plain": [
       "array([[ 99,  99],\n",
       "       [ 99, 199],\n",
       "       [ 99,  99]])"
      ]
     },
     "execution_count": 87,
     "metadata": {},
     "output_type": "execute_result"
    }
   ],
   "source": [
    "j"
   ]
  },
  {
   "cell_type": "code",
   "execution_count": 88,
   "id": "233a76ad",
   "metadata": {},
   "outputs": [],
   "source": [
    "j[0,1] = 299"
   ]
  },
  {
   "cell_type": "code",
   "execution_count": 89,
   "id": "d7ced3ea",
   "metadata": {},
   "outputs": [
    {
     "data": {
      "text/plain": [
       "array([[ 99, 299],\n",
       "       [ 99, 199],\n",
       "       [ 99,  99]])"
      ]
     },
     "execution_count": 89,
     "metadata": {},
     "output_type": "execute_result"
    }
   ],
   "source": [
    "j"
   ]
  },
  {
   "cell_type": "code",
   "execution_count": 90,
   "id": "7ab0d4cd",
   "metadata": {},
   "outputs": [
    {
     "data": {
      "text/plain": [
       "array([[ 99,  99],\n",
       "       [ 99, 199],\n",
       "       [ 99,  99]])"
      ]
     },
     "execution_count": 90,
     "metadata": {},
     "output_type": "execute_result"
    }
   ],
   "source": [
    "h"
   ]
  },
  {
   "cell_type": "code",
   "execution_count": 91,
   "id": "4e78058b",
   "metadata": {},
   "outputs": [
    {
     "data": {
      "text/plain": [
       "array([[  1,   2,   3,   4,   5,   6],\n",
       "       [  7,   8,   9,  10,  11,  12],\n",
       "       [ 13,  14,  15,  99,  99,  18],\n",
       "       [ 19,  20,  21,  99, 199,  24],\n",
       "       [ 25,  26,  27,  99,  99,  30]])"
      ]
     },
     "execution_count": 91,
     "metadata": {},
     "output_type": "execute_result"
    }
   ],
   "source": [
    "g"
   ]
  },
  {
   "cell_type": "code",
   "execution_count": 92,
   "id": "612efb56",
   "metadata": {},
   "outputs": [
    {
     "data": {
      "text/plain": [
       "array([  1,   2,   3,   4,   5,   6,   7,   8,   9,  10,  11,  12,  13,\n",
       "        14,  15,  99,  99,  18,  19,  20,  21,  99, 199,  24,  25,  26,\n",
       "        27,  99,  99,  30])"
      ]
     },
     "execution_count": 92,
     "metadata": {},
     "output_type": "execute_result"
    }
   ],
   "source": [
    "f"
   ]
  },
  {
   "cell_type": "code",
   "execution_count": 93,
   "id": "c64206f2",
   "metadata": {},
   "outputs": [
    {
     "data": {
      "text/plain": [
       "array([  1,   2,   3,   4,   5,   6,   7,   8,   9,  10,  11,  12,  13,\n",
       "        14,  15,  99,  99,  18,  19,  20,  21,  99, 199,  24,  25,  26,\n",
       "        27,  99,  99,  30])"
      ]
     },
     "execution_count": 93,
     "metadata": {},
     "output_type": "execute_result"
    }
   ],
   "source": [
    "g.flatten()"
   ]
  },
  {
   "cell_type": "code",
   "execution_count": 94,
   "id": "508ab082",
   "metadata": {},
   "outputs": [
    {
     "data": {
      "text/plain": [
       "199"
      ]
     },
     "execution_count": 94,
     "metadata": {},
     "output_type": "execute_result"
    }
   ],
   "source": [
    "g.max()"
   ]
  },
  {
   "cell_type": "code",
   "execution_count": 95,
   "id": "2a87caea",
   "metadata": {},
   "outputs": [
    {
     "data": {
      "text/plain": [
       "22"
      ]
     },
     "execution_count": 95,
     "metadata": {},
     "output_type": "execute_result"
    }
   ],
   "source": [
    "g.argmax()"
   ]
  },
  {
   "cell_type": "code",
   "execution_count": 96,
   "id": "99ba9f19",
   "metadata": {},
   "outputs": [
    {
     "data": {
      "text/plain": [
       "34.13333333333333"
      ]
     },
     "execution_count": 96,
     "metadata": {},
     "output_type": "execute_result"
    }
   ],
   "source": [
    "g.mean()"
   ]
  },
  {
   "cell_type": "code",
   "execution_count": 97,
   "id": "f871e94c",
   "metadata": {},
   "outputs": [
    {
     "data": {
      "text/plain": [
       "44.6935739850323"
      ]
     },
     "execution_count": 97,
     "metadata": {},
     "output_type": "execute_result"
    }
   ],
   "source": [
    "g.std()"
   ]
  },
  {
   "cell_type": "code",
   "execution_count": 98,
   "id": "2ac24e25",
   "metadata": {},
   "outputs": [],
   "source": [
    "g.sort()"
   ]
  },
  {
   "cell_type": "code",
   "execution_count": 99,
   "id": "ead7b63a",
   "metadata": {},
   "outputs": [
    {
     "data": {
      "text/plain": [
       "array([[  1,   2,   3,   4,   5,   6],\n",
       "       [  7,   8,   9,  10,  11,  12],\n",
       "       [ 13,  14,  15,  18,  99,  99],\n",
       "       [ 19,  20,  21,  24,  99, 199],\n",
       "       [ 25,  26,  27,  30,  99,  99]])"
      ]
     },
     "execution_count": 99,
     "metadata": {},
     "output_type": "execute_result"
    }
   ],
   "source": [
    "g"
   ]
  },
  {
   "cell_type": "code",
   "execution_count": 100,
   "id": "fd46b5d1",
   "metadata": {},
   "outputs": [
    {
     "name": "stdout",
     "output_type": "stream",
     "text": [
      "Help on built-in function sort:\n",
      "\n",
      "sort(...) method of numpy.ndarray instance\n",
      "    a.sort(axis=-1, kind=None, order=None)\n",
      "    \n",
      "    Sort an array in-place. Refer to `numpy.sort` for full documentation.\n",
      "    \n",
      "    Parameters\n",
      "    ----------\n",
      "    axis : int, optional\n",
      "        Axis along which to sort. Default is -1, which means sort along the\n",
      "        last axis.\n",
      "    kind : {'quicksort', 'mergesort', 'heapsort', 'stable'}, optional\n",
      "        Sorting algorithm. The default is 'quicksort'. Note that both 'stable'\n",
      "        and 'mergesort' use timsort under the covers and, in general, the\n",
      "        actual implementation will vary with datatype. The 'mergesort' option\n",
      "        is retained for backwards compatibility.\n",
      "    \n",
      "        .. versionchanged:: 1.15.0\n",
      "           The 'stable' option was added.\n",
      "    \n",
      "    order : str or list of str, optional\n",
      "        When `a` is an array with fields defined, this argument specifies\n",
      "        which fields to compare first, second, etc.  A single field can\n",
      "        be specified as a string, and not all fields need be specified,\n",
      "        but unspecified fields will still be used, in the order in which\n",
      "        they come up in the dtype, to break ties.\n",
      "    \n",
      "    See Also\n",
      "    --------\n",
      "    numpy.sort : Return a sorted copy of an array.\n",
      "    numpy.argsort : Indirect sort.\n",
      "    numpy.lexsort : Indirect stable sort on multiple keys.\n",
      "    numpy.searchsorted : Find elements in sorted array.\n",
      "    numpy.partition: Partial sort.\n",
      "    \n",
      "    Notes\n",
      "    -----\n",
      "    See `numpy.sort` for notes on the different sorting algorithms.\n",
      "    \n",
      "    Examples\n",
      "    --------\n",
      "    >>> a = np.array([[1,4], [3,1]])\n",
      "    >>> a.sort(axis=1)\n",
      "    >>> a\n",
      "    array([[1, 4],\n",
      "           [1, 3]])\n",
      "    >>> a.sort(axis=0)\n",
      "    >>> a\n",
      "    array([[1, 3],\n",
      "           [1, 4]])\n",
      "    \n",
      "    Use the `order` keyword to specify a field to use when sorting a\n",
      "    structured array:\n",
      "    \n",
      "    >>> a = np.array([('a', 2), ('c', 1)], dtype=[('x', 'S1'), ('y', int)])\n",
      "    >>> a.sort(order='y')\n",
      "    >>> a\n",
      "    array([(b'c', 1), (b'a', 2)],\n",
      "          dtype=[('x', 'S1'), ('y', '<i8')])\n",
      "\n"
     ]
    }
   ],
   "source": [
    "help(g.sort)"
   ]
  },
  {
   "cell_type": "code",
   "execution_count": 101,
   "id": "9b0ef4a7",
   "metadata": {},
   "outputs": [
    {
     "data": {
      "text/plain": [
       "(5, 6)"
      ]
     },
     "execution_count": 101,
     "metadata": {},
     "output_type": "execute_result"
    }
   ],
   "source": [
    "g.shape"
   ]
  },
  {
   "cell_type": "code",
   "execution_count": 102,
   "id": "12223438",
   "metadata": {},
   "outputs": [
    {
     "data": {
      "text/plain": [
       "array([[[  1,   2,   3,   4,   5],\n",
       "        [  6,   7,   8,   9,  10],\n",
       "        [ 11,  12,  13,  14,  15]],\n",
       "\n",
       "       [[ 18,  99,  99,  19,  20],\n",
       "        [ 21,  24,  99, 199,  25],\n",
       "        [ 26,  27,  30,  99,  99]]])"
      ]
     },
     "execution_count": 102,
     "metadata": {},
     "output_type": "execute_result"
    }
   ],
   "source": [
    "g.reshape(2,3,5)"
   ]
  },
  {
   "cell_type": "code",
   "execution_count": 103,
   "id": "83262e71",
   "metadata": {},
   "outputs": [
    {
     "data": {
      "text/plain": [
       "array([[  1,   2,   3,   4,   5,   6],\n",
       "       [  7,   8,   9,  10,  11,  12],\n",
       "       [ 13,  14,  15,  18,  99,  99],\n",
       "       [ 19,  20,  21,  24,  99, 199],\n",
       "       [ 25,  26,  27,  30,  99,  99]])"
      ]
     },
     "execution_count": 103,
     "metadata": {},
     "output_type": "execute_result"
    }
   ],
   "source": [
    "g"
   ]
  },
  {
   "cell_type": "code",
   "execution_count": 104,
   "id": "ee538700",
   "metadata": {},
   "outputs": [
    {
     "data": {
      "text/plain": [
       "array([[False, False, False, False, False, False],\n",
       "       [False, False, False, False,  True,  True],\n",
       "       [ True,  True,  True,  True,  True,  True],\n",
       "       [ True,  True,  True,  True,  True,  True],\n",
       "       [ True,  True,  True,  True,  True,  True]])"
      ]
     },
     "execution_count": 104,
     "metadata": {},
     "output_type": "execute_result"
    }
   ],
   "source": [
    "g > 10"
   ]
  },
  {
   "cell_type": "code",
   "execution_count": 105,
   "id": "93501b88",
   "metadata": {},
   "outputs": [
    {
     "data": {
      "text/plain": [
       "array([ 18,  99,  99,  19,  20,  21,  24,  99, 199,  25,  26,  27,  30,\n",
       "        99,  99])"
      ]
     },
     "execution_count": 105,
     "metadata": {},
     "output_type": "execute_result"
    }
   ],
   "source": [
    "g[g>16]"
   ]
  },
  {
   "cell_type": "code",
   "execution_count": 106,
   "id": "4db877a5",
   "metadata": {},
   "outputs": [],
   "source": [
    "g[g>16] = -1"
   ]
  },
  {
   "cell_type": "code",
   "execution_count": 107,
   "id": "d3ff45a6",
   "metadata": {},
   "outputs": [
    {
     "data": {
      "text/plain": [
       "array([[ 1,  2,  3,  4,  5,  6],\n",
       "       [ 7,  8,  9, 10, 11, 12],\n",
       "       [13, 14, 15, -1, -1, -1],\n",
       "       [-1, -1, -1, -1, -1, -1],\n",
       "       [-1, -1, -1, -1, -1, -1]])"
      ]
     },
     "execution_count": 107,
     "metadata": {},
     "output_type": "execute_result"
    }
   ],
   "source": [
    "g"
   ]
  },
  {
   "cell_type": "code",
   "execution_count": 108,
   "id": "7f4391d1",
   "metadata": {},
   "outputs": [
    {
     "data": {
      "text/plain": [
       "array([[False, False, False, False, False, False],\n",
       "       [False, False, False, False,  True,  True],\n",
       "       [ True,  True, False, False, False, False],\n",
       "       [False, False, False, False, False, False],\n",
       "       [False, False, False, False, False, False]])"
      ]
     },
     "execution_count": 108,
     "metadata": {},
     "output_type": "execute_result"
    }
   ],
   "source": [
    "(g > 10) & (g < 15)"
   ]
  },
  {
   "cell_type": "code",
   "execution_count": 109,
   "id": "c2654f1d",
   "metadata": {},
   "outputs": [
    {
     "data": {
      "text/plain": [
       "array([[ True,  True,  True,  True,  True,  True],\n",
       "       [ True,  True,  True, False, False, False],\n",
       "       [False,  True,  True,  True,  True,  True],\n",
       "       [ True,  True,  True,  True,  True,  True],\n",
       "       [ True,  True,  True,  True,  True,  True]])"
      ]
     },
     "execution_count": 109,
     "metadata": {},
     "output_type": "execute_result"
    }
   ],
   "source": [
    "(g < 10) | (g > 13)"
   ]
  },
  {
   "cell_type": "markdown",
   "id": "e123faab",
   "metadata": {},
   "source": [
    "|Operator|Name|Description\n",
    "|:---|:---|:---|\n",
    "|&   |AND | True if both sides True|\n",
    "|\\|  |OR  | True if at least one side is True|\n",
    "|^   |XOR | Exclusive OR.  True if **one** side is True, but not if **both** sides are true "
   ]
  },
  {
   "cell_type": "code",
   "execution_count": 110,
   "id": "813d722f",
   "metadata": {},
   "outputs": [
    {
     "data": {
      "text/plain": [
       "array([1., 1., 1., 1.])"
      ]
     },
     "execution_count": 110,
     "metadata": {},
     "output_type": "execute_result"
    }
   ],
   "source": [
    "np.ones(4)"
   ]
  },
  {
   "cell_type": "code",
   "execution_count": 111,
   "id": "f1f6d62c",
   "metadata": {},
   "outputs": [
    {
     "data": {
      "text/plain": [
       "array([[1., 1., 1.],\n",
       "       [1., 1., 1.],\n",
       "       [1., 1., 1.],\n",
       "       [1., 1., 1.]])"
      ]
     },
     "execution_count": 111,
     "metadata": {},
     "output_type": "execute_result"
    }
   ],
   "source": [
    "np.ones((4,3))"
   ]
  },
  {
   "cell_type": "code",
   "execution_count": 112,
   "id": "92a6813a",
   "metadata": {},
   "outputs": [
    {
     "data": {
      "text/plain": [
       "array([7, 7, 7, 7, 7, 7, 7, 7, 7, 7])"
      ]
     },
     "execution_count": 112,
     "metadata": {},
     "output_type": "execute_result"
    }
   ],
   "source": [
    "np.full(10,7)"
   ]
  },
  {
   "cell_type": "code",
   "execution_count": 113,
   "id": "325afb82",
   "metadata": {},
   "outputs": [
    {
     "data": {
      "text/plain": [
       "array([[7, 7, 7],\n",
       "       [7, 7, 7],\n",
       "       [7, 7, 7],\n",
       "       [7, 7, 7]])"
      ]
     },
     "execution_count": 113,
     "metadata": {},
     "output_type": "execute_result"
    }
   ],
   "source": [
    "np.full((4,3),7)"
   ]
  },
  {
   "cell_type": "code",
   "execution_count": 114,
   "id": "10e343b6",
   "metadata": {},
   "outputs": [
    {
     "data": {
      "text/plain": [
       "array([[7, 7, 7, 7, 7, 7],\n",
       "       [7, 7, 7, 7, 7, 7],\n",
       "       [7, 7, 7, 7, 7, 7],\n",
       "       [7, 7, 7, 7, 7, 7],\n",
       "       [7, 7, 7, 7, 7, 7]])"
      ]
     },
     "execution_count": 114,
     "metadata": {},
     "output_type": "execute_result"
    }
   ],
   "source": [
    "np.full_like(g,7)"
   ]
  },
  {
   "cell_type": "code",
   "execution_count": 115,
   "id": "58a83f7a",
   "metadata": {},
   "outputs": [
    {
     "data": {
      "text/plain": [
       "array([[0, 0, 0, 0, 0, 0],\n",
       "       [0, 0, 0, 0, 0, 0],\n",
       "       [0, 0, 0, 0, 0, 0],\n",
       "       [0, 0, 0, 0, 0, 0],\n",
       "       [0, 0, 0, 0, 0, 0]])"
      ]
     },
     "execution_count": 115,
     "metadata": {},
     "output_type": "execute_result"
    }
   ],
   "source": [
    "np.zeros_like(g)"
   ]
  },
  {
   "cell_type": "code",
   "execution_count": 116,
   "id": "127b281a",
   "metadata": {},
   "outputs": [
    {
     "data": {
      "text/plain": [
       "array([[0., 0., 0.],\n",
       "       [0., 0., 0.],\n",
       "       [0., 0., 0.],\n",
       "       [0., 0., 0.]])"
      ]
     },
     "execution_count": 116,
     "metadata": {},
     "output_type": "execute_result"
    }
   ],
   "source": [
    "np.zeros((4,3))"
   ]
  },
  {
   "cell_type": "code",
   "execution_count": 117,
   "id": "a728641b",
   "metadata": {},
   "outputs": [
    {
     "data": {
      "text/plain": [
       "array([[1., 0., 0., 0.],\n",
       "       [0., 1., 0., 0.],\n",
       "       [0., 0., 1., 0.],\n",
       "       [0., 0., 0., 1.]])"
      ]
     },
     "execution_count": 117,
     "metadata": {},
     "output_type": "execute_result"
    }
   ],
   "source": [
    "np.eye(4)"
   ]
  },
  {
   "cell_type": "code",
   "execution_count": 118,
   "id": "a5997a60",
   "metadata": {},
   "outputs": [
    {
     "data": {
      "text/plain": [
       "(5, 6)"
      ]
     },
     "execution_count": 118,
     "metadata": {},
     "output_type": "execute_result"
    }
   ],
   "source": [
    "g.shape"
   ]
  },
  {
   "cell_type": "code",
   "execution_count": 119,
   "id": "0ac92fa3",
   "metadata": {},
   "outputs": [
    {
     "data": {
      "text/plain": [
       "array([[1, 0, 0, 0],\n",
       "       [0, 2, 0, 0],\n",
       "       [0, 0, 3, 0],\n",
       "       [0, 0, 0, 4]])"
      ]
     },
     "execution_count": 119,
     "metadata": {},
     "output_type": "execute_result"
    }
   ],
   "source": [
    "np.diag([1,2,3,4])"
   ]
  },
  {
   "cell_type": "code",
   "execution_count": 120,
   "id": "9a53b7bd",
   "metadata": {},
   "outputs": [
    {
     "data": {
      "text/plain": [
       "array([[0, 1, 0, 0, 0],\n",
       "       [0, 0, 2, 0, 0],\n",
       "       [0, 0, 0, 3, 0],\n",
       "       [0, 0, 0, 0, 4],\n",
       "       [0, 0, 0, 0, 0]])"
      ]
     },
     "execution_count": 120,
     "metadata": {},
     "output_type": "execute_result"
    }
   ],
   "source": [
    "np.diag([1,2,3,4],1)"
   ]
  },
  {
   "cell_type": "code",
   "execution_count": 121,
   "id": "17f479ae",
   "metadata": {},
   "outputs": [
    {
     "data": {
      "text/plain": [
       "array([[0, 0, 0, 0, 0],\n",
       "       [1, 0, 0, 0, 0],\n",
       "       [0, 2, 0, 0, 0],\n",
       "       [0, 0, 3, 0, 0],\n",
       "       [0, 0, 0, 4, 0]])"
      ]
     },
     "execution_count": 121,
     "metadata": {},
     "output_type": "execute_result"
    }
   ],
   "source": [
    "np.diag([1,2,3,4],-1)"
   ]
  },
  {
   "cell_type": "code",
   "execution_count": 122,
   "id": "65259a98",
   "metadata": {},
   "outputs": [
    {
     "data": {
      "text/plain": [
       "array([[1., 1., 0., 0., 0.],\n",
       "       [5., 1., 2., 0., 0.],\n",
       "       [0., 6., 1., 3., 0.],\n",
       "       [0., 0., 7., 1., 4.],\n",
       "       [0., 0., 0., 8., 1.]])"
      ]
     },
     "execution_count": 122,
     "metadata": {},
     "output_type": "execute_result"
    }
   ],
   "source": [
    "np.diag(np.ones(5)) + np.diag([1,2,3,4],1) + np.diag([5,6,7,8],-1) "
   ]
  },
  {
   "cell_type": "code",
   "execution_count": 123,
   "id": "0e2c573f",
   "metadata": {},
   "outputs": [],
   "source": [
    "a = np.array(['Tom', 'Dick', 'Harry'])"
   ]
  },
  {
   "cell_type": "code",
   "execution_count": 124,
   "id": "f156e41b",
   "metadata": {},
   "outputs": [
    {
     "data": {
      "text/plain": [
       "array(['Tom', 'Dick', 'Harry'], dtype='<U5')"
      ]
     },
     "execution_count": 124,
     "metadata": {},
     "output_type": "execute_result"
    }
   ],
   "source": [
    "a"
   ]
  },
  {
   "cell_type": "code",
   "execution_count": 125,
   "id": "9e7c6d24",
   "metadata": {},
   "outputs": [
    {
     "data": {
      "text/plain": [
       "array(['TOM', 'DICK', 'HARRY'], dtype='<U5')"
      ]
     },
     "execution_count": 125,
     "metadata": {},
     "output_type": "execute_result"
    }
   ],
   "source": [
    "np.char.upper(a)"
   ]
  },
  {
   "cell_type": "code",
   "execution_count": 126,
   "id": "0a1535ec",
   "metadata": {},
   "outputs": [
    {
     "data": {
      "text/plain": [
       "array(['Dick', 'Harry', 'Tom'], dtype='<U5')"
      ]
     },
     "execution_count": 126,
     "metadata": {},
     "output_type": "execute_result"
    }
   ],
   "source": [
    "np.sort(a)"
   ]
  },
  {
   "cell_type": "code",
   "execution_count": 127,
   "id": "8a20bbbf",
   "metadata": {},
   "outputs": [
    {
     "data": {
      "text/plain": [
       "array([ True, False, False])"
      ]
     },
     "execution_count": 127,
     "metadata": {},
     "output_type": "execute_result"
    }
   ],
   "source": [
    "a == 'Tom'"
   ]
  },
  {
   "cell_type": "code",
   "execution_count": 128,
   "id": "e4be668e",
   "metadata": {},
   "outputs": [
    {
     "data": {
      "text/plain": [
       "array(['Tom', 'Dick', 'Harry'], dtype='<U5')"
      ]
     },
     "execution_count": 128,
     "metadata": {},
     "output_type": "execute_result"
    }
   ],
   "source": [
    "a"
   ]
  },
  {
   "cell_type": "code",
   "execution_count": 129,
   "id": "16ec7e8c",
   "metadata": {},
   "outputs": [],
   "source": [
    "a[0] = 'Fred'"
   ]
  },
  {
   "cell_type": "code",
   "execution_count": 130,
   "id": "aa0ecacf",
   "metadata": {},
   "outputs": [
    {
     "data": {
      "text/plain": [
       "array(['Fred', 'Dick', 'Harry'], dtype='<U5')"
      ]
     },
     "execution_count": 130,
     "metadata": {},
     "output_type": "execute_result"
    }
   ],
   "source": [
    "a"
   ]
  },
  {
   "cell_type": "code",
   "execution_count": 131,
   "id": "e1d6133b",
   "metadata": {},
   "outputs": [],
   "source": [
    "a[0] = 'Thomas'"
   ]
  },
  {
   "cell_type": "code",
   "execution_count": 132,
   "id": "4e9c565a",
   "metadata": {},
   "outputs": [
    {
     "data": {
      "text/plain": [
       "array(['Thoma', 'Dick', 'Harry'], dtype='<U5')"
      ]
     },
     "execution_count": 132,
     "metadata": {},
     "output_type": "execute_result"
    }
   ],
   "source": [
    "a"
   ]
  },
  {
   "cell_type": "code",
   "execution_count": 133,
   "id": "835133cc",
   "metadata": {},
   "outputs": [],
   "source": [
    "a = np.array(['Tom', 'Dick', 'Harry', 'Parisa'])"
   ]
  },
  {
   "cell_type": "code",
   "execution_count": 134,
   "id": "2fcc0ec2",
   "metadata": {},
   "outputs": [
    {
     "data": {
      "text/plain": [
       "array(['Tom', 'Dick', 'Harry', 'Parisa'], dtype='<U6')"
      ]
     },
     "execution_count": 134,
     "metadata": {},
     "output_type": "execute_result"
    }
   ],
   "source": [
    "a"
   ]
  },
  {
   "cell_type": "code",
   "execution_count": 135,
   "id": "4f2a142a",
   "metadata": {},
   "outputs": [
    {
     "data": {
      "text/plain": [
       "(array([0], dtype=int64),)"
      ]
     },
     "execution_count": 135,
     "metadata": {},
     "output_type": "execute_result"
    }
   ],
   "source": [
    "np.where(a == 'Tom')"
   ]
  },
  {
   "cell_type": "code",
   "execution_count": 136,
   "id": "c726ce86",
   "metadata": {},
   "outputs": [
    {
     "data": {
      "text/plain": [
       "array([[ 1,  2,  3,  4,  5,  6],\n",
       "       [ 7,  8,  9, 10, 11, 12],\n",
       "       [13, 14, 15, -1, -1, -1],\n",
       "       [-1, -1, -1, -1, -1, -1],\n",
       "       [-1, -1, -1, -1, -1, -1]])"
      ]
     },
     "execution_count": 136,
     "metadata": {},
     "output_type": "execute_result"
    }
   ],
   "source": [
    "g"
   ]
  },
  {
   "cell_type": "code",
   "execution_count": 137,
   "id": "5e915ffd",
   "metadata": {},
   "outputs": [
    {
     "data": {
      "text/plain": [
       "(array([0, 0, 0, 0, 1, 1, 1], dtype=int64),\n",
       " array([2, 3, 4, 5, 0, 1, 2], dtype=int64))"
      ]
     },
     "execution_count": 137,
     "metadata": {},
     "output_type": "execute_result"
    }
   ],
   "source": [
    "np.where((g > 2) & (g < 10))"
   ]
  },
  {
   "cell_type": "markdown",
   "id": "393e4d1e",
   "metadata": {},
   "source": [
    "# Matplotlib"
   ]
  },
  {
   "cell_type": "code",
   "execution_count": 138,
   "id": "3ab44d7c",
   "metadata": {},
   "outputs": [],
   "source": [
    "import numpy as np\n",
    "import matplotlib.pyplot as plt\n",
    "%matplotlib inline"
   ]
  },
  {
   "cell_type": "code",
   "execution_count": 139,
   "id": "c2262d73",
   "metadata": {},
   "outputs": [],
   "source": [
    "x = np.linspace(0,10,11)"
   ]
  },
  {
   "cell_type": "code",
   "execution_count": 140,
   "id": "5f137ad1",
   "metadata": {},
   "outputs": [
    {
     "data": {
      "text/plain": [
       "array([ 0.,  1.,  2.,  3.,  4.,  5.,  6.,  7.,  8.,  9., 10.])"
      ]
     },
     "execution_count": 140,
     "metadata": {},
     "output_type": "execute_result"
    }
   ],
   "source": [
    "x"
   ]
  },
  {
   "cell_type": "code",
   "execution_count": 141,
   "id": "fae3d46f",
   "metadata": {},
   "outputs": [],
   "source": [
    "y = x**2"
   ]
  },
  {
   "cell_type": "code",
   "execution_count": 142,
   "id": "5518e6d8",
   "metadata": {},
   "outputs": [
    {
     "data": {
      "text/plain": [
       "[<matplotlib.lines.Line2D at 0x205bbe936d0>]"
      ]
     },
     "execution_count": 142,
     "metadata": {},
     "output_type": "execute_result"
    },
    {
     "data": {
      "image/png": "[encoded data removed]",
      "text/plain": [
       "<Figure size 640x480 with 1 Axes>"
      ]
     },
     "metadata": {},
     "output_type": "display_data"
    }
   ],
   "source": [
    "plt.plot(x,y)"
   ]
  },
  {
   "cell_type": "code",
   "execution_count": 143,
   "id": "21ee3a37",
   "metadata": {},
   "outputs": [
    {
     "data": {
      "text/plain": [
       "[<matplotlib.lines.Line2D at 0x205bbf19c90>]"
      ]
     },
     "execution_count": 143,
     "metadata": {},
     "output_type": "execute_result"
    },
    {
     "data": {
      "image/png": "[encoded data removed]",
      "text/plain": [
       "<Figure size 640x480 with 1 Axes>"
      ]
     },
     "metadata": {},
     "output_type": "display_data"
    }
   ],
   "source": [
    "fig, ax = plt.subplots()\n",
    "\n",
    "ax.plot(x,y)"
   ]
  },
  {
   "cell_type": "code",
   "execution_count": 144,
   "id": "b7ad599e",
   "metadata": {},
   "outputs": [
    {
     "data": {
      "text/plain": [
       "Text(0, 0.5, '$x^2$')"
      ]
     },
     "execution_count": 144,
     "metadata": {},
     "output_type": "execute_result"
    },
    {
     "data": {
      "image/png": "[encoded data removed]",
      "text/plain": [
       "<Figure size 640x480 with 1 Axes>"
      ]
     },
     "metadata": {},
     "output_type": "display_data"
    }
   ],
   "source": [
    "fig, ax = plt.subplots()\n",
    "ax.plot(x,y)\n",
    "ax.set_title(\"Results\")\n",
    "ax.set_xlabel(\"x\")\n",
    "ax.set_ylabel(r\"$x^2$\")"
   ]
  },
  {
   "cell_type": "code",
   "execution_count": 145,
   "id": "012b8ce3",
   "metadata": {},
   "outputs": [],
   "source": [
    "%matplotlib notebook"
   ]
  },
  {
   "cell_type": "code",
   "execution_count": 146,
   "id": "842849a7",
   "metadata": {},
   "outputs": [
    {
     "data": {
      "application/javascript": [
       "/* Put everything inside the global mpl namespace */\n",
       "/* global mpl */\n",
       "window.mpl = {};\n",
       "\n",
       "mpl.get_websocket_type = function () {\n",
       "    if (typeof WebSocket !== 'undefined') {\n",
       "        return WebSocket;\n",
       "    } else if (typeof MozWebSocket !== 'undefined') {\n",
       "        return MozWebSocket;\n",
       "    } else {\n",
       "        alert(\n",
       "            'Your browser does not have WebSocket support. ' +\n",
       "                'Please try Chrome, Safari or Firefox ≥ 6. ' +\n",
       "                'Firefox 4 and 5 are also supported but you ' +\n",
       "                'have to enable WebSockets in about:config.'\n",
       "        );\n",
       "    }\n",
       "};\n",
       "\n",
       "mpl.figure = function (figure_id, websocket, ondownload, parent_element) {\n",
       "    this.id = figure_id;\n",
       "\n",
       "    this.ws = websocket;\n",
       "\n",
       "    this.supports_binary = this.ws.binaryType !== undefined;\n",
       "\n",
       "    if (!this.supports_binary) {\n",
       "        var warnings = document.getElementById('mpl-warnings');\n",
       "        if (warnings) {\n",
       "            warnings.style.display = 'block';\n",
       "            warnings.textContent =\n",
       "                'This browser does not support binary websocket messages. ' +\n",
       "                'Performance may be slow.';\n",
       "        }\n",
       "    }\n",
       "\n",
       "    this.imageObj = new Image();\n",
       "\n",
       "    this.context = undefined;\n",
       "    this.message = undefined;\n",
       "    this.canvas = undefined;\n",
       "    this.rubberband_canvas = undefined;\n",
       "    this.rubberband_context = undefined;\n",
       "    this.format_dropdown = undefined;\n",
       "\n",
       "    this.image_mode = 'full';\n",
       "\n",
       "    this.root = document.createElement('div');\n",
       "    this.root.setAttribute('style', 'display: inline-block');\n",
       "    this._root_extra_style(this.root);\n",
       "\n",
       "    parent_element.appendChild(this.root);\n",
       "\n",
       "    this._init_header(this);\n",
       "    this._init_canvas(this);\n",
       "    this._init_toolbar(this);\n",
       "\n",
       "    var fig = this;\n",
       "\n",
       "    this.waiting = false;\n",
       "\n",
       "    this.ws.onopen = function () {\n",
       "        fig.send_message('supports_binary', { value: fig.supports_binary });\n",
       "        fig.send_message('send_image_mode', {});\n",
       "        if (fig.ratio !== 1) {\n",
       "            fig.send_message('set_device_pixel_ratio', {\n",
       "                device_pixel_ratio: fig.ratio,\n",
       "            });\n",
       "        }\n",
       "        fig.send_message('refresh', {});\n",
       "    };\n",
       "\n",
       "    this.imageObj.onload = function () {\n",
       "        if (fig.image_mode === 'full') {\n",
       "            // Full images could contain transparency (where diff images\n",
       "            // almost always do), so we need to clear the canvas so that\n",
       "            // there is no ghosting.\n",
       "            fig.context.clearRect(0, 0, fig.canvas.width, fig.canvas.height);\n",
       "        }\n",
       "        fig.context.drawImage(fig.imageObj, 0, 0);\n",
       "    };\n",
       "\n",
       "    this.imageObj.onunload = function () {\n",
       "        fig.ws.close();\n",
       "    };\n",
       "\n",
       "    this.ws.onmessage = this._make_on_message_function(this);\n",
       "\n",
       "    this.ondownload = ondownload;\n",
       "};\n",
       "\n",
       "mpl.figure.prototype._init_header = function () {\n",
       "    var titlebar = document.createElement('div');\n",
       "    titlebar.classList =\n",
       "        'ui-dialog-titlebar ui-widget-header ui-corner-all ui-helper-clearfix';\n",
       "    var titletext = document.createElement('div');\n",
       "    titletext.classList = 'ui-dialog-title';\n",
       "    titletext.setAttribute(\n",
       "        'style',\n",
       "        'width: 100%; text-align: center; padding: 3px;'\n",
       "    );\n",
       "    titlebar.appendChild(titletext);\n",
       "    this.root.appendChild(titlebar);\n",
       "    this.header = titletext;\n",
       "};\n",
       "\n",
       "mpl.figure.prototype._canvas_extra_style = function (_canvas_div) {};\n",
       "\n",
       "mpl.figure.prototype._root_extra_style = function (_canvas_div) {};\n",
       "\n",
       "mpl.figure.prototype._init_canvas = function () {\n",
       "    var fig = this;\n",
       "\n",
       "    var canvas_div = (this.canvas_div = document.createElement('div'));\n",
       "    canvas_div.setAttribute('tabindex', '0');\n",
       "    canvas_div.setAttribute(\n",
       "        'style',\n",
       "        'border: 1px solid #ddd;' +\n",
       "            'box-sizing: content-box;' +\n",
       "            'clear: both;' +\n",
       "            'min-height: 1px;' +\n",
       "            'min-width: 1px;' +\n",
       "            'outline: 0;' +\n",
       "            'overflow: hidden;' +\n",
       "            'position: relative;' +\n",
       "            'resize: both;' +\n",
       "            'z-index: 2;'\n",
       "    );\n",
       "\n",
       "    function on_keyboard_event_closure(name) {\n",
       "        return function (event) {\n",
       "            return fig.key_event(event, name);\n",
       "        };\n",
       "    }\n",
       "\n",
       "    canvas_div.addEventListener(\n",
       "        'keydown',\n",
       "        on_keyboard_event_closure('key_press')\n",
       "    );\n",
       "    canvas_div.addEventListener(\n",
       "        'keyup',\n",
       "        on_keyboard_event_closure('key_release')\n",
       "    );\n",
       "\n",
       "    this._canvas_extra_style(canvas_div);\n",
       "    this.root.appendChild(canvas_div);\n",
       "\n",
       "    var canvas = (this.canvas = document.createElement('canvas'));\n",
       "    canvas.classList.add('mpl-canvas');\n",
       "    canvas.setAttribute(\n",
       "        'style',\n",
       "        'box-sizing: content-box;' +\n",
       "            'pointer-events: none;' +\n",
       "            'position: relative;' +\n",
       "            'z-index: 0;'\n",
       "    );\n",
       "\n",
       "    this.context = canvas.getContext('2d');\n",
       "\n",
       "    var backingStore =\n",
       "        this.context.backingStorePixelRatio ||\n",
       "        this.context.webkitBackingStorePixelRatio ||\n",
       "        this.context.mozBackingStorePixelRatio ||\n",
       "        this.context.msBackingStorePixelRatio ||\n",
       "        this.context.oBackingStorePixelRatio ||\n",
       "        this.context.backingStorePixelRatio ||\n",
       "        1;\n",
       "\n",
       "    this.ratio = (window.devicePixelRatio || 1) / backingStore;\n",
       "\n",
       "    var rubberband_canvas = (this.rubberband_canvas = document.createElement(\n",
       "        'canvas'\n",
       "    ));\n",
       "    rubberband_canvas.setAttribute(\n",
       "        'style',\n",
       "        'box-sizing: content-box;' +\n",
       "            'left: 0;' +\n",
       "            'pointer-events: none;' +\n",
       "            'position: absolute;' +\n",
       "            'top: 0;' +\n",
       "            'z-index: 1;'\n",
       "    );\n",
       "\n",
       "    // Apply a ponyfill if ResizeObserver is not implemented by browser.\n",
       "    if (this.ResizeObserver === undefined) {\n",
       "        if (window.ResizeObserver !== undefined) {\n",
       "            this.ResizeObserver = window.ResizeObserver;\n",
       "        } else {\n",
       "            var obs = _JSXTOOLS_RESIZE_OBSERVER({});\n",
       "            this.ResizeObserver = obs.ResizeObserver;\n",
       "        }\n",
       "    }\n",
       "\n",
       "    this.resizeObserverInstance = new this.ResizeObserver(function (entries) {\n",
       "        var nentries = entries.length;\n",
       "        for (var i = 0; i < nentries; i++) {\n",
       "            var entry = entries[i];\n",
       "            var width, height;\n",
       "            if (entry.contentBoxSize) {\n",
       "                if (entry.contentBoxSize instanceof Array) {\n",
       "                    // Chrome 84 implements new version of spec.\n",
       "                    width = entry.contentBoxSize[0].inlineSize;\n",
       "                    height = entry.contentBoxSize[0].blockSize;\n",
       "                } else {\n",
       "                    // Firefox implements old version of spec.\n",
       "                    width = entry.contentBoxSize.inlineSize;\n",
       "                    height = entry.contentBoxSize.blockSize;\n",
       "                }\n",
       "            } else {\n",
       "                // Chrome <84 implements even older version of spec.\n",
       "                width = entry.contentRect.width;\n",
       "                height = entry.contentRect.height;\n",
       "            }\n",
       "\n",
       "            // Keep the size of the canvas and rubber band canvas in sync with\n",
       "            // the canvas container.\n",
       "            if (entry.devicePixelContentBoxSize) {\n",
       "                // Chrome 84 implements new version of spec.\n",
       "                canvas.setAttribute(\n",
       "                    'width',\n",
       "                    entry.devicePixelContentBoxSize[0].inlineSize\n",
       "                );\n",
       "                canvas.setAttribute(\n",
       "                    'height',\n",
       "                    entry.devicePixelContentBoxSize[0].blockSize\n",
       "                );\n",
       "            } else {\n",
       "                canvas.setAttribute('width', width * fig.ratio);\n",
       "                canvas.setAttribute('height', height * fig.ratio);\n",
       "            }\n",
       "            /* This rescales the canvas back to display pixels, so that it\n",
       "             * appears correct on HiDPI screens. */\n",
       "            canvas.style.width = width + 'px';\n",
       "            canvas.style.height = height + 'px';\n",
       "\n",
       "            rubberband_canvas.setAttribute('width', width);\n",
       "            rubberband_canvas.setAttribute('height', height);\n",
       "\n",
       "            // And update the size in Python. We ignore the initial 0/0 size\n",
       "            // that occurs as the element is placed into the DOM, which should\n",
       "            // otherwise not happen due to the minimum size styling.\n",
       "            if (fig.ws.readyState == 1 && width != 0 && height != 0) {\n",
       "                fig.request_resize(width, height);\n",
       "            }\n",
       "        }\n",
       "    });\n",
       "    this.resizeObserverInstance.observe(canvas_div);\n",
       "\n",
       "    function on_mouse_event_closure(name) {\n",
       "        /* User Agent sniffing is bad, but WebKit is busted:\n",
       "         * https://bugs.webkit.org/show_bug.cgi?id=144526\n",
       "         * https://bugs.webkit.org/show_bug.cgi?id=181818\n",
       "         * The worst that happens here is that they get an extra browser\n",
       "         * selection when dragging, if this check fails to catch them.\n",
       "         */\n",
       "        var UA = navigator.userAgent;\n",
       "        var isWebKit = /AppleWebKit/.test(UA) && !/Chrome/.test(UA);\n",
       "        if(isWebKit) {\n",
       "            return function (event) {\n",
       "                /* This prevents the web browser from automatically changing to\n",
       "                 * the text insertion cursor when the button is pressed. We\n",
       "                 * want to control all of the cursor setting manually through\n",
       "                 * the 'cursor' event from matplotlib */\n",
       "                event.preventDefault()\n",
       "                return fig.mouse_event(event, name);\n",
       "            };\n",
       "        } else {\n",
       "            return function (event) {\n",
       "                return fig.mouse_event(event, name);\n",
       "            };\n",
       "        }\n",
       "    }\n",
       "\n",
       "    canvas_div.addEventListener(\n",
       "        'mousedown',\n",
       "        on_mouse_event_closure('button_press')\n",
       "    );\n",
       "    canvas_div.addEventListener(\n",
       "        'mouseup',\n",
       "        on_mouse_event_closure('button_release')\n",
       "    );\n",
       "    canvas_div.addEventListener(\n",
       "        'dblclick',\n",
       "        on_mouse_event_closure('dblclick')\n",
       "    );\n",
       "    // Throttle sequential mouse events to 1 every 20ms.\n",
       "    canvas_div.addEventListener(\n",
       "        'mousemove',\n",
       "        on_mouse_event_closure('motion_notify')\n",
       "    );\n",
       "\n",
       "    canvas_div.addEventListener(\n",
       "        'mouseenter',\n",
       "        on_mouse_event_closure('figure_enter')\n",
       "    );\n",
       "    canvas_div.addEventListener(\n",
       "        'mouseleave',\n",
       "        on_mouse_event_closure('figure_leave')\n",
       "    );\n",
       "\n",
       "    canvas_div.addEventListener('wheel', function (event) {\n",
       "        if (event.deltaY < 0) {\n",
       "            event.step = 1;\n",
       "        } else {\n",
       "            event.step = -1;\n",
       "        }\n",
       "        on_mouse_event_closure('scroll')(event);\n",
       "    });\n",
       "\n",
       "    canvas_div.appendChild(canvas);\n",
       "    canvas_div.appendChild(rubberband_canvas);\n",
       "\n",
       "    this.rubberband_context = rubberband_canvas.getContext('2d');\n",
       "    this.rubberband_context.strokeStyle = '#000000';\n",
       "\n",
       "    this._resize_canvas = function (width, height, forward) {\n",
       "        if (forward) {\n",
       "            canvas_div.style.width = width + 'px';\n",
       "            canvas_div.style.height = height + 'px';\n",
       "        }\n",
       "    };\n",
       "\n",
       "    // Disable right mouse context menu.\n",
       "    canvas_div.addEventListener('contextmenu', function (_e) {\n",
       "        event.preventDefault();\n",
       "        return false;\n",
       "    });\n",
       "\n",
       "    function set_focus() {\n",
       "        canvas.focus();\n",
       "        canvas_div.focus();\n",
       "    }\n",
       "\n",
       "    window.setTimeout(set_focus, 100);\n",
       "};\n",
       "\n",
       "mpl.figure.prototype._init_toolbar = function () {\n",
       "    var fig = this;\n",
       "\n",
       "    var toolbar = document.createElement('div');\n",
       "    toolbar.classList = 'mpl-toolbar';\n",
       "    this.root.appendChild(toolbar);\n",
       "\n",
       "    function on_click_closure(name) {\n",
       "        return function (_event) {\n",
       "            return fig.toolbar_button_onclick(name);\n",
       "        };\n",
       "    }\n",
       "\n",
       "    function on_mouseover_closure(tooltip) {\n",
       "        return function (event) {\n",
       "            if (!event.currentTarget.disabled) {\n",
       "                return fig.toolbar_button_onmouseover(tooltip);\n",
       "            }\n",
       "        };\n",
       "    }\n",
       "\n",
       "    fig.buttons = {};\n",
       "    var buttonGroup = document.createElement('div');\n",
       "    buttonGroup.classList = 'mpl-button-group';\n",
       "    for (var toolbar_ind in mpl.toolbar_items) {\n",
       "        var name = mpl.toolbar_items[toolbar_ind][0];\n",
       "        var tooltip = mpl.toolbar_items[toolbar_ind][1];\n",
       "        var image = mpl.toolbar_items[toolbar_ind][2];\n",
       "        var method_name = mpl.toolbar_items[toolbar_ind][3];\n",
       "\n",
       "        if (!name) {\n",
       "            /* Instead of a spacer, we start a new button group. */\n",
       "            if (buttonGroup.hasChildNodes()) {\n",
       "                toolbar.appendChild(buttonGroup);\n",
       "            }\n",
       "            buttonGroup = document.createElement('div');\n",
       "            buttonGroup.classList = 'mpl-button-group';\n",
       "            continue;\n",
       "        }\n",
       "\n",
       "        var button = (fig.buttons[name] = document.createElement('button'));\n",
       "        button.classList = 'mpl-widget';\n",
       "        button.setAttribute('role', 'button');\n",
       "        button.setAttribute('aria-disabled', 'false');\n",
       "        button.addEventListener('click', on_click_closure(method_name));\n",
       "        button.addEventListener('mouseover', on_mouseover_closure(tooltip));\n",
       "\n",
       "        var icon_img = document.createElement('img');\n",
       "        icon_img.src = '_images/' + image + '.png';\n",
       "        icon_img.srcset = '_images/' + image + '_large.png 2x';\n",
       "        icon_img.alt = tooltip;\n",
       "        button.appendChild(icon_img);\n",
       "\n",
       "        buttonGroup.appendChild(button);\n",
       "    }\n",
       "\n",
       "    if (buttonGroup.hasChildNodes()) {\n",
       "        toolbar.appendChild(buttonGroup);\n",
       "    }\n",
       "\n",
       "    var fmt_picker = document.createElement('select');\n",
       "    fmt_picker.classList = 'mpl-widget';\n",
       "    toolbar.appendChild(fmt_picker);\n",
       "    this.format_dropdown = fmt_picker;\n",
       "\n",
       "    for (var ind in mpl.extensions) {\n",
       "        var fmt = mpl.extensions[ind];\n",
       "        var option = document.createElement('option');\n",
       "        option.selected = fmt === mpl.default_extension;\n",
       "        option.innerHTML = fmt;\n",
       "        fmt_picker.appendChild(option);\n",
       "    }\n",
       "\n",
       "    var status_bar = document.createElement('span');\n",
       "    status_bar.classList = 'mpl-message';\n",
       "    toolbar.appendChild(status_bar);\n",
       "    this.message = status_bar;\n",
       "};\n",
       "\n",
       "mpl.figure.prototype.request_resize = function (x_pixels, y_pixels) {\n",
       "    // Request matplotlib to resize the figure. Matplotlib will then trigger a resize in the client,\n",
       "    // which will in turn request a refresh of the image.\n",
       "    this.send_message('resize', { width: x_pixels, height: y_pixels });\n",
       "};\n",
       "\n",
       "mpl.figure.prototype.send_message = function (type, properties) {\n",
       "    properties['type'] = type;\n",
       "    properties['figure_id'] = this.id;\n",
       "    this.ws.send(JSON.stringify(properties));\n",
       "};\n",
       "\n",
       "mpl.figure.prototype.send_draw_message = function () {\n",
       "    if (!this.waiting) {\n",
       "        this.waiting = true;\n",
       "        this.ws.send(JSON.stringify({ type: 'draw', figure_id: this.id }));\n",
       "    }\n",
       "};\n",
       "\n",
       "mpl.figure.prototype.handle_save = function (fig, _msg) {\n",
       "    var format_dropdown = fig.format_dropdown;\n",
       "    var format = format_dropdown.options[format_dropdown.selectedIndex].value;\n",
       "    fig.ondownload(fig, format);\n",
       "};\n",
       "\n",
       "mpl.figure.prototype.handle_resize = function (fig, msg) {\n",
       "    var size = msg['size'];\n",
       "    if (size[0] !== fig.canvas.width || size[1] !== fig.canvas.height) {\n",
       "        fig._resize_canvas(size[0], size[1], msg['forward']);\n",
       "        fig.send_message('refresh', {});\n",
       "    }\n",
       "};\n",
       "\n",
       "mpl.figure.prototype.handle_rubberband = function (fig, msg) {\n",
       "    var x0 = msg['x0'] / fig.ratio;\n",
       "    var y0 = (fig.canvas.height - msg['y0']) / fig.ratio;\n",
       "    var x1 = msg['x1'] / fig.ratio;\n",
       "    var y1 = (fig.canvas.height - msg['y1']) / fig.ratio;\n",
       "    x0 = Math.floor(x0) + 0.5;\n",
       "    y0 = Math.floor(y0) + 0.5;\n",
       "    x1 = Math.floor(x1) + 0.5;\n",
       "    y1 = Math.floor(y1) + 0.5;\n",
       "    var min_x = Math.min(x0, x1);\n",
       "    var min_y = Math.min(y0, y1);\n",
       "    var width = Math.abs(x1 - x0);\n",
       "    var height = Math.abs(y1 - y0);\n",
       "\n",
       "    fig.rubberband_context.clearRect(\n",
       "        0,\n",
       "        0,\n",
       "        fig.canvas.width / fig.ratio,\n",
       "        fig.canvas.height / fig.ratio\n",
       "    );\n",
       "\n",
       "    fig.rubberband_context.strokeRect(min_x, min_y, width, height);\n",
       "};\n",
       "\n",
       "mpl.figure.prototype.handle_figure_label = function (fig, msg) {\n",
       "    // Updates the figure title.\n",
       "    fig.header.textContent = msg['label'];\n",
       "};\n",
       "\n",
       "mpl.figure.prototype.handle_cursor = function (fig, msg) {\n",
       "    fig.canvas_div.style.cursor = msg['cursor'];\n",
       "};\n",
       "\n",
       "mpl.figure.prototype.handle_message = function (fig, msg) {\n",
       "    fig.message.textContent = msg['message'];\n",
       "};\n",
       "\n",
       "mpl.figure.prototype.handle_draw = function (fig, _msg) {\n",
       "    // Request the server to send over a new figure.\n",
       "    fig.send_draw_message();\n",
       "};\n",
       "\n",
       "mpl.figure.prototype.handle_image_mode = function (fig, msg) {\n",
       "    fig.image_mode = msg['mode'];\n",
       "};\n",
       "\n",
       "mpl.figure.prototype.handle_history_buttons = function (fig, msg) {\n",
       "    for (var key in msg) {\n",
       "        if (!(key in fig.buttons)) {\n",
       "            continue;\n",
       "        }\n",
       "        fig.buttons[key].disabled = !msg[key];\n",
       "        fig.buttons[key].setAttribute('aria-disabled', !msg[key]);\n",
       "    }\n",
       "};\n",
       "\n",
       "mpl.figure.prototype.handle_navigate_mode = function (fig, msg) {\n",
       "    if (msg['mode'] === 'PAN') {\n",
       "        fig.buttons['Pan'].classList.add('active');\n",
       "        fig.buttons['Zoom'].classList.remove('active');\n",
       "    } else if (msg['mode'] === 'ZOOM') {\n",
       "        fig.buttons['Pan'].classList.remove('active');\n",
       "        fig.buttons['Zoom'].classList.add('active');\n",
       "    } else {\n",
       "        fig.buttons['Pan'].classList.remove('active');\n",
       "        fig.buttons['Zoom'].classList.remove('active');\n",
       "    }\n",
       "};\n",
       "\n",
       "mpl.figure.prototype.updated_canvas_event = function () {\n",
       "    // Called whenever the canvas gets updated.\n",
       "    this.send_message('ack', {});\n",
       "};\n",
       "\n",
       "// A function to construct a web socket function for onmessage handling.\n",
       "// Called in the figure constructor.\n",
       "mpl.figure.prototype._make_on_message_function = function (fig) {\n",
       "    return function socket_on_message(evt) {\n",
       "        if (evt.data instanceof Blob) {\n",
       "            var img = evt.data;\n",
       "            if (img.type !== 'image/png') {\n",
       "                /* FIXME: We get \"Resource interpreted as Image but\n",
       "                 * transferred with MIME type text/plain:\" errors on\n",
       "                 * Chrome.  But how to set the MIME type?  It doesn't seem\n",
       "                 * to be part of the websocket stream */\n",
       "                img.type = 'image/png';\n",
       "            }\n",
       "\n",
       "            /* Free the memory for the previous frames */\n",
       "            if (fig.imageObj.src) {\n",
       "                (window.URL || window.webkitURL).revokeObjectURL(\n",
       "                    fig.imageObj.src\n",
       "                );\n",
       "            }\n",
       "\n",
       "            fig.imageObj.src = (window.URL || window.webkitURL).createObjectURL(\n",
       "                img\n",
       "            );\n",
       "            fig.updated_canvas_event();\n",
       "            fig.waiting = false;\n",
       "            return;\n",
       "        } else if (\n",
       "            typeof evt.data === 'string' &&\n",
       "            evt.data.slice(0, 21) === 'data:image/png;base64'\n",
       "        ) {\n",
       "            fig.imageObj.src = evt.data;\n",
       "            fig.updated_canvas_event();\n",
       "            fig.waiting = false;\n",
       "            return;\n",
       "        }\n",
       "\n",
       "        var msg = JSON.parse(evt.data);\n",
       "        var msg_type = msg['type'];\n",
       "\n",
       "        // Call the  \"handle_{type}\" callback, which takes\n",
       "        // the figure and JSON message as its only arguments.\n",
       "        try {\n",
       "            var callback = fig['handle_' + msg_type];\n",
       "        } catch (e) {\n",
       "            console.log(\n",
       "                \"No handler for the '\" + msg_type + \"' message type: \",\n",
       "                msg\n",
       "            );\n",
       "            return;\n",
       "        }\n",
       "\n",
       "        if (callback) {\n",
       "            try {\n",
       "                // console.log(\"Handling '\" + msg_type + \"' message: \", msg);\n",
       "                callback(fig, msg);\n",
       "            } catch (e) {\n",
       "                console.log(\n",
       "                    \"Exception inside the 'handler_\" + msg_type + \"' callback:\",\n",
       "                    e,\n",
       "                    e.stack,\n",
       "                    msg\n",
       "                );\n",
       "            }\n",
       "        }\n",
       "    };\n",
       "};\n",
       "\n",
       "function getModifiers(event) {\n",
       "    var mods = [];\n",
       "    if (event.ctrlKey) {\n",
       "        mods.push('ctrl');\n",
       "    }\n",
       "    if (event.altKey) {\n",
       "        mods.push('alt');\n",
       "    }\n",
       "    if (event.shiftKey) {\n",
       "        mods.push('shift');\n",
       "    }\n",
       "    if (event.metaKey) {\n",
       "        mods.push('meta');\n",
       "    }\n",
       "    return mods;\n",
       "}\n",
       "\n",
       "/*\n",
       " * return a copy of an object with only non-object keys\n",
       " * we need this to avoid circular references\n",
       " * https://stackoverflow.com/a/24161582/3208463\n",
       " */\n",
       "function simpleKeys(original) {\n",
       "    return Object.keys(original).reduce(function (obj, key) {\n",
       "        if (typeof original[key] !== 'object') {\n",
       "            obj[key] = original[key];\n",
       "        }\n",
       "        return obj;\n",
       "    }, {});\n",
       "}\n",
       "\n",
       "mpl.figure.prototype.mouse_event = function (event, name) {\n",
       "    if (name === 'button_press') {\n",
       "        this.canvas.focus();\n",
       "        this.canvas_div.focus();\n",
       "    }\n",
       "\n",
       "    // from https://stackoverflow.com/q/1114465\n",
       "    var boundingRect = this.canvas.getBoundingClientRect();\n",
       "    var x = (event.clientX - boundingRect.left) * this.ratio;\n",
       "    var y = (event.clientY - boundingRect.top) * this.ratio;\n",
       "\n",
       "    this.send_message(name, {\n",
       "        x: x,\n",
       "        y: y,\n",
       "        button: event.button,\n",
       "        step: event.step,\n",
       "        modifiers: getModifiers(event),\n",
       "        guiEvent: simpleKeys(event),\n",
       "    });\n",
       "\n",
       "    return false;\n",
       "};\n",
       "\n",
       "mpl.figure.prototype._key_event_extra = function (_event, _name) {\n",
       "    // Handle any extra behaviour associated with a key event\n",
       "};\n",
       "\n",
       "mpl.figure.prototype.key_event = function (event, name) {\n",
       "    // Prevent repeat events\n",
       "    if (name === 'key_press') {\n",
       "        if (event.key === this._key) {\n",
       "            return;\n",
       "        } else {\n",
       "            this._key = event.key;\n",
       "        }\n",
       "    }\n",
       "    if (name === 'key_release') {\n",
       "        this._key = null;\n",
       "    }\n",
       "\n",
       "    var value = '';\n",
       "    if (event.ctrlKey && event.key !== 'Control') {\n",
       "        value += 'ctrl+';\n",
       "    }\n",
       "    else if (event.altKey && event.key !== 'Alt') {\n",
       "        value += 'alt+';\n",
       "    }\n",
       "    else if (event.shiftKey && event.key !== 'Shift') {\n",
       "        value += 'shift+';\n",
       "    }\n",
       "\n",
       "    value += 'k' + event.key;\n",
       "\n",
       "    this._key_event_extra(event, name);\n",
       "\n",
       "    this.send_message(name, { key: value, guiEvent: simpleKeys(event) });\n",
       "    return false;\n",
       "};\n",
       "\n",
       "mpl.figure.prototype.toolbar_button_onclick = function (name) {\n",
       "    if (name === 'download') {\n",
       "        this.handle_save(this, null);\n",
       "    } else {\n",
       "        this.send_message('toolbar_button', { name: name });\n",
       "    }\n",
       "};\n",
       "\n",
       "mpl.figure.prototype.toolbar_button_onmouseover = function (tooltip) {\n",
       "    this.message.textContent = tooltip;\n",
       "};\n",
       "\n",
       "///////////////// REMAINING CONTENT GENERATED BY embed_js.py /////////////////\n",
       "// prettier-ignore\n",
       "var _JSXTOOLS_RESIZE_OBSERVER=function(A){var t,i=new WeakMap,n=new WeakMap,a=new WeakMap,r=new WeakMap,o=new Set;function s(e){if(!(this instanceof s))throw new TypeError(\"Constructor requires 'new' operator\");i.set(this,e)}function h(){throw new TypeError(\"Function is not a constructor\")}function c(e,t,i,n){e=0 in arguments?Number(arguments[0]):0,t=1 in arguments?Number(arguments[1]):0,i=2 in arguments?Number(arguments[2]):0,n=3 in arguments?Number(arguments[3]):0,this.right=(this.x=this.left=e)+(this.width=i),this.bottom=(this.y=this.top=t)+(this.height=n),Object.freeze(this)}function d(){t=requestAnimationFrame(d);var s=new WeakMap,p=new Set;o.forEach((function(t){r.get(t).forEach((function(i){var r=t instanceof window.SVGElement,o=a.get(t),d=r?0:parseFloat(o.paddingTop),f=r?0:parseFloat(o.paddingRight),l=r?0:parseFloat(o.paddingBottom),u=r?0:parseFloat(o.paddingLeft),g=r?0:parseFloat(o.borderTopWidth),m=r?0:parseFloat(o.borderRightWidth),w=r?0:parseFloat(o.borderBottomWidth),b=u+f,F=d+l,v=(r?0:parseFloat(o.borderLeftWidth))+m,W=g+w,y=r?0:t.offsetHeight-W-t.clientHeight,E=r?0:t.offsetWidth-v-t.clientWidth,R=b+v,z=F+W,M=r?t.width:parseFloat(o.width)-R-E,O=r?t.height:parseFloat(o.height)-z-y;if(n.has(t)){var k=n.get(t);if(k[0]===M&&k[1]===O)return}n.set(t,[M,O]);var S=Object.create(h.prototype);S.target=t,S.contentRect=new c(u,d,M,O),s.has(i)||(s.set(i,[]),p.add(i)),s.get(i).push(S)}))})),p.forEach((function(e){i.get(e).call(e,s.get(e),e)}))}return s.prototype.observe=function(i){if(i instanceof window.Element){r.has(i)||(r.set(i,new Set),o.add(i),a.set(i,window.getComputedStyle(i)));var n=r.get(i);n.has(this)||n.add(this),cancelAnimationFrame(t),t=requestAnimationFrame(d)}},s.prototype.unobserve=function(i){if(i instanceof window.Element&&r.has(i)){var n=r.get(i);n.has(this)&&(n.delete(this),n.size||(r.delete(i),o.delete(i))),n.size||r.delete(i),o.size||cancelAnimationFrame(t)}},A.DOMRectReadOnly=c,A.ResizeObserver=s,A.ResizeObserverEntry=h,A}; // eslint-disable-line\n",
       "mpl.toolbar_items = [[\"Home\", \"Reset original view\", \"fa fa-home\", \"home\"], [\"Back\", \"Back to previous view\", \"fa fa-arrow-left\", \"back\"], [\"Forward\", \"Forward to next view\", \"fa fa-arrow-right\", \"forward\"], [\"\", \"\", \"\", \"\"], [\"Pan\", \"Left button pans, Right button zooms\\nx/y fixes axis, CTRL fixes aspect\", \"fa fa-arrows\", \"pan\"], [\"Zoom\", \"Zoom to rectangle\\nx/y fixes axis\", \"fa fa-square-o\", \"zoom\"], [\"\", \"\", \"\", \"\"], [\"Download\", \"Download plot\", \"fa fa-floppy-o\", \"download\"]];\n",
       "\n",
       "mpl.extensions = [\"eps\", \"jpeg\", \"pgf\", \"pdf\", \"png\", \"ps\", \"raw\", \"svg\", \"tif\", \"webp\"];\n",
       "\n",
       "mpl.default_extension = \"png\";/* global mpl */\n",
       "\n",
       "var comm_websocket_adapter = function (comm) {\n",
       "    // Create a \"websocket\"-like object which calls the given IPython comm\n",
       "    // object with the appropriate methods. Currently this is a non binary\n",
       "    // socket, so there is still some room for performance tuning.\n",
       "    var ws = {};\n",
       "\n",
       "    ws.binaryType = comm.kernel.ws.binaryType;\n",
       "    ws.readyState = comm.kernel.ws.readyState;\n",
       "    function updateReadyState(_event) {\n",
       "        if (comm.kernel.ws) {\n",
       "            ws.readyState = comm.kernel.ws.readyState;\n",
       "        } else {\n",
       "            ws.readyState = 3; // Closed state.\n",
       "        }\n",
       "    }\n",
       "    comm.kernel.ws.addEventListener('open', updateReadyState);\n",
       "    comm.kernel.ws.addEventListener('close', updateReadyState);\n",
       "    comm.kernel.ws.addEventListener('error', updateReadyState);\n",
       "\n",
       "    ws.close = function () {\n",
       "        comm.close();\n",
       "    };\n",
       "    ws.send = function (m) {\n",
       "        //console.log('sending', m);\n",
       "        comm.send(m);\n",
       "    };\n",
       "    // Register the callback with on_msg.\n",
       "    comm.on_msg(function (msg) {\n",
       "        //console.log('receiving', msg['content']['data'], msg);\n",
       "        var data = msg['content']['data'];\n",
       "        if (data['blob'] !== undefined) {\n",
       "            data = {\n",
       "                data: new Blob(msg['buffers'], { type: data['blob'] }),\n",
       "            };\n",
       "        }\n",
       "        // Pass the mpl event to the overridden (by mpl) onmessage function.\n",
       "        ws.onmessage(data);\n",
       "    });\n",
       "    return ws;\n",
       "};\n",
       "\n",
       "mpl.mpl_figure_comm = function (comm, msg) {\n",
       "    // This is the function which gets called when the mpl process\n",
       "    // starts-up an IPython Comm through the \"matplotlib\" channel.\n",
       "\n",
       "    var id = msg.content.data.id;\n",
       "    // Get hold of the div created by the display call when the Comm\n",
       "    // socket was opened in Python.\n",
       "    var element = document.getElementById(id);\n",
       "    var ws_proxy = comm_websocket_adapter(comm);\n",
       "\n",
       "    function ondownload(figure, _format) {\n",
       "        window.open(figure.canvas.toDataURL());\n",
       "    }\n",
       "\n",
       "    var fig = new mpl.figure(id, ws_proxy, ondownload, element);\n",
       "\n",
       "    // Call onopen now - mpl needs it, as it is assuming we've passed it a real\n",
       "    // web socket which is closed, not our websocket->open comm proxy.\n",
       "    ws_proxy.onopen();\n",
       "\n",
       "    fig.parent_element = element;\n",
       "    fig.cell_info = mpl.find_output_cell(\"<div id='\" + id + \"'></div>\");\n",
       "    if (!fig.cell_info) {\n",
       "        console.error('Failed to find cell for figure', id, fig);\n",
       "        return;\n",
       "    }\n",
       "    fig.cell_info[0].output_area.element.on(\n",
       "        'cleared',\n",
       "        { fig: fig },\n",
       "        fig._remove_fig_handler\n",
       "    );\n",
       "};\n",
       "\n",
       "mpl.figure.prototype.handle_close = function (fig, msg) {\n",
       "    var width = fig.canvas.width / fig.ratio;\n",
       "    fig.cell_info[0].output_area.element.off(\n",
       "        'cleared',\n",
       "        fig._remove_fig_handler\n",
       "    );\n",
       "    fig.resizeObserverInstance.unobserve(fig.canvas_div);\n",
       "\n",
       "    // Update the output cell to use the data from the current canvas.\n",
       "    fig.push_to_output();\n",
       "    var dataURL = fig.canvas.toDataURL();\n",
       "    // Re-enable the keyboard manager in IPython - without this line, in FF,\n",
       "    // the notebook keyboard shortcuts fail.\n",
       "    IPython.keyboard_manager.enable();\n",
       "    fig.parent_element.innerHTML =\n",
       "        '<img src=\"' + dataURL + '\" width=\"' + width + '\">';\n",
       "    fig.close_ws(fig, msg);\n",
       "};\n",
       "\n",
       "mpl.figure.prototype.close_ws = function (fig, msg) {\n",
       "    fig.send_message('closing', msg);\n",
       "    // fig.ws.close()\n",
       "};\n",
       "\n",
       "mpl.figure.prototype.push_to_output = function (_remove_interactive) {\n",
       "    // Turn the data on the canvas into data in the output cell.\n",
       "    var width = this.canvas.width / this.ratio;\n",
       "    var dataURL = this.canvas.toDataURL();\n",
       "    this.cell_info[1]['text/html'] =\n",
       "        '<img src=\"' + dataURL + '\" width=\"' + width + '\">';\n",
       "};\n",
       "\n",
       "mpl.figure.prototype.updated_canvas_event = function () {\n",
       "    // Tell IPython that the notebook contents must change.\n",
       "    IPython.notebook.set_dirty(true);\n",
       "    this.send_message('ack', {});\n",
       "    var fig = this;\n",
       "    // Wait a second, then push the new image to the DOM so\n",
       "    // that it is saved nicely (might be nice to debounce this).\n",
       "    setTimeout(function () {\n",
       "        fig.push_to_output();\n",
       "    }, 1000);\n",
       "};\n",
       "\n",
       "mpl.figure.prototype._init_toolbar = function () {\n",
       "    var fig = this;\n",
       "\n",
       "    var toolbar = document.createElement('div');\n",
       "    toolbar.classList = 'btn-toolbar';\n",
       "    this.root.appendChild(toolbar);\n",
       "\n",
       "    function on_click_closure(name) {\n",
       "        return function (_event) {\n",
       "            return fig.toolbar_button_onclick(name);\n",
       "        };\n",
       "    }\n",
       "\n",
       "    function on_mouseover_closure(tooltip) {\n",
       "        return function (event) {\n",
       "            if (!event.currentTarget.disabled) {\n",
       "                return fig.toolbar_button_onmouseover(tooltip);\n",
       "            }\n",
       "        };\n",
       "    }\n",
       "\n",
       "    fig.buttons = {};\n",
       "    var buttonGroup = document.createElement('div');\n",
       "    buttonGroup.classList = 'btn-group';\n",
       "    var button;\n",
       "    for (var toolbar_ind in mpl.toolbar_items) {\n",
       "        var name = mpl.toolbar_items[toolbar_ind][0];\n",
       "        var tooltip = mpl.toolbar_items[toolbar_ind][1];\n",
       "        var image = mpl.toolbar_items[toolbar_ind][2];\n",
       "        var method_name = mpl.toolbar_items[toolbar_ind][3];\n",
       "\n",
       "        if (!name) {\n",
       "            /* Instead of a spacer, we start a new button group. */\n",
       "            if (buttonGroup.hasChildNodes()) {\n",
       "                toolbar.appendChild(buttonGroup);\n",
       "            }\n",
       "            buttonGroup = document.createElement('div');\n",
       "            buttonGroup.classList = 'btn-group';\n",
       "            continue;\n",
       "        }\n",
       "\n",
       "        button = fig.buttons[name] = document.createElement('button');\n",
       "        button.classList = 'btn btn-default';\n",
       "        button.href = '#';\n",
       "        button.title = name;\n",
       "        button.innerHTML = '<i class=\"fa ' + image + ' fa-lg\"></i>';\n",
       "        button.addEventListener('click', on_click_closure(method_name));\n",
       "        button.addEventListener('mouseover', on_mouseover_closure(tooltip));\n",
       "        buttonGroup.appendChild(button);\n",
       "    }\n",
       "\n",
       "    if (buttonGroup.hasChildNodes()) {\n",
       "        toolbar.appendChild(buttonGroup);\n",
       "    }\n",
       "\n",
       "    // Add the status bar.\n",
       "    var status_bar = document.createElement('span');\n",
       "    status_bar.classList = 'mpl-message pull-right';\n",
       "    toolbar.appendChild(status_bar);\n",
       "    this.message = status_bar;\n",
       "\n",
       "    // Add the close button to the window.\n",
       "    var buttongrp = document.createElement('div');\n",
       "    buttongrp.classList = 'btn-group inline pull-right';\n",
       "    button = document.createElement('button');\n",
       "    button.classList = 'btn btn-mini btn-primary';\n",
       "    button.href = '#';\n",
       "    button.title = 'Stop Interaction';\n",
       "    button.innerHTML = '<i class=\"fa fa-power-off icon-remove icon-large\"></i>';\n",
       "    button.addEventListener('click', function (_evt) {\n",
       "        fig.handle_close(fig, {});\n",
       "    });\n",
       "    button.addEventListener(\n",
       "        'mouseover',\n",
       "        on_mouseover_closure('Stop Interaction')\n",
       "    );\n",
       "    buttongrp.appendChild(button);\n",
       "    var titlebar = this.root.querySelector('.ui-dialog-titlebar');\n",
       "    titlebar.insertBefore(buttongrp, titlebar.firstChild);\n",
       "};\n",
       "\n",
       "mpl.figure.prototype._remove_fig_handler = function (event) {\n",
       "    var fig = event.data.fig;\n",
       "    if (event.target !== this) {\n",
       "        // Ignore bubbled events from children.\n",
       "        return;\n",
       "    }\n",
       "    fig.close_ws(fig, {});\n",
       "};\n",
       "\n",
       "mpl.figure.prototype._root_extra_style = function (el) {\n",
       "    el.style.boxSizing = 'content-box'; // override notebook setting of border-box.\n",
       "};\n",
       "\n",
       "mpl.figure.prototype._canvas_extra_style = function (el) {\n",
       "    // this is important to make the div 'focusable\n",
       "    el.setAttribute('tabindex', 0);\n",
       "    // reach out to IPython and tell the keyboard manager to turn it's self\n",
       "    // off when our div gets focus\n",
       "\n",
       "    // location in version 3\n",
       "    if (IPython.notebook.keyboard_manager) {\n",
       "        IPython.notebook.keyboard_manager.register_events(el);\n",
       "    } else {\n",
       "        // location in version 2\n",
       "        IPython.keyboard_manager.register_events(el);\n",
       "    }\n",
       "};\n",
       "\n",
       "mpl.figure.prototype._key_event_extra = function (event, _name) {\n",
       "    // Check for shift+enter\n",
       "    if (event.shiftKey && event.which === 13) {\n",
       "        this.canvas_div.blur();\n",
       "        // select the cell after this one\n",
       "        var index = IPython.notebook.find_cell_index(this.cell_info[0]);\n",
       "        IPython.notebook.select(index + 1);\n",
       "    }\n",
       "};\n",
       "\n",
       "mpl.figure.prototype.handle_save = function (fig, _msg) {\n",
       "    fig.ondownload(fig, null);\n",
       "};\n",
       "\n",
       "mpl.find_output_cell = function (html_output) {\n",
       "    // Return the cell and output element which can be found *uniquely* in the notebook.\n",
       "    // Note - this is a bit hacky, but it is done because the \"notebook_saving.Notebook\"\n",
       "    // IPython event is triggered only after the cells have been serialised, which for\n",
       "    // our purposes (turning an active figure into a static one), is too late.\n",
       "    var cells = IPython.notebook.get_cells();\n",
       "    var ncells = cells.length;\n",
       "    for (var i = 0; i < ncells; i++) {\n",
       "        var cell = cells[i];\n",
       "        if (cell.cell_type === 'code') {\n",
       "            for (var j = 0; j < cell.output_area.outputs.length; j++) {\n",
       "                var data = cell.output_area.outputs[j];\n",
       "                if (data.data) {\n",
       "                    // IPython >= 3 moved mimebundle to data attribute of output\n",
       "                    data = data.data;\n",
       "                }\n",
       "                if (data['text/html'] === html_output) {\n",
       "                    return [cell, data, j];\n",
       "                }\n",
       "            }\n",
       "        }\n",
       "    }\n",
       "};\n",
       "\n",
       "// Register the function which deals with the matplotlib target/channel.\n",
       "// The kernel may be null if the page has been refreshed.\n",
       "if (IPython.notebook.kernel !== null) {\n",
       "    IPython.notebook.kernel.comm_manager.register_target(\n",
       "        'matplotlib',\n",
       "        mpl.mpl_figure_comm\n",
       "    );\n",
       "}\n"
      ],
      "text/plain": [
       "<IPython.core.display.Javascript object>"
      ]
     },
     "metadata": {},
     "output_type": "display_data"
    },
    {
     "data": {
      "text/html": [
       "<img src=\"data:image/png;base64,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\" width=\"640\">"
      ],
      "text/plain": [
       "<IPython.core.display.HTML object>"
      ]
     },
     "metadata": {},
     "output_type": "display_data"
    },
    {
     "data": {
      "text/plain": [
       "Text(0, 0.5, '$x^2$')"
      ]
     },
     "execution_count": 146,
     "metadata": {},
     "output_type": "execute_result"
    }
   ],
   "source": [
    "fig, ax = plt.subplots()\n",
    "ax.plot(x,y)\n",
    "ax.set_title(\"Results\")\n",
    "ax.set_xlabel(\"x\")\n",
    "ax.set_ylabel(r\"$x^2$\")"
   ]
  },
  {
   "cell_type": "code",
   "execution_count": 149,
   "id": "46103844",
   "metadata": {},
   "outputs": [],
   "source": [
    "%matplotlib inline"
   ]
  },
  {
   "cell_type": "code",
   "execution_count": 150,
   "id": "25310bf5",
   "metadata": {},
   "outputs": [
    {
     "data": {
      "text/plain": [
       "Text(0, 0.5, '$x^2$')"
      ]
     },
     "execution_count": 150,
     "metadata": {},
     "output_type": "execute_result"
    },
    {
     "data": {
      "image/png": "[encoded data removed]",
      "text/plain": [
       "<Figure size 640x480 with 1 Axes>"
      ]
     },
     "metadata": {},
     "output_type": "display_data"
    }
   ],
   "source": [
    "fig, ax = plt.subplots()\n",
    "ax.plot(x,y)\n",
    "ax.set_title(\"Results\")\n",
    "ax.set_xlabel(\"x\")\n",
    "ax.set_ylabel(r\"$x^2$\")"
   ]
  },
  {
   "cell_type": "code",
   "execution_count": 151,
   "id": "396705e1",
   "metadata": {},
   "outputs": [
    {
     "data": {
      "text/plain": [
       "[<matplotlib.lines.Line2D at 0x205bdf89c90>]"
      ]
     },
     "execution_count": 151,
     "metadata": {},
     "output_type": "execute_result"
    },
    {
     "data": {
      "image/png": "[encoded data removed]",
      "text/plain": [
       "<Figure size 640x480 with 1 Axes>"
      ]
     },
     "metadata": {},
     "output_type": "display_data"
    }
   ],
   "source": [
    "fig, ax = plt.subplots()\n",
    "ax.plot(x,y, color=\"red\")"
   ]
  },
  {
   "cell_type": "code",
   "execution_count": 152,
   "id": "7c15c818",
   "metadata": {},
   "outputs": [
    {
     "data": {
      "text/plain": [
       "[<matplotlib.lines.Line2D at 0x205bdff2390>]"
      ]
     },
     "execution_count": 152,
     "metadata": {},
     "output_type": "execute_result"
    },
    {
     "data": {
      "image/png": "[encoded data removed]",
      "text/plain": [
       "<Figure size 640x480 with 1 Axes>"
      ]
     },
     "metadata": {},
     "output_type": "display_data"
    }
   ],
   "source": [
    "fig, ax = plt.subplots()\n",
    "ax.plot(x,y, color=\"red\", linestyle=\"--\")"
   ]
  },
  {
   "cell_type": "code",
   "execution_count": 153,
   "id": "bb27a5a8",
   "metadata": {
    "scrolled": true
   },
   "outputs": [
    {
     "data": {
      "text/plain": [
       "[<matplotlib.lines.Line2D at 0x205bde51c90>]"
      ]
     },
     "execution_count": 153,
     "metadata": {},
     "output_type": "execute_result"
    },
    {
     "data": {
      "image/png": "[encoded data removed]",
      "text/plain": [
       "<Figure size 640x480 with 1 Axes>"
      ]
     },
     "metadata": {},
     "output_type": "display_data"
    }
   ],
   "source": [
    "fig, ax = plt.subplots()\n",
    "ax.plot(x,y, color=\"red\", linestyle=\"--\", marker='o')"
   ]
  },
  {
   "cell_type": "code",
   "execution_count": 154,
   "id": "3783d1a4",
   "metadata": {},
   "outputs": [
    {
     "data": {
      "text/plain": [
       "[<matplotlib.lines.Line2D at 0x205bdeb3750>]"
      ]
     },
     "execution_count": 154,
     "metadata": {},
     "output_type": "execute_result"
    },
    {
     "data": {
      "image/png": "[encoded data removed]",
      "text/plain": [
       "<Figure size 640x480 with 1 Axes>"
      ]
     },
     "metadata": {},
     "output_type": "display_data"
    }
   ],
   "source": [
    "fig, ax = plt.subplots()\n",
    "ax.plot(x,y, 'o--r')"
   ]
  },
  {
   "cell_type": "code",
   "execution_count": 155,
   "id": "5eb1fdbc",
   "metadata": {},
   "outputs": [
    {
     "data": {
      "text/plain": [
       "[<matplotlib.lines.Line2D at 0x205bde83dd0>]"
      ]
     },
     "execution_count": 155,
     "metadata": {},
     "output_type": "execute_result"
    },
    {
     "data": {
      "image/png": "[encoded data removed]",
      "text/plain": [
       "<Figure size 640x480 with 1 Axes>"
      ]
     },
     "metadata": {},
     "output_type": "display_data"
    }
   ],
   "source": [
    "fig, ax = plt.subplots()\n",
    "ax.plot(x,y, 'o--r', linewidth=3)"
   ]
  },
  {
   "cell_type": "code",
   "execution_count": 156,
   "id": "055a1397",
   "metadata": {},
   "outputs": [
    {
     "data": {
      "text/plain": [
       "[<matplotlib.lines.Line2D at 0x205be33d990>]"
      ]
     },
     "execution_count": 156,
     "metadata": {},
     "output_type": "execute_result"
    },
    {
     "data": {
      "image/png": "[encoded data removed]",
      "text/plain": [
       "<Figure size 640x480 with 1 Axes>"
      ]
     },
     "metadata": {},
     "output_type": "display_data"
    }
   ],
   "source": [
    "fig, ax = plt.subplots()\n",
    "ax.plot(x,y, 'o--r', linewidth=3, markersize=10)"
   ]
  },
  {
   "cell_type": "code",
   "execution_count": 157,
   "id": "66499bb4",
   "metadata": {},
   "outputs": [
    {
     "data": {
      "text/plain": [
       "[<matplotlib.lines.Line2D at 0x205be180e90>]"
      ]
     },
     "execution_count": 157,
     "metadata": {},
     "output_type": "execute_result"
    },
    {
     "data": {
      "image/png": "[encoded data removed]",
      "text/plain": [
       "<Figure size 640x480 with 1 Axes>"
      ]
     },
     "metadata": {},
     "output_type": "display_data"
    }
   ],
   "source": [
    "fig, ax = plt.subplots()\n",
    "ax.plot(x,y, 'o--r', lw=3, ms=10)"
   ]
  },
  {
   "cell_type": "code",
   "execution_count": 158,
   "id": "71004d76",
   "metadata": {},
   "outputs": [
    {
     "data": {
      "text/plain": [
       "[<matplotlib.lines.Line2D at 0x205be1b9010>]"
      ]
     },
     "execution_count": 158,
     "metadata": {},
     "output_type": "execute_result"
    },
    {
     "data": {
      "image/png": "[encoded data removed]",
      "text/plain": [
       "<Figure size 640x480 with 1 Axes>"
      ]
     },
     "metadata": {},
     "output_type": "display_data"
    }
   ],
   "source": [
    "fig, ax = plt.subplots()\n",
    "ax.plot(x,y, 'o--r', lw=3, ms=10)"
   ]
  },
  {
   "cell_type": "code",
   "execution_count": 159,
   "id": "d1380ad2",
   "metadata": {},
   "outputs": [
    {
     "data": {
      "text/plain": [
       "[<matplotlib.lines.Line2D at 0x205be1fac10>]"
      ]
     },
     "execution_count": 159,
     "metadata": {},
     "output_type": "execute_result"
    },
    {
     "data": {
      "image/png": "[encoded data removed]",
      "text/plain": [
       "<Figure size 640x480 with 1 Axes>"
      ]
     },
     "metadata": {},
     "output_type": "display_data"
    }
   ],
   "source": [
    "fig, ax = plt.subplots()\n",
    "ax.plot(x,y, '--r', lw=3)\n",
    "ax.plot(x,y, 'o b', ms=10)"
   ]
  },
  {
   "cell_type": "code",
   "execution_count": 160,
   "id": "99cc8c91",
   "metadata": {},
   "outputs": [
    {
     "data": {
      "image/png": "[encoded data removed]",
      "text/plain": [
       "<Figure size 640x480 with 1 Axes>"
      ]
     },
     "metadata": {},
     "output_type": "display_data"
    }
   ],
   "source": [
    "fig, ax = plt.subplots()\n",
    "ax.plot(x,y, '--r', lw=3)\n",
    "ax.plot(x,y, 'o b', ms=10)\n",
    "ax.set_xticks(range(0,11,1));"
   ]
  },
  {
   "cell_type": "code",
   "execution_count": 161,
   "id": "85ca8aa0",
   "metadata": {},
   "outputs": [
    {
     "data": {
      "image/png": "[encoded data removed]",
      "text/plain": [
       "<Figure size 640x480 with 1 Axes>"
      ]
     },
     "metadata": {},
     "output_type": "display_data"
    }
   ],
   "source": [
    "fig, ax = plt.subplots()\n",
    "ax.plot(x,y, '--r', lw=3)\n",
    "ax.plot(x,y, 'o b', ms=10)\n",
    "ax.set_xticks([0,5,15]);"
   ]
  },
  {
   "cell_type": "code",
   "execution_count": 162,
   "id": "e5bc76db",
   "metadata": {},
   "outputs": [
    {
     "data": {
      "image/png": "[encoded data removed]",
      "text/plain": [
       "<Figure size 640x480 with 1 Axes>"
      ]
     },
     "metadata": {},
     "output_type": "display_data"
    }
   ],
   "source": [
    "fig, ax = plt.subplots()\n",
    "ax.plot(x,y, '--r', lw=3)\n",
    "ax.plot(x,y, 'o b', ms=10)\n",
    "ax.set_xticks([0,5,15]);\n",
    "ax.set_xticklabels(['zero', 'five', 'fifteen']);"
   ]
  },
  {
   "cell_type": "code",
   "execution_count": 163,
   "id": "6ba6242d",
   "metadata": {},
   "outputs": [
    {
     "data": {
      "image/png": "[encoded data removed]",
      "text/plain": [
       "<Figure size 640x480 with 1 Axes>"
      ]
     },
     "metadata": {},
     "output_type": "display_data"
    }
   ],
   "source": [
    "fig, ax = plt.subplots()\n",
    "ax.plot(x,y, '--r', lw=3)\n",
    "ax.plot(x,y, 'o b', ms=10)\n",
    "ax.tick_params(axis='x', direction='inout')"
   ]
  },
  {
   "cell_type": "code",
   "execution_count": 164,
   "id": "d703ee6f",
   "metadata": {},
   "outputs": [
    {
     "data": {
      "image/png": "[encoded data removed]",
      "text/plain": [
       "<Figure size 640x480 with 1 Axes>"
      ]
     },
     "metadata": {},
     "output_type": "display_data"
    }
   ],
   "source": [
    "fig, ax = plt.subplots()\n",
    "ax.plot(x,y, '--r', lw=3)\n",
    "ax.plot(x,y, 'o b', ms=10)\n",
    "ax.grid()"
   ]
  },
  {
   "cell_type": "code",
   "execution_count": 165,
   "id": "af5af43d",
   "metadata": {},
   "outputs": [
    {
     "data": {
      "image/png": "[encoded data removed]",
      "text/plain": [
       "<Figure size 640x480 with 1 Axes>"
      ]
     },
     "metadata": {},
     "output_type": "display_data"
    }
   ],
   "source": [
    "fig, ax = plt.subplots()\n",
    "ax.plot(x,y, '--r', lw=3)\n",
    "ax.plot(x,y, 'o b', ms=10)\n",
    "ax.grid(color='b', linestyle=':')"
   ]
  },
  {
   "cell_type": "code",
   "execution_count": 166,
   "id": "bb38b952",
   "metadata": {},
   "outputs": [
    {
     "data": {
      "text/plain": [
       "[<matplotlib.lines.Line2D at 0x205bd8d2790>]"
      ]
     },
     "execution_count": 166,
     "metadata": {},
     "output_type": "execute_result"
    },
    {
     "data": {
      "image/png": "[encoded data removed]",
      "text/plain": [
       "<Figure size 640x480 with 1 Axes>"
      ]
     },
     "metadata": {},
     "output_type": "display_data"
    }
   ],
   "source": [
    "fig, ax = plt.subplots()\n",
    "ax.plot(x,y, '--r', lw=3)\n",
    "ax.plot(x,x**3, ':b')"
   ]
  },
  {
   "cell_type": "code",
   "execution_count": 167,
   "id": "941f9eb8",
   "metadata": {},
   "outputs": [
    {
     "data": {
      "text/plain": [
       "<matplotlib.legend.Legend at 0x205bf4d3e10>"
      ]
     },
     "execution_count": 167,
     "metadata": {},
     "output_type": "execute_result"
    },
    {
     "data": {
      "image/png": "[encoded data removed]",
      "text/plain": [
       "<Figure size 640x480 with 1 Axes>"
      ]
     },
     "metadata": {},
     "output_type": "display_data"
    }
   ],
   "source": [
    "fig, ax = plt.subplots()\n",
    "ax.plot(x,y, '--r', lw=3, label=r'$x^2$')\n",
    "ax.plot(x,x**3, ':b', label=r'$x^3$')\n",
    "ax.legend()"
   ]
  },
  {
   "cell_type": "code",
   "execution_count": 168,
   "id": "6c05fec2",
   "metadata": {},
   "outputs": [
    {
     "data": {
      "image/png": "[encoded data removed]",
      "text/plain": [
       "<Figure size 640x480 with 2 Axes>"
      ]
     },
     "metadata": {},
     "output_type": "display_data"
    }
   ],
   "source": [
    "fig, (ax_l, ax_r) = plt.subplots(1,2)\n",
    "ax_l.plot(x,y)\n",
    "ax_r.plot(x,np.sqrt(x));"
   ]
  },
  {
   "cell_type": "code",
   "execution_count": 169,
   "id": "a47e0378",
   "metadata": {},
   "outputs": [
    {
     "data": {
      "image/png": "[encoded data removed]",
      "text/plain": [
       "<Figure size 640x480 with 2 Axes>"
      ]
     },
     "metadata": {},
     "output_type": "display_data"
    }
   ],
   "source": [
    "fig, (ax_l, ax_r) = plt.subplots(1,2)\n",
    "ax_l.plot(x,y)\n",
    "ax_r.plot(x,np.sqrt(x))\n",
    "fig.suptitle(\"Results\");"
   ]
  },
  {
   "cell_type": "code",
   "execution_count": 170,
   "id": "045e7862",
   "metadata": {},
   "outputs": [
    {
     "data": {
      "image/png": "[encoded data removed]",
      "text/plain": [
       "<Figure size 1200x1200 with 3 Axes>"
      ]
     },
     "metadata": {},
     "output_type": "display_data"
    }
   ],
   "source": [
    "# definitions for the axes\n",
    "left, width = 0.1, 0.65\n",
    "bottom, height = 0.1, 0.65\n",
    "spacing = 0.005\n",
    "\n",
    "# Set the positions of the left and bottom of each subplot, along with their widths and heights.\n",
    "# These are relative to a 1x1 box, which is the whole figure.\n",
    "\n",
    "rect_scatter = [left, bottom, width, height]\n",
    "rect_histx = [left, bottom + height + spacing, width, 0.2]\n",
    "rect_histy = [left + width + spacing, bottom, 0.2, height]\n",
    "\n",
    "# start with a square figure with no subplots defined.\n",
    "fig = plt.figure(figsize=(12, 12))\n",
    "\n",
    "# Now add the subplots for the main scatter plot and the two histograms.\n",
    "ax = fig.add_axes(rect_scatter)\n",
    "\n",
    "# The x histogram should share its x axis values with the scatter plot\n",
    "ax_histx = fig.add_axes(rect_histx, sharex=ax)\n",
    "\n",
    "# The y histogram should share its y axis values with the scatter plot\n",
    "ax_histy = fig.add_axes(rect_histy, sharey=ax)\n",
    "\n",
    "# Finally we add the scatterplot and the histograms\n",
    "ax.scatter(x,y)\n",
    "ax_histx.hist(x)\n",
    "\n",
    "# We want this one to be on its side\n",
    "ax_histy.hist(y, orientation='horizontal')\n",
    "\n",
    "# We might not want axis labels in the middle of the figure\n",
    "ax_histx.tick_params(axis='x', labelbottom=False)\n",
    "ax_histy.tick_params(axis='y', labelleft=False)"
   ]
  },
  {
   "cell_type": "markdown",
   "id": "920167dc",
   "metadata": {},
   "source": [
    "# Pandas"
   ]
  },
  {
   "cell_type": "code",
   "execution_count": 171,
   "id": "31fe870a",
   "metadata": {},
   "outputs": [],
   "source": [
    "import pandas as pd"
   ]
  },
  {
   "cell_type": "code",
   "execution_count": 172,
   "id": "63750a2e",
   "metadata": {},
   "outputs": [],
   "source": [
    "mtcars = pd.read_csv(\"data/mtcars.csv\")"
   ]
  },
  {
   "cell_type": "code",
   "execution_count": 173,
   "id": "c56ea623",
   "metadata": {},
   "outputs": [
    {
     "data": {
      "text/plain": [
       "'C:\\\\Users\\\\lsttgood\\\\OneDrive - Liverpool John Moores University\\\\Documents\\\\Projects\\\\python-workshops\\\\2022-23\\\\Summer'"
      ]
     },
     "execution_count": 173,
     "metadata": {},
     "output_type": "execute_result"
    }
   ],
   "source": [
    "%pwd"
   ]
  },
  {
   "cell_type": "code",
   "execution_count": 174,
   "id": "289f7390",
   "metadata": {},
   "outputs": [
    {
     "name": "stdout",
     "output_type": "stream",
     "text": [
      " Volume in drive C is OSDisk\n",
      " Volume Serial Number is 54D0-9FCC\n",
      "\n",
      " Directory of C:\\Users\\lsttgood\\OneDrive - Liverpool John Moores University\\Documents\\Projects\\python-workshops\\2022-23\\Summer\n",
      "\n",
      "15/09/2023  16:02    <DIR>          .\n",
      "15/09/2023  16:02    <DIR>          ..\n",
      "28/07/2023  16:37    <DIR>          .ipynb_checkpoints\n",
      "28/07/2023  15:09    <DIR>          data\n",
      "15/09/2023  14:31            60,894 First steps in Python - 2023-07-27.ipynb\n",
      "15/09/2023  16:02            39,799 Next steps in Python - 2023-07-28.ipynb\n",
      "               2 File(s)        100,693 bytes\n",
      "               4 Dir(s)  297,444,765,696 bytes free\n"
     ]
    }
   ],
   "source": [
    "%ls"
   ]
  },
  {
   "cell_type": "code",
   "execution_count": 175,
   "id": "c446837c",
   "metadata": {},
   "outputs": [
    {
     "name": "stdout",
     "output_type": "stream",
     "text": [
      " Volume in drive C is OSDisk\n",
      " Volume Serial Number is 54D0-9FCC\n",
      "\n",
      " Directory of C:\\Users\\lsttgood\\OneDrive - Liverpool John Moores University\\Documents\\Projects\\python-workshops\\2022-23\\Summer\\data\n",
      "\n",
      "28/07/2023  15:09    <DIR>          .\n",
      "28/07/2023  15:09    <DIR>          ..\n",
      "27/07/2023  18:48               608 lorem.txt\n",
      "27/07/2023  18:48             1,700 mtcars.csv\n",
      "27/07/2023  18:48               522 random2.csv\n",
      "               3 File(s)          2,830 bytes\n",
      "               2 Dir(s)  297,444,999,168 bytes free\n"
     ]
    }
   ],
   "source": [
    "%ls data"
   ]
  },
  {
   "cell_type": "code",
   "execution_count": 176,
   "id": "f556895d",
   "metadata": {},
   "outputs": [
    {
     "data": {
      "text/html": [
       "<div>\n",
       "<style scoped>\n",
       "    .dataframe tbody tr th:only-of-type {\n",
       "        vertical-align: middle;\n",
       "    }\n",
       "\n",
       "    .dataframe tbody tr th {\n",
       "        vertical-align: top;\n",
       "    }\n",
       "\n",
       "    .dataframe thead th {\n",
       "        text-align: right;\n",
       "    }\n",
       "</style>\n",
       "<table border=\"1\" class=\"dataframe\">\n",
       "  <thead>\n",
       "    <tr style=\"text-align: right;\">\n",
       "      <th></th>\n",
       "      <th>model</th>\n",
       "      <th>mpg</th>\n",
       "      <th>cyl</th>\n",
       "      <th>disp</th>\n",
       "      <th>hp</th>\n",
       "      <th>drat</th>\n",
       "      <th>wt</th>\n",
       "      <th>qsec</th>\n",
       "      <th>vs</th>\n",
       "      <th>am</th>\n",
       "      <th>gear</th>\n",
       "      <th>carb</th>\n",
       "    </tr>\n",
       "  </thead>\n",
       "  <tbody>\n",
       "    <tr>\n",
       "      <th>0</th>\n",
       "      <td>Mazda RX4</td>\n",
       "      <td>21.0</td>\n",
       "      <td>6</td>\n",
       "      <td>160.0</td>\n",
       "      <td>110</td>\n",
       "      <td>3.90</td>\n",
       "      <td>2.620</td>\n",
       "      <td>16.46</td>\n",
       "      <td>0</td>\n",
       "      <td>1</td>\n",
       "      <td>4</td>\n",
       "      <td>4</td>\n",
       "    </tr>\n",
       "    <tr>\n",
       "      <th>1</th>\n",
       "      <td>Mazda RX4 Wag</td>\n",
       "      <td>21.0</td>\n",
       "      <td>6</td>\n",
       "      <td>160.0</td>\n",
       "      <td>110</td>\n",
       "      <td>3.90</td>\n",
       "      <td>2.875</td>\n",
       "      <td>17.02</td>\n",
       "      <td>0</td>\n",
       "      <td>1</td>\n",
       "      <td>4</td>\n",
       "      <td>4</td>\n",
       "    </tr>\n",
       "    <tr>\n",
       "      <th>2</th>\n",
       "      <td>Datsun 710</td>\n",
       "      <td>22.8</td>\n",
       "      <td>4</td>\n",
       "      <td>108.0</td>\n",
       "      <td>93</td>\n",
       "      <td>3.85</td>\n",
       "      <td>2.320</td>\n",
       "      <td>18.61</td>\n",
       "      <td>1</td>\n",
       "      <td>1</td>\n",
       "      <td>4</td>\n",
       "      <td>1</td>\n",
       "    </tr>\n",
       "    <tr>\n",
       "      <th>3</th>\n",
       "      <td>Hornet 4 Drive</td>\n",
       "      <td>21.4</td>\n",
       "      <td>6</td>\n",
       "      <td>258.0</td>\n",
       "      <td>110</td>\n",
       "      <td>3.08</td>\n",
       "      <td>3.215</td>\n",
       "      <td>19.44</td>\n",
       "      <td>1</td>\n",
       "      <td>0</td>\n",
       "      <td>3</td>\n",
       "      <td>1</td>\n",
       "    </tr>\n",
       "    <tr>\n",
       "      <th>4</th>\n",
       "      <td>Hornet Sportabout</td>\n",
       "      <td>18.7</td>\n",
       "      <td>8</td>\n",
       "      <td>360.0</td>\n",
       "      <td>175</td>\n",
       "      <td>3.15</td>\n",
       "      <td>3.440</td>\n",
       "      <td>17.02</td>\n",
       "      <td>0</td>\n",
       "      <td>0</td>\n",
       "      <td>3</td>\n",
       "      <td>2</td>\n",
       "    </tr>\n",
       "    <tr>\n",
       "      <th>5</th>\n",
       "      <td>Valiant</td>\n",
       "      <td>18.1</td>\n",
       "      <td>6</td>\n",
       "      <td>225.0</td>\n",
       "      <td>105</td>\n",
       "      <td>2.76</td>\n",
       "      <td>3.460</td>\n",
       "      <td>20.22</td>\n",
       "      <td>1</td>\n",
       "      <td>0</td>\n",
       "      <td>3</td>\n",
       "      <td>1</td>\n",
       "    </tr>\n",
       "    <tr>\n",
       "      <th>6</th>\n",
       "      <td>Duster 360</td>\n",
       "      <td>14.3</td>\n",
       "      <td>8</td>\n",
       "      <td>360.0</td>\n",
       "      <td>245</td>\n",
       "      <td>3.21</td>\n",
       "      <td>3.570</td>\n",
       "      <td>15.84</td>\n",
       "      <td>0</td>\n",
       "      <td>0</td>\n",
       "      <td>3</td>\n",
       "      <td>4</td>\n",
       "    </tr>\n",
       "    <tr>\n",
       "      <th>7</th>\n",
       "      <td>Merc 240D</td>\n",
       "      <td>24.4</td>\n",
       "      <td>4</td>\n",
       "      <td>146.7</td>\n",
       "      <td>62</td>\n",
       "      <td>3.69</td>\n",
       "      <td>3.190</td>\n",
       "      <td>20.00</td>\n",
       "      <td>1</td>\n",
       "      <td>0</td>\n",
       "      <td>4</td>\n",
       "      <td>2</td>\n",
       "    </tr>\n",
       "    <tr>\n",
       "      <th>8</th>\n",
       "      <td>Merc 230</td>\n",
       "      <td>22.8</td>\n",
       "      <td>4</td>\n",
       "      <td>140.8</td>\n",
       "      <td>95</td>\n",
       "      <td>3.92</td>\n",
       "      <td>3.150</td>\n",
       "      <td>22.90</td>\n",
       "      <td>1</td>\n",
       "      <td>0</td>\n",
       "      <td>4</td>\n",
       "      <td>2</td>\n",
       "    </tr>\n",
       "    <tr>\n",
       "      <th>9</th>\n",
       "      <td>Merc 280</td>\n",
       "      <td>19.2</td>\n",
       "      <td>6</td>\n",
       "      <td>167.6</td>\n",
       "      <td>123</td>\n",
       "      <td>3.92</td>\n",
       "      <td>3.440</td>\n",
       "      <td>18.30</td>\n",
       "      <td>1</td>\n",
       "      <td>0</td>\n",
       "      <td>4</td>\n",
       "      <td>4</td>\n",
       "    </tr>\n",
       "    <tr>\n",
       "      <th>10</th>\n",
       "      <td>Merc 280C</td>\n",
       "      <td>17.8</td>\n",
       "      <td>6</td>\n",
       "      <td>167.6</td>\n",
       "      <td>123</td>\n",
       "      <td>3.92</td>\n",
       "      <td>3.440</td>\n",
       "      <td>18.90</td>\n",
       "      <td>1</td>\n",
       "      <td>0</td>\n",
       "      <td>4</td>\n",
       "      <td>4</td>\n",
       "    </tr>\n",
       "    <tr>\n",
       "      <th>11</th>\n",
       "      <td>Merc 450SE</td>\n",
       "      <td>16.4</td>\n",
       "      <td>8</td>\n",
       "      <td>275.8</td>\n",
       "      <td>180</td>\n",
       "      <td>3.07</td>\n",
       "      <td>4.070</td>\n",
       "      <td>17.40</td>\n",
       "      <td>0</td>\n",
       "      <td>0</td>\n",
       "      <td>3</td>\n",
       "      <td>3</td>\n",
       "    </tr>\n",
       "    <tr>\n",
       "      <th>12</th>\n",
       "      <td>Merc 450SL</td>\n",
       "      <td>17.3</td>\n",
       "      <td>8</td>\n",
       "      <td>275.8</td>\n",
       "      <td>180</td>\n",
       "      <td>3.07</td>\n",
       "      <td>3.730</td>\n",
       "      <td>17.60</td>\n",
       "      <td>0</td>\n",
       "      <td>0</td>\n",
       "      <td>3</td>\n",
       "      <td>3</td>\n",
       "    </tr>\n",
       "    <tr>\n",
       "      <th>13</th>\n",
       "      <td>Merc 450SLC</td>\n",
       "      <td>15.2</td>\n",
       "      <td>8</td>\n",
       "      <td>275.8</td>\n",
       "      <td>180</td>\n",
       "      <td>3.07</td>\n",
       "      <td>3.780</td>\n",
       "      <td>18.00</td>\n",
       "      <td>0</td>\n",
       "      <td>0</td>\n",
       "      <td>3</td>\n",
       "      <td>3</td>\n",
       "    </tr>\n",
       "    <tr>\n",
       "      <th>14</th>\n",
       "      <td>Cadillac Fleetwood</td>\n",
       "      <td>10.4</td>\n",
       "      <td>8</td>\n",
       "      <td>472.0</td>\n",
       "      <td>205</td>\n",
       "      <td>2.93</td>\n",
       "      <td>5.250</td>\n",
       "      <td>17.98</td>\n",
       "      <td>0</td>\n",
       "      <td>0</td>\n",
       "      <td>3</td>\n",
       "      <td>4</td>\n",
       "    </tr>\n",
       "    <tr>\n",
       "      <th>15</th>\n",
       "      <td>Lincoln Continental</td>\n",
       "      <td>10.4</td>\n",
       "      <td>8</td>\n",
       "      <td>460.0</td>\n",
       "      <td>215</td>\n",
       "      <td>3.00</td>\n",
       "      <td>5.424</td>\n",
       "      <td>17.82</td>\n",
       "      <td>0</td>\n",
       "      <td>0</td>\n",
       "      <td>3</td>\n",
       "      <td>4</td>\n",
       "    </tr>\n",
       "    <tr>\n",
       "      <th>16</th>\n",
       "      <td>Chrysler Imperial</td>\n",
       "      <td>14.7</td>\n",
       "      <td>8</td>\n",
       "      <td>440.0</td>\n",
       "      <td>230</td>\n",
       "      <td>3.23</td>\n",
       "      <td>5.345</td>\n",
       "      <td>17.42</td>\n",
       "      <td>0</td>\n",
       "      <td>0</td>\n",
       "      <td>3</td>\n",
       "      <td>4</td>\n",
       "    </tr>\n",
       "    <tr>\n",
       "      <th>17</th>\n",
       "      <td>Fiat 128</td>\n",
       "      <td>32.4</td>\n",
       "      <td>4</td>\n",
       "      <td>78.7</td>\n",
       "      <td>66</td>\n",
       "      <td>4.08</td>\n",
       "      <td>2.200</td>\n",
       "      <td>19.47</td>\n",
       "      <td>1</td>\n",
       "      <td>1</td>\n",
       "      <td>4</td>\n",
       "      <td>1</td>\n",
       "    </tr>\n",
       "    <tr>\n",
       "      <th>18</th>\n",
       "      <td>Honda Civic</td>\n",
       "      <td>30.4</td>\n",
       "      <td>4</td>\n",
       "      <td>75.7</td>\n",
       "      <td>52</td>\n",
       "      <td>4.93</td>\n",
       "      <td>1.615</td>\n",
       "      <td>18.52</td>\n",
       "      <td>1</td>\n",
       "      <td>1</td>\n",
       "      <td>4</td>\n",
       "      <td>2</td>\n",
       "    </tr>\n",
       "    <tr>\n",
       "      <th>19</th>\n",
       "      <td>Toyota Corolla</td>\n",
       "      <td>33.9</td>\n",
       "      <td>4</td>\n",
       "      <td>71.1</td>\n",
       "      <td>65</td>\n",
       "      <td>4.22</td>\n",
       "      <td>1.835</td>\n",
       "      <td>19.90</td>\n",
       "      <td>1</td>\n",
       "      <td>1</td>\n",
       "      <td>4</td>\n",
       "      <td>1</td>\n",
       "    </tr>\n",
       "    <tr>\n",
       "      <th>20</th>\n",
       "      <td>Toyota Corona</td>\n",
       "      <td>21.5</td>\n",
       "      <td>4</td>\n",
       "      <td>120.1</td>\n",
       "      <td>97</td>\n",
       "      <td>3.70</td>\n",
       "      <td>2.465</td>\n",
       "      <td>20.01</td>\n",
       "      <td>1</td>\n",
       "      <td>0</td>\n",
       "      <td>3</td>\n",
       "      <td>1</td>\n",
       "    </tr>\n",
       "    <tr>\n",
       "      <th>21</th>\n",
       "      <td>Dodge Challenger</td>\n",
       "      <td>15.5</td>\n",
       "      <td>8</td>\n",
       "      <td>318.0</td>\n",
       "      <td>150</td>\n",
       "      <td>2.76</td>\n",
       "      <td>3.520</td>\n",
       "      <td>16.87</td>\n",
       "      <td>0</td>\n",
       "      <td>0</td>\n",
       "      <td>3</td>\n",
       "      <td>2</td>\n",
       "    </tr>\n",
       "    <tr>\n",
       "      <th>22</th>\n",
       "      <td>AMC Javelin</td>\n",
       "      <td>15.2</td>\n",
       "      <td>8</td>\n",
       "      <td>304.0</td>\n",
       "      <td>150</td>\n",
       "      <td>3.15</td>\n",
       "      <td>3.435</td>\n",
       "      <td>17.30</td>\n",
       "      <td>0</td>\n",
       "      <td>0</td>\n",
       "      <td>3</td>\n",
       "      <td>2</td>\n",
       "    </tr>\n",
       "    <tr>\n",
       "      <th>23</th>\n",
       "      <td>Camaro Z28</td>\n",
       "      <td>13.3</td>\n",
       "      <td>8</td>\n",
       "      <td>350.0</td>\n",
       "      <td>245</td>\n",
       "      <td>3.73</td>\n",
       "      <td>3.840</td>\n",
       "      <td>15.41</td>\n",
       "      <td>0</td>\n",
       "      <td>0</td>\n",
       "      <td>3</td>\n",
       "      <td>4</td>\n",
       "    </tr>\n",
       "    <tr>\n",
       "      <th>24</th>\n",
       "      <td>Pontiac Firebird</td>\n",
       "      <td>19.2</td>\n",
       "      <td>8</td>\n",
       "      <td>400.0</td>\n",
       "      <td>175</td>\n",
       "      <td>3.08</td>\n",
       "      <td>3.845</td>\n",
       "      <td>17.05</td>\n",
       "      <td>0</td>\n",
       "      <td>0</td>\n",
       "      <td>3</td>\n",
       "      <td>2</td>\n",
       "    </tr>\n",
       "    <tr>\n",
       "      <th>25</th>\n",
       "      <td>Fiat X1-9</td>\n",
       "      <td>27.3</td>\n",
       "      <td>4</td>\n",
       "      <td>79.0</td>\n",
       "      <td>66</td>\n",
       "      <td>4.08</td>\n",
       "      <td>1.935</td>\n",
       "      <td>18.90</td>\n",
       "      <td>1</td>\n",
       "      <td>1</td>\n",
       "      <td>4</td>\n",
       "      <td>1</td>\n",
       "    </tr>\n",
       "    <tr>\n",
       "      <th>26</th>\n",
       "      <td>Porsche 914-2</td>\n",
       "      <td>26.0</td>\n",
       "      <td>4</td>\n",
       "      <td>120.3</td>\n",
       "      <td>91</td>\n",
       "      <td>4.43</td>\n",
       "      <td>2.140</td>\n",
       "      <td>16.70</td>\n",
       "      <td>0</td>\n",
       "      <td>1</td>\n",
       "      <td>5</td>\n",
       "      <td>2</td>\n",
       "    </tr>\n",
       "    <tr>\n",
       "      <th>27</th>\n",
       "      <td>Lotus Europa</td>\n",
       "      <td>30.4</td>\n",
       "      <td>4</td>\n",
       "      <td>95.1</td>\n",
       "      <td>113</td>\n",
       "      <td>3.77</td>\n",
       "      <td>1.513</td>\n",
       "      <td>16.90</td>\n",
       "      <td>1</td>\n",
       "      <td>1</td>\n",
       "      <td>5</td>\n",
       "      <td>2</td>\n",
       "    </tr>\n",
       "    <tr>\n",
       "      <th>28</th>\n",
       "      <td>Ford Pantera L</td>\n",
       "      <td>15.8</td>\n",
       "      <td>8</td>\n",
       "      <td>351.0</td>\n",
       "      <td>264</td>\n",
       "      <td>4.22</td>\n",
       "      <td>3.170</td>\n",
       "      <td>14.50</td>\n",
       "      <td>0</td>\n",
       "      <td>1</td>\n",
       "      <td>5</td>\n",
       "      <td>4</td>\n",
       "    </tr>\n",
       "    <tr>\n",
       "      <th>29</th>\n",
       "      <td>Ferrari Dino</td>\n",
       "      <td>19.7</td>\n",
       "      <td>6</td>\n",
       "      <td>145.0</td>\n",
       "      <td>175</td>\n",
       "      <td>3.62</td>\n",
       "      <td>2.770</td>\n",
       "      <td>15.50</td>\n",
       "      <td>0</td>\n",
       "      <td>1</td>\n",
       "      <td>5</td>\n",
       "      <td>6</td>\n",
       "    </tr>\n",
       "    <tr>\n",
       "      <th>30</th>\n",
       "      <td>Maserati Bora</td>\n",
       "      <td>15.0</td>\n",
       "      <td>8</td>\n",
       "      <td>301.0</td>\n",
       "      <td>335</td>\n",
       "      <td>3.54</td>\n",
       "      <td>3.570</td>\n",
       "      <td>14.60</td>\n",
       "      <td>0</td>\n",
       "      <td>1</td>\n",
       "      <td>5</td>\n",
       "      <td>8</td>\n",
       "    </tr>\n",
       "    <tr>\n",
       "      <th>31</th>\n",
       "      <td>Volvo 142E</td>\n",
       "      <td>21.4</td>\n",
       "      <td>4</td>\n",
       "      <td>121.0</td>\n",
       "      <td>109</td>\n",
       "      <td>4.11</td>\n",
       "      <td>2.780</td>\n",
       "      <td>18.60</td>\n",
       "      <td>1</td>\n",
       "      <td>1</td>\n",
       "      <td>4</td>\n",
       "      <td>2</td>\n",
       "    </tr>\n",
       "  </tbody>\n",
       "</table>\n",
       "</div>"
      ],
      "text/plain": [
       "                  model   mpg  cyl   disp   hp  drat     wt   qsec  vs  am  \\\n",
       "0             Mazda RX4  21.0    6  160.0  110  3.90  2.620  16.46   0   1   \n",
       "1         Mazda RX4 Wag  21.0    6  160.0  110  3.90  2.875  17.02   0   1   \n",
       "2            Datsun 710  22.8    4  108.0   93  3.85  2.320  18.61   1   1   \n",
       "3        Hornet 4 Drive  21.4    6  258.0  110  3.08  3.215  19.44   1   0   \n",
       "4     Hornet Sportabout  18.7    8  360.0  175  3.15  3.440  17.02   0   0   \n",
       "5               Valiant  18.1    6  225.0  105  2.76  3.460  20.22   1   0   \n",
       "6            Duster 360  14.3    8  360.0  245  3.21  3.570  15.84   0   0   \n",
       "7             Merc 240D  24.4    4  146.7   62  3.69  3.190  20.00   1   0   \n",
       "8              Merc 230  22.8    4  140.8   95  3.92  3.150  22.90   1   0   \n",
       "9              Merc 280  19.2    6  167.6  123  3.92  3.440  18.30   1   0   \n",
       "10            Merc 280C  17.8    6  167.6  123  3.92  3.440  18.90   1   0   \n",
       "11           Merc 450SE  16.4    8  275.8  180  3.07  4.070  17.40   0   0   \n",
       "12           Merc 450SL  17.3    8  275.8  180  3.07  3.730  17.60   0   0   \n",
       "13          Merc 450SLC  15.2    8  275.8  180  3.07  3.780  18.00   0   0   \n",
       "14   Cadillac Fleetwood  10.4    8  472.0  205  2.93  5.250  17.98   0   0   \n",
       "15  Lincoln Continental  10.4    8  460.0  215  3.00  5.424  17.82   0   0   \n",
       "16    Chrysler Imperial  14.7    8  440.0  230  3.23  5.345  17.42   0   0   \n",
       "17             Fiat 128  32.4    4   78.7   66  4.08  2.200  19.47   1   1   \n",
       "18          Honda Civic  30.4    4   75.7   52  4.93  1.615  18.52   1   1   \n",
       "19       Toyota Corolla  33.9    4   71.1   65  4.22  1.835  19.90   1   1   \n",
       "20        Toyota Corona  21.5    4  120.1   97  3.70  2.465  20.01   1   0   \n",
       "21     Dodge Challenger  15.5    8  318.0  150  2.76  3.520  16.87   0   0   \n",
       "22          AMC Javelin  15.2    8  304.0  150  3.15  3.435  17.30   0   0   \n",
       "23           Camaro Z28  13.3    8  350.0  245  3.73  3.840  15.41   0   0   \n",
       "24     Pontiac Firebird  19.2    8  400.0  175  3.08  3.845  17.05   0   0   \n",
       "25            Fiat X1-9  27.3    4   79.0   66  4.08  1.935  18.90   1   1   \n",
       "26        Porsche 914-2  26.0    4  120.3   91  4.43  2.140  16.70   0   1   \n",
       "27         Lotus Europa  30.4    4   95.1  113  3.77  1.513  16.90   1   1   \n",
       "28       Ford Pantera L  15.8    8  351.0  264  4.22  3.170  14.50   0   1   \n",
       "29         Ferrari Dino  19.7    6  145.0  175  3.62  2.770  15.50   0   1   \n",
       "30        Maserati Bora  15.0    8  301.0  335  3.54  3.570  14.60   0   1   \n",
       "31           Volvo 142E  21.4    4  121.0  109  4.11  2.780  18.60   1   1   \n",
       "\n",
       "    gear  carb  \n",
       "0      4     4  \n",
       "1      4     4  \n",
       "2      4     1  \n",
       "3      3     1  \n",
       "4      3     2  \n",
       "5      3     1  \n",
       "6      3     4  \n",
       "7      4     2  \n",
       "8      4     2  \n",
       "9      4     4  \n",
       "10     4     4  \n",
       "11     3     3  \n",
       "12     3     3  \n",
       "13     3     3  \n",
       "14     3     4  \n",
       "15     3     4  \n",
       "16     3     4  \n",
       "17     4     1  \n",
       "18     4     2  \n",
       "19     4     1  \n",
       "20     3     1  \n",
       "21     3     2  \n",
       "22     3     2  \n",
       "23     3     4  \n",
       "24     3     2  \n",
       "25     4     1  \n",
       "26     5     2  \n",
       "27     5     2  \n",
       "28     5     4  \n",
       "29     5     6  \n",
       "30     5     8  \n",
       "31     4     2  "
      ]
     },
     "execution_count": 176,
     "metadata": {},
     "output_type": "execute_result"
    }
   ],
   "source": [
    "mtcars"
   ]
  },
  {
   "cell_type": "code",
   "execution_count": 177,
   "id": "d7ebf93e",
   "metadata": {},
   "outputs": [],
   "source": [
    "mtcars = pd.read_csv(\"data/mtcars.csv\", index_col=0)"
   ]
  },
  {
   "cell_type": "code",
   "execution_count": 178,
   "id": "13cc7df2",
   "metadata": {},
   "outputs": [
    {
     "data": {
      "text/html": [
       "<div>\n",
       "<style scoped>\n",
       "    .dataframe tbody tr th:only-of-type {\n",
       "        vertical-align: middle;\n",
       "    }\n",
       "\n",
       "    .dataframe tbody tr th {\n",
       "        vertical-align: top;\n",
       "    }\n",
       "\n",
       "    .dataframe thead th {\n",
       "        text-align: right;\n",
       "    }\n",
       "</style>\n",
       "<table border=\"1\" class=\"dataframe\">\n",
       "  <thead>\n",
       "    <tr style=\"text-align: right;\">\n",
       "      <th></th>\n",
       "      <th>mpg</th>\n",
       "      <th>cyl</th>\n",
       "      <th>disp</th>\n",
       "      <th>hp</th>\n",
       "      <th>drat</th>\n",
       "      <th>wt</th>\n",
       "      <th>qsec</th>\n",
       "      <th>vs</th>\n",
       "      <th>am</th>\n",
       "      <th>gear</th>\n",
       "      <th>carb</th>\n",
       "    </tr>\n",
       "    <tr>\n",
       "      <th>model</th>\n",
       "      <th></th>\n",
       "      <th></th>\n",
       "      <th></th>\n",
       "      <th></th>\n",
       "      <th></th>\n",
       "      <th></th>\n",
       "      <th></th>\n",
       "      <th></th>\n",
       "      <th></th>\n",
       "      <th></th>\n",
       "      <th></th>\n",
       "    </tr>\n",
       "  </thead>\n",
       "  <tbody>\n",
       "    <tr>\n",
       "      <th>Mazda RX4</th>\n",
       "      <td>21.0</td>\n",
       "      <td>6</td>\n",
       "      <td>160.0</td>\n",
       "      <td>110</td>\n",
       "      <td>3.90</td>\n",
       "      <td>2.620</td>\n",
       "      <td>16.46</td>\n",
       "      <td>0</td>\n",
       "      <td>1</td>\n",
       "      <td>4</td>\n",
       "      <td>4</td>\n",
       "    </tr>\n",
       "    <tr>\n",
       "      <th>Mazda RX4 Wag</th>\n",
       "      <td>21.0</td>\n",
       "      <td>6</td>\n",
       "      <td>160.0</td>\n",
       "      <td>110</td>\n",
       "      <td>3.90</td>\n",
       "      <td>2.875</td>\n",
       "      <td>17.02</td>\n",
       "      <td>0</td>\n",
       "      <td>1</td>\n",
       "      <td>4</td>\n",
       "      <td>4</td>\n",
       "    </tr>\n",
       "    <tr>\n",
       "      <th>Datsun 710</th>\n",
       "      <td>22.8</td>\n",
       "      <td>4</td>\n",
       "      <td>108.0</td>\n",
       "      <td>93</td>\n",
       "      <td>3.85</td>\n",
       "      <td>2.320</td>\n",
       "      <td>18.61</td>\n",
       "      <td>1</td>\n",
       "      <td>1</td>\n",
       "      <td>4</td>\n",
       "      <td>1</td>\n",
       "    </tr>\n",
       "    <tr>\n",
       "      <th>Hornet 4 Drive</th>\n",
       "      <td>21.4</td>\n",
       "      <td>6</td>\n",
       "      <td>258.0</td>\n",
       "      <td>110</td>\n",
       "      <td>3.08</td>\n",
       "      <td>3.215</td>\n",
       "      <td>19.44</td>\n",
       "      <td>1</td>\n",
       "      <td>0</td>\n",
       "      <td>3</td>\n",
       "      <td>1</td>\n",
       "    </tr>\n",
       "    <tr>\n",
       "      <th>Hornet Sportabout</th>\n",
       "      <td>18.7</td>\n",
       "      <td>8</td>\n",
       "      <td>360.0</td>\n",
       "      <td>175</td>\n",
       "      <td>3.15</td>\n",
       "      <td>3.440</td>\n",
       "      <td>17.02</td>\n",
       "      <td>0</td>\n",
       "      <td>0</td>\n",
       "      <td>3</td>\n",
       "      <td>2</td>\n",
       "    </tr>\n",
       "    <tr>\n",
       "      <th>Valiant</th>\n",
       "      <td>18.1</td>\n",
       "      <td>6</td>\n",
       "      <td>225.0</td>\n",
       "      <td>105</td>\n",
       "      <td>2.76</td>\n",
       "      <td>3.460</td>\n",
       "      <td>20.22</td>\n",
       "      <td>1</td>\n",
       "      <td>0</td>\n",
       "      <td>3</td>\n",
       "      <td>1</td>\n",
       "    </tr>\n",
       "    <tr>\n",
       "      <th>Duster 360</th>\n",
       "      <td>14.3</td>\n",
       "      <td>8</td>\n",
       "      <td>360.0</td>\n",
       "      <td>245</td>\n",
       "      <td>3.21</td>\n",
       "      <td>3.570</td>\n",
       "      <td>15.84</td>\n",
       "      <td>0</td>\n",
       "      <td>0</td>\n",
       "      <td>3</td>\n",
       "      <td>4</td>\n",
       "    </tr>\n",
       "    <tr>\n",
       "      <th>Merc 240D</th>\n",
       "      <td>24.4</td>\n",
       "      <td>4</td>\n",
       "      <td>146.7</td>\n",
       "      <td>62</td>\n",
       "      <td>3.69</td>\n",
       "      <td>3.190</td>\n",
       "      <td>20.00</td>\n",
       "      <td>1</td>\n",
       "      <td>0</td>\n",
       "      <td>4</td>\n",
       "      <td>2</td>\n",
       "    </tr>\n",
       "    <tr>\n",
       "      <th>Merc 230</th>\n",
       "      <td>22.8</td>\n",
       "      <td>4</td>\n",
       "      <td>140.8</td>\n",
       "      <td>95</td>\n",
       "      <td>3.92</td>\n",
       "      <td>3.150</td>\n",
       "      <td>22.90</td>\n",
       "      <td>1</td>\n",
       "      <td>0</td>\n",
       "      <td>4</td>\n",
       "      <td>2</td>\n",
       "    </tr>\n",
       "    <tr>\n",
       "      <th>Merc 280</th>\n",
       "      <td>19.2</td>\n",
       "      <td>6</td>\n",
       "      <td>167.6</td>\n",
       "      <td>123</td>\n",
       "      <td>3.92</td>\n",
       "      <td>3.440</td>\n",
       "      <td>18.30</td>\n",
       "      <td>1</td>\n",
       "      <td>0</td>\n",
       "      <td>4</td>\n",
       "      <td>4</td>\n",
       "    </tr>\n",
       "    <tr>\n",
       "      <th>Merc 280C</th>\n",
       "      <td>17.8</td>\n",
       "      <td>6</td>\n",
       "      <td>167.6</td>\n",
       "      <td>123</td>\n",
       "      <td>3.92</td>\n",
       "      <td>3.440</td>\n",
       "      <td>18.90</td>\n",
       "      <td>1</td>\n",
       "      <td>0</td>\n",
       "      <td>4</td>\n",
       "      <td>4</td>\n",
       "    </tr>\n",
       "    <tr>\n",
       "      <th>Merc 450SE</th>\n",
       "      <td>16.4</td>\n",
       "      <td>8</td>\n",
       "      <td>275.8</td>\n",
       "      <td>180</td>\n",
       "      <td>3.07</td>\n",
       "      <td>4.070</td>\n",
       "      <td>17.40</td>\n",
       "      <td>0</td>\n",
       "      <td>0</td>\n",
       "      <td>3</td>\n",
       "      <td>3</td>\n",
       "    </tr>\n",
       "    <tr>\n",
       "      <th>Merc 450SL</th>\n",
       "      <td>17.3</td>\n",
       "      <td>8</td>\n",
       "      <td>275.8</td>\n",
       "      <td>180</td>\n",
       "      <td>3.07</td>\n",
       "      <td>3.730</td>\n",
       "      <td>17.60</td>\n",
       "      <td>0</td>\n",
       "      <td>0</td>\n",
       "      <td>3</td>\n",
       "      <td>3</td>\n",
       "    </tr>\n",
       "    <tr>\n",
       "      <th>Merc 450SLC</th>\n",
       "      <td>15.2</td>\n",
       "      <td>8</td>\n",
       "      <td>275.8</td>\n",
       "      <td>180</td>\n",
       "      <td>3.07</td>\n",
       "      <td>3.780</td>\n",
       "      <td>18.00</td>\n",
       "      <td>0</td>\n",
       "      <td>0</td>\n",
       "      <td>3</td>\n",
       "      <td>3</td>\n",
       "    </tr>\n",
       "    <tr>\n",
       "      <th>Cadillac Fleetwood</th>\n",
       "      <td>10.4</td>\n",
       "      <td>8</td>\n",
       "      <td>472.0</td>\n",
       "      <td>205</td>\n",
       "      <td>2.93</td>\n",
       "      <td>5.250</td>\n",
       "      <td>17.98</td>\n",
       "      <td>0</td>\n",
       "      <td>0</td>\n",
       "      <td>3</td>\n",
       "      <td>4</td>\n",
       "    </tr>\n",
       "    <tr>\n",
       "      <th>Lincoln Continental</th>\n",
       "      <td>10.4</td>\n",
       "      <td>8</td>\n",
       "      <td>460.0</td>\n",
       "      <td>215</td>\n",
       "      <td>3.00</td>\n",
       "      <td>5.424</td>\n",
       "      <td>17.82</td>\n",
       "      <td>0</td>\n",
       "      <td>0</td>\n",
       "      <td>3</td>\n",
       "      <td>4</td>\n",
       "    </tr>\n",
       "    <tr>\n",
       "      <th>Chrysler Imperial</th>\n",
       "      <td>14.7</td>\n",
       "      <td>8</td>\n",
       "      <td>440.0</td>\n",
       "      <td>230</td>\n",
       "      <td>3.23</td>\n",
       "      <td>5.345</td>\n",
       "      <td>17.42</td>\n",
       "      <td>0</td>\n",
       "      <td>0</td>\n",
       "      <td>3</td>\n",
       "      <td>4</td>\n",
       "    </tr>\n",
       "    <tr>\n",
       "      <th>Fiat 128</th>\n",
       "      <td>32.4</td>\n",
       "      <td>4</td>\n",
       "      <td>78.7</td>\n",
       "      <td>66</td>\n",
       "      <td>4.08</td>\n",
       "      <td>2.200</td>\n",
       "      <td>19.47</td>\n",
       "      <td>1</td>\n",
       "      <td>1</td>\n",
       "      <td>4</td>\n",
       "      <td>1</td>\n",
       "    </tr>\n",
       "    <tr>\n",
       "      <th>Honda Civic</th>\n",
       "      <td>30.4</td>\n",
       "      <td>4</td>\n",
       "      <td>75.7</td>\n",
       "      <td>52</td>\n",
       "      <td>4.93</td>\n",
       "      <td>1.615</td>\n",
       "      <td>18.52</td>\n",
       "      <td>1</td>\n",
       "      <td>1</td>\n",
       "      <td>4</td>\n",
       "      <td>2</td>\n",
       "    </tr>\n",
       "    <tr>\n",
       "      <th>Toyota Corolla</th>\n",
       "      <td>33.9</td>\n",
       "      <td>4</td>\n",
       "      <td>71.1</td>\n",
       "      <td>65</td>\n",
       "      <td>4.22</td>\n",
       "      <td>1.835</td>\n",
       "      <td>19.90</td>\n",
       "      <td>1</td>\n",
       "      <td>1</td>\n",
       "      <td>4</td>\n",
       "      <td>1</td>\n",
       "    </tr>\n",
       "    <tr>\n",
       "      <th>Toyota Corona</th>\n",
       "      <td>21.5</td>\n",
       "      <td>4</td>\n",
       "      <td>120.1</td>\n",
       "      <td>97</td>\n",
       "      <td>3.70</td>\n",
       "      <td>2.465</td>\n",
       "      <td>20.01</td>\n",
       "      <td>1</td>\n",
       "      <td>0</td>\n",
       "      <td>3</td>\n",
       "      <td>1</td>\n",
       "    </tr>\n",
       "    <tr>\n",
       "      <th>Dodge Challenger</th>\n",
       "      <td>15.5</td>\n",
       "      <td>8</td>\n",
       "      <td>318.0</td>\n",
       "      <td>150</td>\n",
       "      <td>2.76</td>\n",
       "      <td>3.520</td>\n",
       "      <td>16.87</td>\n",
       "      <td>0</td>\n",
       "      <td>0</td>\n",
       "      <td>3</td>\n",
       "      <td>2</td>\n",
       "    </tr>\n",
       "    <tr>\n",
       "      <th>AMC Javelin</th>\n",
       "      <td>15.2</td>\n",
       "      <td>8</td>\n",
       "      <td>304.0</td>\n",
       "      <td>150</td>\n",
       "      <td>3.15</td>\n",
       "      <td>3.435</td>\n",
       "      <td>17.30</td>\n",
       "      <td>0</td>\n",
       "      <td>0</td>\n",
       "      <td>3</td>\n",
       "      <td>2</td>\n",
       "    </tr>\n",
       "    <tr>\n",
       "      <th>Camaro Z28</th>\n",
       "      <td>13.3</td>\n",
       "      <td>8</td>\n",
       "      <td>350.0</td>\n",
       "      <td>245</td>\n",
       "      <td>3.73</td>\n",
       "      <td>3.840</td>\n",
       "      <td>15.41</td>\n",
       "      <td>0</td>\n",
       "      <td>0</td>\n",
       "      <td>3</td>\n",
       "      <td>4</td>\n",
       "    </tr>\n",
       "    <tr>\n",
       "      <th>Pontiac Firebird</th>\n",
       "      <td>19.2</td>\n",
       "      <td>8</td>\n",
       "      <td>400.0</td>\n",
       "      <td>175</td>\n",
       "      <td>3.08</td>\n",
       "      <td>3.845</td>\n",
       "      <td>17.05</td>\n",
       "      <td>0</td>\n",
       "      <td>0</td>\n",
       "      <td>3</td>\n",
       "      <td>2</td>\n",
       "    </tr>\n",
       "    <tr>\n",
       "      <th>Fiat X1-9</th>\n",
       "      <td>27.3</td>\n",
       "      <td>4</td>\n",
       "      <td>79.0</td>\n",
       "      <td>66</td>\n",
       "      <td>4.08</td>\n",
       "      <td>1.935</td>\n",
       "      <td>18.90</td>\n",
       "      <td>1</td>\n",
       "      <td>1</td>\n",
       "      <td>4</td>\n",
       "      <td>1</td>\n",
       "    </tr>\n",
       "    <tr>\n",
       "      <th>Porsche 914-2</th>\n",
       "      <td>26.0</td>\n",
       "      <td>4</td>\n",
       "      <td>120.3</td>\n",
       "      <td>91</td>\n",
       "      <td>4.43</td>\n",
       "      <td>2.140</td>\n",
       "      <td>16.70</td>\n",
       "      <td>0</td>\n",
       "      <td>1</td>\n",
       "      <td>5</td>\n",
       "      <td>2</td>\n",
       "    </tr>\n",
       "    <tr>\n",
       "      <th>Lotus Europa</th>\n",
       "      <td>30.4</td>\n",
       "      <td>4</td>\n",
       "      <td>95.1</td>\n",
       "      <td>113</td>\n",
       "      <td>3.77</td>\n",
       "      <td>1.513</td>\n",
       "      <td>16.90</td>\n",
       "      <td>1</td>\n",
       "      <td>1</td>\n",
       "      <td>5</td>\n",
       "      <td>2</td>\n",
       "    </tr>\n",
       "    <tr>\n",
       "      <th>Ford Pantera L</th>\n",
       "      <td>15.8</td>\n",
       "      <td>8</td>\n",
       "      <td>351.0</td>\n",
       "      <td>264</td>\n",
       "      <td>4.22</td>\n",
       "      <td>3.170</td>\n",
       "      <td>14.50</td>\n",
       "      <td>0</td>\n",
       "      <td>1</td>\n",
       "      <td>5</td>\n",
       "      <td>4</td>\n",
       "    </tr>\n",
       "    <tr>\n",
       "      <th>Ferrari Dino</th>\n",
       "      <td>19.7</td>\n",
       "      <td>6</td>\n",
       "      <td>145.0</td>\n",
       "      <td>175</td>\n",
       "      <td>3.62</td>\n",
       "      <td>2.770</td>\n",
       "      <td>15.50</td>\n",
       "      <td>0</td>\n",
       "      <td>1</td>\n",
       "      <td>5</td>\n",
       "      <td>6</td>\n",
       "    </tr>\n",
       "    <tr>\n",
       "      <th>Maserati Bora</th>\n",
       "      <td>15.0</td>\n",
       "      <td>8</td>\n",
       "      <td>301.0</td>\n",
       "      <td>335</td>\n",
       "      <td>3.54</td>\n",
       "      <td>3.570</td>\n",
       "      <td>14.60</td>\n",
       "      <td>0</td>\n",
       "      <td>1</td>\n",
       "      <td>5</td>\n",
       "      <td>8</td>\n",
       "    </tr>\n",
       "    <tr>\n",
       "      <th>Volvo 142E</th>\n",
       "      <td>21.4</td>\n",
       "      <td>4</td>\n",
       "      <td>121.0</td>\n",
       "      <td>109</td>\n",
       "      <td>4.11</td>\n",
       "      <td>2.780</td>\n",
       "      <td>18.60</td>\n",
       "      <td>1</td>\n",
       "      <td>1</td>\n",
       "      <td>4</td>\n",
       "      <td>2</td>\n",
       "    </tr>\n",
       "  </tbody>\n",
       "</table>\n",
       "</div>"
      ],
      "text/plain": [
       "                      mpg  cyl   disp   hp  drat     wt   qsec  vs  am  gear  \\\n",
       "model                                                                          \n",
       "Mazda RX4            21.0    6  160.0  110  3.90  2.620  16.46   0   1     4   \n",
       "Mazda RX4 Wag        21.0    6  160.0  110  3.90  2.875  17.02   0   1     4   \n",
       "Datsun 710           22.8    4  108.0   93  3.85  2.320  18.61   1   1     4   \n",
       "Hornet 4 Drive       21.4    6  258.0  110  3.08  3.215  19.44   1   0     3   \n",
       "Hornet Sportabout    18.7    8  360.0  175  3.15  3.440  17.02   0   0     3   \n",
       "Valiant              18.1    6  225.0  105  2.76  3.460  20.22   1   0     3   \n",
       "Duster 360           14.3    8  360.0  245  3.21  3.570  15.84   0   0     3   \n",
       "Merc 240D            24.4    4  146.7   62  3.69  3.190  20.00   1   0     4   \n",
       "Merc 230             22.8    4  140.8   95  3.92  3.150  22.90   1   0     4   \n",
       "Merc 280             19.2    6  167.6  123  3.92  3.440  18.30   1   0     4   \n",
       "Merc 280C            17.8    6  167.6  123  3.92  3.440  18.90   1   0     4   \n",
       "Merc 450SE           16.4    8  275.8  180  3.07  4.070  17.40   0   0     3   \n",
       "Merc 450SL           17.3    8  275.8  180  3.07  3.730  17.60   0   0     3   \n",
       "Merc 450SLC          15.2    8  275.8  180  3.07  3.780  18.00   0   0     3   \n",
       "Cadillac Fleetwood   10.4    8  472.0  205  2.93  5.250  17.98   0   0     3   \n",
       "Lincoln Continental  10.4    8  460.0  215  3.00  5.424  17.82   0   0     3   \n",
       "Chrysler Imperial    14.7    8  440.0  230  3.23  5.345  17.42   0   0     3   \n",
       "Fiat 128             32.4    4   78.7   66  4.08  2.200  19.47   1   1     4   \n",
       "Honda Civic          30.4    4   75.7   52  4.93  1.615  18.52   1   1     4   \n",
       "Toyota Corolla       33.9    4   71.1   65  4.22  1.835  19.90   1   1     4   \n",
       "Toyota Corona        21.5    4  120.1   97  3.70  2.465  20.01   1   0     3   \n",
       "Dodge Challenger     15.5    8  318.0  150  2.76  3.520  16.87   0   0     3   \n",
       "AMC Javelin          15.2    8  304.0  150  3.15  3.435  17.30   0   0     3   \n",
       "Camaro Z28           13.3    8  350.0  245  3.73  3.840  15.41   0   0     3   \n",
       "Pontiac Firebird     19.2    8  400.0  175  3.08  3.845  17.05   0   0     3   \n",
       "Fiat X1-9            27.3    4   79.0   66  4.08  1.935  18.90   1   1     4   \n",
       "Porsche 914-2        26.0    4  120.3   91  4.43  2.140  16.70   0   1     5   \n",
       "Lotus Europa         30.4    4   95.1  113  3.77  1.513  16.90   1   1     5   \n",
       "Ford Pantera L       15.8    8  351.0  264  4.22  3.170  14.50   0   1     5   \n",
       "Ferrari Dino         19.7    6  145.0  175  3.62  2.770  15.50   0   1     5   \n",
       "Maserati Bora        15.0    8  301.0  335  3.54  3.570  14.60   0   1     5   \n",
       "Volvo 142E           21.4    4  121.0  109  4.11  2.780  18.60   1   1     4   \n",
       "\n",
       "                     carb  \n",
       "model                      \n",
       "Mazda RX4               4  \n",
       "Mazda RX4 Wag           4  \n",
       "Datsun 710              1  \n",
       "Hornet 4 Drive          1  \n",
       "Hornet Sportabout       2  \n",
       "Valiant                 1  \n",
       "Duster 360              4  \n",
       "Merc 240D               2  \n",
       "Merc 230                2  \n",
       "Merc 280                4  \n",
       "Merc 280C               4  \n",
       "Merc 450SE              3  \n",
       "Merc 450SL              3  \n",
       "Merc 450SLC             3  \n",
       "Cadillac Fleetwood      4  \n",
       "Lincoln Continental     4  \n",
       "Chrysler Imperial       4  \n",
       "Fiat 128                1  \n",
       "Honda Civic             2  \n",
       "Toyota Corolla          1  \n",
       "Toyota Corona           1  \n",
       "Dodge Challenger        2  \n",
       "AMC Javelin             2  \n",
       "Camaro Z28              4  \n",
       "Pontiac Firebird        2  \n",
       "Fiat X1-9               1  \n",
       "Porsche 914-2           2  \n",
       "Lotus Europa            2  \n",
       "Ford Pantera L          4  \n",
       "Ferrari Dino            6  \n",
       "Maserati Bora           8  \n",
       "Volvo 142E              2  "
      ]
     },
     "execution_count": 178,
     "metadata": {},
     "output_type": "execute_result"
    }
   ],
   "source": [
    "mtcars"
   ]
  },
  {
   "cell_type": "code",
   "execution_count": 179,
   "id": "a10cb2b8",
   "metadata": {},
   "outputs": [
    {
     "data": {
      "text/html": [
       "<div>\n",
       "<style scoped>\n",
       "    .dataframe tbody tr th:only-of-type {\n",
       "        vertical-align: middle;\n",
       "    }\n",
       "\n",
       "    .dataframe tbody tr th {\n",
       "        vertical-align: top;\n",
       "    }\n",
       "\n",
       "    .dataframe thead th {\n",
       "        text-align: right;\n",
       "    }\n",
       "</style>\n",
       "<table border=\"1\" class=\"dataframe\">\n",
       "  <thead>\n",
       "    <tr style=\"text-align: right;\">\n",
       "      <th></th>\n",
       "      <th>mpg</th>\n",
       "      <th>cyl</th>\n",
       "      <th>disp</th>\n",
       "      <th>hp</th>\n",
       "      <th>drat</th>\n",
       "      <th>wt</th>\n",
       "      <th>qsec</th>\n",
       "      <th>vs</th>\n",
       "      <th>am</th>\n",
       "      <th>gear</th>\n",
       "      <th>carb</th>\n",
       "    </tr>\n",
       "    <tr>\n",
       "      <th>model</th>\n",
       "      <th></th>\n",
       "      <th></th>\n",
       "      <th></th>\n",
       "      <th></th>\n",
       "      <th></th>\n",
       "      <th></th>\n",
       "      <th></th>\n",
       "      <th></th>\n",
       "      <th></th>\n",
       "      <th></th>\n",
       "      <th></th>\n",
       "    </tr>\n",
       "  </thead>\n",
       "  <tbody>\n",
       "    <tr>\n",
       "      <th>Mazda RX4</th>\n",
       "      <td>21.0</td>\n",
       "      <td>6</td>\n",
       "      <td>160.0</td>\n",
       "      <td>110</td>\n",
       "      <td>3.90</td>\n",
       "      <td>2.620</td>\n",
       "      <td>16.46</td>\n",
       "      <td>0</td>\n",
       "      <td>1</td>\n",
       "      <td>4</td>\n",
       "      <td>4</td>\n",
       "    </tr>\n",
       "    <tr>\n",
       "      <th>Mazda RX4 Wag</th>\n",
       "      <td>21.0</td>\n",
       "      <td>6</td>\n",
       "      <td>160.0</td>\n",
       "      <td>110</td>\n",
       "      <td>3.90</td>\n",
       "      <td>2.875</td>\n",
       "      <td>17.02</td>\n",
       "      <td>0</td>\n",
       "      <td>1</td>\n",
       "      <td>4</td>\n",
       "      <td>4</td>\n",
       "    </tr>\n",
       "    <tr>\n",
       "      <th>Datsun 710</th>\n",
       "      <td>22.8</td>\n",
       "      <td>4</td>\n",
       "      <td>108.0</td>\n",
       "      <td>93</td>\n",
       "      <td>3.85</td>\n",
       "      <td>2.320</td>\n",
       "      <td>18.61</td>\n",
       "      <td>1</td>\n",
       "      <td>1</td>\n",
       "      <td>4</td>\n",
       "      <td>1</td>\n",
       "    </tr>\n",
       "    <tr>\n",
       "      <th>Hornet 4 Drive</th>\n",
       "      <td>21.4</td>\n",
       "      <td>6</td>\n",
       "      <td>258.0</td>\n",
       "      <td>110</td>\n",
       "      <td>3.08</td>\n",
       "      <td>3.215</td>\n",
       "      <td>19.44</td>\n",
       "      <td>1</td>\n",
       "      <td>0</td>\n",
       "      <td>3</td>\n",
       "      <td>1</td>\n",
       "    </tr>\n",
       "    <tr>\n",
       "      <th>Hornet Sportabout</th>\n",
       "      <td>18.7</td>\n",
       "      <td>8</td>\n",
       "      <td>360.0</td>\n",
       "      <td>175</td>\n",
       "      <td>3.15</td>\n",
       "      <td>3.440</td>\n",
       "      <td>17.02</td>\n",
       "      <td>0</td>\n",
       "      <td>0</td>\n",
       "      <td>3</td>\n",
       "      <td>2</td>\n",
       "    </tr>\n",
       "  </tbody>\n",
       "</table>\n",
       "</div>"
      ],
      "text/plain": [
       "                    mpg  cyl   disp   hp  drat     wt   qsec  vs  am  gear  \\\n",
       "model                                                                        \n",
       "Mazda RX4          21.0    6  160.0  110  3.90  2.620  16.46   0   1     4   \n",
       "Mazda RX4 Wag      21.0    6  160.0  110  3.90  2.875  17.02   0   1     4   \n",
       "Datsun 710         22.8    4  108.0   93  3.85  2.320  18.61   1   1     4   \n",
       "Hornet 4 Drive     21.4    6  258.0  110  3.08  3.215  19.44   1   0     3   \n",
       "Hornet Sportabout  18.7    8  360.0  175  3.15  3.440  17.02   0   0     3   \n",
       "\n",
       "                   carb  \n",
       "model                    \n",
       "Mazda RX4             4  \n",
       "Mazda RX4 Wag         4  \n",
       "Datsun 710            1  \n",
       "Hornet 4 Drive        1  \n",
       "Hornet Sportabout     2  "
      ]
     },
     "execution_count": 179,
     "metadata": {},
     "output_type": "execute_result"
    }
   ],
   "source": [
    "mtcars.head()"
   ]
  },
  {
   "cell_type": "code",
   "execution_count": 180,
   "id": "51e07da5",
   "metadata": {},
   "outputs": [
    {
     "data": {
      "text/html": [
       "<div>\n",
       "<style scoped>\n",
       "    .dataframe tbody tr th:only-of-type {\n",
       "        vertical-align: middle;\n",
       "    }\n",
       "\n",
       "    .dataframe tbody tr th {\n",
       "        vertical-align: top;\n",
       "    }\n",
       "\n",
       "    .dataframe thead th {\n",
       "        text-align: right;\n",
       "    }\n",
       "</style>\n",
       "<table border=\"1\" class=\"dataframe\">\n",
       "  <thead>\n",
       "    <tr style=\"text-align: right;\">\n",
       "      <th></th>\n",
       "      <th>mpg</th>\n",
       "      <th>cyl</th>\n",
       "      <th>disp</th>\n",
       "      <th>hp</th>\n",
       "      <th>drat</th>\n",
       "      <th>wt</th>\n",
       "      <th>qsec</th>\n",
       "      <th>vs</th>\n",
       "      <th>am</th>\n",
       "      <th>gear</th>\n",
       "      <th>carb</th>\n",
       "    </tr>\n",
       "    <tr>\n",
       "      <th>model</th>\n",
       "      <th></th>\n",
       "      <th></th>\n",
       "      <th></th>\n",
       "      <th></th>\n",
       "      <th></th>\n",
       "      <th></th>\n",
       "      <th></th>\n",
       "      <th></th>\n",
       "      <th></th>\n",
       "      <th></th>\n",
       "      <th></th>\n",
       "    </tr>\n",
       "  </thead>\n",
       "  <tbody>\n",
       "    <tr>\n",
       "      <th>Mazda RX4</th>\n",
       "      <td>21.0</td>\n",
       "      <td>6</td>\n",
       "      <td>160.0</td>\n",
       "      <td>110</td>\n",
       "      <td>3.90</td>\n",
       "      <td>2.620</td>\n",
       "      <td>16.46</td>\n",
       "      <td>0</td>\n",
       "      <td>1</td>\n",
       "      <td>4</td>\n",
       "      <td>4</td>\n",
       "    </tr>\n",
       "    <tr>\n",
       "      <th>Mazda RX4 Wag</th>\n",
       "      <td>21.0</td>\n",
       "      <td>6</td>\n",
       "      <td>160.0</td>\n",
       "      <td>110</td>\n",
       "      <td>3.90</td>\n",
       "      <td>2.875</td>\n",
       "      <td>17.02</td>\n",
       "      <td>0</td>\n",
       "      <td>1</td>\n",
       "      <td>4</td>\n",
       "      <td>4</td>\n",
       "    </tr>\n",
       "    <tr>\n",
       "      <th>Datsun 710</th>\n",
       "      <td>22.8</td>\n",
       "      <td>4</td>\n",
       "      <td>108.0</td>\n",
       "      <td>93</td>\n",
       "      <td>3.85</td>\n",
       "      <td>2.320</td>\n",
       "      <td>18.61</td>\n",
       "      <td>1</td>\n",
       "      <td>1</td>\n",
       "      <td>4</td>\n",
       "      <td>1</td>\n",
       "    </tr>\n",
       "    <tr>\n",
       "      <th>Hornet 4 Drive</th>\n",
       "      <td>21.4</td>\n",
       "      <td>6</td>\n",
       "      <td>258.0</td>\n",
       "      <td>110</td>\n",
       "      <td>3.08</td>\n",
       "      <td>3.215</td>\n",
       "      <td>19.44</td>\n",
       "      <td>1</td>\n",
       "      <td>0</td>\n",
       "      <td>3</td>\n",
       "      <td>1</td>\n",
       "    </tr>\n",
       "    <tr>\n",
       "      <th>Hornet Sportabout</th>\n",
       "      <td>18.7</td>\n",
       "      <td>8</td>\n",
       "      <td>360.0</td>\n",
       "      <td>175</td>\n",
       "      <td>3.15</td>\n",
       "      <td>3.440</td>\n",
       "      <td>17.02</td>\n",
       "      <td>0</td>\n",
       "      <td>0</td>\n",
       "      <td>3</td>\n",
       "      <td>2</td>\n",
       "    </tr>\n",
       "    <tr>\n",
       "      <th>Valiant</th>\n",
       "      <td>18.1</td>\n",
       "      <td>6</td>\n",
       "      <td>225.0</td>\n",
       "      <td>105</td>\n",
       "      <td>2.76</td>\n",
       "      <td>3.460</td>\n",
       "      <td>20.22</td>\n",
       "      <td>1</td>\n",
       "      <td>0</td>\n",
       "      <td>3</td>\n",
       "      <td>1</td>\n",
       "    </tr>\n",
       "    <tr>\n",
       "      <th>Duster 360</th>\n",
       "      <td>14.3</td>\n",
       "      <td>8</td>\n",
       "      <td>360.0</td>\n",
       "      <td>245</td>\n",
       "      <td>3.21</td>\n",
       "      <td>3.570</td>\n",
       "      <td>15.84</td>\n",
       "      <td>0</td>\n",
       "      <td>0</td>\n",
       "      <td>3</td>\n",
       "      <td>4</td>\n",
       "    </tr>\n",
       "  </tbody>\n",
       "</table>\n",
       "</div>"
      ],
      "text/plain": [
       "                    mpg  cyl   disp   hp  drat     wt   qsec  vs  am  gear  \\\n",
       "model                                                                        \n",
       "Mazda RX4          21.0    6  160.0  110  3.90  2.620  16.46   0   1     4   \n",
       "Mazda RX4 Wag      21.0    6  160.0  110  3.90  2.875  17.02   0   1     4   \n",
       "Datsun 710         22.8    4  108.0   93  3.85  2.320  18.61   1   1     4   \n",
       "Hornet 4 Drive     21.4    6  258.0  110  3.08  3.215  19.44   1   0     3   \n",
       "Hornet Sportabout  18.7    8  360.0  175  3.15  3.440  17.02   0   0     3   \n",
       "Valiant            18.1    6  225.0  105  2.76  3.460  20.22   1   0     3   \n",
       "Duster 360         14.3    8  360.0  245  3.21  3.570  15.84   0   0     3   \n",
       "\n",
       "                   carb  \n",
       "model                    \n",
       "Mazda RX4             4  \n",
       "Mazda RX4 Wag         4  \n",
       "Datsun 710            1  \n",
       "Hornet 4 Drive        1  \n",
       "Hornet Sportabout     2  \n",
       "Valiant               1  \n",
       "Duster 360            4  "
      ]
     },
     "execution_count": 180,
     "metadata": {},
     "output_type": "execute_result"
    }
   ],
   "source": [
    "mtcars.head(7)"
   ]
  },
  {
   "cell_type": "code",
   "execution_count": 181,
   "id": "6eddc935",
   "metadata": {},
   "outputs": [
    {
     "data": {
      "text/plain": [
       "Index(['mpg', 'cyl', 'disp', 'hp', 'drat', 'wt', 'qsec', 'vs', 'am', 'gear',\n",
       "       'carb'],\n",
       "      dtype='object')"
      ]
     },
     "execution_count": 181,
     "metadata": {},
     "output_type": "execute_result"
    }
   ],
   "source": [
    "mtcars.columns"
   ]
  },
  {
   "cell_type": "code",
   "execution_count": 182,
   "id": "3ffab0a7",
   "metadata": {},
   "outputs": [
    {
     "data": {
      "text/html": [
       "<div>\n",
       "<style scoped>\n",
       "    .dataframe tbody tr th:only-of-type {\n",
       "        vertical-align: middle;\n",
       "    }\n",
       "\n",
       "    .dataframe tbody tr th {\n",
       "        vertical-align: top;\n",
       "    }\n",
       "\n",
       "    .dataframe thead th {\n",
       "        text-align: right;\n",
       "    }\n",
       "</style>\n",
       "<table border=\"1\" class=\"dataframe\">\n",
       "  <thead>\n",
       "    <tr style=\"text-align: right;\">\n",
       "      <th></th>\n",
       "      <th>mpg</th>\n",
       "      <th>cyl</th>\n",
       "      <th>disp</th>\n",
       "      <th>hp</th>\n",
       "      <th>drat</th>\n",
       "      <th>wt</th>\n",
       "      <th>qsec</th>\n",
       "      <th>vs</th>\n",
       "      <th>am</th>\n",
       "      <th>gear</th>\n",
       "      <th>carb</th>\n",
       "    </tr>\n",
       "  </thead>\n",
       "  <tbody>\n",
       "    <tr>\n",
       "      <th>count</th>\n",
       "      <td>32.000000</td>\n",
       "      <td>32.000000</td>\n",
       "      <td>32.000000</td>\n",
       "      <td>32.000000</td>\n",
       "      <td>32.000000</td>\n",
       "      <td>32.000000</td>\n",
       "      <td>32.000000</td>\n",
       "      <td>32.000000</td>\n",
       "      <td>32.000000</td>\n",
       "      <td>32.000000</td>\n",
       "      <td>32.0000</td>\n",
       "    </tr>\n",
       "    <tr>\n",
       "      <th>mean</th>\n",
       "      <td>20.090625</td>\n",
       "      <td>6.187500</td>\n",
       "      <td>230.721875</td>\n",
       "      <td>146.687500</td>\n",
       "      <td>3.596563</td>\n",
       "      <td>3.217250</td>\n",
       "      <td>17.848750</td>\n",
       "      <td>0.437500</td>\n",
       "      <td>0.406250</td>\n",
       "      <td>3.687500</td>\n",
       "      <td>2.8125</td>\n",
       "    </tr>\n",
       "    <tr>\n",
       "      <th>std</th>\n",
       "      <td>6.026948</td>\n",
       "      <td>1.785922</td>\n",
       "      <td>123.938694</td>\n",
       "      <td>68.562868</td>\n",
       "      <td>0.534679</td>\n",
       "      <td>0.978457</td>\n",
       "      <td>1.786943</td>\n",
       "      <td>0.504016</td>\n",
       "      <td>0.498991</td>\n",
       "      <td>0.737804</td>\n",
       "      <td>1.6152</td>\n",
       "    </tr>\n",
       "    <tr>\n",
       "      <th>min</th>\n",
       "      <td>10.400000</td>\n",
       "      <td>4.000000</td>\n",
       "      <td>71.100000</td>\n",
       "      <td>52.000000</td>\n",
       "      <td>2.760000</td>\n",
       "      <td>1.513000</td>\n",
       "      <td>14.500000</td>\n",
       "      <td>0.000000</td>\n",
       "      <td>0.000000</td>\n",
       "      <td>3.000000</td>\n",
       "      <td>1.0000</td>\n",
       "    </tr>\n",
       "    <tr>\n",
       "      <th>25%</th>\n",
       "      <td>15.425000</td>\n",
       "      <td>4.000000</td>\n",
       "      <td>120.825000</td>\n",
       "      <td>96.500000</td>\n",
       "      <td>3.080000</td>\n",
       "      <td>2.581250</td>\n",
       "      <td>16.892500</td>\n",
       "      <td>0.000000</td>\n",
       "      <td>0.000000</td>\n",
       "      <td>3.000000</td>\n",
       "      <td>2.0000</td>\n",
       "    </tr>\n",
       "    <tr>\n",
       "      <th>50%</th>\n",
       "      <td>19.200000</td>\n",
       "      <td>6.000000</td>\n",
       "      <td>196.300000</td>\n",
       "      <td>123.000000</td>\n",
       "      <td>3.695000</td>\n",
       "      <td>3.325000</td>\n",
       "      <td>17.710000</td>\n",
       "      <td>0.000000</td>\n",
       "      <td>0.000000</td>\n",
       "      <td>4.000000</td>\n",
       "      <td>2.0000</td>\n",
       "    </tr>\n",
       "    <tr>\n",
       "      <th>75%</th>\n",
       "      <td>22.800000</td>\n",
       "      <td>8.000000</td>\n",
       "      <td>326.000000</td>\n",
       "      <td>180.000000</td>\n",
       "      <td>3.920000</td>\n",
       "      <td>3.610000</td>\n",
       "      <td>18.900000</td>\n",
       "      <td>1.000000</td>\n",
       "      <td>1.000000</td>\n",
       "      <td>4.000000</td>\n",
       "      <td>4.0000</td>\n",
       "    </tr>\n",
       "    <tr>\n",
       "      <th>max</th>\n",
       "      <td>33.900000</td>\n",
       "      <td>8.000000</td>\n",
       "      <td>472.000000</td>\n",
       "      <td>335.000000</td>\n",
       "      <td>4.930000</td>\n",
       "      <td>5.424000</td>\n",
       "      <td>22.900000</td>\n",
       "      <td>1.000000</td>\n",
       "      <td>1.000000</td>\n",
       "      <td>5.000000</td>\n",
       "      <td>8.0000</td>\n",
       "    </tr>\n",
       "  </tbody>\n",
       "</table>\n",
       "</div>"
      ],
      "text/plain": [
       "             mpg        cyl        disp          hp       drat         wt  \\\n",
       "count  32.000000  32.000000   32.000000   32.000000  32.000000  32.000000   \n",
       "mean   20.090625   6.187500  230.721875  146.687500   3.596563   3.217250   \n",
       "std     6.026948   1.785922  123.938694   68.562868   0.534679   0.978457   \n",
       "min    10.400000   4.000000   71.100000   52.000000   2.760000   1.513000   \n",
       "25%    15.425000   4.000000  120.825000   96.500000   3.080000   2.581250   \n",
       "50%    19.200000   6.000000  196.300000  123.000000   3.695000   3.325000   \n",
       "75%    22.800000   8.000000  326.000000  180.000000   3.920000   3.610000   \n",
       "max    33.900000   8.000000  472.000000  335.000000   4.930000   5.424000   \n",
       "\n",
       "            qsec         vs         am       gear     carb  \n",
       "count  32.000000  32.000000  32.000000  32.000000  32.0000  \n",
       "mean   17.848750   0.437500   0.406250   3.687500   2.8125  \n",
       "std     1.786943   0.504016   0.498991   0.737804   1.6152  \n",
       "min    14.500000   0.000000   0.000000   3.000000   1.0000  \n",
       "25%    16.892500   0.000000   0.000000   3.000000   2.0000  \n",
       "50%    17.710000   0.000000   0.000000   4.000000   2.0000  \n",
       "75%    18.900000   1.000000   1.000000   4.000000   4.0000  \n",
       "max    22.900000   1.000000   1.000000   5.000000   8.0000  "
      ]
     },
     "execution_count": 182,
     "metadata": {},
     "output_type": "execute_result"
    }
   ],
   "source": [
    "mtcars.describe()"
   ]
  },
  {
   "cell_type": "code",
   "execution_count": 183,
   "id": "14dc2568",
   "metadata": {},
   "outputs": [
    {
     "data": {
      "text/html": [
       "<div>\n",
       "<style scoped>\n",
       "    .dataframe tbody tr th:only-of-type {\n",
       "        vertical-align: middle;\n",
       "    }\n",
       "\n",
       "    .dataframe tbody tr th {\n",
       "        vertical-align: top;\n",
       "    }\n",
       "\n",
       "    .dataframe thead th {\n",
       "        text-align: right;\n",
       "    }\n",
       "</style>\n",
       "<table border=\"1\" class=\"dataframe\">\n",
       "  <thead>\n",
       "    <tr style=\"text-align: right;\">\n",
       "      <th></th>\n",
       "      <th>mpg</th>\n",
       "      <th>cyl</th>\n",
       "      <th>disp</th>\n",
       "      <th>hp</th>\n",
       "      <th>drat</th>\n",
       "      <th>wt</th>\n",
       "      <th>qsec</th>\n",
       "      <th>vs</th>\n",
       "      <th>am</th>\n",
       "      <th>gear</th>\n",
       "      <th>carb</th>\n",
       "    </tr>\n",
       "  </thead>\n",
       "  <tbody>\n",
       "    <tr>\n",
       "      <th>count</th>\n",
       "      <td>32.00</td>\n",
       "      <td>32.00</td>\n",
       "      <td>32.00</td>\n",
       "      <td>32.00</td>\n",
       "      <td>32.00</td>\n",
       "      <td>32.00</td>\n",
       "      <td>32.00</td>\n",
       "      <td>32.00</td>\n",
       "      <td>32.00</td>\n",
       "      <td>32.00</td>\n",
       "      <td>32.00</td>\n",
       "    </tr>\n",
       "    <tr>\n",
       "      <th>mean</th>\n",
       "      <td>20.09</td>\n",
       "      <td>6.19</td>\n",
       "      <td>230.72</td>\n",
       "      <td>146.69</td>\n",
       "      <td>3.60</td>\n",
       "      <td>3.22</td>\n",
       "      <td>17.85</td>\n",
       "      <td>0.44</td>\n",
       "      <td>0.41</td>\n",
       "      <td>3.69</td>\n",
       "      <td>2.81</td>\n",
       "    </tr>\n",
       "    <tr>\n",
       "      <th>std</th>\n",
       "      <td>6.03</td>\n",
       "      <td>1.79</td>\n",
       "      <td>123.94</td>\n",
       "      <td>68.56</td>\n",
       "      <td>0.53</td>\n",
       "      <td>0.98</td>\n",
       "      <td>1.79</td>\n",
       "      <td>0.50</td>\n",
       "      <td>0.50</td>\n",
       "      <td>0.74</td>\n",
       "      <td>1.62</td>\n",
       "    </tr>\n",
       "    <tr>\n",
       "      <th>min</th>\n",
       "      <td>10.40</td>\n",
       "      <td>4.00</td>\n",
       "      <td>71.10</td>\n",
       "      <td>52.00</td>\n",
       "      <td>2.76</td>\n",
       "      <td>1.51</td>\n",
       "      <td>14.50</td>\n",
       "      <td>0.00</td>\n",
       "      <td>0.00</td>\n",
       "      <td>3.00</td>\n",
       "      <td>1.00</td>\n",
       "    </tr>\n",
       "    <tr>\n",
       "      <th>25%</th>\n",
       "      <td>15.42</td>\n",
       "      <td>4.00</td>\n",
       "      <td>120.82</td>\n",
       "      <td>96.50</td>\n",
       "      <td>3.08</td>\n",
       "      <td>2.58</td>\n",
       "      <td>16.89</td>\n",
       "      <td>0.00</td>\n",
       "      <td>0.00</td>\n",
       "      <td>3.00</td>\n",
       "      <td>2.00</td>\n",
       "    </tr>\n",
       "    <tr>\n",
       "      <th>50%</th>\n",
       "      <td>19.20</td>\n",
       "      <td>6.00</td>\n",
       "      <td>196.30</td>\n",
       "      <td>123.00</td>\n",
       "      <td>3.70</td>\n",
       "      <td>3.32</td>\n",
       "      <td>17.71</td>\n",
       "      <td>0.00</td>\n",
       "      <td>0.00</td>\n",
       "      <td>4.00</td>\n",
       "      <td>2.00</td>\n",
       "    </tr>\n",
       "    <tr>\n",
       "      <th>75%</th>\n",
       "      <td>22.80</td>\n",
       "      <td>8.00</td>\n",
       "      <td>326.00</td>\n",
       "      <td>180.00</td>\n",
       "      <td>3.92</td>\n",
       "      <td>3.61</td>\n",
       "      <td>18.90</td>\n",
       "      <td>1.00</td>\n",
       "      <td>1.00</td>\n",
       "      <td>4.00</td>\n",
       "      <td>4.00</td>\n",
       "    </tr>\n",
       "    <tr>\n",
       "      <th>max</th>\n",
       "      <td>33.90</td>\n",
       "      <td>8.00</td>\n",
       "      <td>472.00</td>\n",
       "      <td>335.00</td>\n",
       "      <td>4.93</td>\n",
       "      <td>5.42</td>\n",
       "      <td>22.90</td>\n",
       "      <td>1.00</td>\n",
       "      <td>1.00</td>\n",
       "      <td>5.00</td>\n",
       "      <td>8.00</td>\n",
       "    </tr>\n",
       "  </tbody>\n",
       "</table>\n",
       "</div>"
      ],
      "text/plain": [
       "         mpg    cyl    disp      hp   drat     wt   qsec     vs     am   gear  \\\n",
       "count  32.00  32.00   32.00   32.00  32.00  32.00  32.00  32.00  32.00  32.00   \n",
       "mean   20.09   6.19  230.72  146.69   3.60   3.22  17.85   0.44   0.41   3.69   \n",
       "std     6.03   1.79  123.94   68.56   0.53   0.98   1.79   0.50   0.50   0.74   \n",
       "min    10.40   4.00   71.10   52.00   2.76   1.51  14.50   0.00   0.00   3.00   \n",
       "25%    15.42   4.00  120.82   96.50   3.08   2.58  16.89   0.00   0.00   3.00   \n",
       "50%    19.20   6.00  196.30  123.00   3.70   3.32  17.71   0.00   0.00   4.00   \n",
       "75%    22.80   8.00  326.00  180.00   3.92   3.61  18.90   1.00   1.00   4.00   \n",
       "max    33.90   8.00  472.00  335.00   4.93   5.42  22.90   1.00   1.00   5.00   \n",
       "\n",
       "        carb  \n",
       "count  32.00  \n",
       "mean    2.81  \n",
       "std     1.62  \n",
       "min     1.00  \n",
       "25%     2.00  \n",
       "50%     2.00  \n",
       "75%     4.00  \n",
       "max     8.00  "
      ]
     },
     "execution_count": 183,
     "metadata": {},
     "output_type": "execute_result"
    }
   ],
   "source": [
    "mtcars.describe().round(2)"
   ]
  },
  {
   "cell_type": "code",
   "execution_count": 184,
   "id": "a5b32994",
   "metadata": {},
   "outputs": [
    {
     "data": {
      "text/plain": [
       "model\n",
       "Mazda RX4              21.0\n",
       "Mazda RX4 Wag          21.0\n",
       "Datsun 710             22.8\n",
       "Hornet 4 Drive         21.4\n",
       "Hornet Sportabout      18.7\n",
       "Valiant                18.1\n",
       "Duster 360             14.3\n",
       "Merc 240D              24.4\n",
       "Merc 230               22.8\n",
       "Merc 280               19.2\n",
       "Merc 280C              17.8\n",
       "Merc 450SE             16.4\n",
       "Merc 450SL             17.3\n",
       "Merc 450SLC            15.2\n",
       "Cadillac Fleetwood     10.4\n",
       "Lincoln Continental    10.4\n",
       "Chrysler Imperial      14.7\n",
       "Fiat 128               32.4\n",
       "Honda Civic            30.4\n",
       "Toyota Corolla         33.9\n",
       "Toyota Corona          21.5\n",
       "Dodge Challenger       15.5\n",
       "AMC Javelin            15.2\n",
       "Camaro Z28             13.3\n",
       "Pontiac Firebird       19.2\n",
       "Fiat X1-9              27.3\n",
       "Porsche 914-2          26.0\n",
       "Lotus Europa           30.4\n",
       "Ford Pantera L         15.8\n",
       "Ferrari Dino           19.7\n",
       "Maserati Bora          15.0\n",
       "Volvo 142E             21.4\n",
       "Name: mpg, dtype: float64"
      ]
     },
     "execution_count": 184,
     "metadata": {},
     "output_type": "execute_result"
    }
   ],
   "source": [
    "mtcars.mpg"
   ]
  },
  {
   "cell_type": "code",
   "execution_count": 185,
   "id": "a5282850",
   "metadata": {},
   "outputs": [
    {
     "data": {
      "text/plain": [
       "model\n",
       "Mazda RX4              21.0\n",
       "Mazda RX4 Wag          21.0\n",
       "Datsun 710             22.8\n",
       "Hornet 4 Drive         21.4\n",
       "Hornet Sportabout      18.7\n",
       "Valiant                18.1\n",
       "Duster 360             14.3\n",
       "Merc 240D              24.4\n",
       "Merc 230               22.8\n",
       "Merc 280               19.2\n",
       "Merc 280C              17.8\n",
       "Merc 450SE             16.4\n",
       "Merc 450SL             17.3\n",
       "Merc 450SLC            15.2\n",
       "Cadillac Fleetwood     10.4\n",
       "Lincoln Continental    10.4\n",
       "Chrysler Imperial      14.7\n",
       "Fiat 128               32.4\n",
       "Honda Civic            30.4\n",
       "Toyota Corolla         33.9\n",
       "Toyota Corona          21.5\n",
       "Dodge Challenger       15.5\n",
       "AMC Javelin            15.2\n",
       "Camaro Z28             13.3\n",
       "Pontiac Firebird       19.2\n",
       "Fiat X1-9              27.3\n",
       "Porsche 914-2          26.0\n",
       "Lotus Europa           30.4\n",
       "Ford Pantera L         15.8\n",
       "Ferrari Dino           19.7\n",
       "Maserati Bora          15.0\n",
       "Volvo 142E             21.4\n",
       "Name: mpg, dtype: float64"
      ]
     },
     "execution_count": 185,
     "metadata": {},
     "output_type": "execute_result"
    }
   ],
   "source": [
    "mtcars['mpg']"
   ]
  },
  {
   "cell_type": "code",
   "execution_count": 186,
   "id": "6093b3eb",
   "metadata": {},
   "outputs": [
    {
     "data": {
      "text/plain": [
       "model\n",
       "Mazda RX4            21.0\n",
       "Mazda RX4 Wag        21.0\n",
       "Datsun 710           22.8\n",
       "Hornet 4 Drive       21.4\n",
       "Hornet Sportabout    18.7\n",
       "Name: mpg, dtype: float64"
      ]
     },
     "execution_count": 186,
     "metadata": {},
     "output_type": "execute_result"
    }
   ],
   "source": [
    "mtcars['mpg'].head()"
   ]
  },
  {
   "cell_type": "code",
   "execution_count": 187,
   "id": "8528fc3c",
   "metadata": {},
   "outputs": [
    {
     "data": {
      "text/plain": [
       "count    32.000000\n",
       "mean     20.090625\n",
       "std       6.026948\n",
       "min      10.400000\n",
       "25%      15.425000\n",
       "50%      19.200000\n",
       "75%      22.800000\n",
       "max      33.900000\n",
       "Name: mpg, dtype: float64"
      ]
     },
     "execution_count": 187,
     "metadata": {},
     "output_type": "execute_result"
    }
   ],
   "source": [
    "mtcars['mpg'].describe()"
   ]
  },
  {
   "cell_type": "code",
   "execution_count": 188,
   "id": "345dd4a9",
   "metadata": {},
   "outputs": [
    {
     "data": {
      "text/html": [
       "<div>\n",
       "<style scoped>\n",
       "    .dataframe tbody tr th:only-of-type {\n",
       "        vertical-align: middle;\n",
       "    }\n",
       "\n",
       "    .dataframe tbody tr th {\n",
       "        vertical-align: top;\n",
       "    }\n",
       "\n",
       "    .dataframe thead th {\n",
       "        text-align: right;\n",
       "    }\n",
       "</style>\n",
       "<table border=\"1\" class=\"dataframe\">\n",
       "  <thead>\n",
       "    <tr style=\"text-align: right;\">\n",
       "      <th></th>\n",
       "      <th>gear</th>\n",
       "      <th>mpg</th>\n",
       "      <th>cyl</th>\n",
       "    </tr>\n",
       "    <tr>\n",
       "      <th>model</th>\n",
       "      <th></th>\n",
       "      <th></th>\n",
       "      <th></th>\n",
       "    </tr>\n",
       "  </thead>\n",
       "  <tbody>\n",
       "    <tr>\n",
       "      <th>Mazda RX4</th>\n",
       "      <td>4</td>\n",
       "      <td>21.0</td>\n",
       "      <td>6</td>\n",
       "    </tr>\n",
       "    <tr>\n",
       "      <th>Mazda RX4 Wag</th>\n",
       "      <td>4</td>\n",
       "      <td>21.0</td>\n",
       "      <td>6</td>\n",
       "    </tr>\n",
       "    <tr>\n",
       "      <th>Datsun 710</th>\n",
       "      <td>4</td>\n",
       "      <td>22.8</td>\n",
       "      <td>4</td>\n",
       "    </tr>\n",
       "    <tr>\n",
       "      <th>Hornet 4 Drive</th>\n",
       "      <td>3</td>\n",
       "      <td>21.4</td>\n",
       "      <td>6</td>\n",
       "    </tr>\n",
       "    <tr>\n",
       "      <th>Hornet Sportabout</th>\n",
       "      <td>3</td>\n",
       "      <td>18.7</td>\n",
       "      <td>8</td>\n",
       "    </tr>\n",
       "    <tr>\n",
       "      <th>Valiant</th>\n",
       "      <td>3</td>\n",
       "      <td>18.1</td>\n",
       "      <td>6</td>\n",
       "    </tr>\n",
       "    <tr>\n",
       "      <th>Duster 360</th>\n",
       "      <td>3</td>\n",
       "      <td>14.3</td>\n",
       "      <td>8</td>\n",
       "    </tr>\n",
       "    <tr>\n",
       "      <th>Merc 240D</th>\n",
       "      <td>4</td>\n",
       "      <td>24.4</td>\n",
       "      <td>4</td>\n",
       "    </tr>\n",
       "    <tr>\n",
       "      <th>Merc 230</th>\n",
       "      <td>4</td>\n",
       "      <td>22.8</td>\n",
       "      <td>4</td>\n",
       "    </tr>\n",
       "    <tr>\n",
       "      <th>Merc 280</th>\n",
       "      <td>4</td>\n",
       "      <td>19.2</td>\n",
       "      <td>6</td>\n",
       "    </tr>\n",
       "    <tr>\n",
       "      <th>Merc 280C</th>\n",
       "      <td>4</td>\n",
       "      <td>17.8</td>\n",
       "      <td>6</td>\n",
       "    </tr>\n",
       "    <tr>\n",
       "      <th>Merc 450SE</th>\n",
       "      <td>3</td>\n",
       "      <td>16.4</td>\n",
       "      <td>8</td>\n",
       "    </tr>\n",
       "    <tr>\n",
       "      <th>Merc 450SL</th>\n",
       "      <td>3</td>\n",
       "      <td>17.3</td>\n",
       "      <td>8</td>\n",
       "    </tr>\n",
       "    <tr>\n",
       "      <th>Merc 450SLC</th>\n",
       "      <td>3</td>\n",
       "      <td>15.2</td>\n",
       "      <td>8</td>\n",
       "    </tr>\n",
       "    <tr>\n",
       "      <th>Cadillac Fleetwood</th>\n",
       "      <td>3</td>\n",
       "      <td>10.4</td>\n",
       "      <td>8</td>\n",
       "    </tr>\n",
       "    <tr>\n",
       "      <th>Lincoln Continental</th>\n",
       "      <td>3</td>\n",
       "      <td>10.4</td>\n",
       "      <td>8</td>\n",
       "    </tr>\n",
       "    <tr>\n",
       "      <th>Chrysler Imperial</th>\n",
       "      <td>3</td>\n",
       "      <td>14.7</td>\n",
       "      <td>8</td>\n",
       "    </tr>\n",
       "    <tr>\n",
       "      <th>Fiat 128</th>\n",
       "      <td>4</td>\n",
       "      <td>32.4</td>\n",
       "      <td>4</td>\n",
       "    </tr>\n",
       "    <tr>\n",
       "      <th>Honda Civic</th>\n",
       "      <td>4</td>\n",
       "      <td>30.4</td>\n",
       "      <td>4</td>\n",
       "    </tr>\n",
       "    <tr>\n",
       "      <th>Toyota Corolla</th>\n",
       "      <td>4</td>\n",
       "      <td>33.9</td>\n",
       "      <td>4</td>\n",
       "    </tr>\n",
       "    <tr>\n",
       "      <th>Toyota Corona</th>\n",
       "      <td>3</td>\n",
       "      <td>21.5</td>\n",
       "      <td>4</td>\n",
       "    </tr>\n",
       "    <tr>\n",
       "      <th>Dodge Challenger</th>\n",
       "      <td>3</td>\n",
       "      <td>15.5</td>\n",
       "      <td>8</td>\n",
       "    </tr>\n",
       "    <tr>\n",
       "      <th>AMC Javelin</th>\n",
       "      <td>3</td>\n",
       "      <td>15.2</td>\n",
       "      <td>8</td>\n",
       "    </tr>\n",
       "    <tr>\n",
       "      <th>Camaro Z28</th>\n",
       "      <td>3</td>\n",
       "      <td>13.3</td>\n",
       "      <td>8</td>\n",
       "    </tr>\n",
       "    <tr>\n",
       "      <th>Pontiac Firebird</th>\n",
       "      <td>3</td>\n",
       "      <td>19.2</td>\n",
       "      <td>8</td>\n",
       "    </tr>\n",
       "    <tr>\n",
       "      <th>Fiat X1-9</th>\n",
       "      <td>4</td>\n",
       "      <td>27.3</td>\n",
       "      <td>4</td>\n",
       "    </tr>\n",
       "    <tr>\n",
       "      <th>Porsche 914-2</th>\n",
       "      <td>5</td>\n",
       "      <td>26.0</td>\n",
       "      <td>4</td>\n",
       "    </tr>\n",
       "    <tr>\n",
       "      <th>Lotus Europa</th>\n",
       "      <td>5</td>\n",
       "      <td>30.4</td>\n",
       "      <td>4</td>\n",
       "    </tr>\n",
       "    <tr>\n",
       "      <th>Ford Pantera L</th>\n",
       "      <td>5</td>\n",
       "      <td>15.8</td>\n",
       "      <td>8</td>\n",
       "    </tr>\n",
       "    <tr>\n",
       "      <th>Ferrari Dino</th>\n",
       "      <td>5</td>\n",
       "      <td>19.7</td>\n",
       "      <td>6</td>\n",
       "    </tr>\n",
       "    <tr>\n",
       "      <th>Maserati Bora</th>\n",
       "      <td>5</td>\n",
       "      <td>15.0</td>\n",
       "      <td>8</td>\n",
       "    </tr>\n",
       "    <tr>\n",
       "      <th>Volvo 142E</th>\n",
       "      <td>4</td>\n",
       "      <td>21.4</td>\n",
       "      <td>4</td>\n",
       "    </tr>\n",
       "  </tbody>\n",
       "</table>\n",
       "</div>"
      ],
      "text/plain": [
       "                     gear   mpg  cyl\n",
       "model                               \n",
       "Mazda RX4               4  21.0    6\n",
       "Mazda RX4 Wag           4  21.0    6\n",
       "Datsun 710              4  22.8    4\n",
       "Hornet 4 Drive          3  21.4    6\n",
       "Hornet Sportabout       3  18.7    8\n",
       "Valiant                 3  18.1    6\n",
       "Duster 360              3  14.3    8\n",
       "Merc 240D               4  24.4    4\n",
       "Merc 230                4  22.8    4\n",
       "Merc 280                4  19.2    6\n",
       "Merc 280C               4  17.8    6\n",
       "Merc 450SE              3  16.4    8\n",
       "Merc 450SL              3  17.3    8\n",
       "Merc 450SLC             3  15.2    8\n",
       "Cadillac Fleetwood      3  10.4    8\n",
       "Lincoln Continental     3  10.4    8\n",
       "Chrysler Imperial       3  14.7    8\n",
       "Fiat 128                4  32.4    4\n",
       "Honda Civic             4  30.4    4\n",
       "Toyota Corolla          4  33.9    4\n",
       "Toyota Corona           3  21.5    4\n",
       "Dodge Challenger        3  15.5    8\n",
       "AMC Javelin             3  15.2    8\n",
       "Camaro Z28              3  13.3    8\n",
       "Pontiac Firebird        3  19.2    8\n",
       "Fiat X1-9               4  27.3    4\n",
       "Porsche 914-2           5  26.0    4\n",
       "Lotus Europa            5  30.4    4\n",
       "Ford Pantera L          5  15.8    8\n",
       "Ferrari Dino            5  19.7    6\n",
       "Maserati Bora           5  15.0    8\n",
       "Volvo 142E              4  21.4    4"
      ]
     },
     "execution_count": 188,
     "metadata": {},
     "output_type": "execute_result"
    }
   ],
   "source": [
    "mtcars[['gear', 'mpg', 'cyl']]"
   ]
  },
  {
   "cell_type": "code",
   "execution_count": 189,
   "id": "b627a006",
   "metadata": {},
   "outputs": [
    {
     "data": {
      "text/html": [
       "<div>\n",
       "<style scoped>\n",
       "    .dataframe tbody tr th:only-of-type {\n",
       "        vertical-align: middle;\n",
       "    }\n",
       "\n",
       "    .dataframe tbody tr th {\n",
       "        vertical-align: top;\n",
       "    }\n",
       "\n",
       "    .dataframe thead th {\n",
       "        text-align: right;\n",
       "    }\n",
       "</style>\n",
       "<table border=\"1\" class=\"dataframe\">\n",
       "  <thead>\n",
       "    <tr style=\"text-align: right;\">\n",
       "      <th></th>\n",
       "      <th>gear</th>\n",
       "      <th>mpg</th>\n",
       "      <th>cyl</th>\n",
       "    </tr>\n",
       "  </thead>\n",
       "  <tbody>\n",
       "    <tr>\n",
       "      <th>count</th>\n",
       "      <td>32.000000</td>\n",
       "      <td>32.000000</td>\n",
       "      <td>32.000000</td>\n",
       "    </tr>\n",
       "    <tr>\n",
       "      <th>mean</th>\n",
       "      <td>3.687500</td>\n",
       "      <td>20.090625</td>\n",
       "      <td>6.187500</td>\n",
       "    </tr>\n",
       "    <tr>\n",
       "      <th>std</th>\n",
       "      <td>0.737804</td>\n",
       "      <td>6.026948</td>\n",
       "      <td>1.785922</td>\n",
       "    </tr>\n",
       "    <tr>\n",
       "      <th>min</th>\n",
       "      <td>3.000000</td>\n",
       "      <td>10.400000</td>\n",
       "      <td>4.000000</td>\n",
       "    </tr>\n",
       "    <tr>\n",
       "      <th>25%</th>\n",
       "      <td>3.000000</td>\n",
       "      <td>15.425000</td>\n",
       "      <td>4.000000</td>\n",
       "    </tr>\n",
       "    <tr>\n",
       "      <th>50%</th>\n",
       "      <td>4.000000</td>\n",
       "      <td>19.200000</td>\n",
       "      <td>6.000000</td>\n",
       "    </tr>\n",
       "    <tr>\n",
       "      <th>75%</th>\n",
       "      <td>4.000000</td>\n",
       "      <td>22.800000</td>\n",
       "      <td>8.000000</td>\n",
       "    </tr>\n",
       "    <tr>\n",
       "      <th>max</th>\n",
       "      <td>5.000000</td>\n",
       "      <td>33.900000</td>\n",
       "      <td>8.000000</td>\n",
       "    </tr>\n",
       "  </tbody>\n",
       "</table>\n",
       "</div>"
      ],
      "text/plain": [
       "            gear        mpg        cyl\n",
       "count  32.000000  32.000000  32.000000\n",
       "mean    3.687500  20.090625   6.187500\n",
       "std     0.737804   6.026948   1.785922\n",
       "min     3.000000  10.400000   4.000000\n",
       "25%     3.000000  15.425000   4.000000\n",
       "50%     4.000000  19.200000   6.000000\n",
       "75%     4.000000  22.800000   8.000000\n",
       "max     5.000000  33.900000   8.000000"
      ]
     },
     "execution_count": 189,
     "metadata": {},
     "output_type": "execute_result"
    }
   ],
   "source": [
    "mtcars[['gear', 'mpg', 'cyl']].describe()"
   ]
  },
  {
   "cell_type": "code",
   "execution_count": 190,
   "id": "5d88a18e",
   "metadata": {},
   "outputs": [
    {
     "data": {
      "text/plain": [
       "gear     3.687500\n",
       "mpg     20.090625\n",
       "cyl      6.187500\n",
       "dtype: float64"
      ]
     },
     "execution_count": 190,
     "metadata": {},
     "output_type": "execute_result"
    }
   ],
   "source": [
    "mtcars[['gear', 'mpg', 'cyl']].mean()"
   ]
  },
  {
   "cell_type": "code",
   "execution_count": 191,
   "id": "26bc8002",
   "metadata": {},
   "outputs": [
    {
     "data": {
      "text/html": [
       "<div>\n",
       "<style scoped>\n",
       "    .dataframe tbody tr th:only-of-type {\n",
       "        vertical-align: middle;\n",
       "    }\n",
       "\n",
       "    .dataframe tbody tr th {\n",
       "        vertical-align: top;\n",
       "    }\n",
       "\n",
       "    .dataframe thead th {\n",
       "        text-align: right;\n",
       "    }\n",
       "</style>\n",
       "<table border=\"1\" class=\"dataframe\">\n",
       "  <thead>\n",
       "    <tr style=\"text-align: right;\">\n",
       "      <th></th>\n",
       "      <th>mpg</th>\n",
       "      <th>cyl</th>\n",
       "      <th>disp</th>\n",
       "      <th>hp</th>\n",
       "      <th>drat</th>\n",
       "      <th>wt</th>\n",
       "      <th>qsec</th>\n",
       "      <th>vs</th>\n",
       "      <th>am</th>\n",
       "      <th>gear</th>\n",
       "      <th>carb</th>\n",
       "    </tr>\n",
       "    <tr>\n",
       "      <th>model</th>\n",
       "      <th></th>\n",
       "      <th></th>\n",
       "      <th></th>\n",
       "      <th></th>\n",
       "      <th></th>\n",
       "      <th></th>\n",
       "      <th></th>\n",
       "      <th></th>\n",
       "      <th></th>\n",
       "      <th></th>\n",
       "      <th></th>\n",
       "    </tr>\n",
       "  </thead>\n",
       "  <tbody>\n",
       "    <tr>\n",
       "      <th>Mazda RX4</th>\n",
       "      <td>21.0</td>\n",
       "      <td>6</td>\n",
       "      <td>160.0</td>\n",
       "      <td>110</td>\n",
       "      <td>3.90</td>\n",
       "      <td>2.620</td>\n",
       "      <td>16.46</td>\n",
       "      <td>0</td>\n",
       "      <td>1</td>\n",
       "      <td>4</td>\n",
       "      <td>4</td>\n",
       "    </tr>\n",
       "    <tr>\n",
       "      <th>Mazda RX4 Wag</th>\n",
       "      <td>21.0</td>\n",
       "      <td>6</td>\n",
       "      <td>160.0</td>\n",
       "      <td>110</td>\n",
       "      <td>3.90</td>\n",
       "      <td>2.875</td>\n",
       "      <td>17.02</td>\n",
       "      <td>0</td>\n",
       "      <td>1</td>\n",
       "      <td>4</td>\n",
       "      <td>4</td>\n",
       "    </tr>\n",
       "    <tr>\n",
       "      <th>Datsun 710</th>\n",
       "      <td>22.8</td>\n",
       "      <td>4</td>\n",
       "      <td>108.0</td>\n",
       "      <td>93</td>\n",
       "      <td>3.85</td>\n",
       "      <td>2.320</td>\n",
       "      <td>18.61</td>\n",
       "      <td>1</td>\n",
       "      <td>1</td>\n",
       "      <td>4</td>\n",
       "      <td>1</td>\n",
       "    </tr>\n",
       "    <tr>\n",
       "      <th>Hornet 4 Drive</th>\n",
       "      <td>21.4</td>\n",
       "      <td>6</td>\n",
       "      <td>258.0</td>\n",
       "      <td>110</td>\n",
       "      <td>3.08</td>\n",
       "      <td>3.215</td>\n",
       "      <td>19.44</td>\n",
       "      <td>1</td>\n",
       "      <td>0</td>\n",
       "      <td>3</td>\n",
       "      <td>1</td>\n",
       "    </tr>\n",
       "    <tr>\n",
       "      <th>Hornet Sportabout</th>\n",
       "      <td>18.7</td>\n",
       "      <td>8</td>\n",
       "      <td>360.0</td>\n",
       "      <td>175</td>\n",
       "      <td>3.15</td>\n",
       "      <td>3.440</td>\n",
       "      <td>17.02</td>\n",
       "      <td>0</td>\n",
       "      <td>0</td>\n",
       "      <td>3</td>\n",
       "      <td>2</td>\n",
       "    </tr>\n",
       "  </tbody>\n",
       "</table>\n",
       "</div>"
      ],
      "text/plain": [
       "                    mpg  cyl   disp   hp  drat     wt   qsec  vs  am  gear  \\\n",
       "model                                                                        \n",
       "Mazda RX4          21.0    6  160.0  110  3.90  2.620  16.46   0   1     4   \n",
       "Mazda RX4 Wag      21.0    6  160.0  110  3.90  2.875  17.02   0   1     4   \n",
       "Datsun 710         22.8    4  108.0   93  3.85  2.320  18.61   1   1     4   \n",
       "Hornet 4 Drive     21.4    6  258.0  110  3.08  3.215  19.44   1   0     3   \n",
       "Hornet Sportabout  18.7    8  360.0  175  3.15  3.440  17.02   0   0     3   \n",
       "\n",
       "                   carb  \n",
       "model                    \n",
       "Mazda RX4             4  \n",
       "Mazda RX4 Wag         4  \n",
       "Datsun 710            1  \n",
       "Hornet 4 Drive        1  \n",
       "Hornet Sportabout     2  "
      ]
     },
     "execution_count": 191,
     "metadata": {},
     "output_type": "execute_result"
    }
   ],
   "source": [
    "mtcars.head()"
   ]
  },
  {
   "cell_type": "code",
   "execution_count": 192,
   "id": "c5bf0b58",
   "metadata": {},
   "outputs": [
    {
     "data": {
      "text/plain": [
       "mpg      21.00\n",
       "cyl       6.00\n",
       "disp    160.00\n",
       "hp      110.00\n",
       "drat      3.90\n",
       "wt        2.62\n",
       "qsec     16.46\n",
       "vs        0.00\n",
       "am        1.00\n",
       "gear      4.00\n",
       "carb      4.00\n",
       "Name: Mazda RX4, dtype: float64"
      ]
     },
     "execution_count": 192,
     "metadata": {},
     "output_type": "execute_result"
    }
   ],
   "source": [
    "mtcars.iloc[0]"
   ]
  },
  {
   "cell_type": "code",
   "execution_count": 193,
   "id": "83788292",
   "metadata": {},
   "outputs": [
    {
     "data": {
      "text/html": [
       "<div>\n",
       "<style scoped>\n",
       "    .dataframe tbody tr th:only-of-type {\n",
       "        vertical-align: middle;\n",
       "    }\n",
       "\n",
       "    .dataframe tbody tr th {\n",
       "        vertical-align: top;\n",
       "    }\n",
       "\n",
       "    .dataframe thead th {\n",
       "        text-align: right;\n",
       "    }\n",
       "</style>\n",
       "<table border=\"1\" class=\"dataframe\">\n",
       "  <thead>\n",
       "    <tr style=\"text-align: right;\">\n",
       "      <th></th>\n",
       "      <th>mpg</th>\n",
       "      <th>cyl</th>\n",
       "      <th>disp</th>\n",
       "      <th>hp</th>\n",
       "      <th>drat</th>\n",
       "      <th>wt</th>\n",
       "      <th>qsec</th>\n",
       "      <th>vs</th>\n",
       "      <th>am</th>\n",
       "      <th>gear</th>\n",
       "      <th>carb</th>\n",
       "    </tr>\n",
       "    <tr>\n",
       "      <th>model</th>\n",
       "      <th></th>\n",
       "      <th></th>\n",
       "      <th></th>\n",
       "      <th></th>\n",
       "      <th></th>\n",
       "      <th></th>\n",
       "      <th></th>\n",
       "      <th></th>\n",
       "      <th></th>\n",
       "      <th></th>\n",
       "      <th></th>\n",
       "    </tr>\n",
       "  </thead>\n",
       "  <tbody>\n",
       "    <tr>\n",
       "      <th>Datsun 710</th>\n",
       "      <td>22.8</td>\n",
       "      <td>4</td>\n",
       "      <td>108.0</td>\n",
       "      <td>93</td>\n",
       "      <td>3.85</td>\n",
       "      <td>2.320</td>\n",
       "      <td>18.61</td>\n",
       "      <td>1</td>\n",
       "      <td>1</td>\n",
       "      <td>4</td>\n",
       "      <td>1</td>\n",
       "    </tr>\n",
       "    <tr>\n",
       "      <th>Hornet 4 Drive</th>\n",
       "      <td>21.4</td>\n",
       "      <td>6</td>\n",
       "      <td>258.0</td>\n",
       "      <td>110</td>\n",
       "      <td>3.08</td>\n",
       "      <td>3.215</td>\n",
       "      <td>19.44</td>\n",
       "      <td>1</td>\n",
       "      <td>0</td>\n",
       "      <td>3</td>\n",
       "      <td>1</td>\n",
       "    </tr>\n",
       "    <tr>\n",
       "      <th>Hornet Sportabout</th>\n",
       "      <td>18.7</td>\n",
       "      <td>8</td>\n",
       "      <td>360.0</td>\n",
       "      <td>175</td>\n",
       "      <td>3.15</td>\n",
       "      <td>3.440</td>\n",
       "      <td>17.02</td>\n",
       "      <td>0</td>\n",
       "      <td>0</td>\n",
       "      <td>3</td>\n",
       "      <td>2</td>\n",
       "    </tr>\n",
       "  </tbody>\n",
       "</table>\n",
       "</div>"
      ],
      "text/plain": [
       "                    mpg  cyl   disp   hp  drat     wt   qsec  vs  am  gear  \\\n",
       "model                                                                        \n",
       "Datsun 710         22.8    4  108.0   93  3.85  2.320  18.61   1   1     4   \n",
       "Hornet 4 Drive     21.4    6  258.0  110  3.08  3.215  19.44   1   0     3   \n",
       "Hornet Sportabout  18.7    8  360.0  175  3.15  3.440  17.02   0   0     3   \n",
       "\n",
       "                   carb  \n",
       "model                    \n",
       "Datsun 710            1  \n",
       "Hornet 4 Drive        1  \n",
       "Hornet Sportabout     2  "
      ]
     },
     "execution_count": 193,
     "metadata": {},
     "output_type": "execute_result"
    }
   ],
   "source": [
    "mtcars.iloc[2:5]"
   ]
  },
  {
   "cell_type": "code",
   "execution_count": 194,
   "id": "85a19c3e",
   "metadata": {},
   "outputs": [
    {
     "data": {
      "text/html": [
       "<div>\n",
       "<style scoped>\n",
       "    .dataframe tbody tr th:only-of-type {\n",
       "        vertical-align: middle;\n",
       "    }\n",
       "\n",
       "    .dataframe tbody tr th {\n",
       "        vertical-align: top;\n",
       "    }\n",
       "\n",
       "    .dataframe thead th {\n",
       "        text-align: right;\n",
       "    }\n",
       "</style>\n",
       "<table border=\"1\" class=\"dataframe\">\n",
       "  <thead>\n",
       "    <tr style=\"text-align: right;\">\n",
       "      <th></th>\n",
       "      <th>mpg</th>\n",
       "      <th>cyl</th>\n",
       "      <th>disp</th>\n",
       "      <th>hp</th>\n",
       "      <th>drat</th>\n",
       "      <th>wt</th>\n",
       "      <th>qsec</th>\n",
       "      <th>vs</th>\n",
       "      <th>am</th>\n",
       "      <th>gear</th>\n",
       "      <th>carb</th>\n",
       "    </tr>\n",
       "  </thead>\n",
       "  <tbody>\n",
       "    <tr>\n",
       "      <th>count</th>\n",
       "      <td>3.000000</td>\n",
       "      <td>3.0</td>\n",
       "      <td>3.000000</td>\n",
       "      <td>3.00000</td>\n",
       "      <td>3.000000</td>\n",
       "      <td>3.000000</td>\n",
       "      <td>3.000000</td>\n",
       "      <td>3.000000</td>\n",
       "      <td>3.000000</td>\n",
       "      <td>3.000000</td>\n",
       "      <td>3.000000</td>\n",
       "    </tr>\n",
       "    <tr>\n",
       "      <th>mean</th>\n",
       "      <td>20.966667</td>\n",
       "      <td>6.0</td>\n",
       "      <td>242.000000</td>\n",
       "      <td>126.00000</td>\n",
       "      <td>3.360000</td>\n",
       "      <td>2.991667</td>\n",
       "      <td>18.356667</td>\n",
       "      <td>0.666667</td>\n",
       "      <td>0.333333</td>\n",
       "      <td>3.333333</td>\n",
       "      <td>1.333333</td>\n",
       "    </tr>\n",
       "    <tr>\n",
       "      <th>std</th>\n",
       "      <td>2.084067</td>\n",
       "      <td>2.0</td>\n",
       "      <td>126.759615</td>\n",
       "      <td>43.27817</td>\n",
       "      <td>0.425793</td>\n",
       "      <td>0.592460</td>\n",
       "      <td>1.229729</td>\n",
       "      <td>0.577350</td>\n",
       "      <td>0.577350</td>\n",
       "      <td>0.577350</td>\n",
       "      <td>0.577350</td>\n",
       "    </tr>\n",
       "    <tr>\n",
       "      <th>min</th>\n",
       "      <td>18.700000</td>\n",
       "      <td>4.0</td>\n",
       "      <td>108.000000</td>\n",
       "      <td>93.00000</td>\n",
       "      <td>3.080000</td>\n",
       "      <td>2.320000</td>\n",
       "      <td>17.020000</td>\n",
       "      <td>0.000000</td>\n",
       "      <td>0.000000</td>\n",
       "      <td>3.000000</td>\n",
       "      <td>1.000000</td>\n",
       "    </tr>\n",
       "    <tr>\n",
       "      <th>25%</th>\n",
       "      <td>20.050000</td>\n",
       "      <td>5.0</td>\n",
       "      <td>183.000000</td>\n",
       "      <td>101.50000</td>\n",
       "      <td>3.115000</td>\n",
       "      <td>2.767500</td>\n",
       "      <td>17.815000</td>\n",
       "      <td>0.500000</td>\n",
       "      <td>0.000000</td>\n",
       "      <td>3.000000</td>\n",
       "      <td>1.000000</td>\n",
       "    </tr>\n",
       "    <tr>\n",
       "      <th>50%</th>\n",
       "      <td>21.400000</td>\n",
       "      <td>6.0</td>\n",
       "      <td>258.000000</td>\n",
       "      <td>110.00000</td>\n",
       "      <td>3.150000</td>\n",
       "      <td>3.215000</td>\n",
       "      <td>18.610000</td>\n",
       "      <td>1.000000</td>\n",
       "      <td>0.000000</td>\n",
       "      <td>3.000000</td>\n",
       "      <td>1.000000</td>\n",
       "    </tr>\n",
       "    <tr>\n",
       "      <th>75%</th>\n",
       "      <td>22.100000</td>\n",
       "      <td>7.0</td>\n",
       "      <td>309.000000</td>\n",
       "      <td>142.50000</td>\n",
       "      <td>3.500000</td>\n",
       "      <td>3.327500</td>\n",
       "      <td>19.025000</td>\n",
       "      <td>1.000000</td>\n",
       "      <td>0.500000</td>\n",
       "      <td>3.500000</td>\n",
       "      <td>1.500000</td>\n",
       "    </tr>\n",
       "    <tr>\n",
       "      <th>max</th>\n",
       "      <td>22.800000</td>\n",
       "      <td>8.0</td>\n",
       "      <td>360.000000</td>\n",
       "      <td>175.00000</td>\n",
       "      <td>3.850000</td>\n",
       "      <td>3.440000</td>\n",
       "      <td>19.440000</td>\n",
       "      <td>1.000000</td>\n",
       "      <td>1.000000</td>\n",
       "      <td>4.000000</td>\n",
       "      <td>2.000000</td>\n",
       "    </tr>\n",
       "  </tbody>\n",
       "</table>\n",
       "</div>"
      ],
      "text/plain": [
       "             mpg  cyl        disp         hp      drat        wt       qsec  \\\n",
       "count   3.000000  3.0    3.000000    3.00000  3.000000  3.000000   3.000000   \n",
       "mean   20.966667  6.0  242.000000  126.00000  3.360000  2.991667  18.356667   \n",
       "std     2.084067  2.0  126.759615   43.27817  0.425793  0.592460   1.229729   \n",
       "min    18.700000  4.0  108.000000   93.00000  3.080000  2.320000  17.020000   \n",
       "25%    20.050000  5.0  183.000000  101.50000  3.115000  2.767500  17.815000   \n",
       "50%    21.400000  6.0  258.000000  110.00000  3.150000  3.215000  18.610000   \n",
       "75%    22.100000  7.0  309.000000  142.50000  3.500000  3.327500  19.025000   \n",
       "max    22.800000  8.0  360.000000  175.00000  3.850000  3.440000  19.440000   \n",
       "\n",
       "             vs        am      gear      carb  \n",
       "count  3.000000  3.000000  3.000000  3.000000  \n",
       "mean   0.666667  0.333333  3.333333  1.333333  \n",
       "std    0.577350  0.577350  0.577350  0.577350  \n",
       "min    0.000000  0.000000  3.000000  1.000000  \n",
       "25%    0.500000  0.000000  3.000000  1.000000  \n",
       "50%    1.000000  0.000000  3.000000  1.000000  \n",
       "75%    1.000000  0.500000  3.500000  1.500000  \n",
       "max    1.000000  1.000000  4.000000  2.000000  "
      ]
     },
     "execution_count": 194,
     "metadata": {},
     "output_type": "execute_result"
    }
   ],
   "source": [
    "mtcars.iloc[2:5].describe()"
   ]
  },
  {
   "cell_type": "code",
   "execution_count": 195,
   "id": "619cce0b",
   "metadata": {},
   "outputs": [],
   "source": [
    "mtcars['test'] = 1"
   ]
  },
  {
   "cell_type": "code",
   "execution_count": 196,
   "id": "0c8fab61",
   "metadata": {},
   "outputs": [
    {
     "data": {
      "text/html": [
       "<div>\n",
       "<style scoped>\n",
       "    .dataframe tbody tr th:only-of-type {\n",
       "        vertical-align: middle;\n",
       "    }\n",
       "\n",
       "    .dataframe tbody tr th {\n",
       "        vertical-align: top;\n",
       "    }\n",
       "\n",
       "    .dataframe thead th {\n",
       "        text-align: right;\n",
       "    }\n",
       "</style>\n",
       "<table border=\"1\" class=\"dataframe\">\n",
       "  <thead>\n",
       "    <tr style=\"text-align: right;\">\n",
       "      <th></th>\n",
       "      <th>mpg</th>\n",
       "      <th>cyl</th>\n",
       "      <th>disp</th>\n",
       "      <th>hp</th>\n",
       "      <th>drat</th>\n",
       "      <th>wt</th>\n",
       "      <th>qsec</th>\n",
       "      <th>vs</th>\n",
       "      <th>am</th>\n",
       "      <th>gear</th>\n",
       "      <th>carb</th>\n",
       "      <th>test</th>\n",
       "    </tr>\n",
       "    <tr>\n",
       "      <th>model</th>\n",
       "      <th></th>\n",
       "      <th></th>\n",
       "      <th></th>\n",
       "      <th></th>\n",
       "      <th></th>\n",
       "      <th></th>\n",
       "      <th></th>\n",
       "      <th></th>\n",
       "      <th></th>\n",
       "      <th></th>\n",
       "      <th></th>\n",
       "      <th></th>\n",
       "    </tr>\n",
       "  </thead>\n",
       "  <tbody>\n",
       "    <tr>\n",
       "      <th>Mazda RX4</th>\n",
       "      <td>21.0</td>\n",
       "      <td>6</td>\n",
       "      <td>160.0</td>\n",
       "      <td>110</td>\n",
       "      <td>3.90</td>\n",
       "      <td>2.620</td>\n",
       "      <td>16.46</td>\n",
       "      <td>0</td>\n",
       "      <td>1</td>\n",
       "      <td>4</td>\n",
       "      <td>4</td>\n",
       "      <td>1</td>\n",
       "    </tr>\n",
       "    <tr>\n",
       "      <th>Mazda RX4 Wag</th>\n",
       "      <td>21.0</td>\n",
       "      <td>6</td>\n",
       "      <td>160.0</td>\n",
       "      <td>110</td>\n",
       "      <td>3.90</td>\n",
       "      <td>2.875</td>\n",
       "      <td>17.02</td>\n",
       "      <td>0</td>\n",
       "      <td>1</td>\n",
       "      <td>4</td>\n",
       "      <td>4</td>\n",
       "      <td>1</td>\n",
       "    </tr>\n",
       "    <tr>\n",
       "      <th>Datsun 710</th>\n",
       "      <td>22.8</td>\n",
       "      <td>4</td>\n",
       "      <td>108.0</td>\n",
       "      <td>93</td>\n",
       "      <td>3.85</td>\n",
       "      <td>2.320</td>\n",
       "      <td>18.61</td>\n",
       "      <td>1</td>\n",
       "      <td>1</td>\n",
       "      <td>4</td>\n",
       "      <td>1</td>\n",
       "      <td>1</td>\n",
       "    </tr>\n",
       "    <tr>\n",
       "      <th>Hornet 4 Drive</th>\n",
       "      <td>21.4</td>\n",
       "      <td>6</td>\n",
       "      <td>258.0</td>\n",
       "      <td>110</td>\n",
       "      <td>3.08</td>\n",
       "      <td>3.215</td>\n",
       "      <td>19.44</td>\n",
       "      <td>1</td>\n",
       "      <td>0</td>\n",
       "      <td>3</td>\n",
       "      <td>1</td>\n",
       "      <td>1</td>\n",
       "    </tr>\n",
       "    <tr>\n",
       "      <th>Hornet Sportabout</th>\n",
       "      <td>18.7</td>\n",
       "      <td>8</td>\n",
       "      <td>360.0</td>\n",
       "      <td>175</td>\n",
       "      <td>3.15</td>\n",
       "      <td>3.440</td>\n",
       "      <td>17.02</td>\n",
       "      <td>0</td>\n",
       "      <td>0</td>\n",
       "      <td>3</td>\n",
       "      <td>2</td>\n",
       "      <td>1</td>\n",
       "    </tr>\n",
       "    <tr>\n",
       "      <th>Valiant</th>\n",
       "      <td>18.1</td>\n",
       "      <td>6</td>\n",
       "      <td>225.0</td>\n",
       "      <td>105</td>\n",
       "      <td>2.76</td>\n",
       "      <td>3.460</td>\n",
       "      <td>20.22</td>\n",
       "      <td>1</td>\n",
       "      <td>0</td>\n",
       "      <td>3</td>\n",
       "      <td>1</td>\n",
       "      <td>1</td>\n",
       "    </tr>\n",
       "    <tr>\n",
       "      <th>Duster 360</th>\n",
       "      <td>14.3</td>\n",
       "      <td>8</td>\n",
       "      <td>360.0</td>\n",
       "      <td>245</td>\n",
       "      <td>3.21</td>\n",
       "      <td>3.570</td>\n",
       "      <td>15.84</td>\n",
       "      <td>0</td>\n",
       "      <td>0</td>\n",
       "      <td>3</td>\n",
       "      <td>4</td>\n",
       "      <td>1</td>\n",
       "    </tr>\n",
       "    <tr>\n",
       "      <th>Merc 240D</th>\n",
       "      <td>24.4</td>\n",
       "      <td>4</td>\n",
       "      <td>146.7</td>\n",
       "      <td>62</td>\n",
       "      <td>3.69</td>\n",
       "      <td>3.190</td>\n",
       "      <td>20.00</td>\n",
       "      <td>1</td>\n",
       "      <td>0</td>\n",
       "      <td>4</td>\n",
       "      <td>2</td>\n",
       "      <td>1</td>\n",
       "    </tr>\n",
       "    <tr>\n",
       "      <th>Merc 230</th>\n",
       "      <td>22.8</td>\n",
       "      <td>4</td>\n",
       "      <td>140.8</td>\n",
       "      <td>95</td>\n",
       "      <td>3.92</td>\n",
       "      <td>3.150</td>\n",
       "      <td>22.90</td>\n",
       "      <td>1</td>\n",
       "      <td>0</td>\n",
       "      <td>4</td>\n",
       "      <td>2</td>\n",
       "      <td>1</td>\n",
       "    </tr>\n",
       "    <tr>\n",
       "      <th>Merc 280</th>\n",
       "      <td>19.2</td>\n",
       "      <td>6</td>\n",
       "      <td>167.6</td>\n",
       "      <td>123</td>\n",
       "      <td>3.92</td>\n",
       "      <td>3.440</td>\n",
       "      <td>18.30</td>\n",
       "      <td>1</td>\n",
       "      <td>0</td>\n",
       "      <td>4</td>\n",
       "      <td>4</td>\n",
       "      <td>1</td>\n",
       "    </tr>\n",
       "    <tr>\n",
       "      <th>Merc 280C</th>\n",
       "      <td>17.8</td>\n",
       "      <td>6</td>\n",
       "      <td>167.6</td>\n",
       "      <td>123</td>\n",
       "      <td>3.92</td>\n",
       "      <td>3.440</td>\n",
       "      <td>18.90</td>\n",
       "      <td>1</td>\n",
       "      <td>0</td>\n",
       "      <td>4</td>\n",
       "      <td>4</td>\n",
       "      <td>1</td>\n",
       "    </tr>\n",
       "    <tr>\n",
       "      <th>Merc 450SE</th>\n",
       "      <td>16.4</td>\n",
       "      <td>8</td>\n",
       "      <td>275.8</td>\n",
       "      <td>180</td>\n",
       "      <td>3.07</td>\n",
       "      <td>4.070</td>\n",
       "      <td>17.40</td>\n",
       "      <td>0</td>\n",
       "      <td>0</td>\n",
       "      <td>3</td>\n",
       "      <td>3</td>\n",
       "      <td>1</td>\n",
       "    </tr>\n",
       "    <tr>\n",
       "      <th>Merc 450SL</th>\n",
       "      <td>17.3</td>\n",
       "      <td>8</td>\n",
       "      <td>275.8</td>\n",
       "      <td>180</td>\n",
       "      <td>3.07</td>\n",
       "      <td>3.730</td>\n",
       "      <td>17.60</td>\n",
       "      <td>0</td>\n",
       "      <td>0</td>\n",
       "      <td>3</td>\n",
       "      <td>3</td>\n",
       "      <td>1</td>\n",
       "    </tr>\n",
       "    <tr>\n",
       "      <th>Merc 450SLC</th>\n",
       "      <td>15.2</td>\n",
       "      <td>8</td>\n",
       "      <td>275.8</td>\n",
       "      <td>180</td>\n",
       "      <td>3.07</td>\n",
       "      <td>3.780</td>\n",
       "      <td>18.00</td>\n",
       "      <td>0</td>\n",
       "      <td>0</td>\n",
       "      <td>3</td>\n",
       "      <td>3</td>\n",
       "      <td>1</td>\n",
       "    </tr>\n",
       "    <tr>\n",
       "      <th>Cadillac Fleetwood</th>\n",
       "      <td>10.4</td>\n",
       "      <td>8</td>\n",
       "      <td>472.0</td>\n",
       "      <td>205</td>\n",
       "      <td>2.93</td>\n",
       "      <td>5.250</td>\n",
       "      <td>17.98</td>\n",
       "      <td>0</td>\n",
       "      <td>0</td>\n",
       "      <td>3</td>\n",
       "      <td>4</td>\n",
       "      <td>1</td>\n",
       "    </tr>\n",
       "    <tr>\n",
       "      <th>Lincoln Continental</th>\n",
       "      <td>10.4</td>\n",
       "      <td>8</td>\n",
       "      <td>460.0</td>\n",
       "      <td>215</td>\n",
       "      <td>3.00</td>\n",
       "      <td>5.424</td>\n",
       "      <td>17.82</td>\n",
       "      <td>0</td>\n",
       "      <td>0</td>\n",
       "      <td>3</td>\n",
       "      <td>4</td>\n",
       "      <td>1</td>\n",
       "    </tr>\n",
       "    <tr>\n",
       "      <th>Chrysler Imperial</th>\n",
       "      <td>14.7</td>\n",
       "      <td>8</td>\n",
       "      <td>440.0</td>\n",
       "      <td>230</td>\n",
       "      <td>3.23</td>\n",
       "      <td>5.345</td>\n",
       "      <td>17.42</td>\n",
       "      <td>0</td>\n",
       "      <td>0</td>\n",
       "      <td>3</td>\n",
       "      <td>4</td>\n",
       "      <td>1</td>\n",
       "    </tr>\n",
       "    <tr>\n",
       "      <th>Fiat 128</th>\n",
       "      <td>32.4</td>\n",
       "      <td>4</td>\n",
       "      <td>78.7</td>\n",
       "      <td>66</td>\n",
       "      <td>4.08</td>\n",
       "      <td>2.200</td>\n",
       "      <td>19.47</td>\n",
       "      <td>1</td>\n",
       "      <td>1</td>\n",
       "      <td>4</td>\n",
       "      <td>1</td>\n",
       "      <td>1</td>\n",
       "    </tr>\n",
       "    <tr>\n",
       "      <th>Honda Civic</th>\n",
       "      <td>30.4</td>\n",
       "      <td>4</td>\n",
       "      <td>75.7</td>\n",
       "      <td>52</td>\n",
       "      <td>4.93</td>\n",
       "      <td>1.615</td>\n",
       "      <td>18.52</td>\n",
       "      <td>1</td>\n",
       "      <td>1</td>\n",
       "      <td>4</td>\n",
       "      <td>2</td>\n",
       "      <td>1</td>\n",
       "    </tr>\n",
       "    <tr>\n",
       "      <th>Toyota Corolla</th>\n",
       "      <td>33.9</td>\n",
       "      <td>4</td>\n",
       "      <td>71.1</td>\n",
       "      <td>65</td>\n",
       "      <td>4.22</td>\n",
       "      <td>1.835</td>\n",
       "      <td>19.90</td>\n",
       "      <td>1</td>\n",
       "      <td>1</td>\n",
       "      <td>4</td>\n",
       "      <td>1</td>\n",
       "      <td>1</td>\n",
       "    </tr>\n",
       "    <tr>\n",
       "      <th>Toyota Corona</th>\n",
       "      <td>21.5</td>\n",
       "      <td>4</td>\n",
       "      <td>120.1</td>\n",
       "      <td>97</td>\n",
       "      <td>3.70</td>\n",
       "      <td>2.465</td>\n",
       "      <td>20.01</td>\n",
       "      <td>1</td>\n",
       "      <td>0</td>\n",
       "      <td>3</td>\n",
       "      <td>1</td>\n",
       "      <td>1</td>\n",
       "    </tr>\n",
       "    <tr>\n",
       "      <th>Dodge Challenger</th>\n",
       "      <td>15.5</td>\n",
       "      <td>8</td>\n",
       "      <td>318.0</td>\n",
       "      <td>150</td>\n",
       "      <td>2.76</td>\n",
       "      <td>3.520</td>\n",
       "      <td>16.87</td>\n",
       "      <td>0</td>\n",
       "      <td>0</td>\n",
       "      <td>3</td>\n",
       "      <td>2</td>\n",
       "      <td>1</td>\n",
       "    </tr>\n",
       "    <tr>\n",
       "      <th>AMC Javelin</th>\n",
       "      <td>15.2</td>\n",
       "      <td>8</td>\n",
       "      <td>304.0</td>\n",
       "      <td>150</td>\n",
       "      <td>3.15</td>\n",
       "      <td>3.435</td>\n",
       "      <td>17.30</td>\n",
       "      <td>0</td>\n",
       "      <td>0</td>\n",
       "      <td>3</td>\n",
       "      <td>2</td>\n",
       "      <td>1</td>\n",
       "    </tr>\n",
       "    <tr>\n",
       "      <th>Camaro Z28</th>\n",
       "      <td>13.3</td>\n",
       "      <td>8</td>\n",
       "      <td>350.0</td>\n",
       "      <td>245</td>\n",
       "      <td>3.73</td>\n",
       "      <td>3.840</td>\n",
       "      <td>15.41</td>\n",
       "      <td>0</td>\n",
       "      <td>0</td>\n",
       "      <td>3</td>\n",
       "      <td>4</td>\n",
       "      <td>1</td>\n",
       "    </tr>\n",
       "    <tr>\n",
       "      <th>Pontiac Firebird</th>\n",
       "      <td>19.2</td>\n",
       "      <td>8</td>\n",
       "      <td>400.0</td>\n",
       "      <td>175</td>\n",
       "      <td>3.08</td>\n",
       "      <td>3.845</td>\n",
       "      <td>17.05</td>\n",
       "      <td>0</td>\n",
       "      <td>0</td>\n",
       "      <td>3</td>\n",
       "      <td>2</td>\n",
       "      <td>1</td>\n",
       "    </tr>\n",
       "    <tr>\n",
       "      <th>Fiat X1-9</th>\n",
       "      <td>27.3</td>\n",
       "      <td>4</td>\n",
       "      <td>79.0</td>\n",
       "      <td>66</td>\n",
       "      <td>4.08</td>\n",
       "      <td>1.935</td>\n",
       "      <td>18.90</td>\n",
       "      <td>1</td>\n",
       "      <td>1</td>\n",
       "      <td>4</td>\n",
       "      <td>1</td>\n",
       "      <td>1</td>\n",
       "    </tr>\n",
       "    <tr>\n",
       "      <th>Porsche 914-2</th>\n",
       "      <td>26.0</td>\n",
       "      <td>4</td>\n",
       "      <td>120.3</td>\n",
       "      <td>91</td>\n",
       "      <td>4.43</td>\n",
       "      <td>2.140</td>\n",
       "      <td>16.70</td>\n",
       "      <td>0</td>\n",
       "      <td>1</td>\n",
       "      <td>5</td>\n",
       "      <td>2</td>\n",
       "      <td>1</td>\n",
       "    </tr>\n",
       "    <tr>\n",
       "      <th>Lotus Europa</th>\n",
       "      <td>30.4</td>\n",
       "      <td>4</td>\n",
       "      <td>95.1</td>\n",
       "      <td>113</td>\n",
       "      <td>3.77</td>\n",
       "      <td>1.513</td>\n",
       "      <td>16.90</td>\n",
       "      <td>1</td>\n",
       "      <td>1</td>\n",
       "      <td>5</td>\n",
       "      <td>2</td>\n",
       "      <td>1</td>\n",
       "    </tr>\n",
       "    <tr>\n",
       "      <th>Ford Pantera L</th>\n",
       "      <td>15.8</td>\n",
       "      <td>8</td>\n",
       "      <td>351.0</td>\n",
       "      <td>264</td>\n",
       "      <td>4.22</td>\n",
       "      <td>3.170</td>\n",
       "      <td>14.50</td>\n",
       "      <td>0</td>\n",
       "      <td>1</td>\n",
       "      <td>5</td>\n",
       "      <td>4</td>\n",
       "      <td>1</td>\n",
       "    </tr>\n",
       "    <tr>\n",
       "      <th>Ferrari Dino</th>\n",
       "      <td>19.7</td>\n",
       "      <td>6</td>\n",
       "      <td>145.0</td>\n",
       "      <td>175</td>\n",
       "      <td>3.62</td>\n",
       "      <td>2.770</td>\n",
       "      <td>15.50</td>\n",
       "      <td>0</td>\n",
       "      <td>1</td>\n",
       "      <td>5</td>\n",
       "      <td>6</td>\n",
       "      <td>1</td>\n",
       "    </tr>\n",
       "    <tr>\n",
       "      <th>Maserati Bora</th>\n",
       "      <td>15.0</td>\n",
       "      <td>8</td>\n",
       "      <td>301.0</td>\n",
       "      <td>335</td>\n",
       "      <td>3.54</td>\n",
       "      <td>3.570</td>\n",
       "      <td>14.60</td>\n",
       "      <td>0</td>\n",
       "      <td>1</td>\n",
       "      <td>5</td>\n",
       "      <td>8</td>\n",
       "      <td>1</td>\n",
       "    </tr>\n",
       "    <tr>\n",
       "      <th>Volvo 142E</th>\n",
       "      <td>21.4</td>\n",
       "      <td>4</td>\n",
       "      <td>121.0</td>\n",
       "      <td>109</td>\n",
       "      <td>4.11</td>\n",
       "      <td>2.780</td>\n",
       "      <td>18.60</td>\n",
       "      <td>1</td>\n",
       "      <td>1</td>\n",
       "      <td>4</td>\n",
       "      <td>2</td>\n",
       "      <td>1</td>\n",
       "    </tr>\n",
       "  </tbody>\n",
       "</table>\n",
       "</div>"
      ],
      "text/plain": [
       "                      mpg  cyl   disp   hp  drat     wt   qsec  vs  am  gear  \\\n",
       "model                                                                          \n",
       "Mazda RX4            21.0    6  160.0  110  3.90  2.620  16.46   0   1     4   \n",
       "Mazda RX4 Wag        21.0    6  160.0  110  3.90  2.875  17.02   0   1     4   \n",
       "Datsun 710           22.8    4  108.0   93  3.85  2.320  18.61   1   1     4   \n",
       "Hornet 4 Drive       21.4    6  258.0  110  3.08  3.215  19.44   1   0     3   \n",
       "Hornet Sportabout    18.7    8  360.0  175  3.15  3.440  17.02   0   0     3   \n",
       "Valiant              18.1    6  225.0  105  2.76  3.460  20.22   1   0     3   \n",
       "Duster 360           14.3    8  360.0  245  3.21  3.570  15.84   0   0     3   \n",
       "Merc 240D            24.4    4  146.7   62  3.69  3.190  20.00   1   0     4   \n",
       "Merc 230             22.8    4  140.8   95  3.92  3.150  22.90   1   0     4   \n",
       "Merc 280             19.2    6  167.6  123  3.92  3.440  18.30   1   0     4   \n",
       "Merc 280C            17.8    6  167.6  123  3.92  3.440  18.90   1   0     4   \n",
       "Merc 450SE           16.4    8  275.8  180  3.07  4.070  17.40   0   0     3   \n",
       "Merc 450SL           17.3    8  275.8  180  3.07  3.730  17.60   0   0     3   \n",
       "Merc 450SLC          15.2    8  275.8  180  3.07  3.780  18.00   0   0     3   \n",
       "Cadillac Fleetwood   10.4    8  472.0  205  2.93  5.250  17.98   0   0     3   \n",
       "Lincoln Continental  10.4    8  460.0  215  3.00  5.424  17.82   0   0     3   \n",
       "Chrysler Imperial    14.7    8  440.0  230  3.23  5.345  17.42   0   0     3   \n",
       "Fiat 128             32.4    4   78.7   66  4.08  2.200  19.47   1   1     4   \n",
       "Honda Civic          30.4    4   75.7   52  4.93  1.615  18.52   1   1     4   \n",
       "Toyota Corolla       33.9    4   71.1   65  4.22  1.835  19.90   1   1     4   \n",
       "Toyota Corona        21.5    4  120.1   97  3.70  2.465  20.01   1   0     3   \n",
       "Dodge Challenger     15.5    8  318.0  150  2.76  3.520  16.87   0   0     3   \n",
       "AMC Javelin          15.2    8  304.0  150  3.15  3.435  17.30   0   0     3   \n",
       "Camaro Z28           13.3    8  350.0  245  3.73  3.840  15.41   0   0     3   \n",
       "Pontiac Firebird     19.2    8  400.0  175  3.08  3.845  17.05   0   0     3   \n",
       "Fiat X1-9            27.3    4   79.0   66  4.08  1.935  18.90   1   1     4   \n",
       "Porsche 914-2        26.0    4  120.3   91  4.43  2.140  16.70   0   1     5   \n",
       "Lotus Europa         30.4    4   95.1  113  3.77  1.513  16.90   1   1     5   \n",
       "Ford Pantera L       15.8    8  351.0  264  4.22  3.170  14.50   0   1     5   \n",
       "Ferrari Dino         19.7    6  145.0  175  3.62  2.770  15.50   0   1     5   \n",
       "Maserati Bora        15.0    8  301.0  335  3.54  3.570  14.60   0   1     5   \n",
       "Volvo 142E           21.4    4  121.0  109  4.11  2.780  18.60   1   1     4   \n",
       "\n",
       "                     carb  test  \n",
       "model                            \n",
       "Mazda RX4               4     1  \n",
       "Mazda RX4 Wag           4     1  \n",
       "Datsun 710              1     1  \n",
       "Hornet 4 Drive          1     1  \n",
       "Hornet Sportabout       2     1  \n",
       "Valiant                 1     1  \n",
       "Duster 360              4     1  \n",
       "Merc 240D               2     1  \n",
       "Merc 230                2     1  \n",
       "Merc 280                4     1  \n",
       "Merc 280C               4     1  \n",
       "Merc 450SE              3     1  \n",
       "Merc 450SL              3     1  \n",
       "Merc 450SLC             3     1  \n",
       "Cadillac Fleetwood      4     1  \n",
       "Lincoln Continental     4     1  \n",
       "Chrysler Imperial       4     1  \n",
       "Fiat 128                1     1  \n",
       "Honda Civic             2     1  \n",
       "Toyota Corolla          1     1  \n",
       "Toyota Corona           1     1  \n",
       "Dodge Challenger        2     1  \n",
       "AMC Javelin             2     1  \n",
       "Camaro Z28              4     1  \n",
       "Pontiac Firebird        2     1  \n",
       "Fiat X1-9               1     1  \n",
       "Porsche 914-2           2     1  \n",
       "Lotus Europa            2     1  \n",
       "Ford Pantera L          4     1  \n",
       "Ferrari Dino            6     1  \n",
       "Maserati Bora           8     1  \n",
       "Volvo 142E              2     1  "
      ]
     },
     "execution_count": 196,
     "metadata": {},
     "output_type": "execute_result"
    }
   ],
   "source": [
    "mtcars"
   ]
  },
  {
   "cell_type": "code",
   "execution_count": 197,
   "id": "2a42bc70",
   "metadata": {},
   "outputs": [
    {
     "data": {
      "text/html": [
       "<div>\n",
       "<style scoped>\n",
       "    .dataframe tbody tr th:only-of-type {\n",
       "        vertical-align: middle;\n",
       "    }\n",
       "\n",
       "    .dataframe tbody tr th {\n",
       "        vertical-align: top;\n",
       "    }\n",
       "\n",
       "    .dataframe thead th {\n",
       "        text-align: right;\n",
       "    }\n",
       "</style>\n",
       "<table border=\"1\" class=\"dataframe\">\n",
       "  <thead>\n",
       "    <tr style=\"text-align: right;\">\n",
       "      <th></th>\n",
       "      <th>mpg</th>\n",
       "      <th>cyl</th>\n",
       "      <th>disp</th>\n",
       "      <th>hp</th>\n",
       "      <th>drat</th>\n",
       "      <th>wt</th>\n",
       "      <th>qsec</th>\n",
       "      <th>vs</th>\n",
       "      <th>am</th>\n",
       "      <th>gear</th>\n",
       "      <th>carb</th>\n",
       "      <th>test</th>\n",
       "    </tr>\n",
       "    <tr>\n",
       "      <th>model</th>\n",
       "      <th></th>\n",
       "      <th></th>\n",
       "      <th></th>\n",
       "      <th></th>\n",
       "      <th></th>\n",
       "      <th></th>\n",
       "      <th></th>\n",
       "      <th></th>\n",
       "      <th></th>\n",
       "      <th></th>\n",
       "      <th></th>\n",
       "      <th></th>\n",
       "    </tr>\n",
       "  </thead>\n",
       "  <tbody>\n",
       "    <tr>\n",
       "      <th>Mazda RX4</th>\n",
       "      <td>21.0</td>\n",
       "      <td>6</td>\n",
       "      <td>160.0</td>\n",
       "      <td>110</td>\n",
       "      <td>3.90</td>\n",
       "      <td>2.620</td>\n",
       "      <td>16.46</td>\n",
       "      <td>0</td>\n",
       "      <td>1</td>\n",
       "      <td>4</td>\n",
       "      <td>4</td>\n",
       "      <td>1</td>\n",
       "    </tr>\n",
       "    <tr>\n",
       "      <th>Mazda RX4 Wag</th>\n",
       "      <td>21.0</td>\n",
       "      <td>6</td>\n",
       "      <td>160.0</td>\n",
       "      <td>110</td>\n",
       "      <td>3.90</td>\n",
       "      <td>2.875</td>\n",
       "      <td>17.02</td>\n",
       "      <td>0</td>\n",
       "      <td>1</td>\n",
       "      <td>4</td>\n",
       "      <td>4</td>\n",
       "      <td>1</td>\n",
       "    </tr>\n",
       "    <tr>\n",
       "      <th>Datsun 710</th>\n",
       "      <td>22.8</td>\n",
       "      <td>4</td>\n",
       "      <td>108.0</td>\n",
       "      <td>93</td>\n",
       "      <td>3.85</td>\n",
       "      <td>2.320</td>\n",
       "      <td>18.61</td>\n",
       "      <td>1</td>\n",
       "      <td>1</td>\n",
       "      <td>4</td>\n",
       "      <td>1</td>\n",
       "      <td>1</td>\n",
       "    </tr>\n",
       "    <tr>\n",
       "      <th>Hornet 4 Drive</th>\n",
       "      <td>21.4</td>\n",
       "      <td>6</td>\n",
       "      <td>258.0</td>\n",
       "      <td>110</td>\n",
       "      <td>3.08</td>\n",
       "      <td>3.215</td>\n",
       "      <td>19.44</td>\n",
       "      <td>1</td>\n",
       "      <td>0</td>\n",
       "      <td>3</td>\n",
       "      <td>1</td>\n",
       "      <td>1</td>\n",
       "    </tr>\n",
       "    <tr>\n",
       "      <th>Hornet Sportabout</th>\n",
       "      <td>18.7</td>\n",
       "      <td>8</td>\n",
       "      <td>360.0</td>\n",
       "      <td>175</td>\n",
       "      <td>3.15</td>\n",
       "      <td>3.440</td>\n",
       "      <td>17.02</td>\n",
       "      <td>0</td>\n",
       "      <td>0</td>\n",
       "      <td>3</td>\n",
       "      <td>2</td>\n",
       "      <td>1</td>\n",
       "    </tr>\n",
       "  </tbody>\n",
       "</table>\n",
       "</div>"
      ],
      "text/plain": [
       "                    mpg  cyl   disp   hp  drat     wt   qsec  vs  am  gear  \\\n",
       "model                                                                        \n",
       "Mazda RX4          21.0    6  160.0  110  3.90  2.620  16.46   0   1     4   \n",
       "Mazda RX4 Wag      21.0    6  160.0  110  3.90  2.875  17.02   0   1     4   \n",
       "Datsun 710         22.8    4  108.0   93  3.85  2.320  18.61   1   1     4   \n",
       "Hornet 4 Drive     21.4    6  258.0  110  3.08  3.215  19.44   1   0     3   \n",
       "Hornet Sportabout  18.7    8  360.0  175  3.15  3.440  17.02   0   0     3   \n",
       "\n",
       "                   carb  test  \n",
       "model                          \n",
       "Mazda RX4             4     1  \n",
       "Mazda RX4 Wag         4     1  \n",
       "Datsun 710            1     1  \n",
       "Hornet 4 Drive        1     1  \n",
       "Hornet Sportabout     2     1  "
      ]
     },
     "execution_count": 197,
     "metadata": {},
     "output_type": "execute_result"
    }
   ],
   "source": [
    "mtcars.head()"
   ]
  },
  {
   "cell_type": "code",
   "execution_count": 198,
   "id": "db9c18ca",
   "metadata": {},
   "outputs": [
    {
     "data": {
      "text/html": [
       "<div>\n",
       "<style scoped>\n",
       "    .dataframe tbody tr th:only-of-type {\n",
       "        vertical-align: middle;\n",
       "    }\n",
       "\n",
       "    .dataframe tbody tr th {\n",
       "        vertical-align: top;\n",
       "    }\n",
       "\n",
       "    .dataframe thead th {\n",
       "        text-align: right;\n",
       "    }\n",
       "</style>\n",
       "<table border=\"1\" class=\"dataframe\">\n",
       "  <thead>\n",
       "    <tr style=\"text-align: right;\">\n",
       "      <th></th>\n",
       "      <th>mpg</th>\n",
       "      <th>cyl</th>\n",
       "      <th>disp</th>\n",
       "      <th>hp</th>\n",
       "    </tr>\n",
       "    <tr>\n",
       "      <th>model</th>\n",
       "      <th></th>\n",
       "      <th></th>\n",
       "      <th></th>\n",
       "      <th></th>\n",
       "    </tr>\n",
       "  </thead>\n",
       "  <tbody>\n",
       "    <tr>\n",
       "      <th>Datsun 710</th>\n",
       "      <td>22.8</td>\n",
       "      <td>4</td>\n",
       "      <td>108.0</td>\n",
       "      <td>93</td>\n",
       "    </tr>\n",
       "    <tr>\n",
       "      <th>Hornet 4 Drive</th>\n",
       "      <td>21.4</td>\n",
       "      <td>6</td>\n",
       "      <td>258.0</td>\n",
       "      <td>110</td>\n",
       "    </tr>\n",
       "    <tr>\n",
       "      <th>Hornet Sportabout</th>\n",
       "      <td>18.7</td>\n",
       "      <td>8</td>\n",
       "      <td>360.0</td>\n",
       "      <td>175</td>\n",
       "    </tr>\n",
       "  </tbody>\n",
       "</table>\n",
       "</div>"
      ],
      "text/plain": [
       "                    mpg  cyl   disp   hp\n",
       "model                                   \n",
       "Datsun 710         22.8    4  108.0   93\n",
       "Hornet 4 Drive     21.4    6  258.0  110\n",
       "Hornet Sportabout  18.7    8  360.0  175"
      ]
     },
     "execution_count": 198,
     "metadata": {},
     "output_type": "execute_result"
    }
   ],
   "source": [
    "mtcars.iloc[2:5,:4]"
   ]
  },
  {
   "cell_type": "code",
   "execution_count": 199,
   "id": "13294d3f",
   "metadata": {},
   "outputs": [],
   "source": [
    "mtcars.drop(['test'], axis=1, inplace=True)"
   ]
  },
  {
   "cell_type": "code",
   "execution_count": 200,
   "id": "f039e8ad",
   "metadata": {},
   "outputs": [
    {
     "data": {
      "text/html": [
       "<div>\n",
       "<style scoped>\n",
       "    .dataframe tbody tr th:only-of-type {\n",
       "        vertical-align: middle;\n",
       "    }\n",
       "\n",
       "    .dataframe tbody tr th {\n",
       "        vertical-align: top;\n",
       "    }\n",
       "\n",
       "    .dataframe thead th {\n",
       "        text-align: right;\n",
       "    }\n",
       "</style>\n",
       "<table border=\"1\" class=\"dataframe\">\n",
       "  <thead>\n",
       "    <tr style=\"text-align: right;\">\n",
       "      <th></th>\n",
       "      <th>mpg</th>\n",
       "      <th>cyl</th>\n",
       "      <th>disp</th>\n",
       "      <th>hp</th>\n",
       "      <th>drat</th>\n",
       "      <th>wt</th>\n",
       "      <th>qsec</th>\n",
       "      <th>vs</th>\n",
       "      <th>am</th>\n",
       "      <th>gear</th>\n",
       "      <th>carb</th>\n",
       "    </tr>\n",
       "    <tr>\n",
       "      <th>model</th>\n",
       "      <th></th>\n",
       "      <th></th>\n",
       "      <th></th>\n",
       "      <th></th>\n",
       "      <th></th>\n",
       "      <th></th>\n",
       "      <th></th>\n",
       "      <th></th>\n",
       "      <th></th>\n",
       "      <th></th>\n",
       "      <th></th>\n",
       "    </tr>\n",
       "  </thead>\n",
       "  <tbody>\n",
       "    <tr>\n",
       "      <th>Mazda RX4</th>\n",
       "      <td>21.0</td>\n",
       "      <td>6</td>\n",
       "      <td>160.0</td>\n",
       "      <td>110</td>\n",
       "      <td>3.90</td>\n",
       "      <td>2.620</td>\n",
       "      <td>16.46</td>\n",
       "      <td>0</td>\n",
       "      <td>1</td>\n",
       "      <td>4</td>\n",
       "      <td>4</td>\n",
       "    </tr>\n",
       "    <tr>\n",
       "      <th>Mazda RX4 Wag</th>\n",
       "      <td>21.0</td>\n",
       "      <td>6</td>\n",
       "      <td>160.0</td>\n",
       "      <td>110</td>\n",
       "      <td>3.90</td>\n",
       "      <td>2.875</td>\n",
       "      <td>17.02</td>\n",
       "      <td>0</td>\n",
       "      <td>1</td>\n",
       "      <td>4</td>\n",
       "      <td>4</td>\n",
       "    </tr>\n",
       "    <tr>\n",
       "      <th>Datsun 710</th>\n",
       "      <td>22.8</td>\n",
       "      <td>4</td>\n",
       "      <td>108.0</td>\n",
       "      <td>93</td>\n",
       "      <td>3.85</td>\n",
       "      <td>2.320</td>\n",
       "      <td>18.61</td>\n",
       "      <td>1</td>\n",
       "      <td>1</td>\n",
       "      <td>4</td>\n",
       "      <td>1</td>\n",
       "    </tr>\n",
       "    <tr>\n",
       "      <th>Hornet 4 Drive</th>\n",
       "      <td>21.4</td>\n",
       "      <td>6</td>\n",
       "      <td>258.0</td>\n",
       "      <td>110</td>\n",
       "      <td>3.08</td>\n",
       "      <td>3.215</td>\n",
       "      <td>19.44</td>\n",
       "      <td>1</td>\n",
       "      <td>0</td>\n",
       "      <td>3</td>\n",
       "      <td>1</td>\n",
       "    </tr>\n",
       "    <tr>\n",
       "      <th>Hornet Sportabout</th>\n",
       "      <td>18.7</td>\n",
       "      <td>8</td>\n",
       "      <td>360.0</td>\n",
       "      <td>175</td>\n",
       "      <td>3.15</td>\n",
       "      <td>3.440</td>\n",
       "      <td>17.02</td>\n",
       "      <td>0</td>\n",
       "      <td>0</td>\n",
       "      <td>3</td>\n",
       "      <td>2</td>\n",
       "    </tr>\n",
       "  </tbody>\n",
       "</table>\n",
       "</div>"
      ],
      "text/plain": [
       "                    mpg  cyl   disp   hp  drat     wt   qsec  vs  am  gear  \\\n",
       "model                                                                        \n",
       "Mazda RX4          21.0    6  160.0  110  3.90  2.620  16.46   0   1     4   \n",
       "Mazda RX4 Wag      21.0    6  160.0  110  3.90  2.875  17.02   0   1     4   \n",
       "Datsun 710         22.8    4  108.0   93  3.85  2.320  18.61   1   1     4   \n",
       "Hornet 4 Drive     21.4    6  258.0  110  3.08  3.215  19.44   1   0     3   \n",
       "Hornet Sportabout  18.7    8  360.0  175  3.15  3.440  17.02   0   0     3   \n",
       "\n",
       "                   carb  \n",
       "model                    \n",
       "Mazda RX4             4  \n",
       "Mazda RX4 Wag         4  \n",
       "Datsun 710            1  \n",
       "Hornet 4 Drive        1  \n",
       "Hornet Sportabout     2  "
      ]
     },
     "execution_count": 200,
     "metadata": {},
     "output_type": "execute_result"
    }
   ],
   "source": [
    "mtcars.head()"
   ]
  },
  {
   "cell_type": "code",
   "execution_count": 201,
   "id": "f62631a6",
   "metadata": {},
   "outputs": [
    {
     "data": {
      "text/plain": [
       "mpg      22.80\n",
       "cyl       4.00\n",
       "disp    108.00\n",
       "hp       93.00\n",
       "drat      3.85\n",
       "wt        2.32\n",
       "qsec     18.61\n",
       "vs        1.00\n",
       "am        1.00\n",
       "gear      4.00\n",
       "carb      1.00\n",
       "Name: Datsun 710, dtype: float64"
      ]
     },
     "execution_count": 201,
     "metadata": {},
     "output_type": "execute_result"
    }
   ],
   "source": [
    "mtcars.loc['Datsun 710']"
   ]
  },
  {
   "cell_type": "code",
   "execution_count": 202,
   "id": "158fcc50",
   "metadata": {},
   "outputs": [
    {
     "data": {
      "text/html": [
       "<div>\n",
       "<style scoped>\n",
       "    .dataframe tbody tr th:only-of-type {\n",
       "        vertical-align: middle;\n",
       "    }\n",
       "\n",
       "    .dataframe tbody tr th {\n",
       "        vertical-align: top;\n",
       "    }\n",
       "\n",
       "    .dataframe thead th {\n",
       "        text-align: right;\n",
       "    }\n",
       "</style>\n",
       "<table border=\"1\" class=\"dataframe\">\n",
       "  <thead>\n",
       "    <tr style=\"text-align: right;\">\n",
       "      <th></th>\n",
       "      <th>mpg</th>\n",
       "      <th>cyl</th>\n",
       "      <th>disp</th>\n",
       "      <th>hp</th>\n",
       "      <th>drat</th>\n",
       "      <th>wt</th>\n",
       "      <th>qsec</th>\n",
       "      <th>vs</th>\n",
       "      <th>am</th>\n",
       "      <th>gear</th>\n",
       "      <th>carb</th>\n",
       "    </tr>\n",
       "    <tr>\n",
       "      <th>model</th>\n",
       "      <th></th>\n",
       "      <th></th>\n",
       "      <th></th>\n",
       "      <th></th>\n",
       "      <th></th>\n",
       "      <th></th>\n",
       "      <th></th>\n",
       "      <th></th>\n",
       "      <th></th>\n",
       "      <th></th>\n",
       "      <th></th>\n",
       "    </tr>\n",
       "  </thead>\n",
       "  <tbody>\n",
       "    <tr>\n",
       "      <th>Datsun 710</th>\n",
       "      <td>22.8</td>\n",
       "      <td>4</td>\n",
       "      <td>108.0</td>\n",
       "      <td>93</td>\n",
       "      <td>3.85</td>\n",
       "      <td>2.32</td>\n",
       "      <td>18.61</td>\n",
       "      <td>1</td>\n",
       "      <td>1</td>\n",
       "      <td>4</td>\n",
       "      <td>1</td>\n",
       "    </tr>\n",
       "    <tr>\n",
       "      <th>Hornet Sportabout</th>\n",
       "      <td>18.7</td>\n",
       "      <td>8</td>\n",
       "      <td>360.0</td>\n",
       "      <td>175</td>\n",
       "      <td>3.15</td>\n",
       "      <td>3.44</td>\n",
       "      <td>17.02</td>\n",
       "      <td>0</td>\n",
       "      <td>0</td>\n",
       "      <td>3</td>\n",
       "      <td>2</td>\n",
       "    </tr>\n",
       "  </tbody>\n",
       "</table>\n",
       "</div>"
      ],
      "text/plain": [
       "                    mpg  cyl   disp   hp  drat    wt   qsec  vs  am  gear  \\\n",
       "model                                                                       \n",
       "Datsun 710         22.8    4  108.0   93  3.85  2.32  18.61   1   1     4   \n",
       "Hornet Sportabout  18.7    8  360.0  175  3.15  3.44  17.02   0   0     3   \n",
       "\n",
       "                   carb  \n",
       "model                    \n",
       "Datsun 710            1  \n",
       "Hornet Sportabout     2  "
      ]
     },
     "execution_count": 202,
     "metadata": {},
     "output_type": "execute_result"
    }
   ],
   "source": [
    "mtcars.loc[['Datsun 710', 'Hornet Sportabout']]"
   ]
  },
  {
   "cell_type": "code",
   "execution_count": 203,
   "id": "0636f8b1",
   "metadata": {},
   "outputs": [
    {
     "data": {
      "text/html": [
       "<div>\n",
       "<style scoped>\n",
       "    .dataframe tbody tr th:only-of-type {\n",
       "        vertical-align: middle;\n",
       "    }\n",
       "\n",
       "    .dataframe tbody tr th {\n",
       "        vertical-align: top;\n",
       "    }\n",
       "\n",
       "    .dataframe thead th {\n",
       "        text-align: right;\n",
       "    }\n",
       "</style>\n",
       "<table border=\"1\" class=\"dataframe\">\n",
       "  <thead>\n",
       "    <tr style=\"text-align: right;\">\n",
       "      <th></th>\n",
       "      <th>mpg</th>\n",
       "      <th>cyl</th>\n",
       "    </tr>\n",
       "    <tr>\n",
       "      <th>model</th>\n",
       "      <th></th>\n",
       "      <th></th>\n",
       "    </tr>\n",
       "  </thead>\n",
       "  <tbody>\n",
       "    <tr>\n",
       "      <th>Datsun 710</th>\n",
       "      <td>22.8</td>\n",
       "      <td>4</td>\n",
       "    </tr>\n",
       "    <tr>\n",
       "      <th>Hornet Sportabout</th>\n",
       "      <td>18.7</td>\n",
       "      <td>8</td>\n",
       "    </tr>\n",
       "  </tbody>\n",
       "</table>\n",
       "</div>"
      ],
      "text/plain": [
       "                    mpg  cyl\n",
       "model                       \n",
       "Datsun 710         22.8    4\n",
       "Hornet Sportabout  18.7    8"
      ]
     },
     "execution_count": 203,
     "metadata": {},
     "output_type": "execute_result"
    }
   ],
   "source": [
    "mtcars.loc[['Datsun 710', 'Hornet Sportabout'], ['mpg', 'cyl']]"
   ]
  },
  {
   "cell_type": "code",
   "execution_count": 204,
   "id": "611ecbc6",
   "metadata": {},
   "outputs": [
    {
     "data": {
      "text/html": [
       "<div>\n",
       "<style scoped>\n",
       "    .dataframe tbody tr th:only-of-type {\n",
       "        vertical-align: middle;\n",
       "    }\n",
       "\n",
       "    .dataframe tbody tr th {\n",
       "        vertical-align: top;\n",
       "    }\n",
       "\n",
       "    .dataframe thead th {\n",
       "        text-align: right;\n",
       "    }\n",
       "</style>\n",
       "<table border=\"1\" class=\"dataframe\">\n",
       "  <thead>\n",
       "    <tr style=\"text-align: right;\">\n",
       "      <th></th>\n",
       "      <th>cyl</th>\n",
       "      <th>disp</th>\n",
       "      <th>hp</th>\n",
       "      <th>drat</th>\n",
       "      <th>wt</th>\n",
       "      <th>qsec</th>\n",
       "      <th>vs</th>\n",
       "    </tr>\n",
       "    <tr>\n",
       "      <th>model</th>\n",
       "      <th></th>\n",
       "      <th></th>\n",
       "      <th></th>\n",
       "      <th></th>\n",
       "      <th></th>\n",
       "      <th></th>\n",
       "      <th></th>\n",
       "    </tr>\n",
       "  </thead>\n",
       "  <tbody>\n",
       "    <tr>\n",
       "      <th>Datsun 710</th>\n",
       "      <td>4</td>\n",
       "      <td>108.0</td>\n",
       "      <td>93</td>\n",
       "      <td>3.85</td>\n",
       "      <td>2.32</td>\n",
       "      <td>18.61</td>\n",
       "      <td>1</td>\n",
       "    </tr>\n",
       "    <tr>\n",
       "      <th>Hornet Sportabout</th>\n",
       "      <td>8</td>\n",
       "      <td>360.0</td>\n",
       "      <td>175</td>\n",
       "      <td>3.15</td>\n",
       "      <td>3.44</td>\n",
       "      <td>17.02</td>\n",
       "      <td>0</td>\n",
       "    </tr>\n",
       "  </tbody>\n",
       "</table>\n",
       "</div>"
      ],
      "text/plain": [
       "                   cyl   disp   hp  drat    wt   qsec  vs\n",
       "model                                                    \n",
       "Datsun 710           4  108.0   93  3.85  2.32  18.61   1\n",
       "Hornet Sportabout    8  360.0  175  3.15  3.44  17.02   0"
      ]
     },
     "execution_count": 204,
     "metadata": {},
     "output_type": "execute_result"
    }
   ],
   "source": [
    "mtcars.loc[['Datsun 710', 'Hornet Sportabout'], 'cyl':'vs']"
   ]
  },
  {
   "cell_type": "code",
   "execution_count": 205,
   "id": "fc0d86c8",
   "metadata": {},
   "outputs": [
    {
     "data": {
      "text/html": [
       "<div>\n",
       "<style scoped>\n",
       "    .dataframe tbody tr th:only-of-type {\n",
       "        vertical-align: middle;\n",
       "    }\n",
       "\n",
       "    .dataframe tbody tr th {\n",
       "        vertical-align: top;\n",
       "    }\n",
       "\n",
       "    .dataframe thead th {\n",
       "        text-align: right;\n",
       "    }\n",
       "</style>\n",
       "<table border=\"1\" class=\"dataframe\">\n",
       "  <thead>\n",
       "    <tr style=\"text-align: right;\">\n",
       "      <th></th>\n",
       "      <th>cyl</th>\n",
       "      <th>hp</th>\n",
       "      <th>wt</th>\n",
       "      <th>vs</th>\n",
       "    </tr>\n",
       "    <tr>\n",
       "      <th>model</th>\n",
       "      <th></th>\n",
       "      <th></th>\n",
       "      <th></th>\n",
       "      <th></th>\n",
       "    </tr>\n",
       "  </thead>\n",
       "  <tbody>\n",
       "    <tr>\n",
       "      <th>Datsun 710</th>\n",
       "      <td>4</td>\n",
       "      <td>93</td>\n",
       "      <td>2.32</td>\n",
       "      <td>1</td>\n",
       "    </tr>\n",
       "    <tr>\n",
       "      <th>Hornet Sportabout</th>\n",
       "      <td>8</td>\n",
       "      <td>175</td>\n",
       "      <td>3.44</td>\n",
       "      <td>0</td>\n",
       "    </tr>\n",
       "  </tbody>\n",
       "</table>\n",
       "</div>"
      ],
      "text/plain": [
       "                   cyl   hp    wt  vs\n",
       "model                                \n",
       "Datsun 710           4   93  2.32   1\n",
       "Hornet Sportabout    8  175  3.44   0"
      ]
     },
     "execution_count": 205,
     "metadata": {},
     "output_type": "execute_result"
    }
   ],
   "source": [
    "mtcars.loc[['Datsun 710', 'Hornet Sportabout'], 'cyl':'vs':2]"
   ]
  },
  {
   "cell_type": "code",
   "execution_count": 206,
   "id": "eac3d064",
   "metadata": {},
   "outputs": [
    {
     "data": {
      "text/html": [
       "<div>\n",
       "<style scoped>\n",
       "    .dataframe tbody tr th:only-of-type {\n",
       "        vertical-align: middle;\n",
       "    }\n",
       "\n",
       "    .dataframe tbody tr th {\n",
       "        vertical-align: top;\n",
       "    }\n",
       "\n",
       "    .dataframe thead th {\n",
       "        text-align: right;\n",
       "    }\n",
       "</style>\n",
       "<table border=\"1\" class=\"dataframe\">\n",
       "  <thead>\n",
       "    <tr style=\"text-align: right;\">\n",
       "      <th></th>\n",
       "      <th>mpg</th>\n",
       "      <th>cyl</th>\n",
       "      <th>disp</th>\n",
       "      <th>hp</th>\n",
       "      <th>drat</th>\n",
       "      <th>wt</th>\n",
       "      <th>qsec</th>\n",
       "      <th>vs</th>\n",
       "      <th>am</th>\n",
       "      <th>gear</th>\n",
       "      <th>carb</th>\n",
       "    </tr>\n",
       "    <tr>\n",
       "      <th>model</th>\n",
       "      <th></th>\n",
       "      <th></th>\n",
       "      <th></th>\n",
       "      <th></th>\n",
       "      <th></th>\n",
       "      <th></th>\n",
       "      <th></th>\n",
       "      <th></th>\n",
       "      <th></th>\n",
       "      <th></th>\n",
       "      <th></th>\n",
       "    </tr>\n",
       "  </thead>\n",
       "  <tbody>\n",
       "    <tr>\n",
       "      <th>Mazda RX4</th>\n",
       "      <td>21.0</td>\n",
       "      <td>6</td>\n",
       "      <td>160.0</td>\n",
       "      <td>110</td>\n",
       "      <td>3.90</td>\n",
       "      <td>2.620</td>\n",
       "      <td>16.46</td>\n",
       "      <td>0</td>\n",
       "      <td>1</td>\n",
       "      <td>4</td>\n",
       "      <td>4</td>\n",
       "    </tr>\n",
       "    <tr>\n",
       "      <th>Mazda RX4 Wag</th>\n",
       "      <td>21.0</td>\n",
       "      <td>6</td>\n",
       "      <td>160.0</td>\n",
       "      <td>110</td>\n",
       "      <td>3.90</td>\n",
       "      <td>2.875</td>\n",
       "      <td>17.02</td>\n",
       "      <td>0</td>\n",
       "      <td>1</td>\n",
       "      <td>4</td>\n",
       "      <td>4</td>\n",
       "    </tr>\n",
       "    <tr>\n",
       "      <th>Datsun 710</th>\n",
       "      <td>22.8</td>\n",
       "      <td>4</td>\n",
       "      <td>108.0</td>\n",
       "      <td>93</td>\n",
       "      <td>3.85</td>\n",
       "      <td>2.320</td>\n",
       "      <td>18.61</td>\n",
       "      <td>1</td>\n",
       "      <td>1</td>\n",
       "      <td>4</td>\n",
       "      <td>1</td>\n",
       "    </tr>\n",
       "    <tr>\n",
       "      <th>Hornet 4 Drive</th>\n",
       "      <td>21.4</td>\n",
       "      <td>6</td>\n",
       "      <td>258.0</td>\n",
       "      <td>110</td>\n",
       "      <td>3.08</td>\n",
       "      <td>3.215</td>\n",
       "      <td>19.44</td>\n",
       "      <td>1</td>\n",
       "      <td>0</td>\n",
       "      <td>3</td>\n",
       "      <td>1</td>\n",
       "    </tr>\n",
       "    <tr>\n",
       "      <th>Hornet Sportabout</th>\n",
       "      <td>18.7</td>\n",
       "      <td>8</td>\n",
       "      <td>360.0</td>\n",
       "      <td>175</td>\n",
       "      <td>3.15</td>\n",
       "      <td>3.440</td>\n",
       "      <td>17.02</td>\n",
       "      <td>0</td>\n",
       "      <td>0</td>\n",
       "      <td>3</td>\n",
       "      <td>2</td>\n",
       "    </tr>\n",
       "  </tbody>\n",
       "</table>\n",
       "</div>"
      ],
      "text/plain": [
       "                    mpg  cyl   disp   hp  drat     wt   qsec  vs  am  gear  \\\n",
       "model                                                                        \n",
       "Mazda RX4          21.0    6  160.0  110  3.90  2.620  16.46   0   1     4   \n",
       "Mazda RX4 Wag      21.0    6  160.0  110  3.90  2.875  17.02   0   1     4   \n",
       "Datsun 710         22.8    4  108.0   93  3.85  2.320  18.61   1   1     4   \n",
       "Hornet 4 Drive     21.4    6  258.0  110  3.08  3.215  19.44   1   0     3   \n",
       "Hornet Sportabout  18.7    8  360.0  175  3.15  3.440  17.02   0   0     3   \n",
       "\n",
       "                   carb  \n",
       "model                    \n",
       "Mazda RX4             4  \n",
       "Mazda RX4 Wag         4  \n",
       "Datsun 710            1  \n",
       "Hornet 4 Drive        1  \n",
       "Hornet Sportabout     2  "
      ]
     },
     "execution_count": 206,
     "metadata": {},
     "output_type": "execute_result"
    }
   ],
   "source": [
    "mtcars.head()"
   ]
  },
  {
   "cell_type": "code",
   "execution_count": 207,
   "id": "3891152d",
   "metadata": {},
   "outputs": [
    {
     "data": {
      "text/plain": [
       "model\n",
       "Mazda RX4            False\n",
       "Mazda RX4 Wag        False\n",
       "Datsun 710           False\n",
       "Hornet 4 Drive        True\n",
       "Hornet Sportabout     True\n",
       "Name: am, dtype: bool"
      ]
     },
     "execution_count": 207,
     "metadata": {},
     "output_type": "execute_result"
    }
   ],
   "source": [
    "mtcars['am'].head() == 0"
   ]
  },
  {
   "cell_type": "code",
   "execution_count": 208,
   "id": "cd6450c6",
   "metadata": {},
   "outputs": [
    {
     "data": {
      "text/html": [
       "<div>\n",
       "<style scoped>\n",
       "    .dataframe tbody tr th:only-of-type {\n",
       "        vertical-align: middle;\n",
       "    }\n",
       "\n",
       "    .dataframe tbody tr th {\n",
       "        vertical-align: top;\n",
       "    }\n",
       "\n",
       "    .dataframe thead th {\n",
       "        text-align: right;\n",
       "    }\n",
       "</style>\n",
       "<table border=\"1\" class=\"dataframe\">\n",
       "  <thead>\n",
       "    <tr style=\"text-align: right;\">\n",
       "      <th></th>\n",
       "      <th>mpg</th>\n",
       "      <th>cyl</th>\n",
       "      <th>disp</th>\n",
       "      <th>hp</th>\n",
       "      <th>drat</th>\n",
       "      <th>wt</th>\n",
       "      <th>qsec</th>\n",
       "      <th>vs</th>\n",
       "      <th>am</th>\n",
       "      <th>gear</th>\n",
       "      <th>carb</th>\n",
       "    </tr>\n",
       "    <tr>\n",
       "      <th>model</th>\n",
       "      <th></th>\n",
       "      <th></th>\n",
       "      <th></th>\n",
       "      <th></th>\n",
       "      <th></th>\n",
       "      <th></th>\n",
       "      <th></th>\n",
       "      <th></th>\n",
       "      <th></th>\n",
       "      <th></th>\n",
       "      <th></th>\n",
       "    </tr>\n",
       "  </thead>\n",
       "  <tbody>\n",
       "    <tr>\n",
       "      <th>Hornet 4 Drive</th>\n",
       "      <td>21.4</td>\n",
       "      <td>6</td>\n",
       "      <td>258.0</td>\n",
       "      <td>110</td>\n",
       "      <td>3.08</td>\n",
       "      <td>3.215</td>\n",
       "      <td>19.44</td>\n",
       "      <td>1</td>\n",
       "      <td>0</td>\n",
       "      <td>3</td>\n",
       "      <td>1</td>\n",
       "    </tr>\n",
       "    <tr>\n",
       "      <th>Hornet Sportabout</th>\n",
       "      <td>18.7</td>\n",
       "      <td>8</td>\n",
       "      <td>360.0</td>\n",
       "      <td>175</td>\n",
       "      <td>3.15</td>\n",
       "      <td>3.440</td>\n",
       "      <td>17.02</td>\n",
       "      <td>0</td>\n",
       "      <td>0</td>\n",
       "      <td>3</td>\n",
       "      <td>2</td>\n",
       "    </tr>\n",
       "    <tr>\n",
       "      <th>Valiant</th>\n",
       "      <td>18.1</td>\n",
       "      <td>6</td>\n",
       "      <td>225.0</td>\n",
       "      <td>105</td>\n",
       "      <td>2.76</td>\n",
       "      <td>3.460</td>\n",
       "      <td>20.22</td>\n",
       "      <td>1</td>\n",
       "      <td>0</td>\n",
       "      <td>3</td>\n",
       "      <td>1</td>\n",
       "    </tr>\n",
       "    <tr>\n",
       "      <th>Duster 360</th>\n",
       "      <td>14.3</td>\n",
       "      <td>8</td>\n",
       "      <td>360.0</td>\n",
       "      <td>245</td>\n",
       "      <td>3.21</td>\n",
       "      <td>3.570</td>\n",
       "      <td>15.84</td>\n",
       "      <td>0</td>\n",
       "      <td>0</td>\n",
       "      <td>3</td>\n",
       "      <td>4</td>\n",
       "    </tr>\n",
       "    <tr>\n",
       "      <th>Merc 240D</th>\n",
       "      <td>24.4</td>\n",
       "      <td>4</td>\n",
       "      <td>146.7</td>\n",
       "      <td>62</td>\n",
       "      <td>3.69</td>\n",
       "      <td>3.190</td>\n",
       "      <td>20.00</td>\n",
       "      <td>1</td>\n",
       "      <td>0</td>\n",
       "      <td>4</td>\n",
       "      <td>2</td>\n",
       "    </tr>\n",
       "    <tr>\n",
       "      <th>Merc 230</th>\n",
       "      <td>22.8</td>\n",
       "      <td>4</td>\n",
       "      <td>140.8</td>\n",
       "      <td>95</td>\n",
       "      <td>3.92</td>\n",
       "      <td>3.150</td>\n",
       "      <td>22.90</td>\n",
       "      <td>1</td>\n",
       "      <td>0</td>\n",
       "      <td>4</td>\n",
       "      <td>2</td>\n",
       "    </tr>\n",
       "    <tr>\n",
       "      <th>Merc 280</th>\n",
       "      <td>19.2</td>\n",
       "      <td>6</td>\n",
       "      <td>167.6</td>\n",
       "      <td>123</td>\n",
       "      <td>3.92</td>\n",
       "      <td>3.440</td>\n",
       "      <td>18.30</td>\n",
       "      <td>1</td>\n",
       "      <td>0</td>\n",
       "      <td>4</td>\n",
       "      <td>4</td>\n",
       "    </tr>\n",
       "    <tr>\n",
       "      <th>Merc 280C</th>\n",
       "      <td>17.8</td>\n",
       "      <td>6</td>\n",
       "      <td>167.6</td>\n",
       "      <td>123</td>\n",
       "      <td>3.92</td>\n",
       "      <td>3.440</td>\n",
       "      <td>18.90</td>\n",
       "      <td>1</td>\n",
       "      <td>0</td>\n",
       "      <td>4</td>\n",
       "      <td>4</td>\n",
       "    </tr>\n",
       "    <tr>\n",
       "      <th>Merc 450SE</th>\n",
       "      <td>16.4</td>\n",
       "      <td>8</td>\n",
       "      <td>275.8</td>\n",
       "      <td>180</td>\n",
       "      <td>3.07</td>\n",
       "      <td>4.070</td>\n",
       "      <td>17.40</td>\n",
       "      <td>0</td>\n",
       "      <td>0</td>\n",
       "      <td>3</td>\n",
       "      <td>3</td>\n",
       "    </tr>\n",
       "    <tr>\n",
       "      <th>Merc 450SL</th>\n",
       "      <td>17.3</td>\n",
       "      <td>8</td>\n",
       "      <td>275.8</td>\n",
       "      <td>180</td>\n",
       "      <td>3.07</td>\n",
       "      <td>3.730</td>\n",
       "      <td>17.60</td>\n",
       "      <td>0</td>\n",
       "      <td>0</td>\n",
       "      <td>3</td>\n",
       "      <td>3</td>\n",
       "    </tr>\n",
       "  </tbody>\n",
       "</table>\n",
       "</div>"
      ],
      "text/plain": [
       "                    mpg  cyl   disp   hp  drat     wt   qsec  vs  am  gear  \\\n",
       "model                                                                        \n",
       "Hornet 4 Drive     21.4    6  258.0  110  3.08  3.215  19.44   1   0     3   \n",
       "Hornet Sportabout  18.7    8  360.0  175  3.15  3.440  17.02   0   0     3   \n",
       "Valiant            18.1    6  225.0  105  2.76  3.460  20.22   1   0     3   \n",
       "Duster 360         14.3    8  360.0  245  3.21  3.570  15.84   0   0     3   \n",
       "Merc 240D          24.4    4  146.7   62  3.69  3.190  20.00   1   0     4   \n",
       "Merc 230           22.8    4  140.8   95  3.92  3.150  22.90   1   0     4   \n",
       "Merc 280           19.2    6  167.6  123  3.92  3.440  18.30   1   0     4   \n",
       "Merc 280C          17.8    6  167.6  123  3.92  3.440  18.90   1   0     4   \n",
       "Merc 450SE         16.4    8  275.8  180  3.07  4.070  17.40   0   0     3   \n",
       "Merc 450SL         17.3    8  275.8  180  3.07  3.730  17.60   0   0     3   \n",
       "\n",
       "                   carb  \n",
       "model                    \n",
       "Hornet 4 Drive        1  \n",
       "Hornet Sportabout     2  \n",
       "Valiant               1  \n",
       "Duster 360            4  \n",
       "Merc 240D             2  \n",
       "Merc 230              2  \n",
       "Merc 280              4  \n",
       "Merc 280C             4  \n",
       "Merc 450SE            3  \n",
       "Merc 450SL            3  "
      ]
     },
     "execution_count": 208,
     "metadata": {},
     "output_type": "execute_result"
    }
   ],
   "source": [
    "mtcars[mtcars['am'] == 0].head(10)"
   ]
  },
  {
   "cell_type": "code",
   "execution_count": 209,
   "id": "ce4b8e3a",
   "metadata": {},
   "outputs": [
    {
     "data": {
      "text/plain": [
       "model\n",
       "Hornet 4 Drive       21.4\n",
       "Hornet Sportabout    18.7\n",
       "Valiant              18.1\n",
       "Duster 360           14.3\n",
       "Merc 240D            24.4\n",
       "Merc 230             22.8\n",
       "Merc 280             19.2\n",
       "Merc 280C            17.8\n",
       "Merc 450SE           16.4\n",
       "Merc 450SL           17.3\n",
       "Name: mpg, dtype: float64"
      ]
     },
     "execution_count": 209,
     "metadata": {},
     "output_type": "execute_result"
    }
   ],
   "source": [
    "mtcars.loc[mtcars['am'] == 0,'mpg'].head(10)"
   ]
  },
  {
   "cell_type": "code",
   "execution_count": 210,
   "id": "2c520f02",
   "metadata": {},
   "outputs": [
    {
     "data": {
      "text/plain": [
       "<matplotlib.collections.PathCollection at 0x205c1a49810>"
      ]
     },
     "execution_count": 210,
     "metadata": {},
     "output_type": "execute_result"
    },
    {
     "data": {
      "image/png": "[encoded data removed]",
      "text/plain": [
       "<Figure size 640x480 with 1 Axes>"
      ]
     },
     "metadata": {},
     "output_type": "display_data"
    }
   ],
   "source": [
    "plt.scatter(mtcars.loc[mtcars['am'] == 0,'mpg'], mtcars.loc[mtcars['am'] == 0,'wt'])"
   ]
  },
  {
   "cell_type": "code",
   "execution_count": 211,
   "id": "be87a1bf",
   "metadata": {},
   "outputs": [
    {
     "data": {
      "image/png": "[encoded data removed]",
      "text/plain": [
       "<Figure size 640x480 with 1 Axes>"
      ]
     },
     "metadata": {},
     "output_type": "display_data"
    }
   ],
   "source": [
    "fig, ax = plt.subplots()\n",
    "\n",
    "ax.scatter(mtcars.loc[mtcars['am'] == 0,'mpg'], mtcars.loc[mtcars['am'] == 0,'wt'], color='blue', label=\"Automatic\")\n",
    "ax.scatter(mtcars.loc[mtcars['am'] == 1,'mpg'], mtcars.loc[mtcars['am'] == 1,'wt'], color='red', label=\"Manual\")\n",
    "ax.grid()\n",
    "ax.set_xlabel('Miles per gallon')\n",
    "ax.set_ylabel('Weight (1000 lbs)')\n",
    "ax.set_title(\"Comparison of weight and height data for automatic and manual cars\")\n",
    "ax.legend();\n"
   ]
  },
  {
   "cell_type": "code",
   "execution_count": null,
   "id": "6fb21a08",
   "metadata": {},
   "outputs": [],
   "source": []
  }
 ],
 "metadata": {
  "kernelspec": {
   "display_name": "Python 3 (ipykernel)",
   "language": "python",
   "name": "python3"
  },
  "language_info": {
   "codemirror_mode": {
    "name": "ipython",
    "version": 3
   },
   "file_extension": ".py",
   "mimetype": "text/x-python",
   "name": "python",
   "nbconvert_exporter": "python",
   "pygments_lexer": "ipython3",
   "version": "3.11.4"
  }
 },
 "nbformat": 4,
 "nbformat_minor": 5
}
