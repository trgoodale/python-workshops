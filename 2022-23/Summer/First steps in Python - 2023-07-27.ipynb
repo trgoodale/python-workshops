{
 "cells": [
  {
   "cell_type": "markdown",
   "id": "f0e441d0",
   "metadata": {},
   "source": [
    "# You can use Python as a calculator"
   ]
  },
  {
   "cell_type": "code",
   "execution_count": 1,
   "id": "380875a1",
   "metadata": {},
   "outputs": [
    {
     "data": {
      "text/plain": [
       "2"
      ]
     },
     "execution_count": 1,
     "metadata": {},
     "output_type": "execute_result"
    }
   ],
   "source": [
    "1+1"
   ]
  },
  {
   "cell_type": "code",
   "execution_count": 2,
   "id": "bb7cc370",
   "metadata": {},
   "outputs": [
    {
     "data": {
      "text/plain": [
       "7"
      ]
     },
     "execution_count": 2,
     "metadata": {},
     "output_type": "execute_result"
    }
   ],
   "source": [
    "1+1\n",
    "2+2\n",
    "3+4"
   ]
  },
  {
   "cell_type": "markdown",
   "id": "90c42eac",
   "metadata": {},
   "source": [
    "# This is a top level header\n",
    "\n",
    "This is some text\n",
    "\n",
    "* item 1\n",
    "* item 2\n",
    "* item 3\n",
    "\n",
    "$ y = ax^2 + bx + c \\frac{a}{b}$\n",
    "\n",
    "This is a *markdown* cell.\n",
    "\n",
    "You can put formatted text in it, including links, tables and URLS, as well as equations using LaTeX.\n",
    "\n",
    "See\n",
    "\n",
    "* https://www.ibm.com/docs/en/watson-studio-local/1.2.3?topic=notebooks-markdown-jupyter-cheatsheet\n",
    "* https://en.wikibooks.org/wiki/LaTeX/Mathematics\n",
    "\n"
   ]
  },
  {
   "cell_type": "code",
   "execution_count": 3,
   "id": "0b9cbca5",
   "metadata": {},
   "outputs": [
    {
     "data": {
      "text/plain": [
       "6"
      ]
     },
     "execution_count": 3,
     "metadata": {},
     "output_type": "execute_result"
    }
   ],
   "source": [
    "2*3"
   ]
  },
  {
   "cell_type": "code",
   "execution_count": 4,
   "id": "ef4fe854",
   "metadata": {},
   "outputs": [
    {
     "data": {
      "text/plain": [
       "3.5"
      ]
     },
     "execution_count": 4,
     "metadata": {},
     "output_type": "execute_result"
    }
   ],
   "source": [
    "7/2"
   ]
  },
  {
   "cell_type": "code",
   "execution_count": 5,
   "id": "1589d254",
   "metadata": {},
   "outputs": [
    {
     "data": {
      "text/plain": [
       "2187"
      ]
     },
     "execution_count": 5,
     "metadata": {},
     "output_type": "execute_result"
    }
   ],
   "source": [
    "3**7"
   ]
  },
  {
   "cell_type": "code",
   "execution_count": 6,
   "id": "d1941460",
   "metadata": {},
   "outputs": [
    {
     "data": {
      "text/plain": [
       "4"
      ]
     },
     "execution_count": 6,
     "metadata": {},
     "output_type": "execute_result"
    }
   ],
   "source": [
    "7-3"
   ]
  },
  {
   "cell_type": "markdown",
   "id": "e811459a",
   "metadata": {},
   "source": [
    "# Variables\n",
    "\n",
    "You can assign values to *variables*.\n",
    "Variable names can be any combination of letters, numbers and underscores.  They can't start with a number.\n",
    "\n",
    "## Numbers"
   ]
  },
  {
   "cell_type": "code",
   "execution_count": 7,
   "id": "478a637a",
   "metadata": {},
   "outputs": [],
   "source": [
    "x = 7"
   ]
  },
  {
   "cell_type": "code",
   "execution_count": 8,
   "id": "5c951a4b",
   "metadata": {},
   "outputs": [
    {
     "data": {
      "text/plain": [
       "7"
      ]
     },
     "execution_count": 8,
     "metadata": {},
     "output_type": "execute_result"
    }
   ],
   "source": [
    "x"
   ]
  },
  {
   "cell_type": "code",
   "execution_count": 9,
   "id": "917ad113",
   "metadata": {},
   "outputs": [
    {
     "name": "stdout",
     "output_type": "stream",
     "text": [
      "7\n"
     ]
    }
   ],
   "source": [
    "print(x)"
   ]
  },
  {
   "cell_type": "code",
   "execution_count": 10,
   "id": "60f26d00",
   "metadata": {},
   "outputs": [],
   "source": [
    "x = x + 1"
   ]
  },
  {
   "cell_type": "code",
   "execution_count": 11,
   "id": "20d41b6f",
   "metadata": {},
   "outputs": [
    {
     "data": {
      "text/plain": [
       "8"
      ]
     },
     "execution_count": 11,
     "metadata": {},
     "output_type": "execute_result"
    }
   ],
   "source": [
    "x"
   ]
  },
  {
   "cell_type": "markdown",
   "id": "53adf68a",
   "metadata": {},
   "source": [
    "There is a shortcut for adding to an existing value.  This will increment x by 3:"
   ]
  },
  {
   "cell_type": "code",
   "execution_count": 12,
   "id": "c593ebf7",
   "metadata": {},
   "outputs": [],
   "source": [
    "x += 3"
   ]
  },
  {
   "cell_type": "markdown",
   "id": "dac51e89",
   "metadata": {},
   "source": [
    "It's slightly less typing than\n",
    "\n",
    "x = x + 3"
   ]
  },
  {
   "cell_type": "code",
   "execution_count": 13,
   "id": "b4bc27a9",
   "metadata": {
    "scrolled": true
   },
   "outputs": [
    {
     "data": {
      "text/plain": [
       "11"
      ]
     },
     "execution_count": 13,
     "metadata": {},
     "output_type": "execute_result"
    }
   ],
   "source": [
    "x"
   ]
  },
  {
   "cell_type": "code",
   "execution_count": 14,
   "id": "a4fc8412",
   "metadata": {},
   "outputs": [],
   "source": [
    "x /=4"
   ]
  },
  {
   "cell_type": "code",
   "execution_count": 15,
   "id": "61c6ea49",
   "metadata": {},
   "outputs": [
    {
     "data": {
      "text/plain": [
       "2.75"
      ]
     },
     "execution_count": 15,
     "metadata": {},
     "output_type": "execute_result"
    }
   ],
   "source": [
    "x"
   ]
  },
  {
   "cell_type": "markdown",
   "id": "2e088290",
   "metadata": {},
   "source": [
    "This is a markdown cell"
   ]
  },
  {
   "cell_type": "code",
   "execution_count": 16,
   "id": "1d137de3",
   "metadata": {},
   "outputs": [],
   "source": [
    "y = 7"
   ]
  },
  {
   "cell_type": "code",
   "execution_count": 17,
   "id": "ef90a884",
   "metadata": {},
   "outputs": [
    {
     "data": {
      "text/plain": [
       "9.75"
      ]
     },
     "execution_count": 17,
     "metadata": {},
     "output_type": "execute_result"
    }
   ],
   "source": [
    "x + y"
   ]
  },
  {
   "cell_type": "code",
   "execution_count": 18,
   "id": "69302af4",
   "metadata": {},
   "outputs": [
    {
     "data": {
      "text/plain": [
       "float"
      ]
     },
     "execution_count": 18,
     "metadata": {},
     "output_type": "execute_result"
    }
   ],
   "source": [
    "type(x)"
   ]
  },
  {
   "cell_type": "code",
   "execution_count": 19,
   "id": "d79f452e",
   "metadata": {},
   "outputs": [
    {
     "data": {
      "text/plain": [
       "int"
      ]
     },
     "execution_count": 19,
     "metadata": {},
     "output_type": "execute_result"
    }
   ],
   "source": [
    "type(y)"
   ]
  },
  {
   "cell_type": "markdown",
   "id": "87cfc4e5",
   "metadata": {},
   "source": [
    "## Strings\n",
    "\n",
    "We are not restricted to numbers."
   ]
  },
  {
   "cell_type": "code",
   "execution_count": 20,
   "id": "a34b0b30",
   "metadata": {},
   "outputs": [],
   "source": [
    "s = 'Hello'"
   ]
  },
  {
   "cell_type": "code",
   "execution_count": 21,
   "id": "b3263c98",
   "metadata": {},
   "outputs": [
    {
     "data": {
      "text/plain": [
       "'Hello'"
      ]
     },
     "execution_count": 21,
     "metadata": {},
     "output_type": "execute_result"
    }
   ],
   "source": [
    "s"
   ]
  },
  {
   "cell_type": "code",
   "execution_count": 22,
   "id": "652cca55",
   "metadata": {},
   "outputs": [],
   "source": [
    "t = \"hello\""
   ]
  },
  {
   "cell_type": "code",
   "execution_count": 23,
   "id": "1e78486d",
   "metadata": {},
   "outputs": [
    {
     "data": {
      "text/plain": [
       "'hello'"
      ]
     },
     "execution_count": 23,
     "metadata": {},
     "output_type": "execute_result"
    }
   ],
   "source": [
    "t"
   ]
  },
  {
   "cell_type": "code",
   "execution_count": 24,
   "id": "fb79f3a1",
   "metadata": {},
   "outputs": [
    {
     "data": {
      "text/plain": [
       "str"
      ]
     },
     "execution_count": 24,
     "metadata": {},
     "output_type": "execute_result"
    }
   ],
   "source": [
    "type(s)"
   ]
  },
  {
   "cell_type": "code",
   "execution_count": 25,
   "id": "cbc47d95",
   "metadata": {},
   "outputs": [],
   "source": [
    "s = \"This isn't a problem\""
   ]
  },
  {
   "cell_type": "code",
   "execution_count": 26,
   "id": "f77f30af",
   "metadata": {},
   "outputs": [
    {
     "ename": "SyntaxError",
     "evalue": "unterminated string literal (detected at line 1) (3440078157.py, line 1)",
     "output_type": "error",
     "traceback": [
      "\u001b[1;36m  Cell \u001b[1;32mIn[26], line 1\u001b[1;36m\u001b[0m\n\u001b[1;33m    s = 'This isn't a problem'\u001b[0m\n\u001b[1;37m                             ^\u001b[0m\n\u001b[1;31mSyntaxError\u001b[0m\u001b[1;31m:\u001b[0m unterminated string literal (detected at line 1)\n"
     ]
    }
   ],
   "source": [
    "s = 'This isn't a problem'"
   ]
  },
  {
   "cell_type": "code",
   "execution_count": 27,
   "id": "f5912660",
   "metadata": {},
   "outputs": [],
   "source": [
    "s = 'This isn\\'t a problem'"
   ]
  },
  {
   "cell_type": "markdown",
   "id": "df077ca2",
   "metadata": {},
   "source": [
    "## Logical values (booleans)"
   ]
  },
  {
   "cell_type": "code",
   "execution_count": 28,
   "id": "f622a8e5",
   "metadata": {},
   "outputs": [
    {
     "data": {
      "text/plain": [
       "False"
      ]
     },
     "execution_count": 28,
     "metadata": {},
     "output_type": "execute_result"
    }
   ],
   "source": [
    "4 == 5"
   ]
  },
  {
   "cell_type": "code",
   "execution_count": 29,
   "id": "6c53f93f",
   "metadata": {},
   "outputs": [
    {
     "data": {
      "text/plain": [
       "True"
      ]
     },
     "execution_count": 29,
     "metadata": {},
     "output_type": "execute_result"
    }
   ],
   "source": [
    "4 == 4"
   ]
  },
  {
   "cell_type": "code",
   "execution_count": 30,
   "id": "06e2a312",
   "metadata": {},
   "outputs": [
    {
     "data": {
      "text/plain": [
       "False"
      ]
     },
     "execution_count": 30,
     "metadata": {},
     "output_type": "execute_result"
    }
   ],
   "source": [
    "4 > 7"
   ]
  },
  {
   "cell_type": "code",
   "execution_count": 31,
   "id": "53dcd7a9",
   "metadata": {},
   "outputs": [],
   "source": [
    "b = 4 > 7"
   ]
  },
  {
   "cell_type": "code",
   "execution_count": 32,
   "id": "209b3ed4",
   "metadata": {},
   "outputs": [
    {
     "data": {
      "text/plain": [
       "False"
      ]
     },
     "execution_count": 32,
     "metadata": {},
     "output_type": "execute_result"
    }
   ],
   "source": [
    "b"
   ]
  },
  {
   "cell_type": "markdown",
   "id": "b881e478",
   "metadata": {},
   "source": [
    "# Finding things in strings"
   ]
  },
  {
   "cell_type": "code",
   "execution_count": 33,
   "id": "651457dd",
   "metadata": {},
   "outputs": [
    {
     "data": {
      "text/plain": [
       "\"This isn't a problem\""
      ]
     },
     "execution_count": 33,
     "metadata": {},
     "output_type": "execute_result"
    }
   ],
   "source": [
    "s"
   ]
  },
  {
   "cell_type": "code",
   "execution_count": 34,
   "id": "8e6af8f6",
   "metadata": {},
   "outputs": [
    {
     "data": {
      "text/plain": [
       "20"
      ]
     },
     "execution_count": 34,
     "metadata": {},
     "output_type": "execute_result"
    }
   ],
   "source": [
    "len(s)"
   ]
  },
  {
   "cell_type": "code",
   "execution_count": 35,
   "id": "b3f0e213",
   "metadata": {},
   "outputs": [
    {
     "data": {
      "text/plain": [
       "'T'"
      ]
     },
     "execution_count": 35,
     "metadata": {},
     "output_type": "execute_result"
    }
   ],
   "source": [
    "s[0]"
   ]
  },
  {
   "cell_type": "code",
   "execution_count": 36,
   "id": "87441589",
   "metadata": {},
   "outputs": [
    {
     "data": {
      "text/plain": [
       "'h'"
      ]
     },
     "execution_count": 36,
     "metadata": {},
     "output_type": "execute_result"
    }
   ],
   "source": [
    "s[1]"
   ]
  },
  {
   "cell_type": "code",
   "execution_count": 37,
   "id": "81125970",
   "metadata": {},
   "outputs": [
    {
     "data": {
      "text/plain": [
       "'i'"
      ]
     },
     "execution_count": 37,
     "metadata": {},
     "output_type": "execute_result"
    }
   ],
   "source": [
    "s[2]"
   ]
  },
  {
   "cell_type": "code",
   "execution_count": 38,
   "id": "ec6fb6fb",
   "metadata": {},
   "outputs": [
    {
     "ename": "IndexError",
     "evalue": "string index out of range",
     "output_type": "error",
     "traceback": [
      "\u001b[1;31m---------------------------------------------------------------------------\u001b[0m",
      "\u001b[1;31mIndexError\u001b[0m                                Traceback (most recent call last)",
      "Cell \u001b[1;32mIn[38], line 1\u001b[0m\n\u001b[1;32m----> 1\u001b[0m s[\u001b[38;5;241m20\u001b[39m]\n",
      "\u001b[1;31mIndexError\u001b[0m: string index out of range"
     ]
    }
   ],
   "source": [
    "s[20]"
   ]
  },
  {
   "cell_type": "code",
   "execution_count": null,
   "id": "fcea9581",
   "metadata": {},
   "outputs": [],
   "source": [
    "s[19]"
   ]
  },
  {
   "cell_type": "code",
   "execution_count": null,
   "id": "60edf3ba",
   "metadata": {},
   "outputs": [],
   "source": [
    "s[-1]"
   ]
  },
  {
   "cell_type": "code",
   "execution_count": null,
   "id": "2653fa15",
   "metadata": {},
   "outputs": [],
   "source": [
    "s[-2]"
   ]
  },
  {
   "cell_type": "code",
   "execution_count": null,
   "id": "a7ed0dde",
   "metadata": {},
   "outputs": [],
   "source": [
    "s[0:3]"
   ]
  },
  {
   "cell_type": "code",
   "execution_count": null,
   "id": "f964cc42",
   "metadata": {},
   "outputs": [],
   "source": [
    "s"
   ]
  },
  {
   "cell_type": "code",
   "execution_count": null,
   "id": "0c21b351",
   "metadata": {},
   "outputs": [],
   "source": [
    "s[5:10]"
   ]
  },
  {
   "cell_type": "code",
   "execution_count": null,
   "id": "bf288762",
   "metadata": {},
   "outputs": [],
   "source": [
    "s[:10]"
   ]
  },
  {
   "cell_type": "code",
   "execution_count": null,
   "id": "034bdbae",
   "metadata": {},
   "outputs": [],
   "source": [
    "s[5:]"
   ]
  },
  {
   "cell_type": "code",
   "execution_count": 39,
   "id": "9d306f30",
   "metadata": {},
   "outputs": [
    {
     "data": {
      "text/plain": [
       "'intapol'"
      ]
     },
     "execution_count": 39,
     "metadata": {},
     "output_type": "execute_result"
    }
   ],
   "source": [
    "s[5:18:2]"
   ]
  },
  {
   "cell_type": "code",
   "execution_count": 40,
   "id": "01fb5ee1",
   "metadata": {},
   "outputs": [
    {
     "name": "stdout",
     "output_type": "stream",
     "text": [
      "This isn't a problem\n"
     ]
    }
   ],
   "source": [
    "print(s)"
   ]
  },
  {
   "cell_type": "code",
   "execution_count": 41,
   "id": "44be08ba",
   "metadata": {},
   "outputs": [
    {
     "data": {
      "text/plain": [
       "'lem'"
      ]
     },
     "execution_count": 41,
     "metadata": {},
     "output_type": "execute_result"
    }
   ],
   "source": [
    "s[-3:]"
   ]
  },
  {
   "cell_type": "markdown",
   "id": "b19a5db2",
   "metadata": {},
   "source": [
    "# More complex data types\n",
    "\n",
    "## Lists"
   ]
  },
  {
   "cell_type": "code",
   "execution_count": 42,
   "id": "bbb5c313",
   "metadata": {},
   "outputs": [],
   "source": [
    "k = [1,2,3]"
   ]
  },
  {
   "cell_type": "code",
   "execution_count": 43,
   "id": "3fd101a4",
   "metadata": {},
   "outputs": [
    {
     "data": {
      "text/plain": [
       "[1, 2, 3]"
      ]
     },
     "execution_count": 43,
     "metadata": {},
     "output_type": "execute_result"
    }
   ],
   "source": [
    "k"
   ]
  },
  {
   "cell_type": "code",
   "execution_count": 44,
   "id": "899bae9d",
   "metadata": {},
   "outputs": [
    {
     "data": {
      "text/plain": [
       "1"
      ]
     },
     "execution_count": 44,
     "metadata": {},
     "output_type": "execute_result"
    }
   ],
   "source": [
    "k[0]"
   ]
  },
  {
   "cell_type": "code",
   "execution_count": 45,
   "id": "3e5fa48d",
   "metadata": {},
   "outputs": [
    {
     "data": {
      "text/plain": [
       "3"
      ]
     },
     "execution_count": 45,
     "metadata": {},
     "output_type": "execute_result"
    }
   ],
   "source": [
    "k[-1]"
   ]
  },
  {
   "cell_type": "code",
   "execution_count": 46,
   "id": "07b67981",
   "metadata": {},
   "outputs": [
    {
     "data": {
      "text/plain": [
       "[1, 2]"
      ]
     },
     "execution_count": 46,
     "metadata": {},
     "output_type": "execute_result"
    }
   ],
   "source": [
    "k[:2]"
   ]
  },
  {
   "cell_type": "code",
   "execution_count": 47,
   "id": "3414a672",
   "metadata": {},
   "outputs": [],
   "source": [
    "m = [1,  \"Fred\", True, 3.14]"
   ]
  },
  {
   "cell_type": "code",
   "execution_count": 48,
   "id": "d143561b",
   "metadata": {},
   "outputs": [
    {
     "data": {
      "text/plain": [
       "[1, 'Fred', True, 3.14]"
      ]
     },
     "execution_count": 48,
     "metadata": {},
     "output_type": "execute_result"
    }
   ],
   "source": [
    "m"
   ]
  },
  {
   "cell_type": "code",
   "execution_count": 49,
   "id": "35ce8b5a",
   "metadata": {},
   "outputs": [
    {
     "data": {
      "text/plain": [
       "\"This isn't a problem\""
      ]
     },
     "execution_count": 49,
     "metadata": {},
     "output_type": "execute_result"
    }
   ],
   "source": [
    "s"
   ]
  },
  {
   "cell_type": "code",
   "execution_count": 50,
   "id": "255dd378",
   "metadata": {},
   "outputs": [
    {
     "data": {
      "text/plain": [
       "'i'"
      ]
     },
     "execution_count": 50,
     "metadata": {},
     "output_type": "execute_result"
    }
   ],
   "source": [
    "s[5]"
   ]
  },
  {
   "cell_type": "code",
   "execution_count": 51,
   "id": "76b3a446",
   "metadata": {},
   "outputs": [
    {
     "ename": "TypeError",
     "evalue": "'str' object does not support item assignment",
     "output_type": "error",
     "traceback": [
      "\u001b[1;31m---------------------------------------------------------------------------\u001b[0m",
      "\u001b[1;31mTypeError\u001b[0m                                 Traceback (most recent call last)",
      "Cell \u001b[1;32mIn[51], line 1\u001b[0m\n\u001b[1;32m----> 1\u001b[0m s[\u001b[38;5;241m5\u001b[39m] \u001b[38;5;241m=\u001b[39m \u001b[38;5;124m'\u001b[39m\u001b[38;5;124mI\u001b[39m\u001b[38;5;124m'\u001b[39m\n",
      "\u001b[1;31mTypeError\u001b[0m: 'str' object does not support item assignment"
     ]
    }
   ],
   "source": [
    "s[5] = 'I'"
   ]
  },
  {
   "cell_type": "code",
   "execution_count": 52,
   "id": "71647ba9",
   "metadata": {},
   "outputs": [
    {
     "data": {
      "text/plain": [
       "'Fred'"
      ]
     },
     "execution_count": 52,
     "metadata": {},
     "output_type": "execute_result"
    }
   ],
   "source": [
    "m[1]"
   ]
  },
  {
   "cell_type": "code",
   "execution_count": 53,
   "id": "28622e73",
   "metadata": {},
   "outputs": [],
   "source": [
    "m[1] = 99"
   ]
  },
  {
   "cell_type": "code",
   "execution_count": 54,
   "id": "90f8b22c",
   "metadata": {},
   "outputs": [
    {
     "data": {
      "text/plain": [
       "[1, 99, True, 3.14]"
      ]
     },
     "execution_count": 54,
     "metadata": {},
     "output_type": "execute_result"
    }
   ],
   "source": [
    "m"
   ]
  },
  {
   "cell_type": "code",
   "execution_count": 55,
   "id": "0aeb02ab",
   "metadata": {},
   "outputs": [
    {
     "data": {
      "text/plain": [
       "[1, 99, True]"
      ]
     },
     "execution_count": 55,
     "metadata": {},
     "output_type": "execute_result"
    }
   ],
   "source": [
    "m[:3]"
   ]
  },
  {
   "cell_type": "code",
   "execution_count": 56,
   "id": "9163a7ed",
   "metadata": {},
   "outputs": [],
   "source": [
    "m[:3] = [1,2,3]"
   ]
  },
  {
   "cell_type": "code",
   "execution_count": 57,
   "id": "f28c3287",
   "metadata": {},
   "outputs": [
    {
     "data": {
      "text/plain": [
       "[1, 2, 3, 3.14]"
      ]
     },
     "execution_count": 57,
     "metadata": {},
     "output_type": "execute_result"
    }
   ],
   "source": [
    "m"
   ]
  },
  {
   "cell_type": "code",
   "execution_count": 58,
   "id": "ff963a52",
   "metadata": {},
   "outputs": [],
   "source": [
    "n = [1,2,[3,4], m]"
   ]
  },
  {
   "cell_type": "code",
   "execution_count": 59,
   "id": "b2d9dc5e",
   "metadata": {},
   "outputs": [
    {
     "data": {
      "text/plain": [
       "[1, 2, [3, 4], [1, 2, 3, 3.14]]"
      ]
     },
     "execution_count": 59,
     "metadata": {},
     "output_type": "execute_result"
    }
   ],
   "source": [
    "n"
   ]
  },
  {
   "cell_type": "markdown",
   "id": "32b87256",
   "metadata": {},
   "source": [
    "## Tuples"
   ]
  },
  {
   "cell_type": "code",
   "execution_count": 60,
   "id": "2aba1bfa",
   "metadata": {},
   "outputs": [],
   "source": [
    "p = (1,2,3,4,5)"
   ]
  },
  {
   "cell_type": "code",
   "execution_count": 61,
   "id": "86435d24",
   "metadata": {},
   "outputs": [
    {
     "data": {
      "text/plain": [
       "(1, 2, 3, 4, 5)"
      ]
     },
     "execution_count": 61,
     "metadata": {},
     "output_type": "execute_result"
    }
   ],
   "source": [
    "p"
   ]
  },
  {
   "cell_type": "code",
   "execution_count": 62,
   "id": "3dfc4c35",
   "metadata": {},
   "outputs": [
    {
     "ename": "TypeError",
     "evalue": "'tuple' object does not support item assignment",
     "output_type": "error",
     "traceback": [
      "\u001b[1;31m---------------------------------------------------------------------------\u001b[0m",
      "\u001b[1;31mTypeError\u001b[0m                                 Traceback (most recent call last)",
      "Cell \u001b[1;32mIn[62], line 1\u001b[0m\n\u001b[1;32m----> 1\u001b[0m p[\u001b[38;5;241m2\u001b[39m] \u001b[38;5;241m=\u001b[39m \u001b[38;5;241m99\u001b[39m\n",
      "\u001b[1;31mTypeError\u001b[0m: 'tuple' object does not support item assignment"
     ]
    }
   ],
   "source": [
    "p[2] = 99"
   ]
  },
  {
   "cell_type": "markdown",
   "id": "52b24e5a",
   "metadata": {},
   "source": [
    "# Dictionaries"
   ]
  },
  {
   "cell_type": "code",
   "execution_count": 63,
   "id": "538d85c8",
   "metadata": {},
   "outputs": [],
   "source": [
    "mydict = {'First name': 'Tom', 'Last name':'Goodale', 'room': 202}"
   ]
  },
  {
   "cell_type": "code",
   "execution_count": 64,
   "id": "f9106551",
   "metadata": {},
   "outputs": [
    {
     "data": {
      "text/plain": [
       "{'First name': 'Tom', 'Last name': 'Goodale', 'room': 202}"
      ]
     },
     "execution_count": 64,
     "metadata": {},
     "output_type": "execute_result"
    }
   ],
   "source": [
    "mydict"
   ]
  },
  {
   "cell_type": "code",
   "execution_count": 65,
   "id": "5d832b9c",
   "metadata": {},
   "outputs": [
    {
     "data": {
      "text/plain": [
       "'Tom'"
      ]
     },
     "execution_count": 65,
     "metadata": {},
     "output_type": "execute_result"
    }
   ],
   "source": [
    "mydict['First name']"
   ]
  },
  {
   "cell_type": "code",
   "execution_count": 66,
   "id": "a7302621",
   "metadata": {},
   "outputs": [
    {
     "data": {
      "text/plain": [
       "202"
      ]
     },
     "execution_count": 66,
     "metadata": {},
     "output_type": "execute_result"
    }
   ],
   "source": [
    "mydict['room']"
   ]
  },
  {
   "cell_type": "code",
   "execution_count": 67,
   "id": "47ed4722",
   "metadata": {},
   "outputs": [],
   "source": [
    "mydict['sandwiches'] = ['cheese', 'egg mayonnaise', 'ham']"
   ]
  },
  {
   "cell_type": "code",
   "execution_count": 68,
   "id": "fd507551",
   "metadata": {},
   "outputs": [
    {
     "data": {
      "text/plain": [
       "{'First name': 'Tom',\n",
       " 'Last name': 'Goodale',\n",
       " 'room': 202,\n",
       " 'sandwiches': ['cheese', 'egg mayonnaise', 'ham']}"
      ]
     },
     "execution_count": 68,
     "metadata": {},
     "output_type": "execute_result"
    }
   ],
   "source": [
    "mydict"
   ]
  },
  {
   "cell_type": "code",
   "execution_count": 69,
   "id": "451499bb",
   "metadata": {},
   "outputs": [
    {
     "data": {
      "text/plain": [
       "['cheese', 'egg mayonnaise', 'ham']"
      ]
     },
     "execution_count": 69,
     "metadata": {},
     "output_type": "execute_result"
    }
   ],
   "source": [
    "mydict['sandwiches']"
   ]
  },
  {
   "cell_type": "code",
   "execution_count": 70,
   "id": "ed5fa313",
   "metadata": {},
   "outputs": [
    {
     "data": {
      "text/plain": [
       "'egg mayonnaise'"
      ]
     },
     "execution_count": 70,
     "metadata": {},
     "output_type": "execute_result"
    }
   ],
   "source": [
    "mydict['sandwiches'][1]"
   ]
  },
  {
   "cell_type": "markdown",
   "id": "b5a7141b",
   "metadata": {},
   "source": [
    "# Flow control"
   ]
  },
  {
   "cell_type": "code",
   "execution_count": 71,
   "id": "47e1884e",
   "metadata": {},
   "outputs": [],
   "source": [
    "x = [1,2,3,4,5,6]"
   ]
  },
  {
   "cell_type": "code",
   "execution_count": 72,
   "id": "e726f6ba",
   "metadata": {},
   "outputs": [
    {
     "data": {
      "text/plain": [
       "[1, 2, 3, 4, 5, 6]"
      ]
     },
     "execution_count": 72,
     "metadata": {},
     "output_type": "execute_result"
    }
   ],
   "source": [
    "x"
   ]
  },
  {
   "cell_type": "code",
   "execution_count": 73,
   "id": "851c4eb2",
   "metadata": {},
   "outputs": [
    {
     "name": "stdout",
     "output_type": "stream",
     "text": [
      "2\n",
      "3\n",
      "They're different\n",
      "4\n",
      "6\n",
      "They're different\n",
      "6\n",
      "9\n",
      "They're different\n",
      "8\n",
      "12\n",
      "They're different\n",
      "10\n",
      "15\n",
      "They're different\n",
      "12\n",
      "18\n",
      "They're different\n",
      "I'm now outside the loop\n"
     ]
    }
   ],
   "source": [
    "for item in x:\n",
    "    print(item*2)\n",
    "    print(item*3)\n",
    "    \n",
    "    print(\"They're different\")\n",
    "    \n",
    "print(\"I'm now outside the loop\")"
   ]
  },
  {
   "cell_type": "code",
   "execution_count": 74,
   "id": "dabd3825",
   "metadata": {},
   "outputs": [
    {
     "name": "stdout",
     "output_type": "stream",
     "text": [
      "item is 0\n",
      "item is 1\n",
      "item is 2\n",
      "item is 3\n",
      "item is 4\n",
      "item is 5\n"
     ]
    }
   ],
   "source": [
    "for item in range(6):\n",
    "    print(\"item is\", item)"
   ]
  },
  {
   "cell_type": "code",
   "execution_count": 75,
   "id": "64be77c5",
   "metadata": {},
   "outputs": [
    {
     "name": "stdout",
     "output_type": "stream",
     "text": [
      "Help on class range in module builtins:\n",
      "\n",
      "class range(object)\n",
      " |  range(stop) -> range object\n",
      " |  range(start, stop[, step]) -> range object\n",
      " |  \n",
      " |  Return an object that produces a sequence of integers from start (inclusive)\n",
      " |  to stop (exclusive) by step.  range(i, j) produces i, i+1, i+2, ..., j-1.\n",
      " |  start defaults to 0, and stop is omitted!  range(4) produces 0, 1, 2, 3.\n",
      " |  These are exactly the valid indices for a list of 4 elements.\n",
      " |  When step is given, it specifies the increment (or decrement).\n",
      " |  \n",
      " |  Methods defined here:\n",
      " |  \n",
      " |  __bool__(self, /)\n",
      " |      True if self else False\n",
      " |  \n",
      " |  __contains__(self, key, /)\n",
      " |      Return key in self.\n",
      " |  \n",
      " |  __eq__(self, value, /)\n",
      " |      Return self==value.\n",
      " |  \n",
      " |  __ge__(self, value, /)\n",
      " |      Return self>=value.\n",
      " |  \n",
      " |  __getattribute__(self, name, /)\n",
      " |      Return getattr(self, name).\n",
      " |  \n",
      " |  __getitem__(self, key, /)\n",
      " |      Return self[key].\n",
      " |  \n",
      " |  __gt__(self, value, /)\n",
      " |      Return self>value.\n",
      " |  \n",
      " |  __hash__(self, /)\n",
      " |      Return hash(self).\n",
      " |  \n",
      " |  __iter__(self, /)\n",
      " |      Implement iter(self).\n",
      " |  \n",
      " |  __le__(self, value, /)\n",
      " |      Return self<=value.\n",
      " |  \n",
      " |  __len__(self, /)\n",
      " |      Return len(self).\n",
      " |  \n",
      " |  __lt__(self, value, /)\n",
      " |      Return self<value.\n",
      " |  \n",
      " |  __ne__(self, value, /)\n",
      " |      Return self!=value.\n",
      " |  \n",
      " |  __reduce__(...)\n",
      " |      Helper for pickle.\n",
      " |  \n",
      " |  __repr__(self, /)\n",
      " |      Return repr(self).\n",
      " |  \n",
      " |  __reversed__(...)\n",
      " |      Return a reverse iterator.\n",
      " |  \n",
      " |  count(...)\n",
      " |      rangeobject.count(value) -> integer -- return number of occurrences of value\n",
      " |  \n",
      " |  index(...)\n",
      " |      rangeobject.index(value) -> integer -- return index of value.\n",
      " |      Raise ValueError if the value is not present.\n",
      " |  \n",
      " |  ----------------------------------------------------------------------\n",
      " |  Static methods defined here:\n",
      " |  \n",
      " |  __new__(*args, **kwargs) from builtins.type\n",
      " |      Create and return a new object.  See help(type) for accurate signature.\n",
      " |  \n",
      " |  ----------------------------------------------------------------------\n",
      " |  Data descriptors defined here:\n",
      " |  \n",
      " |  start\n",
      " |  \n",
      " |  step\n",
      " |  \n",
      " |  stop\n",
      "\n"
     ]
    }
   ],
   "source": [
    "help(range)"
   ]
  },
  {
   "cell_type": "code",
   "execution_count": 76,
   "id": "45aeea88",
   "metadata": {},
   "outputs": [
    {
     "name": "stdout",
     "output_type": "stream",
     "text": [
      "1\n",
      "3\n",
      "5\n",
      "7\n",
      "9\n"
     ]
    }
   ],
   "source": [
    "for item in range (1,10,2):\n",
    "    print(item)"
   ]
  },
  {
   "cell_type": "code",
   "execution_count": 77,
   "id": "3a2d378a",
   "metadata": {},
   "outputs": [
    {
     "name": "stdout",
     "output_type": "stream",
     "text": [
      "item is 10\n",
      "item is 9\n",
      "item is 8\n",
      "item is 7\n",
      "item is 6\n",
      "item is 5\n",
      "item is 4\n",
      "item is 3\n",
      "item is 2\n"
     ]
    }
   ],
   "source": [
    "for item in range(10,1,-1):\n",
    "    print(\"item is\", item)"
   ]
  },
  {
   "cell_type": "code",
   "execution_count": 78,
   "id": "beacfded",
   "metadata": {},
   "outputs": [
    {
     "data": {
      "text/plain": [
       "{'First name': 'Tom',\n",
       " 'Last name': 'Goodale',\n",
       " 'room': 202,\n",
       " 'sandwiches': ['cheese', 'egg mayonnaise', 'ham']}"
      ]
     },
     "execution_count": 78,
     "metadata": {},
     "output_type": "execute_result"
    }
   ],
   "source": [
    "mydict"
   ]
  },
  {
   "cell_type": "code",
   "execution_count": 79,
   "id": "4cbf15b8",
   "metadata": {},
   "outputs": [
    {
     "name": "stdout",
     "output_type": "stream",
     "text": [
      "First name\n",
      "Last name\n",
      "room\n",
      "sandwiches\n"
     ]
    }
   ],
   "source": [
    "for item in mydict:\n",
    "    print(item)"
   ]
  },
  {
   "cell_type": "code",
   "execution_count": 80,
   "id": "f09fc5d4",
   "metadata": {},
   "outputs": [
    {
     "data": {
      "text/plain": [
       "dict_keys(['First name', 'Last name', 'room', 'sandwiches'])"
      ]
     },
     "execution_count": 80,
     "metadata": {},
     "output_type": "execute_result"
    }
   ],
   "source": [
    "mydict.keys()"
   ]
  },
  {
   "cell_type": "code",
   "execution_count": 81,
   "id": "93cc1453",
   "metadata": {},
   "outputs": [
    {
     "data": {
      "text/plain": [
       "dict_values(['Tom', 'Goodale', 202, ['cheese', 'egg mayonnaise', 'ham']])"
      ]
     },
     "execution_count": 81,
     "metadata": {},
     "output_type": "execute_result"
    }
   ],
   "source": [
    "mydict.values()"
   ]
  },
  {
   "cell_type": "code",
   "execution_count": 82,
   "id": "3ccef85d",
   "metadata": {},
   "outputs": [
    {
     "data": {
      "text/plain": [
       "dict_items([('First name', 'Tom'), ('Last name', 'Goodale'), ('room', 202), ('sandwiches', ['cheese', 'egg mayonnaise', 'ham'])])"
      ]
     },
     "execution_count": 82,
     "metadata": {},
     "output_type": "execute_result"
    }
   ],
   "source": [
    "mydict.items()"
   ]
  },
  {
   "cell_type": "code",
   "execution_count": 83,
   "id": "9575471b",
   "metadata": {},
   "outputs": [
    {
     "name": "stdout",
     "output_type": "stream",
     "text": [
      "Tom\n",
      "Goodale\n",
      "202\n",
      "['cheese', 'egg mayonnaise', 'ham']\n"
     ]
    }
   ],
   "source": [
    "for item in mydict.values():\n",
    "    print(item)"
   ]
  },
  {
   "cell_type": "code",
   "execution_count": 84,
   "id": "a622d270",
   "metadata": {},
   "outputs": [
    {
     "name": "stdout",
     "output_type": "stream",
     "text": [
      "('First name', 'Tom')\n",
      "('Last name', 'Goodale')\n",
      "('room', 202)\n",
      "('sandwiches', ['cheese', 'egg mayonnaise', 'ham'])\n"
     ]
    }
   ],
   "source": [
    "for item in mydict.items():\n",
    "    print(item)"
   ]
  },
  {
   "cell_type": "code",
   "execution_count": 85,
   "id": "16c76d90",
   "metadata": {},
   "outputs": [
    {
     "name": "stdout",
     "output_type": "stream",
     "text": [
      "Key is: ' First name ', value is' Tom '\n",
      "Key is: ' Last name ', value is' Goodale '\n",
      "Key is: ' room ', value is' 202 '\n",
      "Key is: ' sandwiches ', value is' ['cheese', 'egg mayonnaise', 'ham'] '\n"
     ]
    }
   ],
   "source": [
    "for item in mydict.items():\n",
    "    print(\"Key is: '\",item[0], \"', value is'\", item[1], \"'\")"
   ]
  },
  {
   "cell_type": "code",
   "execution_count": 86,
   "id": "2f6c820a",
   "metadata": {},
   "outputs": [
    {
     "name": "stdout",
     "output_type": "stream",
     "text": [
      "7\n",
      "9\n"
     ]
    }
   ],
   "source": [
    "a,b = 7,9\n",
    "\n",
    "print(a)\n",
    "print(b)"
   ]
  },
  {
   "cell_type": "code",
   "execution_count": 87,
   "id": "613a35f0",
   "metadata": {},
   "outputs": [
    {
     "name": "stdout",
     "output_type": "stream",
     "text": [
      "9\n",
      "7\n"
     ]
    }
   ],
   "source": [
    "a,b = b,a\n",
    "\n",
    "print(a)\n",
    "print(b)"
   ]
  },
  {
   "cell_type": "code",
   "execution_count": 88,
   "id": "27c38a48",
   "metadata": {},
   "outputs": [
    {
     "name": "stdout",
     "output_type": "stream",
     "text": [
      "Key is >>> First name <<< value is >>> Tom <<<\n",
      "Key is >>> Last name <<< value is >>> Goodale <<<\n",
      "Key is >>> room <<< value is >>> 202 <<<\n",
      "Key is >>> sandwiches <<< value is >>> ['cheese', 'egg mayonnaise', 'ham'] <<<\n"
     ]
    }
   ],
   "source": [
    "for  key,value in mydict.items():\n",
    "    print(\"Key is >>>\", key,\"<<< value is >>>\", value, \"<<<\")"
   ]
  },
  {
   "cell_type": "markdown",
   "id": "a871b7e2",
   "metadata": {},
   "source": [
    "## While loops"
   ]
  },
  {
   "cell_type": "code",
   "execution_count": 89,
   "id": "1b31dc59",
   "metadata": {},
   "outputs": [
    {
     "data": {
      "text/plain": [
       "[1, 2, 3, 4, 5, 6]"
      ]
     },
     "execution_count": 89,
     "metadata": {},
     "output_type": "execute_result"
    }
   ],
   "source": [
    "x"
   ]
  },
  {
   "cell_type": "code",
   "execution_count": 90,
   "id": "b0504a1d",
   "metadata": {},
   "outputs": [
    {
     "name": "stdout",
     "output_type": "stream",
     "text": [
      "0\n",
      "1\n",
      "2\n",
      "3\n"
     ]
    }
   ],
   "source": [
    "i = 0\n",
    "\n",
    "while i < 4:\n",
    "    print(i)\n",
    "    i += 1"
   ]
  },
  {
   "cell_type": "code",
   "execution_count": 91,
   "id": "05864d3a",
   "metadata": {},
   "outputs": [
    {
     "name": "stdout",
     "output_type": "stream",
     "text": [
      "168.16666666666666 165.16666666666666\n",
      "87.05657416584076 81.1100925008259\n",
      "49.27167871980597 37.78489544603479\n",
      "34.783656787503894 14.488021932302075\n",
      "31.766395250093115 3.0172615374107785\n",
      "31.623101257912623 0.14329399218049232\n",
      "31.622776603350324 0.00032465456229857637\n"
     ]
    }
   ],
   "source": [
    "S = 1000\n",
    "\n",
    "difference = 1000\n",
    "\n",
    "guess = 3\n",
    "\n",
    "while difference > 0.001:\n",
    "    new_guess = (guess + S/guess)/2\n",
    "    difference = abs(new_guess-guess)\n",
    "    guess = new_guess\n",
    "    print(guess, difference)"
   ]
  },
  {
   "cell_type": "code",
   "execution_count": 92,
   "id": "7171960e",
   "metadata": {},
   "outputs": [
    {
     "name": "stdout",
     "output_type": "stream",
     "text": [
      "Hello 0\n",
      "Hello 1\n",
      "Hello 2\n",
      "Hello 3\n"
     ]
    }
   ],
   "source": [
    "i = 0\n",
    "\n",
    "while True:\n",
    "    print(\"Hello\", i)\n",
    "    i += 1\n",
    "    if i == 4:\n",
    "        break"
   ]
  },
  {
   "cell_type": "markdown",
   "id": "f891087e",
   "metadata": {},
   "source": [
    "# Branching"
   ]
  },
  {
   "cell_type": "code",
   "execution_count": 93,
   "id": "db2bb0bd",
   "metadata": {},
   "outputs": [],
   "source": [
    "y = 7"
   ]
  },
  {
   "cell_type": "code",
   "execution_count": 94,
   "id": "d0aac6a5",
   "metadata": {},
   "outputs": [
    {
     "data": {
      "text/plain": [
       "True"
      ]
     },
     "execution_count": 94,
     "metadata": {},
     "output_type": "execute_result"
    }
   ],
   "source": [
    "y > 6"
   ]
  },
  {
   "cell_type": "code",
   "execution_count": 95,
   "id": "3591eac2",
   "metadata": {},
   "outputs": [
    {
     "data": {
      "text/plain": [
       "True"
      ]
     },
     "execution_count": 95,
     "metadata": {},
     "output_type": "execute_result"
    }
   ],
   "source": [
    "y >= 7"
   ]
  },
  {
   "cell_type": "code",
   "execution_count": 96,
   "id": "accdb3ed",
   "metadata": {},
   "outputs": [
    {
     "data": {
      "text/plain": [
       "True"
      ]
     },
     "execution_count": 96,
     "metadata": {},
     "output_type": "execute_result"
    }
   ],
   "source": [
    "y <= 7"
   ]
  },
  {
   "cell_type": "code",
   "execution_count": 97,
   "id": "8d1d9533",
   "metadata": {},
   "outputs": [
    {
     "data": {
      "text/plain": [
       "True"
      ]
     },
     "execution_count": 97,
     "metadata": {},
     "output_type": "execute_result"
    }
   ],
   "source": [
    "y != 6"
   ]
  },
  {
   "cell_type": "code",
   "execution_count": 98,
   "id": "2cdb4f13",
   "metadata": {},
   "outputs": [
    {
     "data": {
      "text/plain": [
       "True"
      ]
     },
     "execution_count": 98,
     "metadata": {},
     "output_type": "execute_result"
    }
   ],
   "source": [
    "y == 7"
   ]
  },
  {
   "cell_type": "code",
   "execution_count": 99,
   "id": "3c777226",
   "metadata": {},
   "outputs": [
    {
     "data": {
      "text/plain": [
       "True"
      ]
     },
     "execution_count": 99,
     "metadata": {},
     "output_type": "execute_result"
    }
   ],
   "source": [
    "y < 10 and y > 6"
   ]
  },
  {
   "cell_type": "code",
   "execution_count": 100,
   "id": "80228dae",
   "metadata": {},
   "outputs": [
    {
     "data": {
      "text/plain": [
       "True"
      ]
     },
     "execution_count": 100,
     "metadata": {},
     "output_type": "execute_result"
    }
   ],
   "source": [
    "y < 10 or y > 6"
   ]
  },
  {
   "cell_type": "code",
   "execution_count": 101,
   "id": "c3a50ae8",
   "metadata": {},
   "outputs": [
    {
     "data": {
      "text/plain": [
       "False"
      ]
     },
     "execution_count": 101,
     "metadata": {},
     "output_type": "execute_result"
    }
   ],
   "source": [
    "y > 10 or y < 6"
   ]
  },
  {
   "cell_type": "code",
   "execution_count": 102,
   "id": "031672c2",
   "metadata": {},
   "outputs": [],
   "source": [
    "x = 5"
   ]
  },
  {
   "cell_type": "code",
   "execution_count": 103,
   "id": "e64378f1",
   "metadata": {},
   "outputs": [
    {
     "data": {
      "text/plain": [
       "False"
      ]
     },
     "execution_count": 103,
     "metadata": {},
     "output_type": "execute_result"
    }
   ],
   "source": [
    "y > 6 and x < 4"
   ]
  },
  {
   "cell_type": "code",
   "execution_count": 104,
   "id": "09555f83",
   "metadata": {},
   "outputs": [
    {
     "data": {
      "text/plain": [
       "False"
      ]
     },
     "execution_count": 104,
     "metadata": {},
     "output_type": "execute_result"
    }
   ],
   "source": [
    "(y > 6) and (x < 4)"
   ]
  },
  {
   "cell_type": "code",
   "execution_count": 105,
   "id": "1f92e820",
   "metadata": {},
   "outputs": [
    {
     "data": {
      "text/plain": [
       "True"
      ]
     },
     "execution_count": 105,
     "metadata": {},
     "output_type": "execute_result"
    }
   ],
   "source": [
    "(y > 6) and (x < 4 or x == 5)"
   ]
  },
  {
   "cell_type": "code",
   "execution_count": 106,
   "id": "93967f4f",
   "metadata": {},
   "outputs": [
    {
     "data": {
      "text/plain": [
       "False"
      ]
     },
     "execution_count": 106,
     "metadata": {},
     "output_type": "execute_result"
    }
   ],
   "source": [
    "(y < 6) and (x < 4 or x == 5)"
   ]
  },
  {
   "cell_type": "code",
   "execution_count": 107,
   "id": "03ec05d4",
   "metadata": {},
   "outputs": [
    {
     "name": "stdout",
     "output_type": "stream",
     "text": [
      "I'm true\n"
     ]
    }
   ],
   "source": [
    "if True:\n",
    "    print(\"I'm true\")"
   ]
  },
  {
   "cell_type": "code",
   "execution_count": 108,
   "id": "5a6c1d05",
   "metadata": {},
   "outputs": [],
   "source": [
    "if False:\n",
    "    print(\"I'm true\")"
   ]
  },
  {
   "cell_type": "code",
   "execution_count": 109,
   "id": "7e6dbe53",
   "metadata": {},
   "outputs": [
    {
     "name": "stdout",
     "output_type": "stream",
     "text": [
      "I'm not true\n"
     ]
    }
   ],
   "source": [
    "if False:\n",
    "    print(\"I'm true\")\n",
    "else:\n",
    "    print(\"I'm not true\")"
   ]
  },
  {
   "cell_type": "code",
   "execution_count": 110,
   "id": "2bec595d",
   "metadata": {},
   "outputs": [
    {
     "data": {
      "text/plain": [
       "7"
      ]
     },
     "execution_count": 110,
     "metadata": {},
     "output_type": "execute_result"
    }
   ],
   "source": [
    "y"
   ]
  },
  {
   "cell_type": "code",
   "execution_count": 111,
   "id": "caaf4c73",
   "metadata": {},
   "outputs": [
    {
     "name": "stdout",
     "output_type": "stream",
     "text": [
      "I'm 7\n"
     ]
    }
   ],
   "source": [
    "if y > 7:\n",
    "    print(\"I'm greater than 7\")\n",
    "elif y==7:\n",
    "    print(\"I'm 7\")\n",
    "elif y==6:\n",
    "    print(\"I'm 6\")\n",
    "else:\n",
    "    print(\"I'm less than 6\")"
   ]
  },
  {
   "cell_type": "code",
   "execution_count": 112,
   "id": "67526b18",
   "metadata": {},
   "outputs": [
    {
     "name": "stdout",
     "output_type": "stream",
     "text": [
      "I'm 7\n"
     ]
    }
   ],
   "source": [
    "if y > 7:\n",
    "    print(\"I'm greater than 7\")\n",
    "elif y==7:\n",
    "    print(\"I'm 7\")\n",
    "elif y > 6:\n",
    "    print(\"I'm greater than 6\")\n",
    "else:\n",
    "    print(\"I'm less than 6\")"
   ]
  },
  {
   "cell_type": "code",
   "execution_count": 113,
   "id": "fef66c5d",
   "metadata": {},
   "outputs": [
    {
     "name": "stdout",
     "output_type": "stream",
     "text": [
      "Hi back atcha!\n"
     ]
    }
   ],
   "source": [
    "s = \"Hi\"\n",
    "\n",
    "if s == \"Hi\":\n",
    "    print(\"Hi back atcha!\")"
   ]
  },
  {
   "cell_type": "code",
   "execution_count": 114,
   "id": "9eba057f",
   "metadata": {},
   "outputs": [
    {
     "name": "stdout",
     "output_type": "stream",
     "text": [
      "1\n",
      "4\n",
      "9\n",
      "16\n",
      "25\n",
      "36\n",
      "49\n",
      "64\n",
      "81\n",
      "100\n"
     ]
    }
   ],
   "source": [
    "x = range(1,11)\n",
    "\n",
    "for number in x:\n",
    "    print(number**2)"
   ]
  },
  {
   "cell_type": "code",
   "execution_count": 115,
   "id": "3fbddb18",
   "metadata": {},
   "outputs": [
    {
     "name": "stdout",
     "output_type": "stream",
     "text": [
      "1\n",
      "4\n",
      "9\n",
      "16\n",
      "25\n",
      "36\n"
     ]
    }
   ],
   "source": [
    "x = range(1,11)\n",
    "\n",
    "for number in x:\n",
    "    print(number**2)\n",
    "    if(number**2 > 30):\n",
    "        break"
   ]
  },
  {
   "cell_type": "code",
   "execution_count": 116,
   "id": "9a3fb42a",
   "metadata": {},
   "outputs": [
    {
     "name": "stdout",
     "output_type": "stream",
     "text": [
      "1\n",
      "4\n",
      "9\n",
      "16\n",
      "25\n"
     ]
    }
   ],
   "source": [
    "x = range(1,11)\n",
    "\n",
    "for number in x:\n",
    "    if(number**2 > 30):\n",
    "        break\n",
    "    print(number**2)\n",
    "    "
   ]
  },
  {
   "cell_type": "code",
   "execution_count": 117,
   "id": "36d5e68f",
   "metadata": {},
   "outputs": [
    {
     "name": "stdout",
     "output_type": "stream",
     "text": [
      "1\n",
      "4\n",
      "9\n",
      "16\n",
      "36\n",
      "49\n",
      "64\n",
      "81\n",
      "100\n"
     ]
    }
   ],
   "source": [
    "x = range(1,11)\n",
    "\n",
    "for number in x:\n",
    "    if number == 5:\n",
    "        continue\n",
    "    print(number**2)\n",
    "    "
   ]
  },
  {
   "cell_type": "code",
   "execution_count": 118,
   "id": "d6771505",
   "metadata": {},
   "outputs": [
    {
     "name": "stdout",
     "output_type": "stream",
     "text": [
      "Number is 1\n",
      "1\n",
      "Number is 2\n",
      "4\n",
      "Number is 3\n",
      "9\n",
      "Number is 4\n",
      "16\n",
      "Number is 5\n",
      "I'm in the if statement\n",
      "Number is 6\n",
      "36\n",
      "Number is 7\n",
      "49\n",
      "Number is 8\n",
      "64\n",
      "Number is 9\n",
      "81\n",
      "Number is 10\n",
      "100\n"
     ]
    }
   ],
   "source": [
    "x = range(1,11)\n",
    "\n",
    "for number in x:\n",
    "    print(\"Number is\", number)\n",
    "    if number == 5:\n",
    "        print(\"I'm in the if statement\")\n",
    "        continue\n",
    "    print(number**2)\n",
    "    "
   ]
  },
  {
   "cell_type": "code",
   "execution_count": 119,
   "id": "e7cfab3c",
   "metadata": {},
   "outputs": [
    {
     "name": "stdout",
     "output_type": "stream",
     "text": [
      "Number is 1\n",
      "1\n",
      "Number is 2\n",
      "4\n",
      "Number is 3\n",
      "9\n",
      "Number is 4\n",
      "16\n",
      "Number is 5\n",
      "I'm in the if statement\n"
     ]
    }
   ],
   "source": [
    "x = range(1,11)\n",
    "\n",
    "for number in x:\n",
    "    print(\"Number is\", number)\n",
    "    if number == 5:\n",
    "        print(\"I'm in the if statement\")\n",
    "        break\n",
    "    print(number**2)\n",
    "    "
   ]
  },
  {
   "cell_type": "code",
   "execution_count": 120,
   "id": "47de3269",
   "metadata": {},
   "outputs": [
    {
     "name": "stdout",
     "output_type": "stream",
     "text": [
      "range(1, 11)\n"
     ]
    }
   ],
   "source": [
    "print(x)"
   ]
  },
  {
   "cell_type": "code",
   "execution_count": 121,
   "id": "850133f0",
   "metadata": {},
   "outputs": [
    {
     "data": {
      "text/plain": [
       "[1, 2, 3, 4, 5, 6, 7, 8, 9, 10]"
      ]
     },
     "execution_count": 121,
     "metadata": {},
     "output_type": "execute_result"
    }
   ],
   "source": [
    "list(x)"
   ]
  },
  {
   "cell_type": "code",
   "execution_count": 122,
   "id": "ff7dd351",
   "metadata": {},
   "outputs": [
    {
     "name": "stdout",
     "output_type": "stream",
     "text": [
      "1\n",
      "4\n",
      "9\n",
      "16\n",
      "25\n",
      "36\n",
      "49\n",
      "64\n",
      "81\n",
      "100\n"
     ]
    }
   ],
   "source": [
    "for number in x:\n",
    "    print(number**2)"
   ]
  },
  {
   "cell_type": "code",
   "execution_count": 123,
   "id": "0ae10e2e",
   "metadata": {},
   "outputs": [],
   "source": [
    "x2 = []"
   ]
  },
  {
   "cell_type": "code",
   "execution_count": 124,
   "id": "a28ed9b4",
   "metadata": {},
   "outputs": [
    {
     "data": {
      "text/plain": [
       "[]"
      ]
     },
     "execution_count": 124,
     "metadata": {},
     "output_type": "execute_result"
    }
   ],
   "source": [
    "x2"
   ]
  },
  {
   "cell_type": "code",
   "execution_count": 125,
   "id": "09febaf9",
   "metadata": {},
   "outputs": [],
   "source": [
    "for number in x:\n",
    "    x2.append(number**2)"
   ]
  },
  {
   "cell_type": "code",
   "execution_count": 126,
   "id": "e3bf2f41",
   "metadata": {},
   "outputs": [
    {
     "data": {
      "text/plain": [
       "[1, 4, 9, 16, 25, 36, 49, 64, 81, 100]"
      ]
     },
     "execution_count": 126,
     "metadata": {},
     "output_type": "execute_result"
    }
   ],
   "source": [
    "x2"
   ]
  },
  {
   "cell_type": "code",
   "execution_count": 127,
   "id": "05f94893",
   "metadata": {},
   "outputs": [
    {
     "data": {
      "text/plain": [
       "[1, 4, 9, 16, 25, 36, 49, 64, 81, 100]"
      ]
     },
     "execution_count": 127,
     "metadata": {},
     "output_type": "execute_result"
    }
   ],
   "source": [
    "[number**2 for number in x]"
   ]
  },
  {
   "cell_type": "code",
   "execution_count": 128,
   "id": "b0f59a2d",
   "metadata": {},
   "outputs": [
    {
     "data": {
      "text/plain": [
       "[9, 16, 25, 36, 49, 64, 81, 100]"
      ]
     },
     "execution_count": 128,
     "metadata": {},
     "output_type": "execute_result"
    }
   ],
   "source": [
    "[number**2 for number in x if number > 2]"
   ]
  },
  {
   "cell_type": "code",
   "execution_count": 129,
   "id": "ac9a1d00",
   "metadata": {},
   "outputs": [
    {
     "ename": "ZeroDivisionError",
     "evalue": "division by zero",
     "output_type": "error",
     "traceback": [
      "\u001b[1;31m---------------------------------------------------------------------------\u001b[0m",
      "\u001b[1;31mZeroDivisionError\u001b[0m                         Traceback (most recent call last)",
      "Cell \u001b[1;32mIn[129], line 1\u001b[0m\n\u001b[1;32m----> 1\u001b[0m \u001b[38;5;241m5\u001b[39m\u001b[38;5;241m/\u001b[39m\u001b[38;5;241m0\u001b[39m\n",
      "\u001b[1;31mZeroDivisionError\u001b[0m: division by zero"
     ]
    }
   ],
   "source": [
    "5/0"
   ]
  },
  {
   "cell_type": "code",
   "execution_count": 130,
   "id": "b6c036ac",
   "metadata": {},
   "outputs": [
    {
     "ename": "SyntaxError",
     "evalue": "invalid syntax (3837732422.py, line 1)",
     "output_type": "error",
     "traceback": [
      "\u001b[1;36m  Cell \u001b[1;32mIn[130], line 1\u001b[1;36m\u001b[0m\n\u001b[1;33m    5 ghjhhjvs 6\u001b[0m\n\u001b[1;37m      ^\u001b[0m\n\u001b[1;31mSyntaxError\u001b[0m\u001b[1;31m:\u001b[0m invalid syntax\n"
     ]
    }
   ],
   "source": [
    "5 ghjhhjvs 6"
   ]
  },
  {
   "cell_type": "code",
   "execution_count": 131,
   "id": "20ab47a0",
   "metadata": {},
   "outputs": [
    {
     "ename": "TypeError",
     "evalue": "can only concatenate str (not \"int\") to str",
     "output_type": "error",
     "traceback": [
      "\u001b[1;31m---------------------------------------------------------------------------\u001b[0m",
      "\u001b[1;31mTypeError\u001b[0m                                 Traceback (most recent call last)",
      "Cell \u001b[1;32mIn[131], line 1\u001b[0m\n\u001b[1;32m----> 1\u001b[0m \u001b[38;5;124m\"\u001b[39m\u001b[38;5;124mH\u001b[39m\u001b[38;5;124m\"\u001b[39m \u001b[38;5;241m+\u001b[39m \u001b[38;5;241m2\u001b[39m\n",
      "\u001b[1;31mTypeError\u001b[0m: can only concatenate str (not \"int\") to str"
     ]
    }
   ],
   "source": [
    "\"H\" + 2"
   ]
  },
  {
   "cell_type": "code",
   "execution_count": 132,
   "id": "d57d3c13",
   "metadata": {},
   "outputs": [
    {
     "data": {
      "text/plain": [
       "range(1, 11)"
      ]
     },
     "execution_count": 132,
     "metadata": {},
     "output_type": "execute_result"
    }
   ],
   "source": [
    "x"
   ]
  },
  {
   "cell_type": "code",
   "execution_count": 133,
   "id": "811b5bde",
   "metadata": {},
   "outputs": [
    {
     "name": "stdout",
     "output_type": "stream",
     "text": [
      "1\n",
      "2\n",
      "3\n",
      "4\n",
      "5\n",
      "6\n",
      "7\n",
      "8\n",
      "9\n",
      "10\n",
      "I finished successfully\n"
     ]
    }
   ],
   "source": [
    "for number in x:\n",
    "    print(number)\n",
    "else:\n",
    "    print(\"I finished successfully\")"
   ]
  },
  {
   "cell_type": "code",
   "execution_count": 134,
   "id": "c5ec2841",
   "metadata": {},
   "outputs": [
    {
     "name": "stdout",
     "output_type": "stream",
     "text": [
      "1\n",
      "2\n",
      "3\n"
     ]
    }
   ],
   "source": [
    "for number in x:\n",
    "    print(number)\n",
    "    if(number == 3):\n",
    "        break\n",
    "else:\n",
    "    print(\"I finished successfully\")"
   ]
  },
  {
   "cell_type": "code",
   "execution_count": null,
   "id": "132fcbfe",
   "metadata": {},
   "outputs": [],
   "source": []
  },
  {
   "cell_type": "code",
   "execution_count": 135,
   "id": "299a3b2b",
   "metadata": {},
   "outputs": [
    {
     "name": "stdout",
     "output_type": "stream",
     "text": [
      "1\n",
      "2\n",
      "3\n"
     ]
    }
   ],
   "source": [
    "for number in x:\n",
    "    # This is a comment\n",
    "    print(number)\n",
    "    if(number == 3):\n",
    "        break\n",
    "else:\n",
    "    print(\"I finished successfully\")"
   ]
  },
  {
   "cell_type": "markdown",
   "id": "d2c73d35",
   "metadata": {},
   "source": [
    "# Functions"
   ]
  },
  {
   "cell_type": "code",
   "execution_count": 136,
   "id": "8afbee2b",
   "metadata": {},
   "outputs": [],
   "source": [
    "def my_add(a,b):\n",
    "    return a+b"
   ]
  },
  {
   "cell_type": "code",
   "execution_count": 137,
   "id": "fbd1c015",
   "metadata": {},
   "outputs": [
    {
     "data": {
      "text/plain": [
       "7"
      ]
     },
     "execution_count": 137,
     "metadata": {},
     "output_type": "execute_result"
    }
   ],
   "source": [
    "my_add(3,4)"
   ]
  },
  {
   "cell_type": "code",
   "execution_count": 138,
   "id": "1ed419c1",
   "metadata": {},
   "outputs": [],
   "source": [
    "def my_add(a,b=6):\n",
    "    return a+b"
   ]
  },
  {
   "cell_type": "code",
   "execution_count": 139,
   "id": "215509cb",
   "metadata": {},
   "outputs": [
    {
     "data": {
      "text/plain": [
       "11"
      ]
     },
     "execution_count": 139,
     "metadata": {},
     "output_type": "execute_result"
    }
   ],
   "source": [
    "my_add(5)"
   ]
  },
  {
   "cell_type": "code",
   "execution_count": 140,
   "id": "f800a1a4",
   "metadata": {},
   "outputs": [
    {
     "data": {
      "text/plain": [
       "12"
      ]
     },
     "execution_count": 140,
     "metadata": {},
     "output_type": "execute_result"
    }
   ],
   "source": [
    "my_add(5,7)"
   ]
  },
  {
   "cell_type": "code",
   "execution_count": 141,
   "id": "17da4332",
   "metadata": {},
   "outputs": [],
   "source": [
    "def my_add(a,b=6):\n",
    "    print(\"a is\",a, \"b is\",b)\n",
    "    return a+b"
   ]
  },
  {
   "cell_type": "code",
   "execution_count": 142,
   "id": "3c919942",
   "metadata": {},
   "outputs": [
    {
     "name": "stdout",
     "output_type": "stream",
     "text": [
      "a is 5 b is 6\n"
     ]
    },
    {
     "data": {
      "text/plain": [
       "11"
      ]
     },
     "execution_count": 142,
     "metadata": {},
     "output_type": "execute_result"
    }
   ],
   "source": [
    "my_add(5)"
   ]
  },
  {
   "cell_type": "code",
   "execution_count": 143,
   "id": "48e3824e",
   "metadata": {},
   "outputs": [
    {
     "name": "stdout",
     "output_type": "stream",
     "text": [
      "a is 6 b is 7\n"
     ]
    },
    {
     "data": {
      "text/plain": [
       "13"
      ]
     },
     "execution_count": 143,
     "metadata": {},
     "output_type": "execute_result"
    }
   ],
   "source": [
    "my_add(6,7)"
   ]
  },
  {
   "cell_type": "code",
   "execution_count": 144,
   "id": "46064aad",
   "metadata": {},
   "outputs": [
    {
     "name": "stdout",
     "output_type": "stream",
     "text": [
      "a is 4 b is 9\n"
     ]
    },
    {
     "data": {
      "text/plain": [
       "13"
      ]
     },
     "execution_count": 144,
     "metadata": {},
     "output_type": "execute_result"
    }
   ],
   "source": [
    "my_add(b=9, a=4)"
   ]
  },
  {
   "cell_type": "code",
   "execution_count": 145,
   "id": "a478a963",
   "metadata": {},
   "outputs": [
    {
     "ename": "TypeError",
     "evalue": "my_add() missing 1 required positional argument: 'a'",
     "output_type": "error",
     "traceback": [
      "\u001b[1;31m---------------------------------------------------------------------------\u001b[0m",
      "\u001b[1;31mTypeError\u001b[0m                                 Traceback (most recent call last)",
      "Cell \u001b[1;32mIn[145], line 1\u001b[0m\n\u001b[1;32m----> 1\u001b[0m my_add(b\u001b[38;5;241m=\u001b[39m\u001b[38;5;241m7\u001b[39m)\n",
      "\u001b[1;31mTypeError\u001b[0m: my_add() missing 1 required positional argument: 'a'"
     ]
    }
   ],
   "source": [
    "my_add(b=7)"
   ]
  },
  {
   "cell_type": "code",
   "execution_count": 146,
   "id": "07ea1ae0",
   "metadata": {},
   "outputs": [],
   "source": [
    "def make_list(begin=1, end=5):\n",
    "    return list(range(begin,end+1))"
   ]
  },
  {
   "cell_type": "code",
   "execution_count": 147,
   "id": "e231f32b",
   "metadata": {},
   "outputs": [
    {
     "data": {
      "text/plain": [
       "[2, 3, 4, 5, 6, 7]"
      ]
     },
     "execution_count": 147,
     "metadata": {},
     "output_type": "execute_result"
    }
   ],
   "source": [
    "make_list(2,7)"
   ]
  },
  {
   "cell_type": "code",
   "execution_count": 148,
   "id": "4e526911",
   "metadata": {},
   "outputs": [
    {
     "data": {
      "text/plain": [
       "[0, 1, 2, 3]"
      ]
     },
     "execution_count": 148,
     "metadata": {},
     "output_type": "execute_result"
    }
   ],
   "source": [
    "list(range(0,4))"
   ]
  },
  {
   "cell_type": "code",
   "execution_count": 149,
   "id": "8f91105a",
   "metadata": {},
   "outputs": [
    {
     "data": {
      "text/plain": [
       "[0, 2]"
      ]
     },
     "execution_count": 149,
     "metadata": {},
     "output_type": "execute_result"
    }
   ],
   "source": [
    "list(range(0,4,2))"
   ]
  },
  {
   "cell_type": "code",
   "execution_count": 150,
   "id": "336d0784",
   "metadata": {},
   "outputs": [],
   "source": [
    "def swap(a,b):\n",
    "    return b,a"
   ]
  },
  {
   "cell_type": "code",
   "execution_count": 151,
   "id": "b42e3778",
   "metadata": {},
   "outputs": [
    {
     "name": "stdout",
     "output_type": "stream",
     "text": [
      "6 7\n"
     ]
    }
   ],
   "source": [
    "a,b = swap(7,6)\n",
    "\n",
    "print(a, b)"
   ]
  },
  {
   "cell_type": "code",
   "execution_count": null,
   "id": "9d214a11",
   "metadata": {},
   "outputs": [],
   "source": []
  }
 ],
 "metadata": {
  "kernelspec": {
   "display_name": "Python 3 (ipykernel)",
   "language": "python",
   "name": "python3"
  },
  "language_info": {
   "codemirror_mode": {
    "name": "ipython",
    "version": 3
   },
   "file_extension": ".py",
   "mimetype": "text/x-python",
   "name": "python",
   "nbconvert_exporter": "python",
   "pygments_lexer": "ipython3",
   "version": "3.11.4"
  }
 },
 "nbformat": 4,
 "nbformat_minor": 5
}
